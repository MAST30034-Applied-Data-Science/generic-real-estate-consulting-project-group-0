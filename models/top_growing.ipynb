{
 "cells": [
  {
   "cell_type": "code",
   "execution_count": null,
   "metadata": {
    "collapsed": false,
    "pycharm": {
     "name": "#%%\n"
    }
   },
   "outputs": [],
   "source": [
    "# find the top growing suburbs\n",
    "# using past changes and population stats"
   ]
  },
  {
   "cell_type": "code",
   "execution_count": null,
   "metadata": {
    "collapsed": true
   },
   "outputs": [],
   "source": [
    "import pandas as pd\n",
    "from ast import literal_eval\n",
    "import statistics\n",
    "from tqdm import tqdm\n",
    "import numpy as np\n",
    "from sklearn.datasets import load_boston\n",
    "from sklearn.model_selection import train_test_split\n",
    "from sklearn.ensemble import RandomForestRegressor\n",
    "from sklearn.inspection import permutation_importance\n",
    "from matplotlib import pyplot as plt\n",
    "from sklearn import metrics\n",
    "import seaborn as sns"
   ]
  },
  {
   "cell_type": "code",
   "execution_count": null,
   "metadata": {
    "collapsed": false,
    "pycharm": {
     "name": "#%%\n"
    }
   },
   "outputs": [],
   "source": [
    "df = pd.read_csv('../data/curated/full_listing.csv')"
   ]
  },
  {
   "cell_type": "code",
   "execution_count": null,
   "metadata": {
    "collapsed": false,
    "pycharm": {
     "name": "#%%\n"
    }
   },
   "outputs": [],
   "source": [
    "keep_columns = ['address', 'list_history', 'population_total', 'proj_population_total', 'population_children', 'proj_population_children', 'population_early_working', 'proj_population_early_working', 'population_mature_working', 'proj_population_mature_working', 'population_prime_working', 'proj_population_prime_working', 'population_elderly', 'proj_population_elderly']\n",
    "df = df[keep_columns]"
   ]
  },
  {
   "cell_type": "code",
   "execution_count": null,
   "metadata": {
    "collapsed": false,
    "pycharm": {
     "name": "#%%\n"
    }
   },
   "outputs": [],
   "source": [
    "n_rows = len(df)\n",
    "n_cols = len(df.iloc[0])"
   ]
  },
  {
   "cell_type": "code",
   "execution_count": null,
   "metadata": {
    "collapsed": false,
    "pycharm": {
     "name": "#%%\n"
    }
   },
   "outputs": [],
   "source": [
    "n_rows"
   ]
  },
  {
   "cell_type": "code",
   "execution_count": null,
   "metadata": {
    "collapsed": false,
    "pycharm": {
     "name": "#%%\n"
    }
   },
   "outputs": [],
   "source": [
    "# increase rate = (newer rent - older rent) / older amount / year difference\n",
    "result = []\n",
    "for i in tqdm(range(n_rows)):\n",
    "    temp = []\n",
    "    record_list = literal_eval(df.iloc[i]['list_history'])\n",
    "    if len(record_list) > 0:\n",
    "        for j in record_list:\n",
    "            temp.append(j[1]/j[0])\n",
    "        temp = [statistics.mean(temp)]\n",
    "    else:\n",
    "        temp = []\n",
    "    for j in range(2, n_cols, 2):\n",
    "        temp.append((df.iloc[i][j + 1] - df.iloc[i][j]) / df.iloc[i][j] /5)\n",
    "    result.append(temp)"
   ]
  },
  {
   "cell_type": "code",
   "execution_count": null,
   "metadata": {
    "collapsed": false,
    "pycharm": {
     "name": "#%%\n"
    }
   },
   "outputs": [],
   "source": [
    "df = pd.read_csv('../data/curated/full_listing.csv').iloc[:,1:]"
   ]
  },
  {
   "cell_type": "code",
   "execution_count": null,
   "metadata": {
    "collapsed": false,
    "pycharm": {
     "name": "#%%\n"
    }
   },
   "outputs": [],
   "source": [
    "df = df.drop(keep_columns[1:], axis = 1)"
   ]
  },
  {
   "cell_type": "code",
   "execution_count": null,
   "metadata": {
    "collapsed": false,
    "pycharm": {
     "name": "#%%\n"
    }
   },
   "outputs": [],
   "source": [
    "df2 = pd.DataFrame(result, columns = ['c_rent', 'c_total_population', 'c_children', 'c_early', 'c_mature', 'c_prime', 'c_elderly'])"
   ]
  },
  {
   "cell_type": "code",
   "execution_count": null,
   "metadata": {
    "collapsed": false,
    "pycharm": {
     "name": "#%%\n"
    }
   },
   "outputs": [],
   "source": [
    "result_df = pd.concat([df, df2], axis=1)"
   ]
  },
  {
   "cell_type": "code",
   "execution_count": null,
   "metadata": {
    "collapsed": false,
    "pycharm": {
     "name": "#%%\n"
    }
   },
   "outputs": [],
   "source": [
    "remove = ['address', 'postcode', 'url', 'loc_address', 'lat', 'lon', 'list_date', 'SA2_NAME_2016', 'SA2', 'lgaregion', 'primary_school_name', 'secondary_school_name', 'pri_lat', 'pri_lon', 'sec_lat', 'sec_lon', 'closest_ed_name', 'ed_lat', 'ed_lon', 'train_stop', 'train_lat', 'train_lon']\n",
    "result_df = result_df.drop(remove, axis = 1)"
   ]
  },
  {
   "cell_type": "code",
   "execution_count": null,
   "metadata": {
    "collapsed": false,
    "pycharm": {
     "name": "#%%\n"
    }
   },
   "outputs": [],
   "source": [
    "result_df.type = pd.Categorical(df.type)\n",
    "result_df['type_code'] = result_df.type.cat.codes\n",
    "result_df = result_df.dropna()"
   ]
  },
  {
   "cell_type": "code",
   "execution_count": null,
   "metadata": {
    "collapsed": false,
    "pycharm": {
     "name": "#%%\n"
    }
   },
   "outputs": [],
   "source": [
    "X = result_df.drop(['type', 'suburb', 'c_rent'], axis=1)\n",
    "y = result_df['c_rent']"
   ]
  },
  {
   "cell_type": "code",
   "execution_count": null,
   "metadata": {
    "collapsed": false,
    "pycharm": {
     "name": "#%%\n"
    }
   },
   "outputs": [],
   "source": [
    "result_df = result_df.dropna()"
   ]
  },
  {
   "cell_type": "code",
   "execution_count": null,
   "metadata": {
    "collapsed": false,
    "pycharm": {
     "name": "#%%\n"
    }
   },
   "outputs": [],
   "source": [
    "reg = RandomForestRegressor(n_estimators = 500, random_state = 0).fit(X, y)"
   ]
  },
  {
   "cell_type": "code",
   "execution_count": null,
   "metadata": {
    "collapsed": false,
    "pycharm": {
     "name": "#%%\n"
    }
   },
   "outputs": [],
   "source": [
    "predictions = reg.predict(X)\n",
    "gt = y.tolist()\n",
    "print('Mean Absolute Error (MAE):', round(metrics.mean_absolute_error(gt, predictions), 4))\n",
    "print('Mean Squared Error (MSE):', round(metrics.mean_squared_error(gt, predictions), 4))\n",
    "print('Root Mean Squared Error (RMSE):', round(np.sqrt(metrics.mean_squared_error(gt, predictions)), 4))\n",
    "mape = np.mean(np.abs((gt - predictions) / np.abs(gt)))\n",
    "print('Mean Absolute Percentage Error (MAPE):', round(mape * 100, 4))\n",
    "print('Accuracy:', round(100 * (1 - mape), 4))\n",
    "print('R-squared:', round(metrics.r2_score(gt, predictions), 4))"
   ]
  },
  {
   "cell_type": "code",
   "execution_count": null,
   "metadata": {
    "collapsed": false,
    "pycharm": {
     "name": "#%%\n"
    }
   },
   "outputs": [],
   "source": [
    "compare_df = pd.DataFrame({'gt': y.tolist(), 'prediction': predictions.tolist()})\n",
    "compare_df = compare_df[compare_df['gt'] <= y.quantile(0.99)]\n",
    "compare_df = compare_df[compare_df['gt'] >= y.quantile(0.01)]\n",
    "sample = compare_df.sample(n=3000)\n",
    "\n",
    "sns.set(rc={\"figure.dpi\": 300, 'savefig.dpi': 300})\n",
    "sns_plot = sns.regplot(sample['gt'], sample['prediction'], line_kws={\"color\": \"red\"})\n",
    "sns_plot.set_xlabel('rental price')\n",
    "sns_plot.set_ylabel('predicted rental price')"
   ]
  },
  {
   "cell_type": "code",
   "execution_count": null,
   "metadata": {
    "collapsed": false,
    "pycharm": {
     "name": "#%%\n"
    }
   },
   "outputs": [],
   "source": [
    "rank_df = result_df.groupby('suburb').mean()"
   ]
  },
  {
   "cell_type": "code",
   "execution_count": null,
   "metadata": {
    "collapsed": false,
    "pycharm": {
     "name": "#%%\n"
    }
   },
   "outputs": [],
   "source": [
    "rank_df[['bed', 'bath', 'car', 'type_code']] = [2, 1, 1, 4]"
   ]
  },
  {
   "cell_type": "code",
   "execution_count": null,
   "metadata": {
    "collapsed": false,
    "pycharm": {
     "name": "#%%\n"
    }
   },
   "outputs": [],
   "source": [
    "x = rank_df.drop('c_rent', axis=1).dropna()\n",
    "prediction = pd.DataFrame({'suburb': x.index.tolist(), 'grow': reg.predict(x)}).sort_values(by='grow', ascending=False)"
   ]
  },
  {
   "cell_type": "code",
   "execution_count": null,
   "metadata": {
    "collapsed": false,
    "pycharm": {
     "name": "#%%\n"
    }
   },
   "outputs": [],
   "source": [
    "stats_df = prediction.merge(df.groupby('suburb').count().iloc[:,0], on = 'suburb')\n",
    "stats_df = stats_df.set_axis(['suburb', 'growth_rate', 'n_listing'], axis=1)\n",
    "min_listing = stats_df.n_listing.quantile(0.25)\n",
    "stats_df = stats_df.loc[stats_df['n_listing'] >= min_listing]"
   ]
  },
  {
   "cell_type": "code",
   "execution_count": null,
   "metadata": {
    "collapsed": false,
    "pycharm": {
     "name": "#%%\n"
    }
   },
   "outputs": [],
   "source": [
    "stats_df.head(10)"
   ]
  },
  {
   "cell_type": "code",
   "execution_count": null,
   "metadata": {
    "collapsed": false,
    "pycharm": {
     "name": "#%%\n"
    }
   },
   "outputs": [],
   "source": [
    "plt.barh(x.columns, reg.feature_importances_)"
   ]
  },
  {
   "cell_type": "code",
   "execution_count": null,
   "metadata": {
    "collapsed": false,
    "pycharm": {
     "name": "#%%\n"
    }
   },
   "outputs": [],
   "source": [
    "pd.DataFrame({'feature_name': x.columns, 'feature_imporance': reg.feature_importances_}).sort_values(by='feature_imporance', ascending=False).head()"
   ]
  }
 ],
 "metadata": {
  "kernelspec": {
   "display_name": "Python 3.10.0 64-bit",
   "language": "python",
   "name": "python3"
  },
  "language_info": {
   "codemirror_mode": {
    "name": "ipython",
    "version": 2
   },
   "file_extension": ".py",
   "mimetype": "text/x-python",
   "name": "python",
   "nbconvert_exporter": "python",
   "pygments_lexer": "ipython2",
   "version": "3.10.0"
  },
  "vscode": {
   "interpreter": {
    "hash": "aee8b7b246df8f9039afb4144a1f6fd8d2ca17a180786b69acc140d282b71a49"
   }
  }
 },
 "nbformat": 4,
 "nbformat_minor": 0
}
