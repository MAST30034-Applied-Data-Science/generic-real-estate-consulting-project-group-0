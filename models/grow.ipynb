{
 "cells": [
  {
   "cell_type": "markdown",
   "source": [
    "# Top Suburbs"
   ],
   "metadata": {
    "collapsed": false
   }
  },
  {
   "cell_type": "code",
   "execution_count": 285,
   "outputs": [],
   "source": [
    "import pandas as pd\n",
    "import _pickle as cPickle"
   ],
   "metadata": {
    "collapsed": false,
    "pycharm": {
     "name": "#%%\n"
    }
   }
  },
  {
   "cell_type": "code",
   "execution_count": 315,
   "outputs": [],
   "source": [
    "result_suburbs = []"
   ],
   "metadata": {
    "collapsed": false,
    "pycharm": {
     "name": "#%%\n"
    }
   }
  },
  {
   "cell_type": "code",
   "execution_count": 287,
   "outputs": [],
   "source": [
    "df = pd.read_csv('../data/curated/processed_listing.csv')"
   ],
   "metadata": {
    "collapsed": false,
    "pycharm": {
     "name": "#%%\n"
    }
   }
  },
  {
   "cell_type": "code",
   "execution_count": 288,
   "outputs": [],
   "source": [
    "df = df.drop_duplicates(subset='address')"
   ],
   "metadata": {
    "collapsed": false,
    "pycharm": {
     "name": "#%%\n"
    }
   }
  },
  {
   "cell_type": "code",
   "execution_count": 289,
   "outputs": [],
   "source": [
    "# read in the postcode information\n",
    "df = df.rename(columns={'code': 'postcode'}, errors=\"coerce\")\n",
    "postcode_df = pd.read_csv('../data/raw/abs/australian_postcodes.csv')\n",
    "# only retain information that is relavent for faster running time\n",
    "postcode_df = postcode_df.loc[postcode_df['state'] == 'VIC']\n",
    "postcode_df = postcode_df[['postcode', 'lgaregion']]\n",
    "df = pd.merge(df, postcode_df, on='postcode')\n",
    "metro_melb = ['Banyule', 'Bayside', 'Boroondara', 'Brimbank', 'Cardinia', 'Casey', 'Darebin', 'Frankston', 'Glen Eira',\n",
    "              'Greater Dandenong', 'Hobsons Bay', 'Hume', 'Kingston', 'Knox', 'Manningham', 'Maribyrnong', 'Maroondah',\n",
    "              'Melbourne', 'Melton', 'Monash', 'Moonee Valley', 'Moreland', 'Mornington Peninsula', 'Nillumbik',\n",
    "              'Port Phillip', 'Stonnington', 'Whitehorse', 'Whittlesea', 'Wyndham', 'Yarra', 'Yarra Ranges']\n",
    "df = df.loc[df['lgaregion'].isin(metro_melb)]"
   ],
   "metadata": {
    "collapsed": false,
    "pycharm": {
     "name": "#%%\n"
    }
   }
  },
  {
   "cell_type": "code",
   "execution_count": 290,
   "outputs": [],
   "source": [
    "stats_df = df[['suburb','weekly_rent']].groupby('suburb').mean()\n",
    "stats_df = stats_df.merge(df.groupby('suburb').count().iloc[:,0], on = 'suburb')\n",
    "stats_df = stats_df.set_axis(['ave_weekly_rent', 'n_listing'], axis=1)"
   ],
   "metadata": {
    "collapsed": false,
    "pycharm": {
     "name": "#%%\n"
    }
   }
  },
  {
   "cell_type": "code",
   "execution_count": 291,
   "outputs": [
    {
     "name": "stdout",
     "output_type": "stream",
     "text": [
      "38.25\n"
     ]
    }
   ],
   "source": [
    "min_listing = stats_df.n_listing.quantile(0.25)\n",
    "print(min_listing)"
   ],
   "metadata": {
    "collapsed": false,
    "pycharm": {
     "name": "#%%\n"
    }
   }
  },
  {
   "cell_type": "code",
   "execution_count": 292,
   "outputs": [
    {
     "data": {
      "text/plain": "               ave_weekly_rent  n_listing\nsuburb                                   \nMillgrove           299.166667         42\nAlbion              312.983607        610\nBroadford           321.206897        319\nMelton South        322.405694       1967\nCampbellfield       323.785714         42",
      "text/html": "<div>\n<style scoped>\n    .dataframe tbody tr th:only-of-type {\n        vertical-align: middle;\n    }\n\n    .dataframe tbody tr th {\n        vertical-align: top;\n    }\n\n    .dataframe thead th {\n        text-align: right;\n    }\n</style>\n<table border=\"1\" class=\"dataframe\">\n  <thead>\n    <tr style=\"text-align: right;\">\n      <th></th>\n      <th>ave_weekly_rent</th>\n      <th>n_listing</th>\n    </tr>\n    <tr>\n      <th>suburb</th>\n      <th></th>\n      <th></th>\n    </tr>\n  </thead>\n  <tbody>\n    <tr>\n      <th>Millgrove</th>\n      <td>299.166667</td>\n      <td>42</td>\n    </tr>\n    <tr>\n      <th>Albion</th>\n      <td>312.983607</td>\n      <td>610</td>\n    </tr>\n    <tr>\n      <th>Broadford</th>\n      <td>321.206897</td>\n      <td>319</td>\n    </tr>\n    <tr>\n      <th>Melton South</th>\n      <td>322.405694</td>\n      <td>1967</td>\n    </tr>\n    <tr>\n      <th>Campbellfield</th>\n      <td>323.785714</td>\n      <td>42</td>\n    </tr>\n  </tbody>\n</table>\n</div>"
     },
     "execution_count": 292,
     "metadata": {},
     "output_type": "execute_result"
    }
   ],
   "source": [
    "stats_df = stats_df.sort_values(by = 'ave_weekly_rent', ascending = True)\n",
    "stats_df = stats_df.loc[stats_df['n_listing'] >= min_listing]\n",
    "stats_df.head()"
   ],
   "metadata": {
    "collapsed": false,
    "pycharm": {
     "name": "#%%\n"
    }
   }
  },
  {
   "cell_type": "code",
   "execution_count": 316,
   "outputs": [],
   "source": [
    "result_suburbs.append(stats_df.iloc[0:2].index.tolist())"
   ],
   "metadata": {
    "collapsed": false,
    "pycharm": {
     "name": "#%%\n"
    }
   }
  },
  {
   "cell_type": "code",
   "execution_count": 294,
   "outputs": [],
   "source": [
    "# full_df = pd.read_csv('../data/curated/full_listing.csv').iloc[:,1:]\n",
    "full_df = pd.read_csv('../data/curated/full_listing.csv').iloc[:,1:]\n",
    "remove = [ 'address', 'postcode', 'url', 'loc_address', 'lat', 'lon', 'list_date', 'list_history', 'list_count', 'SA2_NAME_2016', 'SA2', 'lgaregion', 'primary_school_name', 'secondary_school_name', 'pri_lat', 'pri_lon', 'sec_lat', 'sec_lon', 'closest_ed_name', 'ed_lat', 'ed_lon', 'train_stop', 'train_lat', 'train_lon']\n",
    "full_df = full_df.drop(remove, axis=1)"
   ],
   "metadata": {
    "collapsed": false,
    "pycharm": {
     "name": "#%%\n"
    }
   }
  },
  {
   "cell_type": "code",
   "execution_count": 295,
   "outputs": [],
   "source": [
    "full_df = full_df[full_df.groupby('suburb')['suburb'].transform('count').ge(min_listing)]"
   ],
   "metadata": {
    "collapsed": false,
    "pycharm": {
     "name": "#%%\n"
    }
   }
  },
  {
   "cell_type": "code",
   "execution_count": 296,
   "outputs": [
    {
     "name": "stderr",
     "output_type": "stream",
     "text": [
      "/var/folders/y5/myhyydfd6h9dlwv1qmqtqhmr0000gn/T/ipykernel_36092/1249762198.py:1: FutureWarning: The default value of numeric_only in DataFrameGroupBy.mean is deprecated. In a future version, numeric_only will default to False. Either specify numeric_only or select only columns which should be valid for the function.\n",
      "  rank_df = full_df.groupby('suburb').mean()\n"
     ]
    }
   ],
   "source": [
    "rank_df = full_df.groupby('suburb').mean()\n",
    "rank_df[['bed', 'bath', 'car', 'type_code']] = [2, 1, 1, 4]"
   ],
   "metadata": {
    "collapsed": false,
    "pycharm": {
     "name": "#%%\n"
    }
   }
  },
  {
   "cell_type": "code",
   "execution_count": 297,
   "outputs": [
    {
     "data": {
      "text/plain": "              bed  bath  car  income_earner  income_median_age  income_median  \\\nsuburb                                                                          \nAbbotsford      2     1    1         6589.0               33.0        64090.0   \nAirport West    2     1    1         4842.0               41.0        58506.0   \nAlbert Park     2     1    1        11685.0               44.0        67518.0   \nAlbion          2     1    1         4479.0               35.0        44333.0   \nAlphington      2     1    1         5937.0               40.0        61806.0   \n\n              income_mean  income_top_10_pct  population_total  \\\nsuburb                                                           \nAbbotsford        78181.0               30.2            9262.0   \nAirport West      65204.0               25.9            8237.0   \nAlbert Park      120412.0               48.3           16023.0   \nAlbion            50078.0               26.4            7595.0   \nAlphington        84148.0               34.6            9072.0   \n\n              population_children  ...  primary_duration  secondary_distance  \\\nsuburb                             ...                                         \nAbbotsford                  759.0  ...        219.671429         2064.853571   \nAirport West               1384.0  ...        203.368852         4165.377049   \nAlbert Park                2165.0  ...        126.307692         1013.903846   \nAlbion                     1171.0  ...        110.671642         3403.059701   \nAlphington                 1453.0  ...        168.254237         3604.813559   \n\n              secondary_duration   ed_distance  ed_duration  train_distance  \\\nsuburb                                                                        \nAbbotsford            451.067857   2196.725000   406.503571     1768.028571   \nAirport West          487.459016  12829.704918   961.418033     7147.155738   \nAlbert Park           160.942308   4042.903846   570.980769     4516.826923   \nAlbion                378.656716   5581.298507   722.373134     1853.134328   \nAlphington            464.813559   4803.593220   599.830508      944.237288   \n\n              train_duration  melb_distance  melb_duration  type_code  \nsuburb                                                                 \nAbbotsford        337.528571    4136.603571     795.582143          4  \nAirport West      662.811475   16300.836066    1225.368852          4  \nAlbert Park       643.769231    5980.884615     980.442308          4  \nAlbion            286.328358   14692.313433    1682.537313          4  \nAlphington        155.169492    9286.677966    1086.779661          4  \n\n[5 rows x 34 columns]",
      "text/html": "<div>\n<style scoped>\n    .dataframe tbody tr th:only-of-type {\n        vertical-align: middle;\n    }\n\n    .dataframe tbody tr th {\n        vertical-align: top;\n    }\n\n    .dataframe thead th {\n        text-align: right;\n    }\n</style>\n<table border=\"1\" class=\"dataframe\">\n  <thead>\n    <tr style=\"text-align: right;\">\n      <th></th>\n      <th>bed</th>\n      <th>bath</th>\n      <th>car</th>\n      <th>income_earner</th>\n      <th>income_median_age</th>\n      <th>income_median</th>\n      <th>income_mean</th>\n      <th>income_top_10_pct</th>\n      <th>population_total</th>\n      <th>population_children</th>\n      <th>...</th>\n      <th>primary_duration</th>\n      <th>secondary_distance</th>\n      <th>secondary_duration</th>\n      <th>ed_distance</th>\n      <th>ed_duration</th>\n      <th>train_distance</th>\n      <th>train_duration</th>\n      <th>melb_distance</th>\n      <th>melb_duration</th>\n      <th>type_code</th>\n    </tr>\n    <tr>\n      <th>suburb</th>\n      <th></th>\n      <th></th>\n      <th></th>\n      <th></th>\n      <th></th>\n      <th></th>\n      <th></th>\n      <th></th>\n      <th></th>\n      <th></th>\n      <th></th>\n      <th></th>\n      <th></th>\n      <th></th>\n      <th></th>\n      <th></th>\n      <th></th>\n      <th></th>\n      <th></th>\n      <th></th>\n      <th></th>\n    </tr>\n  </thead>\n  <tbody>\n    <tr>\n      <th>Abbotsford</th>\n      <td>2</td>\n      <td>1</td>\n      <td>1</td>\n      <td>6589.0</td>\n      <td>33.0</td>\n      <td>64090.0</td>\n      <td>78181.0</td>\n      <td>30.2</td>\n      <td>9262.0</td>\n      <td>759.0</td>\n      <td>...</td>\n      <td>219.671429</td>\n      <td>2064.853571</td>\n      <td>451.067857</td>\n      <td>2196.725000</td>\n      <td>406.503571</td>\n      <td>1768.028571</td>\n      <td>337.528571</td>\n      <td>4136.603571</td>\n      <td>795.582143</td>\n      <td>4</td>\n    </tr>\n    <tr>\n      <th>Airport West</th>\n      <td>2</td>\n      <td>1</td>\n      <td>1</td>\n      <td>4842.0</td>\n      <td>41.0</td>\n      <td>58506.0</td>\n      <td>65204.0</td>\n      <td>25.9</td>\n      <td>8237.0</td>\n      <td>1384.0</td>\n      <td>...</td>\n      <td>203.368852</td>\n      <td>4165.377049</td>\n      <td>487.459016</td>\n      <td>12829.704918</td>\n      <td>961.418033</td>\n      <td>7147.155738</td>\n      <td>662.811475</td>\n      <td>16300.836066</td>\n      <td>1225.368852</td>\n      <td>4</td>\n    </tr>\n    <tr>\n      <th>Albert Park</th>\n      <td>2</td>\n      <td>1</td>\n      <td>1</td>\n      <td>11685.0</td>\n      <td>44.0</td>\n      <td>67518.0</td>\n      <td>120412.0</td>\n      <td>48.3</td>\n      <td>16023.0</td>\n      <td>2165.0</td>\n      <td>...</td>\n      <td>126.307692</td>\n      <td>1013.903846</td>\n      <td>160.942308</td>\n      <td>4042.903846</td>\n      <td>570.980769</td>\n      <td>4516.826923</td>\n      <td>643.769231</td>\n      <td>5980.884615</td>\n      <td>980.442308</td>\n      <td>4</td>\n    </tr>\n    <tr>\n      <th>Albion</th>\n      <td>2</td>\n      <td>1</td>\n      <td>1</td>\n      <td>4479.0</td>\n      <td>35.0</td>\n      <td>44333.0</td>\n      <td>50078.0</td>\n      <td>26.4</td>\n      <td>7595.0</td>\n      <td>1171.0</td>\n      <td>...</td>\n      <td>110.671642</td>\n      <td>3403.059701</td>\n      <td>378.656716</td>\n      <td>5581.298507</td>\n      <td>722.373134</td>\n      <td>1853.134328</td>\n      <td>286.328358</td>\n      <td>14692.313433</td>\n      <td>1682.537313</td>\n      <td>4</td>\n    </tr>\n    <tr>\n      <th>Alphington</th>\n      <td>2</td>\n      <td>1</td>\n      <td>1</td>\n      <td>5937.0</td>\n      <td>40.0</td>\n      <td>61806.0</td>\n      <td>84148.0</td>\n      <td>34.6</td>\n      <td>9072.0</td>\n      <td>1453.0</td>\n      <td>...</td>\n      <td>168.254237</td>\n      <td>3604.813559</td>\n      <td>464.813559</td>\n      <td>4803.593220</td>\n      <td>599.830508</td>\n      <td>944.237288</td>\n      <td>155.169492</td>\n      <td>9286.677966</td>\n      <td>1086.779661</td>\n      <td>4</td>\n    </tr>\n  </tbody>\n</table>\n<p>5 rows × 34 columns</p>\n</div>"
     },
     "execution_count": 297,
     "metadata": {},
     "output_type": "execute_result"
    }
   ],
   "source": [
    "with open('../models/rf_regressor', 'rb') as f:\n",
    "    rf = cPickle.load(f)\n",
    "x = rank_df.drop(['weekly_rent'], axis=1).dropna()\n",
    "x.head()"
   ],
   "metadata": {
    "collapsed": false,
    "pycharm": {
     "name": "#%%\n"
    }
   }
  },
  {
   "cell_type": "code",
   "execution_count": 324,
   "outputs": [
    {
     "data": {
      "text/plain": "               suburb     score\n91            Fitzroy  4.223652\n92      Fitzroy North  4.208086\n2         Albert Park  4.089083\n47      Carlton North  3.495368\n81     East Melbourne  3.253756\n..                ...       ...\n193         St Albans -1.601386\n72    Dandenong North -1.662169\n13      Bacchus Marsh -1.662644\n108          Hastings -1.744304\n116  Hoppers Crossing -1.748591\n\n[225 rows x 2 columns]",
      "text/html": "<div>\n<style scoped>\n    .dataframe tbody tr th:only-of-type {\n        vertical-align: middle;\n    }\n\n    .dataframe tbody tr th {\n        vertical-align: top;\n    }\n\n    .dataframe thead th {\n        text-align: right;\n    }\n</style>\n<table border=\"1\" class=\"dataframe\">\n  <thead>\n    <tr style=\"text-align: right;\">\n      <th></th>\n      <th>suburb</th>\n      <th>score</th>\n    </tr>\n  </thead>\n  <tbody>\n    <tr>\n      <th>91</th>\n      <td>Fitzroy</td>\n      <td>4.223652</td>\n    </tr>\n    <tr>\n      <th>92</th>\n      <td>Fitzroy North</td>\n      <td>4.208086</td>\n    </tr>\n    <tr>\n      <th>2</th>\n      <td>Albert Park</td>\n      <td>4.089083</td>\n    </tr>\n    <tr>\n      <th>47</th>\n      <td>Carlton North</td>\n      <td>3.495368</td>\n    </tr>\n    <tr>\n      <th>81</th>\n      <td>East Melbourne</td>\n      <td>3.253756</td>\n    </tr>\n    <tr>\n      <th>...</th>\n      <td>...</td>\n      <td>...</td>\n    </tr>\n    <tr>\n      <th>193</th>\n      <td>St Albans</td>\n      <td>-1.601386</td>\n    </tr>\n    <tr>\n      <th>72</th>\n      <td>Dandenong North</td>\n      <td>-1.662169</td>\n    </tr>\n    <tr>\n      <th>13</th>\n      <td>Bacchus Marsh</td>\n      <td>-1.662644</td>\n    </tr>\n    <tr>\n      <th>108</th>\n      <td>Hastings</td>\n      <td>-1.744304</td>\n    </tr>\n    <tr>\n      <th>116</th>\n      <td>Hoppers Crossing</td>\n      <td>-1.748591</td>\n    </tr>\n  </tbody>\n</table>\n<p>225 rows × 2 columns</p>\n</div>"
     },
     "execution_count": 324,
     "metadata": {},
     "output_type": "execute_result"
    }
   ],
   "source": [
    "prediction = pd.DataFrame({'suburb': x.index.tolist(), 'score': rf.predict(x)}).sort_values(by='score', ascending=False)\n",
    "prediction['score'] = (prediction['score']-prediction['score'].mean())/prediction['score'].std()\n",
    "prediction"
   ],
   "metadata": {
    "collapsed": false,
    "pycharm": {
     "name": "#%%\n"
    }
   }
  },
  {
   "cell_type": "code",
   "execution_count": 328,
   "outputs": [],
   "source": [
    "from math import floor, ceil"
   ],
   "metadata": {
    "collapsed": false,
    "pycharm": {
     "name": "#%%\n"
    }
   }
  },
  {
   "cell_type": "code",
   "execution_count": 332,
   "outputs": [
    {
     "name": "stdout",
     "output_type": "stream",
     "text": [
      "[-2, -1.5, -1.0, -0.5, 0.0, 0.5, 1.0, 1.5, 2.0, 2.5, 3.0, 3.5, 4.0, 4.5]\n"
     ]
    }
   ],
   "source": [
    "bins = []\n",
    "i = floor(min(prediction['score']))\n",
    "while i < ceil(max(prediction['score'])):\n",
    "    bins.append(i)\n",
    "    i += 0.5\n",
    "print(bins)"
   ],
   "metadata": {
    "collapsed": false,
    "pycharm": {
     "name": "#%%\n"
    }
   }
  },
  {
   "cell_type": "code",
   "execution_count": 323,
   "outputs": [
    {
     "data": {
      "text/plain": "array([[<AxesSubplot: title={'center': 'score'}>]], dtype=object)"
     },
     "execution_count": 323,
     "metadata": {},
     "output_type": "execute_result"
    },
    {
     "data": {
      "text/plain": "<Figure size 432x288 with 1 Axes>",
      "image/png": "[encoded data removed]"
     },
     "metadata": {
      "needs_background": "light"
     },
     "output_type": "display_data"
    }
   ],
   "source": [
    "prediction.hist(column='score')"
   ],
   "metadata": {
    "collapsed": false,
    "pycharm": {
     "name": "#%%\n"
    }
   }
  },
  {
   "cell_type": "code",
   "execution_count": 317,
   "outputs": [],
   "source": [
    "result_suburbs.append(prediction.iloc[0:3,0].tolist())"
   ],
   "metadata": {
    "collapsed": false,
    "pycharm": {
     "name": "#%%\n"
    }
   }
  },
  {
   "cell_type": "code",
   "execution_count": 318,
   "outputs": [
    {
     "data": {
      "text/plain": "[['Millgrove', 'Albion'], ['Fitzroy', 'Fitzroy North', 'Albert Park']]"
     },
     "execution_count": 318,
     "metadata": {},
     "output_type": "execute_result"
    }
   ],
   "source": [
    "result_suburbs"
   ],
   "metadata": {
    "collapsed": false,
    "pycharm": {
     "name": "#%%\n"
    }
   }
  },
  {
   "cell_type": "code",
   "execution_count": 319,
   "outputs": [],
   "source": [
    "result_suburbs.append(prediction.iloc[-2:,0].tolist())"
   ],
   "metadata": {
    "collapsed": false,
    "pycharm": {
     "name": "#%%\n"
    }
   }
  },
  {
   "cell_type": "code",
   "execution_count": 320,
   "outputs": [],
   "source": [
    "result_suburbs = [item for sublist in result_suburbs for item in sublist]"
   ],
   "metadata": {
    "collapsed": false,
    "pycharm": {
     "name": "#%%\n"
    }
   }
  },
  {
   "cell_type": "code",
   "execution_count": 322,
   "outputs": [
    {
     "name": "stdout",
     "output_type": "stream",
     "text": [
      "==============Albion==============\n",
      "Listing count:  67\n",
      "bed                                   2.268657\n",
      "bath                                  1.223881\n",
      "car                                   1.402985\n",
      "weekly_rent                         332.671642\n",
      "income_earner                      4479.000000\n",
      "income_median_age                    35.000000\n",
      "income_median                     44333.000000\n",
      "income_mean                       50078.000000\n",
      "income_top_10_pct                    26.400000\n",
      "population_total                   7595.000000\n",
      "population_children                1171.000000\n",
      "population_prime_working           3774.000000\n",
      "population_elderly                 1168.000000\n",
      "population_early_working            784.000000\n",
      "population_mature_working           698.000000\n",
      "secondary_school_rank                17.253731\n",
      "secondary_school_cohort             287.343284\n",
      "proj_population_total             10531.000000\n",
      "proj_population_children           1976.000000\n",
      "proj_population_early_working      1174.000000\n",
      "proj_population_prime_working      5236.000000\n",
      "proj_population_mature_working      815.000000\n",
      "proj_population_elderly            1330.000000\n",
      "train_n_lines                         1.000000\n",
      "primary_distance                    758.686567\n",
      "primary_duration                    110.671642\n",
      "secondary_distance                 3403.059701\n",
      "secondary_duration                  378.656716\n",
      "ed_distance                        5581.298507\n",
      "ed_duration                         722.373134\n",
      "train_distance                     1853.134328\n",
      "train_duration                      286.328358\n",
      "melb_distance                     14692.313433\n",
      "melb_duration                      1682.537313\n",
      "dtype: float64\n",
      "==============Fitzroy==============\n",
      "Listing count:  138\n",
      "bed                                   1.927536\n",
      "bath                                  1.275362\n",
      "car                                   1.188406\n",
      "weekly_rent                         639.065217\n",
      "income_earner                      7189.000000\n",
      "income_median_age                    35.000000\n",
      "income_median                     60939.000000\n",
      "income_mean                       86036.000000\n",
      "income_top_10_pct                    36.600000\n",
      "population_total                  10609.000000\n",
      "population_children                1090.000000\n",
      "population_prime_working           6218.000000\n",
      "population_elderly                 1134.000000\n",
      "population_early_working           1042.000000\n",
      "population_mature_working          1125.000000\n",
      "secondary_school_rank                96.695652\n",
      "secondary_school_cohort              73.862319\n",
      "proj_population_total             14325.000000\n",
      "proj_population_children           1754.000000\n",
      "proj_population_early_working      1338.000000\n",
      "proj_population_prime_working      8349.000000\n",
      "proj_population_mature_working     1380.000000\n",
      "proj_population_elderly            1504.000000\n",
      "train_n_lines                         6.913043\n",
      "primary_distance                    789.637681\n",
      "primary_duration                    187.318841\n",
      "secondary_distance                 1905.833333\n",
      "secondary_duration                  418.333333\n",
      "ed_distance                        1466.869565\n",
      "ed_duration                         315.246377\n",
      "train_distance                     2281.347826\n",
      "train_duration                      486.811594\n",
      "melb_distance                      2510.188406\n",
      "melb_duration                       537.492754\n",
      "dtype: float64\n",
      "==============Fitzroy North==============\n",
      "Listing count:  181\n",
      "bed                                   2.066298\n",
      "bath                                  1.276243\n",
      "car                                   1.116022\n",
      "weekly_rent                         570.635359\n",
      "income_earner                      8812.000000\n",
      "income_median_age                    37.000000\n",
      "income_median                     65192.000000\n",
      "income_mean                       93200.000000\n",
      "income_top_10_pct                    38.400000\n",
      "population_total                  12955.000000\n",
      "population_children                1605.000000\n",
      "population_prime_working           6784.000000\n",
      "population_elderly                 1980.000000\n",
      "population_early_working           1341.000000\n",
      "population_mature_working          1245.000000\n",
      "secondary_school_rank                87.022099\n",
      "secondary_school_cohort             168.917127\n",
      "proj_population_total             15706.000000\n",
      "proj_population_children           1812.000000\n",
      "proj_population_early_working      1542.000000\n",
      "proj_population_prime_working      8383.000000\n",
      "proj_population_mature_working     1477.000000\n",
      "proj_population_elderly            2492.000000\n",
      "train_n_lines                         1.939227\n",
      "primary_distance                    972.038674\n",
      "primary_duration                    191.696133\n",
      "secondary_distance                 1129.867403\n",
      "secondary_duration                  196.640884\n",
      "ed_distance                        3215.149171\n",
      "ed_duration                         560.093923\n",
      "train_distance                     1645.563536\n",
      "train_duration                      307.453039\n",
      "melb_distance                      4280.038674\n",
      "melb_duration                       769.751381\n",
      "dtype: float64\n",
      "==============Albert Park==============\n",
      "Listing count:  52\n",
      "bed                                    2.057692\n",
      "bath                                   1.326923\n",
      "car                                    1.134615\n",
      "weekly_rent                          749.615385\n",
      "income_earner                      11685.000000\n",
      "income_median_age                     44.000000\n",
      "income_median                      67518.000000\n",
      "income_mean                       120412.000000\n",
      "income_top_10_pct                     48.300000\n",
      "population_total                   16023.000000\n",
      "population_children                 2165.000000\n",
      "population_prime_working            7449.000000\n",
      "population_elderly                  2924.000000\n",
      "population_early_working            1470.000000\n",
      "population_mature_working           2015.000000\n",
      "secondary_school_rank                 32.000000\n",
      "secondary_school_cohort              327.000000\n",
      "proj_population_total              19009.000000\n",
      "proj_population_children            2616.000000\n",
      "proj_population_early_working       1992.000000\n",
      "proj_population_prime_working       8289.000000\n",
      "proj_population_mature_working      2397.000000\n",
      "proj_population_elderly             3715.000000\n",
      "train_n_lines                         16.000000\n",
      "primary_distance                     773.153846\n",
      "primary_duration                     126.307692\n",
      "secondary_distance                  1013.903846\n",
      "secondary_duration                   160.942308\n",
      "ed_distance                         4042.903846\n",
      "ed_duration                          570.980769\n",
      "train_distance                      4516.826923\n",
      "train_duration                       643.769231\n",
      "melb_distance                       5980.884615\n",
      "melb_duration                        980.442308\n",
      "dtype: float64\n",
      "==============Hastings==============\n",
      "Listing count:  67\n",
      "bed                                   2.731343\n",
      "bath                                  1.298507\n",
      "car                                   1.611940\n",
      "weekly_rent                         399.285572\n",
      "income_earner                     12638.000000\n",
      "income_median_age                    44.000000\n",
      "income_median                     47771.000000\n",
      "income_mean                       56871.000000\n",
      "income_top_10_pct                    29.200000\n",
      "population_total                  24240.000000\n",
      "population_children                4340.000000\n",
      "population_prime_working           8508.000000\n",
      "population_elderly                 5326.000000\n",
      "population_early_working           2988.000000\n",
      "population_mature_working          3078.000000\n",
      "secondary_school_rank                52.000000\n",
      "secondary_school_cohort             138.000000\n",
      "proj_population_total             27077.000000\n",
      "proj_population_children           4726.000000\n",
      "proj_population_early_working      3384.000000\n",
      "proj_population_prime_working      9516.000000\n",
      "proj_population_mature_working     3197.000000\n",
      "proj_population_elderly            6254.000000\n",
      "train_n_lines                         1.000000\n",
      "primary_distance                   1342.462687\n",
      "primary_duration                    159.791045\n",
      "secondary_distance                21071.179104\n",
      "secondary_duration                 1385.895522\n",
      "ed_distance                       20371.000000\n",
      "ed_duration                        1348.447761\n",
      "train_distance                     1286.417910\n",
      "train_duration                      192.895522\n",
      "melb_distance                     73266.626866\n",
      "melb_duration                      3930.567164\n",
      "dtype: float64\n",
      "==============Hoppers Crossing==============\n",
      "Listing count:  398\n",
      "bed                                   3.080402\n",
      "bath                                  1.515075\n",
      "car                                   1.690955\n",
      "weekly_rent                         357.932161\n",
      "income_earner                     11451.000000\n",
      "income_median_age                    40.000000\n",
      "income_median                     50021.000000\n",
      "income_mean                       56365.000000\n",
      "income_top_10_pct                    26.300000\n",
      "population_total                  18663.000000\n",
      "population_children                3501.000000\n",
      "population_prime_working           7640.000000\n",
      "population_elderly                 2249.000000\n",
      "population_early_working           2617.000000\n",
      "population_mature_working          2656.000000\n",
      "secondary_school_rank                10.246231\n",
      "secondary_school_cohort             439.123116\n",
      "proj_population_total             22006.000000\n",
      "proj_population_children           4270.000000\n",
      "proj_population_early_working      2696.000000\n",
      "proj_population_prime_working      9094.000000\n",
      "proj_population_mature_working     2567.000000\n",
      "proj_population_elderly            3379.000000\n",
      "train_n_lines                         1.000000\n",
      "primary_distance                   1267.502513\n",
      "primary_duration                    159.374372\n",
      "secondary_distance                 5180.650754\n",
      "secondary_duration                  536.394472\n",
      "ed_distance                        5194.934673\n",
      "ed_duration                         521.914573\n",
      "train_distance                     2995.706030\n",
      "train_duration                      420.532663\n",
      "melb_distance                     31109.623116\n",
      "melb_duration                      2077.613065\n",
      "dtype: float64\n"
     ]
    },
    {
     "name": "stderr",
     "output_type": "stream",
     "text": [
      "/var/folders/y5/myhyydfd6h9dlwv1qmqtqhmr0000gn/T/ipykernel_36092/1940590245.py:5: FutureWarning: The default value of numeric_only in DataFrame.mean is deprecated. In a future version, it will default to False. In addition, specifying 'numeric_only=None' is deprecated. Select only valid columns or specify the value of numeric_only to silence this warning.\n",
      "  print(full_df[full_df['suburb']==i].mean(axis=0))\n"
     ]
    }
   ],
   "source": [
    "for i in result_suburbs:\n",
    "    if len(full_df[full_df['suburb']==i]) > 0:\n",
    "        print(f'=============={i}==============')\n",
    "        print('Listing count: ', len(full_df[full_df['suburb']==i]))\n",
    "        print(full_df[full_df['suburb']==i].mean(axis=0))"
   ],
   "metadata": {
    "collapsed": false,
    "pycharm": {
     "name": "#%%\n"
    }
   }
  },
  {
   "cell_type": "code",
   "execution_count": null,
   "outputs": [],
   "source": [],
   "metadata": {
    "collapsed": false,
    "pycharm": {
     "name": "#%%\n"
    }
   }
  }
 ],
 "metadata": {
  "kernelspec": {
   "display_name": "Python 3",
   "language": "python",
   "name": "python3"
  },
  "language_info": {
   "codemirror_mode": {
    "name": "ipython",
    "version": 2
   },
   "file_extension": ".py",
   "mimetype": "text/x-python",
   "name": "python",
   "nbconvert_exporter": "python",
   "pygments_lexer": "ipython2",
   "version": "2.7.6"
  }
 },
 "nbformat": 4,
 "nbformat_minor": 0
}