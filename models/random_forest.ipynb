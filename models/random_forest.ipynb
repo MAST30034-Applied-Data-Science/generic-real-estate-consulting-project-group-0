{
 "cells": [
  {
   "cell_type": "markdown",
   "source": [],
   "metadata": {
    "collapsed": false
   }
  },
  {
   "cell_type": "code",
   "execution_count": 1,
   "outputs": [
    {
     "data": {
      "text/plain": "   bed  bath  car   type  weekly_rent  income_earner  income_median_age  \\\n0    3     1    2    AUF        525.0        14501.0               47.0   \n1    4     2    3    AUF        850.0        14501.0               47.0   \n2    2     1    1    AUF        395.0        14501.0               47.0   \n3    3     2    2  House        580.0        14501.0               47.0   \n4    2     1    1  House        400.0        14501.0               47.0   \n\n   income_median  income_mean  income_top_10_pct  ...  primary_distance  \\\n0        61520.0     101491.0               42.5  ...               898   \n1        61520.0     101491.0               42.5  ...              1110   \n2        61520.0     101491.0               42.5  ...               604   \n3        61520.0     101491.0               42.5  ...               878   \n4        61520.0     101491.0               42.5  ...              1089   \n\n   primary_duration  secondary_distance  secondary_duration  ed_distance  \\\n0               121                1272                 167         6019   \n1               131                2274                 248         6690   \n2               104                2812                 335         6947   \n3                74                2866                 281         5685   \n4               163                2615                 313         7650   \n\n   ed_duration  train_distance  train_duration  melb_distance  melb_duration  \n0          724            1514             189          14572           1508  \n1          794            1534             197          13778           1423  \n2          818             464              87          13262           1372  \n3          629            1619             190          14435           1464  \n4          924             806             114          12502           1288  \n\n[5 rows x 35 columns]",
      "text/html": "<div>\n<style scoped>\n    .dataframe tbody tr th:only-of-type {\n        vertical-align: middle;\n    }\n\n    .dataframe tbody tr th {\n        vertical-align: top;\n    }\n\n    .dataframe thead th {\n        text-align: right;\n    }\n</style>\n<table border=\"1\" class=\"dataframe\">\n  <thead>\n    <tr style=\"text-align: right;\">\n      <th></th>\n      <th>bed</th>\n      <th>bath</th>\n      <th>car</th>\n      <th>type</th>\n      <th>weekly_rent</th>\n      <th>income_earner</th>\n      <th>income_median_age</th>\n      <th>income_median</th>\n      <th>income_mean</th>\n      <th>income_top_10_pct</th>\n      <th>...</th>\n      <th>primary_distance</th>\n      <th>primary_duration</th>\n      <th>secondary_distance</th>\n      <th>secondary_duration</th>\n      <th>ed_distance</th>\n      <th>ed_duration</th>\n      <th>train_distance</th>\n      <th>train_duration</th>\n      <th>melb_distance</th>\n      <th>melb_duration</th>\n    </tr>\n  </thead>\n  <tbody>\n    <tr>\n      <th>0</th>\n      <td>3</td>\n      <td>1</td>\n      <td>2</td>\n      <td>AUF</td>\n      <td>525.0</td>\n      <td>14501.0</td>\n      <td>47.0</td>\n      <td>61520.0</td>\n      <td>101491.0</td>\n      <td>42.5</td>\n      <td>...</td>\n      <td>898</td>\n      <td>121</td>\n      <td>1272</td>\n      <td>167</td>\n      <td>6019</td>\n      <td>724</td>\n      <td>1514</td>\n      <td>189</td>\n      <td>14572</td>\n      <td>1508</td>\n    </tr>\n    <tr>\n      <th>1</th>\n      <td>4</td>\n      <td>2</td>\n      <td>3</td>\n      <td>AUF</td>\n      <td>850.0</td>\n      <td>14501.0</td>\n      <td>47.0</td>\n      <td>61520.0</td>\n      <td>101491.0</td>\n      <td>42.5</td>\n      <td>...</td>\n      <td>1110</td>\n      <td>131</td>\n      <td>2274</td>\n      <td>248</td>\n      <td>6690</td>\n      <td>794</td>\n      <td>1534</td>\n      <td>197</td>\n      <td>13778</td>\n      <td>1423</td>\n    </tr>\n    <tr>\n      <th>2</th>\n      <td>2</td>\n      <td>1</td>\n      <td>1</td>\n      <td>AUF</td>\n      <td>395.0</td>\n      <td>14501.0</td>\n      <td>47.0</td>\n      <td>61520.0</td>\n      <td>101491.0</td>\n      <td>42.5</td>\n      <td>...</td>\n      <td>604</td>\n      <td>104</td>\n      <td>2812</td>\n      <td>335</td>\n      <td>6947</td>\n      <td>818</td>\n      <td>464</td>\n      <td>87</td>\n      <td>13262</td>\n      <td>1372</td>\n    </tr>\n    <tr>\n      <th>3</th>\n      <td>3</td>\n      <td>2</td>\n      <td>2</td>\n      <td>House</td>\n      <td>580.0</td>\n      <td>14501.0</td>\n      <td>47.0</td>\n      <td>61520.0</td>\n      <td>101491.0</td>\n      <td>42.5</td>\n      <td>...</td>\n      <td>878</td>\n      <td>74</td>\n      <td>2866</td>\n      <td>281</td>\n      <td>5685</td>\n      <td>629</td>\n      <td>1619</td>\n      <td>190</td>\n      <td>14435</td>\n      <td>1464</td>\n    </tr>\n    <tr>\n      <th>4</th>\n      <td>2</td>\n      <td>1</td>\n      <td>1</td>\n      <td>House</td>\n      <td>400.0</td>\n      <td>14501.0</td>\n      <td>47.0</td>\n      <td>61520.0</td>\n      <td>101491.0</td>\n      <td>42.5</td>\n      <td>...</td>\n      <td>1089</td>\n      <td>163</td>\n      <td>2615</td>\n      <td>313</td>\n      <td>7650</td>\n      <td>924</td>\n      <td>806</td>\n      <td>114</td>\n      <td>12502</td>\n      <td>1288</td>\n    </tr>\n  </tbody>\n</table>\n<p>5 rows × 35 columns</p>\n</div>"
     },
     "execution_count": 1,
     "metadata": {},
     "output_type": "execute_result"
    }
   ],
   "source": [
    "import pandas as pd\n",
    "df = pd.read_csv('../data/curated/full_listing.csv').iloc[:,1:]\n",
    "remove = [ 'address', 'suburb', 'postcode', 'url', 'loc_address', 'lat', 'lon', 'list_date', 'list_history', 'list_count', 'SA2_NAME_2016', 'SA2', 'lgaregion', 'primary_school_name', 'secondary_school_name', 'pri_lat', 'pri_lon', 'sec_lat', 'sec_lon', 'closest_ed_name', 'ed_lat', 'ed_lon', 'train_stop', 'train_lat', 'train_lon']\n",
    "df = df.drop(remove, axis=1)\n",
    "df.head()"
   ],
   "metadata": {
    "collapsed": false,
    "pycharm": {
     "name": "#%%\n"
    }
   }
  },
  {
   "cell_type": "code",
   "execution_count": 2,
   "outputs": [],
   "source": [
    "df.type = pd.Categorical(df.type)\n",
    "df['type_code'] = df.type.cat.codes"
   ],
   "metadata": {
    "collapsed": false,
    "pycharm": {
     "name": "#%%\n"
    }
   }
  },
  {
   "cell_type": "code",
   "execution_count": 3,
   "outputs": [],
   "source": [
    "df = df.dropna()"
   ],
   "metadata": {
    "collapsed": false,
    "pycharm": {
     "name": "#%%\n"
    }
   }
  },
  {
   "cell_type": "code",
   "execution_count": 29,
   "outputs": [
    {
     "data": {
      "text/plain": "       bed  bath  car     type  weekly_rent  income_earner  income_median_age  \\\n0        3     1    2      AUF        525.0        14501.0               47.0   \n1        4     2    3      AUF        850.0        14501.0               47.0   \n2        2     1    1      AUF        395.0        14501.0               47.0   \n3        3     2    2    House        580.0        14501.0               47.0   \n4        2     1    1    House        400.0        14501.0               47.0   \n...    ...   ...  ...      ...          ...            ...                ...   \n41973    3     1    1  unknown        310.0         5883.0               46.0   \n41974    3     1    2  unknown        550.0         2109.0               52.0   \n41975    3     2    4  unknown        600.0         2109.0               52.0   \n41976    5     2    3  unknown        640.0         3572.0               46.0   \n41977    4     2    2  unknown        550.0         5509.0               49.0   \n\n       income_median  income_mean  income_top_10_pct  ...  primary_duration  \\\n0            61520.0     101491.0               42.5  ...               121   \n1            61520.0     101491.0               42.5  ...               131   \n2            61520.0     101491.0               42.5  ...               104   \n3            61520.0     101491.0               42.5  ...                74   \n4            61520.0     101491.0               42.5  ...               163   \n...              ...          ...                ...  ...               ...   \n41973        52984.0      66049.0               31.9  ...               648   \n41974        38638.0      49593.0               33.0  ...               528   \n41975        38638.0      49593.0               33.0  ...                69   \n41976        52033.0      61565.0               28.3  ...               573   \n41977        39675.0      49203.0               31.5  ...               536   \n\n       secondary_distance  secondary_duration  ed_distance  ed_duration  \\\n0                    1272                 167         6019          724   \n1                    2274                 248         6690          794   \n2                    2812                 335         6947          818   \n3                    2866                 281         5685          629   \n4                    2615                 313         7650          924   \n...                   ...                 ...          ...          ...   \n41973               35223                1742        43232         2084   \n41974               45812                2321        47913         2722   \n41975               57736                2872        59837         3273   \n41976               38832                1992        36701         2144   \n41977               27735                1339       130586         5307   \n\n       train_distance  train_duration  melb_distance  melb_duration  type_code  \n0                1514             189          14572           1508          0  \n1                1534             197          13778           1423          0  \n2                 464              87          13262           1372          0  \n3                1619             190          14435           1464          1  \n4                 806             114          12502           1288          1  \n...               ...             ...            ...            ...        ...  \n41973           36764            1846          59224           3379          4  \n41974           45628            2512          80857           4432          4  \n41975           57552            3063          92781           4983          4  \n41976           35656            2053          61299           3249          4  \n41977          176258            7747         237106          10206          4  \n\n[41746 rows x 36 columns]",
      "text/html": "<div>\n<style scoped>\n    .dataframe tbody tr th:only-of-type {\n        vertical-align: middle;\n    }\n\n    .dataframe tbody tr th {\n        vertical-align: top;\n    }\n\n    .dataframe thead th {\n        text-align: right;\n    }\n</style>\n<table border=\"1\" class=\"dataframe\">\n  <thead>\n    <tr style=\"text-align: right;\">\n      <th></th>\n      <th>bed</th>\n      <th>bath</th>\n      <th>car</th>\n      <th>type</th>\n      <th>weekly_rent</th>\n      <th>income_earner</th>\n      <th>income_median_age</th>\n      <th>income_median</th>\n      <th>income_mean</th>\n      <th>income_top_10_pct</th>\n      <th>...</th>\n      <th>primary_duration</th>\n      <th>secondary_distance</th>\n      <th>secondary_duration</th>\n      <th>ed_distance</th>\n      <th>ed_duration</th>\n      <th>train_distance</th>\n      <th>train_duration</th>\n      <th>melb_distance</th>\n      <th>melb_duration</th>\n      <th>type_code</th>\n    </tr>\n  </thead>\n  <tbody>\n    <tr>\n      <th>0</th>\n      <td>3</td>\n      <td>1</td>\n      <td>2</td>\n      <td>AUF</td>\n      <td>525.0</td>\n      <td>14501.0</td>\n      <td>47.0</td>\n      <td>61520.0</td>\n      <td>101491.0</td>\n      <td>42.5</td>\n      <td>...</td>\n      <td>121</td>\n      <td>1272</td>\n      <td>167</td>\n      <td>6019</td>\n      <td>724</td>\n      <td>1514</td>\n      <td>189</td>\n      <td>14572</td>\n      <td>1508</td>\n      <td>0</td>\n    </tr>\n    <tr>\n      <th>1</th>\n      <td>4</td>\n      <td>2</td>\n      <td>3</td>\n      <td>AUF</td>\n      <td>850.0</td>\n      <td>14501.0</td>\n      <td>47.0</td>\n      <td>61520.0</td>\n      <td>101491.0</td>\n      <td>42.5</td>\n      <td>...</td>\n      <td>131</td>\n      <td>2274</td>\n      <td>248</td>\n      <td>6690</td>\n      <td>794</td>\n      <td>1534</td>\n      <td>197</td>\n      <td>13778</td>\n      <td>1423</td>\n      <td>0</td>\n    </tr>\n    <tr>\n      <th>2</th>\n      <td>2</td>\n      <td>1</td>\n      <td>1</td>\n      <td>AUF</td>\n      <td>395.0</td>\n      <td>14501.0</td>\n      <td>47.0</td>\n      <td>61520.0</td>\n      <td>101491.0</td>\n      <td>42.5</td>\n      <td>...</td>\n      <td>104</td>\n      <td>2812</td>\n      <td>335</td>\n      <td>6947</td>\n      <td>818</td>\n      <td>464</td>\n      <td>87</td>\n      <td>13262</td>\n      <td>1372</td>\n      <td>0</td>\n    </tr>\n    <tr>\n      <th>3</th>\n      <td>3</td>\n      <td>2</td>\n      <td>2</td>\n      <td>House</td>\n      <td>580.0</td>\n      <td>14501.0</td>\n      <td>47.0</td>\n      <td>61520.0</td>\n      <td>101491.0</td>\n      <td>42.5</td>\n      <td>...</td>\n      <td>74</td>\n      <td>2866</td>\n      <td>281</td>\n      <td>5685</td>\n      <td>629</td>\n      <td>1619</td>\n      <td>190</td>\n      <td>14435</td>\n      <td>1464</td>\n      <td>1</td>\n    </tr>\n    <tr>\n      <th>4</th>\n      <td>2</td>\n      <td>1</td>\n      <td>1</td>\n      <td>House</td>\n      <td>400.0</td>\n      <td>14501.0</td>\n      <td>47.0</td>\n      <td>61520.0</td>\n      <td>101491.0</td>\n      <td>42.5</td>\n      <td>...</td>\n      <td>163</td>\n      <td>2615</td>\n      <td>313</td>\n      <td>7650</td>\n      <td>924</td>\n      <td>806</td>\n      <td>114</td>\n      <td>12502</td>\n      <td>1288</td>\n      <td>1</td>\n    </tr>\n    <tr>\n      <th>...</th>\n      <td>...</td>\n      <td>...</td>\n      <td>...</td>\n      <td>...</td>\n      <td>...</td>\n      <td>...</td>\n      <td>...</td>\n      <td>...</td>\n      <td>...</td>\n      <td>...</td>\n      <td>...</td>\n      <td>...</td>\n      <td>...</td>\n      <td>...</td>\n      <td>...</td>\n      <td>...</td>\n      <td>...</td>\n      <td>...</td>\n      <td>...</td>\n      <td>...</td>\n      <td>...</td>\n    </tr>\n    <tr>\n      <th>41973</th>\n      <td>3</td>\n      <td>1</td>\n      <td>1</td>\n      <td>unknown</td>\n      <td>310.0</td>\n      <td>5883.0</td>\n      <td>46.0</td>\n      <td>52984.0</td>\n      <td>66049.0</td>\n      <td>31.9</td>\n      <td>...</td>\n      <td>648</td>\n      <td>35223</td>\n      <td>1742</td>\n      <td>43232</td>\n      <td>2084</td>\n      <td>36764</td>\n      <td>1846</td>\n      <td>59224</td>\n      <td>3379</td>\n      <td>4</td>\n    </tr>\n    <tr>\n      <th>41974</th>\n      <td>3</td>\n      <td>1</td>\n      <td>2</td>\n      <td>unknown</td>\n      <td>550.0</td>\n      <td>2109.0</td>\n      <td>52.0</td>\n      <td>38638.0</td>\n      <td>49593.0</td>\n      <td>33.0</td>\n      <td>...</td>\n      <td>528</td>\n      <td>45812</td>\n      <td>2321</td>\n      <td>47913</td>\n      <td>2722</td>\n      <td>45628</td>\n      <td>2512</td>\n      <td>80857</td>\n      <td>4432</td>\n      <td>4</td>\n    </tr>\n    <tr>\n      <th>41975</th>\n      <td>3</td>\n      <td>2</td>\n      <td>4</td>\n      <td>unknown</td>\n      <td>600.0</td>\n      <td>2109.0</td>\n      <td>52.0</td>\n      <td>38638.0</td>\n      <td>49593.0</td>\n      <td>33.0</td>\n      <td>...</td>\n      <td>69</td>\n      <td>57736</td>\n      <td>2872</td>\n      <td>59837</td>\n      <td>3273</td>\n      <td>57552</td>\n      <td>3063</td>\n      <td>92781</td>\n      <td>4983</td>\n      <td>4</td>\n    </tr>\n    <tr>\n      <th>41976</th>\n      <td>5</td>\n      <td>2</td>\n      <td>3</td>\n      <td>unknown</td>\n      <td>640.0</td>\n      <td>3572.0</td>\n      <td>46.0</td>\n      <td>52033.0</td>\n      <td>61565.0</td>\n      <td>28.3</td>\n      <td>...</td>\n      <td>573</td>\n      <td>38832</td>\n      <td>1992</td>\n      <td>36701</td>\n      <td>2144</td>\n      <td>35656</td>\n      <td>2053</td>\n      <td>61299</td>\n      <td>3249</td>\n      <td>4</td>\n    </tr>\n    <tr>\n      <th>41977</th>\n      <td>4</td>\n      <td>2</td>\n      <td>2</td>\n      <td>unknown</td>\n      <td>550.0</td>\n      <td>5509.0</td>\n      <td>49.0</td>\n      <td>39675.0</td>\n      <td>49203.0</td>\n      <td>31.5</td>\n      <td>...</td>\n      <td>536</td>\n      <td>27735</td>\n      <td>1339</td>\n      <td>130586</td>\n      <td>5307</td>\n      <td>176258</td>\n      <td>7747</td>\n      <td>237106</td>\n      <td>10206</td>\n      <td>4</td>\n    </tr>\n  </tbody>\n</table>\n<p>41746 rows × 36 columns</p>\n</div>"
     },
     "execution_count": 29,
     "metadata": {},
     "output_type": "execute_result"
    }
   ],
   "source": [
    "df"
   ],
   "metadata": {
    "collapsed": false,
    "pycharm": {
     "name": "#%%\n"
    }
   }
  },
  {
   "cell_type": "code",
   "execution_count": 4,
   "outputs": [
    {
     "name": "stderr",
     "output_type": "stream",
     "text": [
      "/Users/nhe/opt/anaconda3/lib/python3.9/site-packages/scipy/__init__.py:146: UserWarning: A NumPy version >=1.16.5 and <1.23.0 is required for this version of SciPy (detected version 1.23.3\n",
      "  warnings.warn(f\"A NumPy version >={np_minversion} and <{np_maxversion}\"\n"
     ]
    }
   ],
   "source": [
    "import numpy as np\n",
    "import matplotlib.pyplot as plt\n",
    "from sklearn.ensemble import RandomForestRegressor"
   ],
   "metadata": {
    "collapsed": false,
    "pycharm": {
     "name": "#%%\n"
    }
   }
  },
  {
   "cell_type": "code",
   "execution_count": 5,
   "outputs": [],
   "source": [
    "x = df.drop(['type', 'weekly_rent'], axis=1)\n",
    "y = df['weekly_rent']"
   ],
   "metadata": {
    "collapsed": false,
    "pycharm": {
     "name": "#%%\n"
    }
   }
  },
  {
   "cell_type": "code",
   "execution_count": 6,
   "outputs": [],
   "source": [
    "regressor = RandomForestRegressor(n_estimators = 500, random_state = 0)"
   ],
   "metadata": {
    "collapsed": false,
    "pycharm": {
     "name": "#%%\n"
    }
   }
  },
  {
   "cell_type": "code",
   "execution_count": 7,
   "outputs": [
    {
     "data": {
      "text/plain": "RandomForestRegressor(n_estimators=500, random_state=0)"
     },
     "execution_count": 7,
     "metadata": {},
     "output_type": "execute_result"
    }
   ],
   "source": [
    "regressor.fit(x, y)"
   ],
   "metadata": {
    "collapsed": false,
    "pycharm": {
     "name": "#%%\n"
    }
   }
  },
  {
   "cell_type": "code",
   "execution_count": 28,
   "outputs": [
    {
     "data": {
      "text/plain": "Index(['bed', 'bath', 'car', 'income_earner', 'income_median_age',\n       'income_median', 'income_mean', 'income_top_10_pct', 'population_total',\n       'population_children', 'population_prime_working', 'population_elderly',\n       'population_early_working', 'population_mature_working',\n       'secondary_school_rank', 'secondary_school_cohort',\n       'proj_population_total', 'proj_population_children',\n       'proj_population_early_working', 'proj_population_prime_working',\n       'proj_population_mature_working', 'proj_population_elderly',\n       'train_n_lines', 'primary_distance', 'primary_duration',\n       'secondary_distance', 'secondary_duration', 'ed_distance',\n       'ed_duration', 'train_distance', 'train_duration', 'melb_distance',\n       'melb_duration', 'type_code'],\n      dtype='object')"
     },
     "execution_count": 28,
     "metadata": {},
     "output_type": "execute_result"
    }
   ],
   "source": [
    "x.columns"
   ],
   "metadata": {
    "collapsed": false,
    "pycharm": {
     "name": "#%%\n"
    }
   }
  },
  {
   "cell_type": "code",
   "execution_count": 16,
   "outputs": [],
   "source": [
    "import numpy as np\n",
    "import pandas as pd\n",
    "from sklearn.datasets import load_boston\n",
    "from sklearn.model_selection import train_test_split\n",
    "from sklearn.ensemble import RandomForestRegressor\n",
    "from sklearn.inspection import permutation_importance\n",
    "from matplotlib import pyplot as plt\n",
    "import numpy as np\n",
    "from sklearn import metrics"
   ],
   "metadata": {
    "collapsed": false,
    "pycharm": {
     "name": "#%%\n"
    }
   }
  },
  {
   "cell_type": "code",
   "execution_count": 17,
   "outputs": [
    {
     "data": {
      "text/plain": "<BarContainer object of 34 artists>"
     },
     "execution_count": 17,
     "metadata": {},
     "output_type": "execute_result"
    },
    {
     "data": {
      "text/plain": "<Figure size 432x288 with 1 Axes>",
      "image/png": "[encoded data removed]"
     },
     "metadata": {
      "needs_background": "light"
     },
     "output_type": "display_data"
    }
   ],
   "source": [
    "plt.barh(x.columns, regressor.feature_importances_)"
   ],
   "metadata": {
    "collapsed": false,
    "pycharm": {
     "name": "#%%\n"
    }
   }
  },
  {
   "cell_type": "code",
   "execution_count": 18,
   "outputs": [
    {
     "data": {
      "text/plain": "Index(['bed', 'bath', 'car', 'income_earner', 'income_median_age',\n       'income_median', 'income_mean', 'income_top_10_pct', 'population_total',\n       'population_children', 'population_prime_working', 'population_elderly',\n       'population_early_working', 'population_mature_working',\n       'secondary_school_rank', 'secondary_school_cohort',\n       'proj_population_total', 'proj_population_children',\n       'proj_population_early_working', 'proj_population_prime_working',\n       'proj_population_mature_working', 'proj_population_elderly',\n       'train_n_lines', 'primary_distance', 'primary_duration',\n       'secondary_distance', 'secondary_duration', 'ed_distance',\n       'ed_duration', 'train_distance', 'train_duration', 'melb_distance',\n       'melb_duration', 'type_code'],\n      dtype='object')"
     },
     "execution_count": 18,
     "metadata": {},
     "output_type": "execute_result"
    }
   ],
   "source": [
    "x.columns"
   ],
   "metadata": {
    "collapsed": false,
    "pycharm": {
     "name": "#%%\n"
    }
   }
  },
  {
   "cell_type": "code",
   "execution_count": 19,
   "outputs": [
    {
     "data": {
      "text/plain": "array([0.09652554, 0.2281775 , 0.01690918, 0.00255287, 0.01147801,\n       0.01087317, 0.17482904, 0.09134151, 0.00161321, 0.00544682,\n       0.00312317, 0.00333896, 0.00264756, 0.00246183, 0.00716118,\n       0.00918214, 0.00199409, 0.00281665, 0.00268723, 0.0041678 ,\n       0.0032049 , 0.00230012, 0.00262098, 0.03318483, 0.02837151,\n       0.02568651, 0.02241116, 0.02771579, 0.02704347, 0.02703596,\n       0.02443321, 0.04489822, 0.03613147, 0.01563444])"
     },
     "execution_count": 19,
     "metadata": {},
     "output_type": "execute_result"
    }
   ],
   "source": [
    "regressor.feature_importances_"
   ],
   "metadata": {
    "collapsed": false,
    "pycharm": {
     "name": "#%%\n"
    }
   }
  },
  {
   "cell_type": "code",
   "execution_count": 20,
   "outputs": [],
   "source": [
    "pd.DataFrame([x.columns, regressor.feature_importances_]).to_csv('../plots/rf_importance.csv')"
   ],
   "metadata": {
    "collapsed": false,
    "pycharm": {
     "name": "#%%\n"
    }
   }
  },
  {
   "cell_type": "code",
   "execution_count": 21,
   "outputs": [],
   "source": [
    "predictions = regressor.predict(x)"
   ],
   "metadata": {
    "collapsed": false,
    "pycharm": {
     "name": "#%%\n"
    }
   }
  },
  {
   "cell_type": "code",
   "execution_count": 22,
   "outputs": [],
   "source": [
    "gt = y.tolist()"
   ],
   "metadata": {
    "collapsed": false,
    "pycharm": {
     "name": "#%%\n"
    }
   }
  },
  {
   "cell_type": "code",
   "execution_count": 23,
   "outputs": [
    {
     "name": "stdout",
     "output_type": "stream",
     "text": [
      "Mean Absolute Error (MAE): 20.9291\n",
      "Mean Squared Error (MSE): 1963.5633\n",
      "Root Mean Squared Error (RMSE): 44.3121\n",
      "Mean Absolute Percentage Error (MAPE): 4.2405\n",
      "Accuracy: 95.7595\n",
      "R-squared: 0.9424\n"
     ]
    }
   ],
   "source": [
    "print('Mean Absolute Error (MAE):', round(metrics.mean_absolute_error(gt, predictions),4))\n",
    "print('Mean Squared Error (MSE):', round(metrics.mean_squared_error(gt, predictions),4))\n",
    "print('Root Mean Squared Error (RMSE):', round(np.sqrt(metrics.mean_squared_error(gt, predictions)),4))\n",
    "mape = np.mean(np.abs((gt - predictions) / np.abs(gt)))\n",
    "print('Mean Absolute Percentage Error (MAPE):', round(mape * 100, 4))\n",
    "print('Accuracy:', round(100*(1 - mape), 4))\n",
    "print('R-squared:', round(metrics.r2_score(gt, predictions),4))"
   ],
   "metadata": {
    "collapsed": false,
    "pycharm": {
     "name": "#%%\n"
    }
   }
  },
  {
   "cell_type": "code",
   "execution_count": 27,
   "outputs": [],
   "source": [
    "with open('../models/rf_regressor', 'wb') as f:\n",
    "    cPickle.dump(regressor, f)"
   ],
   "metadata": {
    "collapsed": false,
    "pycharm": {
     "name": "#%%\n"
    }
   }
  },
  {
   "cell_type": "code",
   "execution_count": 26,
   "outputs": [],
   "source": [
    "import _pickle as cPickle"
   ],
   "metadata": {
    "collapsed": false,
    "pycharm": {
     "name": "#%%\n"
    }
   }
  },
  {
   "cell_type": "code",
   "execution_count": null,
   "outputs": [],
   "source": [],
   "metadata": {
    "collapsed": false,
    "pycharm": {
     "name": "#%%\n"
    }
   }
  }
 ],
 "metadata": {
  "kernelspec": {
   "display_name": "Python 3",
   "language": "python",
   "name": "python3"
  },
  "language_info": {
   "codemirror_mode": {
    "name": "ipython",
    "version": 2
   },
   "file_extension": ".py",
   "mimetype": "text/x-python",
   "name": "python",
   "nbconvert_exporter": "python",
   "pygments_lexer": "ipython2",
   "version": "2.7.6"
  }
 },
 "nbformat": 4,
 "nbformat_minor": 0
}