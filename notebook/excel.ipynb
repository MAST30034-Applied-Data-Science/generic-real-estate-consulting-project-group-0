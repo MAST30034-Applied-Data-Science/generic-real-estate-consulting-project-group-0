{
 "cells": [
  {
   "cell_type": "code",
   "execution_count": 1,
   "outputs": [],
   "source": [
    "import pandas as pd"
   ],
   "metadata": {
    "collapsed": false,
    "pycharm": {
     "name": "#%%\n"
    }
   }
  },
  {
   "cell_type": "code",
   "execution_count": 2,
   "outputs": [],
   "source": [
    "xls = pd.ExcelFile(\"income_distribution.xlsx\")"
   ],
   "metadata": {
    "collapsed": false,
    "pycharm": {
     "name": "#%%\n"
    }
   }
  },
  {
   "cell_type": "code",
   "execution_count": 6,
   "outputs": [
    {
     "data": {
      "text/plain": "['Contents', 'Table 2.1', 'Table 2.2', 'Table 2.3', 'Table 2.4', 'Table 2.5']"
     },
     "execution_count": 6,
     "metadata": {},
     "output_type": "execute_result"
    }
   ],
   "source": [
    "sheets = xls.sheet_names\n",
    "sheets"
   ],
   "metadata": {
    "collapsed": false,
    "pycharm": {
     "name": "#%%\n"
    }
   }
  },
  {
   "cell_type": "code",
   "execution_count": 17,
   "outputs": [],
   "source": [
    "header = [\"SA2\",\"SA2 NAME\",\"Earners\",\"Median age of earners\",\"Sum\",\"Median\",\"Mean\",\"P80/P20\",\"P80/P50\",\"P20/P50\",\"P10/P50\",\"Gini coefficient\",\"Top 1%\",\"Top 5%\",\"Top 10%\",\"Lowest Quartile\",\"Second Quartile\",\"Third Quartile\",\"Highest Quartile\"]"
   ],
   "metadata": {
    "collapsed": false,
    "pycharm": {
     "name": "#%%\n"
    }
   }
  },
  {
   "cell_type": "code",
   "execution_count": 33,
   "outputs": [],
   "source": [
    "sa2 = pd.read_excel(xls, 'Table 2.4')\n",
    "sa2.columns=header"
   ],
   "metadata": {
    "collapsed": false,
    "pycharm": {
     "name": "#%%\n"
    }
   }
  },
  {
   "cell_type": "code",
   "execution_count": 34,
   "outputs": [
    {
     "data": {
      "text/plain": "            SA2             SA2 NAME Earners Median age of earners        Sum  \\\n585   201011001            Alfredton    7989                    42  508645842   \n586   201011002             Ballarat    7595                    47  591465895   \n587   201011003     Ballarat - North   13598                    43  820866354   \n588   201011004     Ballarat - South   12722                    40  646001740   \n589   201011005            Buninyong    4249                    46  268782250   \n...         ...                  ...     ...                   ...        ...   \n1042  217031476                Otway    2360                    51  109617595   \n1043  217041477         Moyne - East    4081                    46  226791976   \n1044  217041478         Moyne - West    5852                    48  325059577   \n1045  217041479  Warrnambool - North   13157                    43  738088967   \n1046  217041480  Warrnambool - South    8052                    44  469001061   \n\n     Median   Mean P80/P20 P80/P50 P20/P50 P10/P50 Gini coefficient Top 1%  \\\n585   53932  63668    4.67    1.79    0.38    0.16            0.434    6.4   \n586   53688  77876    5.76    2.01    0.35    0.14            0.527   11.7   \n587   50593  60367    4.69    1.79    0.38    0.16            0.442    6.9   \n588   45828  50778    4.33    1.69    0.39    0.17            0.408    4.9   \n589   52377  63258    5.68    1.91    0.34    0.12            0.458    6.3   \n...     ...    ...     ...     ...     ...     ...              ...    ...   \n1042  36219  46448    5.79    1.94    0.34    0.12            0.502    8.1   \n1043  46071  55573    4.72    1.77    0.38    0.14             0.49    9.9   \n1044  45256  55547     4.9    1.86    0.38    0.16            0.467    7.8   \n1045  48855  56099    4.39    1.71    0.39    0.18            0.424    6.1   \n1046  47242  58247    4.24    1.74    0.41    0.18            0.454     10   \n\n     Top 5% Top 10% Lowest Quartile Second Quartile Third Quartile  \\\n585    18.2    28.7            23.2            24.4           26.4   \n586      27    38.4            25.2            22.8             22   \n587    18.7    29.3            24.5            26.3           26.3   \n588    15.7    26.1            26.5              30             28   \n589    18.3    29.3            26.6            22.5           22.5   \n...     ...     ...             ...             ...            ...   \n1042   21.4    33.2            35.4            30.2             21   \n1043   22.3    32.9            27.6            28.2           26.2   \n1044   20.3    31.1            28.5            27.5           25.1   \n1045   17.7    28.1            25.4            27.5           28.2   \n1046   21.8    31.9              25            29.6             27   \n\n     Highest Quartile  \n585                26  \n586                30  \n587              22.8  \n588              15.4  \n589              28.3  \n...               ...  \n1042             13.4  \n1043               18  \n1044               19  \n1045             18.8  \n1046             18.4  \n\n[462 rows x 19 columns]",
      "text/html": "<div>\n<style scoped>\n    .dataframe tbody tr th:only-of-type {\n        vertical-align: middle;\n    }\n\n    .dataframe tbody tr th {\n        vertical-align: top;\n    }\n\n    .dataframe thead th {\n        text-align: right;\n    }\n</style>\n<table border=\"1\" class=\"dataframe\">\n  <thead>\n    <tr style=\"text-align: right;\">\n      <th></th>\n      <th>SA2</th>\n      <th>SA2 NAME</th>\n      <th>Earners</th>\n      <th>Median age of earners</th>\n      <th>Sum</th>\n      <th>Median</th>\n      <th>Mean</th>\n      <th>P80/P20</th>\n      <th>P80/P50</th>\n      <th>P20/P50</th>\n      <th>P10/P50</th>\n      <th>Gini coefficient</th>\n      <th>Top 1%</th>\n      <th>Top 5%</th>\n      <th>Top 10%</th>\n      <th>Lowest Quartile</th>\n      <th>Second Quartile</th>\n      <th>Third Quartile</th>\n      <th>Highest Quartile</th>\n    </tr>\n  </thead>\n  <tbody>\n    <tr>\n      <th>585</th>\n      <td>201011001</td>\n      <td>Alfredton</td>\n      <td>7989</td>\n      <td>42</td>\n      <td>508645842</td>\n      <td>53932</td>\n      <td>63668</td>\n      <td>4.67</td>\n      <td>1.79</td>\n      <td>0.38</td>\n      <td>0.16</td>\n      <td>0.434</td>\n      <td>6.4</td>\n      <td>18.2</td>\n      <td>28.7</td>\n      <td>23.2</td>\n      <td>24.4</td>\n      <td>26.4</td>\n      <td>26</td>\n    </tr>\n    <tr>\n      <th>586</th>\n      <td>201011002</td>\n      <td>Ballarat</td>\n      <td>7595</td>\n      <td>47</td>\n      <td>591465895</td>\n      <td>53688</td>\n      <td>77876</td>\n      <td>5.76</td>\n      <td>2.01</td>\n      <td>0.35</td>\n      <td>0.14</td>\n      <td>0.527</td>\n      <td>11.7</td>\n      <td>27</td>\n      <td>38.4</td>\n      <td>25.2</td>\n      <td>22.8</td>\n      <td>22</td>\n      <td>30</td>\n    </tr>\n    <tr>\n      <th>587</th>\n      <td>201011003</td>\n      <td>Ballarat - North</td>\n      <td>13598</td>\n      <td>43</td>\n      <td>820866354</td>\n      <td>50593</td>\n      <td>60367</td>\n      <td>4.69</td>\n      <td>1.79</td>\n      <td>0.38</td>\n      <td>0.16</td>\n      <td>0.442</td>\n      <td>6.9</td>\n      <td>18.7</td>\n      <td>29.3</td>\n      <td>24.5</td>\n      <td>26.3</td>\n      <td>26.3</td>\n      <td>22.8</td>\n    </tr>\n    <tr>\n      <th>588</th>\n      <td>201011004</td>\n      <td>Ballarat - South</td>\n      <td>12722</td>\n      <td>40</td>\n      <td>646001740</td>\n      <td>45828</td>\n      <td>50778</td>\n      <td>4.33</td>\n      <td>1.69</td>\n      <td>0.39</td>\n      <td>0.17</td>\n      <td>0.408</td>\n      <td>4.9</td>\n      <td>15.7</td>\n      <td>26.1</td>\n      <td>26.5</td>\n      <td>30</td>\n      <td>28</td>\n      <td>15.4</td>\n    </tr>\n    <tr>\n      <th>589</th>\n      <td>201011005</td>\n      <td>Buninyong</td>\n      <td>4249</td>\n      <td>46</td>\n      <td>268782250</td>\n      <td>52377</td>\n      <td>63258</td>\n      <td>5.68</td>\n      <td>1.91</td>\n      <td>0.34</td>\n      <td>0.12</td>\n      <td>0.458</td>\n      <td>6.3</td>\n      <td>18.3</td>\n      <td>29.3</td>\n      <td>26.6</td>\n      <td>22.5</td>\n      <td>22.5</td>\n      <td>28.3</td>\n    </tr>\n    <tr>\n      <th>...</th>\n      <td>...</td>\n      <td>...</td>\n      <td>...</td>\n      <td>...</td>\n      <td>...</td>\n      <td>...</td>\n      <td>...</td>\n      <td>...</td>\n      <td>...</td>\n      <td>...</td>\n      <td>...</td>\n      <td>...</td>\n      <td>...</td>\n      <td>...</td>\n      <td>...</td>\n      <td>...</td>\n      <td>...</td>\n      <td>...</td>\n      <td>...</td>\n    </tr>\n    <tr>\n      <th>1042</th>\n      <td>217031476</td>\n      <td>Otway</td>\n      <td>2360</td>\n      <td>51</td>\n      <td>109617595</td>\n      <td>36219</td>\n      <td>46448</td>\n      <td>5.79</td>\n      <td>1.94</td>\n      <td>0.34</td>\n      <td>0.12</td>\n      <td>0.502</td>\n      <td>8.1</td>\n      <td>21.4</td>\n      <td>33.2</td>\n      <td>35.4</td>\n      <td>30.2</td>\n      <td>21</td>\n      <td>13.4</td>\n    </tr>\n    <tr>\n      <th>1043</th>\n      <td>217041477</td>\n      <td>Moyne - East</td>\n      <td>4081</td>\n      <td>46</td>\n      <td>226791976</td>\n      <td>46071</td>\n      <td>55573</td>\n      <td>4.72</td>\n      <td>1.77</td>\n      <td>0.38</td>\n      <td>0.14</td>\n      <td>0.49</td>\n      <td>9.9</td>\n      <td>22.3</td>\n      <td>32.9</td>\n      <td>27.6</td>\n      <td>28.2</td>\n      <td>26.2</td>\n      <td>18</td>\n    </tr>\n    <tr>\n      <th>1044</th>\n      <td>217041478</td>\n      <td>Moyne - West</td>\n      <td>5852</td>\n      <td>48</td>\n      <td>325059577</td>\n      <td>45256</td>\n      <td>55547</td>\n      <td>4.9</td>\n      <td>1.86</td>\n      <td>0.38</td>\n      <td>0.16</td>\n      <td>0.467</td>\n      <td>7.8</td>\n      <td>20.3</td>\n      <td>31.1</td>\n      <td>28.5</td>\n      <td>27.5</td>\n      <td>25.1</td>\n      <td>19</td>\n    </tr>\n    <tr>\n      <th>1045</th>\n      <td>217041479</td>\n      <td>Warrnambool - North</td>\n      <td>13157</td>\n      <td>43</td>\n      <td>738088967</td>\n      <td>48855</td>\n      <td>56099</td>\n      <td>4.39</td>\n      <td>1.71</td>\n      <td>0.39</td>\n      <td>0.18</td>\n      <td>0.424</td>\n      <td>6.1</td>\n      <td>17.7</td>\n      <td>28.1</td>\n      <td>25.4</td>\n      <td>27.5</td>\n      <td>28.2</td>\n      <td>18.8</td>\n    </tr>\n    <tr>\n      <th>1046</th>\n      <td>217041480</td>\n      <td>Warrnambool - South</td>\n      <td>8052</td>\n      <td>44</td>\n      <td>469001061</td>\n      <td>47242</td>\n      <td>58247</td>\n      <td>4.24</td>\n      <td>1.74</td>\n      <td>0.41</td>\n      <td>0.18</td>\n      <td>0.454</td>\n      <td>10</td>\n      <td>21.8</td>\n      <td>31.9</td>\n      <td>25</td>\n      <td>29.6</td>\n      <td>27</td>\n      <td>18.4</td>\n    </tr>\n  </tbody>\n</table>\n<p>462 rows × 19 columns</p>\n</div>"
     },
     "execution_count": 34,
     "metadata": {},
     "output_type": "execute_result"
    }
   ],
   "source": [
    "sa2 = sa2.iloc[585:1047,:]\n",
    "sa2"
   ],
   "metadata": {
    "collapsed": false,
    "pycharm": {
     "name": "#%%\n"
    }
   }
  },
  {
   "cell_type": "code",
   "execution_count": 36,
   "outputs": [],
   "source": [
    "sa2.to_csv('saved_sa2.csv')"
   ],
   "metadata": {
    "collapsed": false,
    "pycharm": {
     "name": "#%%\n"
    }
   }
  },
  {
   "cell_type": "code",
   "execution_count": 35,
   "outputs": [
    {
     "data": {
      "text/plain": "\"sa2['SA2']=pd.to_numeric(sa2['SA2'],'coerce')\\nsa2 = sa2.dropna()\\nsa2\""
     },
     "execution_count": 35,
     "metadata": {},
     "output_type": "execute_result"
    }
   ],
   "source": [
    "# Get all data\n",
    "'''sa2['SA2']=pd.to_numeric(sa2['SA2'],'coerce')\n",
    "sa2 = sa2.dropna()\n",
    "sa2'''"
   ],
   "metadata": {
    "collapsed": false,
    "pycharm": {
     "name": "#%%\n"
    }
   }
  },
  {
   "cell_type": "code",
   "execution_count": null,
   "outputs": [],
   "source": [],
   "metadata": {
    "collapsed": false,
    "pycharm": {
     "name": "#%%\n"
    }
   }
  }
 ],
 "metadata": {
  "kernelspec": {
   "display_name": "Python 3",
   "language": "python",
   "name": "python3"
  },
  "language_info": {
   "codemirror_mode": {
    "name": "ipython",
    "version": 2
   },
   "file_extension": ".py",
   "mimetype": "text/x-python",
   "name": "python",
   "nbconvert_exporter": "python",
   "pygments_lexer": "ipython2",
   "version": "2.7.6"
  }
 },
 "nbformat": 4,
 "nbformat_minor": 0
}
