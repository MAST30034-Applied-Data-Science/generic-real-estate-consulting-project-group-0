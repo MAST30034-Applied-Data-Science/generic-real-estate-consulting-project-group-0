{
 "cells": [
  {
   "cell_type": "code",
   "execution_count": 1,
   "metadata": {},
   "outputs": [
    {
     "name": "stderr",
     "output_type": "stream",
     "text": [
      "100%|██████████| 2311472/2311472 [01:25<00:00, 27161.03it/s]\n",
      "100%|██████████| 1046352/1046352 [00:00<00:00, 1673815.21it/s]\n",
      "100%|██████████| 554719/554719 [00:00<00:00, 719660.02it/s]\n"
     ]
    },
    {
     "ename": "NameError",
     "evalue": "name 'rate_growth_d' is not defined",
     "output_type": "error",
     "traceback": [
      "\u001b[0;31m---------------------------------------------------------------------------\u001b[0m",
      "\u001b[0;31mNameError\u001b[0m                                 Traceback (most recent call last)",
      "\u001b[0;32m<ipython-input-1-838a95929c25>\u001b[0m in \u001b[0;36m<module>\u001b[0;34m\u001b[0m\n\u001b[1;32m    102\u001b[0m                 \u001b[0mpast_price_d\u001b[0m\u001b[0;34m[\u001b[0m\u001b[0maddress\u001b[0m\u001b[0;34m]\u001b[0m\u001b[0;34m[\u001b[0m\u001b[0mj\u001b[0m\u001b[0;34m]\u001b[0m \u001b[0;34m=\u001b[0m \u001b[0mduplicate_d\u001b[0m\u001b[0;34m[\u001b[0m\u001b[0maddress\u001b[0m\u001b[0;34m]\u001b[0m\u001b[0;34m[\u001b[0m\u001b[0mi\u001b[0m\u001b[0;34m]\u001b[0m\u001b[0;34m;\u001b[0m\u001b[0;34m\u001b[0m\u001b[0;34m\u001b[0m\u001b[0m\n\u001b[1;32m    103\u001b[0m \u001b[0;34m\u001b[0m\u001b[0m\n\u001b[0;32m--> 104\u001b[0;31m \u001b[0mkey_l\u001b[0m \u001b[0;34m=\u001b[0m \u001b[0mlist\u001b[0m\u001b[0;34m(\u001b[0m\u001b[0mrate_growth_d\u001b[0m\u001b[0;34m.\u001b[0m\u001b[0mkeys\u001b[0m\u001b[0;34m(\u001b[0m\u001b[0;34m)\u001b[0m\u001b[0;34m)\u001b[0m\u001b[0;34m;\u001b[0m\u001b[0;34m\u001b[0m\u001b[0;34m\u001b[0m\u001b[0m\n\u001b[0m\u001b[1;32m    105\u001b[0m \u001b[0;34m\u001b[0m\u001b[0m\n\u001b[1;32m    106\u001b[0m \u001b[0mvicy_df\u001b[0m\u001b[0;34m[\u001b[0m\u001b[0;34m\"rent_yminthree\"\u001b[0m\u001b[0;34m]\u001b[0m \u001b[0;34m=\u001b[0m \u001b[0mvicy_df\u001b[0m\u001b[0;34m.\u001b[0m\u001b[0mapply\u001b[0m\u001b[0;34m(\u001b[0m\u001b[0;32mlambda\u001b[0m \u001b[0mrow\u001b[0m \u001b[0;34m:\u001b[0m \u001b[0mpast_price\u001b[0m\u001b[0;34m(\u001b[0m\u001b[0mpast_price_d\u001b[0m\u001b[0;34m,\u001b[0m\u001b[0mrow\u001b[0m\u001b[0;34m.\u001b[0m\u001b[0maddress_processed\u001b[0m\u001b[0;34m,\u001b[0m\u001b[0mrow\u001b[0m\u001b[0;34m.\u001b[0m\u001b[0myear\u001b[0m\u001b[0;34m)\u001b[0m\u001b[0;34m,\u001b[0m\u001b[0maxis\u001b[0m\u001b[0;34m=\u001b[0m\u001b[0;36m1\u001b[0m\u001b[0;34m)\u001b[0m\u001b[0;34m\u001b[0m\u001b[0;34m\u001b[0m\u001b[0m\n",
      "\u001b[0;31mNameError\u001b[0m: name 'rate_growth_d' is not defined"
     ]
    }
   ],
   "source": [
    "import csv \n",
    "\n",
    "\n",
    "import csv\n",
    "import re\n",
    "import calendar\n",
    "\n",
    "from tqdm import tqdm\n",
    "\n",
    "\n",
    "def save_csv(path,columns,tpl):\n",
    "        \n",
    "    with open(path,'w') as out:\n",
    "        csv_out=csv.writer(out)\n",
    "        csv_out.writerow(columns)\n",
    "        csv_out.writerow(tpl)\n",
    "        \n",
    "def update_csv(path,tpl):\n",
    "    with open(path,'a') as out:\n",
    "        csv_out=csv.writer(out)\n",
    "        csv_out.writerow(tpl)\n",
    "        \n",
    "\n",
    "\n",
    "def process_address(txt):\n",
    "    x = re.findall(r\"[\\w]+|[&,/#-]+\", txt)\n",
    "    #x = list(filter(lambda a: a != '', x))\n",
    "    x =  list(filter(lambda a: a != 'amp', x))\n",
    "    out = ' '.join(x)\n",
    "    return out;\n",
    "\n",
    "def past_price(past_price_d,address,year):\n",
    "    \n",
    "    try: return past_price_d[address][year];\n",
    "    except: return float('nan');\n",
    "\n",
    "vic_df = pd.read_csv('processed.csv');\n",
    "\n",
    "\n",
    "#month_to_num_d = {month: index for index, month in enumerate(calendar.month_name) if month};\n",
    "\n",
    "vic_df['address_processed'] = vic_df['address'].apply(lambda x : process_address(x))\n",
    "vicy_df = vic_df.groupby([\"address_processed\",\"year\",\"type_1\",\"code\",\"suburb\",\"car\",\"bath\",\"bed\"]).mean().reset_index()\n",
    "\n",
    "vic_essential_df = vicy_df[['address_processed','year','rent_pw']];\n",
    "\n",
    "duplicate_d = {}\n",
    "\n",
    "total = len(vic_essential_df);\n",
    "\n",
    "with tqdm(total=total) as pbar:\n",
    "    \n",
    "\n",
    "    for index, row in vic_essential_df.iterrows():\n",
    "        address = row[\"address_processed\"]\n",
    "        year = row[\"year\"];\n",
    "        rent = row[\"rent_pw\"];\n",
    "    \n",
    "        try:duplicate_d[address][year] = rent;\n",
    "        except: \n",
    "            duplicate_d[address] ={};\n",
    "            duplicate_d[address][year] = rent;\n",
    "            \n",
    "        pbar.update(1)\n",
    "        \n",
    "key_l = list(duplicate_d.keys())\n",
    "total = len(key_l);\n",
    "\n",
    "for i in tqdm(range(total)):\n",
    "    \n",
    "    if len(duplicate_d[key_l[i]]) ==1:\n",
    "        \n",
    "        del duplicate_d[key_l[i]]\n",
    "\n",
    "key_l = list(duplicate_d.keys())\n",
    "total = len(key_l);\n",
    "\n",
    "past_price_d = {}\n",
    "\n",
    "for i in tqdm(range(total)):\n",
    "\n",
    "    address = key_l[i];\n",
    "    year_l = list(duplicate_d[address].keys());\n",
    "    \n",
    "    for i, j in zip(year_l[:-1], year_l[1:]):\n",
    "        \n",
    "        if j-i == 3:\n",
    "            \n",
    "            \n",
    "            try: past_price_d[address][j] = duplicate_d[address][i];\n",
    "            except:\n",
    "                past_price_d[address] ={};\n",
    "                past_price_d[address][j] = duplicate_d[address][i];\n",
    "                \n",
    "#key_l = list(past_price_d.keys());\n",
    "\n",
    "vicy_df[\"rent_yminthree\"] = vicy_df.apply(lambda row : past_price(past_price_d,row.address_processed,row.year),axis=1)\n",
    "vicy_past_df = vicy_df[vicy_df[\"rent_yminthree\"].notna()]"
   ]
  },
  {
   "cell_type": "code",
   "execution_count": 11,
   "metadata": {},
   "outputs": [],
   "source": [
    "vicy_past_df.reset_index().drop(columns = ['index']).to_csv(\"rentminthree.csv\",index=False)"
   ]
  },
  {
   "cell_type": "code",
   "execution_count": null,
   "metadata": {},
   "outputs": [],
   "source": []
  },
  {
   "cell_type": "code",
   "execution_count": 11,
   "metadata": {},
   "outputs": [
    {
     "data": {
      "text/plain": [
       "7328"
      ]
     },
     "execution_count": 11,
     "metadata": {},
     "output_type": "execute_result"
    }
   ],
   "source": [
    "geocode_df = pd.read_csv('geocode.csv');\n",
    "coded_df = vic_df.join(geocode_df.set_index('address'), on='address');\n",
    "fullycoded_df = coded_df[~coded_df['full_address'].isnull()];\n",
    "len(fullycoded_df)"
   ]
  },
  {
   "cell_type": "code",
   "execution_count": 10,
   "metadata": {},
   "outputs": [],
   "source": []
  },
  {
   "cell_type": "code",
   "execution_count": null,
   "metadata": {},
   "outputs": [],
   "source": []
  }
 ],
 "metadata": {
  "kernelspec": {
   "display_name": "Python 3",
   "language": "python",
   "name": "python3"
  },
  "language_info": {
   "codemirror_mode": {
    "name": "ipython",
    "version": 3
   },
   "file_extension": ".py",
   "mimetype": "text/x-python",
   "name": "python",
   "nbconvert_exporter": "python",
   "pygments_lexer": "ipython3",
   "version": "3.8.5"
  }
 },
 "nbformat": 4,
 "nbformat_minor": 4
}
