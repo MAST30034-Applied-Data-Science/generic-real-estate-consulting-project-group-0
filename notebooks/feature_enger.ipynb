{
 "cells": [
  {
   "cell_type": "markdown",
   "source": [
    "Feature engineering"
   ],
   "metadata": {
    "collapsed": false
   }
  },
  {
   "cell_type": "code",
   "execution_count": 185,
   "metadata": {
    "collapsed": true
   },
   "outputs": [
    {
     "name": "stderr",
     "output_type": "stream",
     "text": [
      "/Users/nhe/opt/anaconda3/lib/python3.9/site-packages/geopandas/_compat.py:112: UserWarning: The Shapely GEOS version (3.10.2-CAPI-1.16.0) is incompatible with the GEOS version PyGEOS was compiled with (3.10.1-CAPI-1.16.0). Conversions between both will be slow.\n",
      "  warnings.warn(\n"
     ]
    }
   ],
   "source": [
    "import pandas as pd\n",
    "import numpy as np\n",
    "from tqdm import tqdm\n",
    "import geopy\n",
    "import collections\n",
    "import geopandas as gpd\n",
    "from scipy.spatial.distance import cdist"
   ]
  },
  {
   "cell_type": "code",
   "execution_count": 74,
   "outputs": [
    {
     "data": {
      "text/plain": "   bed  bath  car   type                        address      suburb  code  \\\n0    3     1    2    AUF     . GLYNDON ROAD, CAMBERWELL  Camberwell  3124   \n1    3     1    2    AUF     . GLYNDON ROAD, CAMBERWELL  Camberwell  3124   \n2    3     1    2    AUF     . GLYNDON ROAD, CAMBERWELL  Camberwell  3124   \n3    3     1    2  House  .97 HUNTINGDALE ROAD, ASHWOOD     Ashwood  3147   \n4    3     1    2  House  .97 HUNTINGDALE ROAD, ASHWOOD     Ashwood  3147   \n\n                                                 url  \\\n0  https://www.oldlistings.com.au/real-estate/VIC...   \n1  https://www.oldlistings.com.au/real-estate/VIC...   \n2  https://www.oldlistings.com.au/real-estate/VIC...   \n3  https://www.oldlistings.com.au/real-estate/VIC...   \n4  https://www.oldlistings.com.au/real-estate/VIC...   \n\n                                         loc_address        lat         lon  \\\n0  Glyndon Road, Camberwell, Melbourne, City of B... -37.836230  145.079003   \n1  Glyndon Road, Camberwell, Melbourne, City of B... -37.836230  145.079003   \n2  Glyndon Road, Camberwell, Melbourne, City of B... -37.836230  145.079003   \n3  Huntingdale Road, Ashwood, Melbourne, City of ... -37.864211  145.112405   \n4  Huntingdale Road, Ashwood, Melbourne, City of ... -37.864211  145.112405   \n\n   weekly_rent   list_date  \n0        525.0  2022-08-01  \n1        349.0  2022-07-01  \n2        375.0  2022-04-01  \n3        430.0  2021-02-01  \n4        450.0  2021-02-01  ",
      "text/html": "<div>\n<style scoped>\n    .dataframe tbody tr th:only-of-type {\n        vertical-align: middle;\n    }\n\n    .dataframe tbody tr th {\n        vertical-align: top;\n    }\n\n    .dataframe thead th {\n        text-align: right;\n    }\n</style>\n<table border=\"1\" class=\"dataframe\">\n  <thead>\n    <tr style=\"text-align: right;\">\n      <th></th>\n      <th>bed</th>\n      <th>bath</th>\n      <th>car</th>\n      <th>type</th>\n      <th>address</th>\n      <th>suburb</th>\n      <th>code</th>\n      <th>url</th>\n      <th>loc_address</th>\n      <th>lat</th>\n      <th>lon</th>\n      <th>weekly_rent</th>\n      <th>list_date</th>\n    </tr>\n  </thead>\n  <tbody>\n    <tr>\n      <th>0</th>\n      <td>3</td>\n      <td>1</td>\n      <td>2</td>\n      <td>AUF</td>\n      <td>. GLYNDON ROAD, CAMBERWELL</td>\n      <td>Camberwell</td>\n      <td>3124</td>\n      <td>https://www.oldlistings.com.au/real-estate/VIC...</td>\n      <td>Glyndon Road, Camberwell, Melbourne, City of B...</td>\n      <td>-37.836230</td>\n      <td>145.079003</td>\n      <td>525.0</td>\n      <td>2022-08-01</td>\n    </tr>\n    <tr>\n      <th>1</th>\n      <td>3</td>\n      <td>1</td>\n      <td>2</td>\n      <td>AUF</td>\n      <td>. GLYNDON ROAD, CAMBERWELL</td>\n      <td>Camberwell</td>\n      <td>3124</td>\n      <td>https://www.oldlistings.com.au/real-estate/VIC...</td>\n      <td>Glyndon Road, Camberwell, Melbourne, City of B...</td>\n      <td>-37.836230</td>\n      <td>145.079003</td>\n      <td>349.0</td>\n      <td>2022-07-01</td>\n    </tr>\n    <tr>\n      <th>2</th>\n      <td>3</td>\n      <td>1</td>\n      <td>2</td>\n      <td>AUF</td>\n      <td>. GLYNDON ROAD, CAMBERWELL</td>\n      <td>Camberwell</td>\n      <td>3124</td>\n      <td>https://www.oldlistings.com.au/real-estate/VIC...</td>\n      <td>Glyndon Road, Camberwell, Melbourne, City of B...</td>\n      <td>-37.836230</td>\n      <td>145.079003</td>\n      <td>375.0</td>\n      <td>2022-04-01</td>\n    </tr>\n    <tr>\n      <th>3</th>\n      <td>3</td>\n      <td>1</td>\n      <td>2</td>\n      <td>House</td>\n      <td>.97 HUNTINGDALE ROAD, ASHWOOD</td>\n      <td>Ashwood</td>\n      <td>3147</td>\n      <td>https://www.oldlistings.com.au/real-estate/VIC...</td>\n      <td>Huntingdale Road, Ashwood, Melbourne, City of ...</td>\n      <td>-37.864211</td>\n      <td>145.112405</td>\n      <td>430.0</td>\n      <td>2021-02-01</td>\n    </tr>\n    <tr>\n      <th>4</th>\n      <td>3</td>\n      <td>1</td>\n      <td>2</td>\n      <td>House</td>\n      <td>.97 HUNTINGDALE ROAD, ASHWOOD</td>\n      <td>Ashwood</td>\n      <td>3147</td>\n      <td>https://www.oldlistings.com.au/real-estate/VIC...</td>\n      <td>Huntingdale Road, Ashwood, Melbourne, City of ...</td>\n      <td>-37.864211</td>\n      <td>145.112405</td>\n      <td>450.0</td>\n      <td>2021-02-01</td>\n    </tr>\n  </tbody>\n</table>\n</div>"
     },
     "execution_count": 74,
     "metadata": {},
     "output_type": "execute_result"
    }
   ],
   "source": [
    "# read in the scraped and pre-processed past listing data\n",
    "files_dire = '../data/curated/'\n",
    "df = pd.read_csv(f'{files_dire}/processed_listing.csv').iloc[: , 1:]\n",
    "# sort the dataframe so the same property are followed with sorted list date\n",
    "df = df.sort_values(['address', 'list_date'], ascending=[True, False]).reset_index().iloc[:,1:]\n",
    "df.head()"
   ],
   "metadata": {
    "collapsed": false,
    "pycharm": {
     "name": "#%%\n"
    }
   }
  },
  {
   "cell_type": "code",
   "execution_count": 75,
   "outputs": [
    {
     "data": {
      "text/plain": "303640"
     },
     "execution_count": 75,
     "metadata": {},
     "output_type": "execute_result"
    }
   ],
   "source": [
    "# original size of the dataframe\n",
    "len(df)"
   ],
   "metadata": {
    "collapsed": false,
    "pycharm": {
     "name": "#%%\n"
    }
   }
  },
  {
   "cell_type": "code",
   "execution_count": 76,
   "outputs": [],
   "source": [
    "# convert the date to a date format as it cannot be auto recognised by Pandas\n",
    "df['list_date'] = df['list_date'].apply(pd.to_datetime)\n",
    "# remove the data that has not been listed in 2021 or 2022\n",
    "addresses = df.loc[df['list_date'].dt.year == 2022]['address'].tolist()\n",
    "addresses = df.loc[df['list_date'].dt.year == 2021]['address'].tolist() + addresses\n",
    "addresses = list(set(addresses))"
   ],
   "metadata": {
    "collapsed": false,
    "pycharm": {
     "name": "#%%\n"
    }
   }
  },
  {
   "cell_type": "code",
   "execution_count": null,
   "outputs": [],
   "source": [
    "len(addresses)"
   ],
   "metadata": {
    "collapsed": false,
    "pycharm": {
     "name": "#%%\n"
    }
   }
  },
  {
   "cell_type": "code",
   "execution_count": 77,
   "outputs": [
    {
     "data": {
      "text/plain": "198426"
     },
     "execution_count": 77,
     "metadata": {},
     "output_type": "execute_result"
    }
   ],
   "source": [
    "# size of the reduced dataframe\n",
    "df = df.loc[df['address'].isin(addresses)]\n",
    "len(df)"
   ],
   "metadata": {
    "collapsed": false,
    "pycharm": {
     "name": "#%%\n"
    }
   }
  },
  {
   "cell_type": "code",
   "execution_count": 78,
   "outputs": [],
   "source": [
    "# store the number of entries for the loop below\n",
    "n_rows = len(df)"
   ],
   "metadata": {
    "collapsed": false,
    "pycharm": {
     "name": "#%%\n"
    }
   }
  },
  {
   "cell_type": "code",
   "execution_count": 79,
   "outputs": [
    {
     "data": {
      "text/plain": "52904"
     },
     "execution_count": 79,
     "metadata": {},
     "output_type": "execute_result"
    }
   ],
   "source": [
    "# print the number of unique properties to have a rough idea\n",
    "len(addresses)"
   ],
   "metadata": {
    "collapsed": false,
    "pycharm": {
     "name": "#%%\n"
    }
   }
  },
  {
   "cell_type": "code",
   "execution_count": 80,
   "outputs": [
    {
     "data": {
      "text/plain": "   bed  bath  car type                     address      suburb  code  \\\n0    3     1    2  AUF  . GLYNDON ROAD, CAMBERWELL  Camberwell  3124   \n\n                                                 url  \\\n0  https://www.oldlistings.com.au/real-estate/VIC...   \n\n                                         loc_address       lat         lon  \\\n0  Glyndon Road, Camberwell, Melbourne, City of B... -37.83623  145.079003   \n\n   weekly_rent  list_date list_history  \n0        525.0 2022-08-01               ",
      "text/html": "<div>\n<style scoped>\n    .dataframe tbody tr th:only-of-type {\n        vertical-align: middle;\n    }\n\n    .dataframe tbody tr th {\n        vertical-align: top;\n    }\n\n    .dataframe thead th {\n        text-align: right;\n    }\n</style>\n<table border=\"1\" class=\"dataframe\">\n  <thead>\n    <tr style=\"text-align: right;\">\n      <th></th>\n      <th>bed</th>\n      <th>bath</th>\n      <th>car</th>\n      <th>type</th>\n      <th>address</th>\n      <th>suburb</th>\n      <th>code</th>\n      <th>url</th>\n      <th>loc_address</th>\n      <th>lat</th>\n      <th>lon</th>\n      <th>weekly_rent</th>\n      <th>list_date</th>\n      <th>list_history</th>\n    </tr>\n  </thead>\n  <tbody>\n    <tr>\n      <th>0</th>\n      <td>3</td>\n      <td>1</td>\n      <td>2</td>\n      <td>AUF</td>\n      <td>. GLYNDON ROAD, CAMBERWELL</td>\n      <td>Camberwell</td>\n      <td>3124</td>\n      <td>https://www.oldlistings.com.au/real-estate/VIC...</td>\n      <td>Glyndon Road, Camberwell, Melbourne, City of B...</td>\n      <td>-37.83623</td>\n      <td>145.079003</td>\n      <td>525.0</td>\n      <td>2022-08-01</td>\n      <td></td>\n    </tr>\n  </tbody>\n</table>\n</div>"
     },
     "execution_count": 80,
     "metadata": {},
     "output_type": "execute_result"
    }
   ],
   "source": [
    "# copy the first row of the dataframe to df2\n",
    "# df2 will only store each property per row to replace the prvious dataframe\n",
    "df2 = df.iloc[0:1,:]\n",
    "# listing history will be stored in a new column as a list with the format of [date difference in years, price difference]\n",
    "df2 = df2.assign(list_history = '')\n",
    "df2.head()"
   ],
   "metadata": {
    "collapsed": false,
    "pycharm": {
     "name": "#%%\n"
    }
   }
  },
  {
   "cell_type": "code",
   "execution_count": 81,
   "outputs": [],
   "source": [
    "# initialise for loop variables\n",
    "n_property = 0\n",
    "past_listing = []\n",
    "list_date = df.iloc[0]['list_date']\n",
    "list_price = df.iloc[0]['weekly_rent']"
   ],
   "metadata": {
    "collapsed": false,
    "pycharm": {
     "name": "#%%\n"
    }
   }
  },
  {
   "cell_type": "code",
   "execution_count": 82,
   "outputs": [
    {
     "name": "stderr",
     "output_type": "stream",
     "text": [
      "100%|██████████| 198425/198425 [03:53<00:00, 851.35it/s]\n"
     ]
    }
   ],
   "source": [
    "# run through all entries in the initial dataframe\n",
    "for i in tqdm(range(1, n_rows)):\n",
    "    # if the following row mataches with the previous one\n",
    "    # calculate the date and price difference\n",
    "    if df.iloc[i]['address'] == df2.iloc[n_property]['address']:\n",
    "        days = (df.iloc[i]['list_date'] - list_date)/ np.timedelta64(1, 'Y')\n",
    "        list_date = df.iloc[i]['list_date']\n",
    "        price = list_price - df.iloc[i]['weekly_rent']\n",
    "        list_price = df.iloc[i]['weekly_rent']\n",
    "        if days != 0:\n",
    "            temp = [days, price]\n",
    "            past_listing.append(temp)\n",
    "    # if the address is different (different property)\n",
    "    # the past listings are stored\n",
    "    else:\n",
    "        df2.at[n_property, 'list_history'] = past_listing\n",
    "        n_property += 1\n",
    "        df2.loc[n_property] = df.iloc[i]\n",
    "        past_listing = []\n",
    "# manually store the last record\n",
    "df2.at[n_property, 'list_history'] = past_listing"
   ],
   "metadata": {
    "collapsed": false,
    "pycharm": {
     "name": "#%%\n"
    }
   }
  },
  {
   "cell_type": "code",
   "execution_count": 83,
   "outputs": [],
   "source": [
    "# a new column to store the number of times that the property has been listed for lease\n",
    "df2['list_count'] = df2['list_history'].str.len()"
   ],
   "metadata": {
    "collapsed": false,
    "pycharm": {
     "name": "#%%\n"
    }
   }
  },
  {
   "cell_type": "code",
   "execution_count": 84,
   "outputs": [],
   "source": [
    "# rename the column for legibility\n",
    "df2 = df2.rename(columns={'code': 'postcode'}, errors=\"coerce\")\n",
    "# this file is stored to share with other group members\n",
    "# df2.to_csv('../data/curated/processed_listing_combined.csv')"
   ],
   "metadata": {
    "collapsed": false,
    "pycharm": {
     "name": "#%%\n"
    }
   }
  },
  {
   "cell_type": "code",
   "execution_count": 85,
   "outputs": [
    {
     "data": {
      "text/plain": "    bed  bath  car       type  \\\n0     3     1    2        AUF   \n1     3     1    2      House   \n2     3     1    1      House   \n3     2     1    1        AUF   \n4     1     1    1        AUF   \n5     2     1    1        AUF   \n6     2     1    1        NaN   \n7     2     1    1        NaN   \n8     2     1    1        NaN   \n9     3     2    2        NaN   \n10    3     2    2        NaN   \n11    1     1    1        NaN   \n12    2     1    1        NaN   \n13    2     1    1        AUF   \n14    2     1    2        NaN   \n15    2     1    1        AUF   \n16    2     1    1        NaN   \n17    2     2    1        NaN   \n18    4     3    2  Townhouse   \n19    2     1    1        NaN   \n\n                                              address          suburb  \\\n0                          . GLYNDON ROAD, CAMBERWELL      Camberwell   \n1                       .97 HUNTINGDALE ROAD, ASHWOOD         Ashwood   \n2                        0 LANCASTER DRIVE, MANGALORE       Mangalore   \n3                           06/34 AUBURN RD, HAWTHORN        Hawthorn   \n4                   07/39 DARLING STREET, SOUTH YARRA     South Yarra   \n5                   08/26 ROTHERWOOD STREET, RICHMOND        Richmond   \n6              1 / 1 KELLY STREET, WERRIBEE, WERRIBEE        Werribee   \n7                  1 / 1 KINGFISHER COURT, KINGS PARK      Kings Park   \n8                          1 / 10 BETTINA ST, CLAYTON         Clayton   \n9                      1 / 10 FRANCIS STREET, BELMONT         Belmont   \n10  1 / 10 MARGOT STREET, WEST FOOTSCRAY, WEST FOO...  West Footscray   \n11  1 / 106 RUPERT STREET, WEST FOOTSCRAY, WEST FO...  West Footscray   \n12              1 / 112 RUPERT STREET, WEST FOOTSCRAY  West Footscray   \n13                     1 / 115 CLOW STREET, DANDENONG       Dandenong   \n14           1 / 117 DUNCANS ROAD, WERRIBEE, WERRIBEE        Werribee   \n15                          1 / 12 HART STREET, EUROA           Euroa   \n16                      1 / 13 MELIS COURT, SWAN HILL       Swan Hill   \n17                1 / 13-15 GOODSON STREET, DONCASTER       Doncaster   \n18                          1 / 14 MCNABB ST, BERWICK         Berwick   \n19       1 / 14 PAGNOCCOLO STREET, WERRIBEE, WERRIBEE        Werribee   \n\n    postcode                                                url  \\\n0       3124  https://www.oldlistings.com.au/real-estate/VIC...   \n1       3147  https://www.oldlistings.com.au/real-estate/VIC...   \n2       3663  https://www.oldlistings.com.au/real-estate/VIC...   \n3       3122  https://www.oldlistings.com.au/real-estate/VIC...   \n4       3141  https://www.oldlistings.com.au/real-estate/VIC...   \n5       3121  https://www.oldlistings.com.au/real-estate/VIC...   \n6       3030  https://www.oldlistings.com.au/real-estate/VIC...   \n7       3021  https://www.oldlistings.com.au/real-estate/VIC...   \n8       3168  https://www.oldlistings.com.au/real-estate/VIC...   \n9       3216  https://www.oldlistings.com.au/real-estate/VIC...   \n10      3012  https://www.oldlistings.com.au/real-estate/VIC...   \n11      3012  https://www.oldlistings.com.au/real-estate/VIC...   \n12      3012  https://www.oldlistings.com.au/real-estate/VIC...   \n13      3175  https://www.oldlistings.com.au/real-estate/VIC...   \n14      3030  https://www.oldlistings.com.au/real-estate/VIC...   \n15      3666  https://www.oldlistings.com.au/real-estate/VIC...   \n16      3585  https://www.oldlistings.com.au/real-estate/VIC...   \n17      3108  https://www.oldlistings.com.au/real-estate/VIC...   \n18      3806  https://www.oldlistings.com.au/real-estate/VIC...   \n19      3030  https://www.oldlistings.com.au/real-estate/VIC...   \n\n                                          loc_address        lat         lon  \\\n0   Glyndon Road, Camberwell, Melbourne, City of B... -37.836230  145.079003   \n1   Huntingdale Road, Ashwood, Melbourne, City of ... -37.864211  145.112405   \n2   Lancaster Drive, Mangalore, Shire of Strathbog... -36.891826  145.183443   \n3   Auburn Road, Hawthorn, Melbourne, City of Boro... -37.829572  145.043714   \n4   Darling Street, South Yarra, Melbourne, City o... -37.835333  144.992038   \n5   Rotherwood Street, Richmond, Melbourne, City o... -37.819132  144.991919   \n6   Kelly Street, Werribee, Melbourne, City of Wyn... -37.899365  144.665314   \n7   Kingfisher Court, Kings Park, Melbourne, City ... -37.726443  144.765013   \n8   Bettina Street, Clayton, Melbourne, City of Mo... -37.919015  145.137066   \n9   Francis Street, Belmont, City of Greater Geelo... -38.181797  144.347595   \n10  Margot Street, West Footscray, Melbourne, City... -37.808920  144.871284   \n11  Rupert Street, West Footscray, Melbourne, City... -37.798454  144.869195   \n12  Rupert Street, West Footscray, Melbourne, City... -37.798454  144.869195   \n13  Clow Street, Dandenong, Melbourne, City of Gre... -37.984958  145.215293   \n14  Duncans Road, Werribee, Melbourne, City of Wyn... -37.902268  144.663290   \n15  Hart Street, Euroa, Shire of Strathbogie, Vict... -36.754652  145.568830   \n16  Melis Court, Swan Hill, Rural City of Swan Hil... -35.330650  143.557824   \n17  Goodson Street, Doncaster, Melbourne, City of ... -37.784929  145.128745   \n18  McNabb Street, Berwick, Melbourne, City of Cas... -38.028392  145.345131   \n19  Pagnoccolo Street, Werribee, Melbourne, City o... -37.910189  144.657145   \n\n    weekly_rent  list_date                                       list_history  \\\n0         525.0 2022-08-01  [[-0.08487511721664373, 176.0], [-0.2491495376...   \n1         430.0 2021-02-01        [[-1.1608725709631273, -75.00000000000006]]   \n2         300.0 2022-02-01  [[-7.000828216869614, 200.00000000000006], [-1...   \n3         325.0 2022-05-01                      [[2.2505595597445534, -90.0]]   \n4         290.0 2021-07-01  [[4.914543077544371, 30.0], [-0.75292442692183...   \n5         420.0 2021-09-01  [[1.8343976946823002, -140.0], [-0.08487511721...   \n6         270.0 2022-05-01                      [[0.7556623339288281, 165.0]]   \n7         320.0 2022-01-01  [[-0.9226746613551271, -55.0], [-0.07939930320...   \n8         379.0 2022-02-01  [[7.167840544295913, -120.0], [-0.334024654852...   \n9         380.0 2022-02-01  [[5.333442849613613, -30.0], [-0.1670123274262...   \n10        450.0 2021-08-01         [[6.2533796039617515, -55.00000000000006]]   \n11        300.0 2021-06-01         [[0.3340246548525979, 150.00000000000006]]   \n12        410.0 2022-02-01  [[-4.082219347419865, -95.0], [-0.169750234433...   \n13        280.0 2021-09-01                     [[-0.8323237301245063, 145.0]]   \n14        310.0 2022-04-01  [[6.168504486745108, -60.0], [-0.6653114026982...   \n15        280.0 2021-03-01                      [[-3.5017830619383012, 90.0]]   \n16        330.0 2022-03-01  [[3.4169079447216575, -40.0], [-3.080145382862...   \n17        450.0 2021-08-01  [[10.998172447072836, -195.0], [-1.91379699788...   \n18        430.0 2021-06-01                      [[12.249395949266583, -25.0]]   \n19        285.0 2022-03-01                      [[0.7529244269218396, 120.0]]   \n\n    list_count  \n0            2  \n1            1  \n2            2  \n3            1  \n4            3  \n5            2  \n6            1  \n7            4  \n8            3  \n9            6  \n10           1  \n11           1  \n12           3  \n13           1  \n14           2  \n15           1  \n16           4  \n17           7  \n18           1  \n19           1  ",
      "text/html": "<div>\n<style scoped>\n    .dataframe tbody tr th:only-of-type {\n        vertical-align: middle;\n    }\n\n    .dataframe tbody tr th {\n        vertical-align: top;\n    }\n\n    .dataframe thead th {\n        text-align: right;\n    }\n</style>\n<table border=\"1\" class=\"dataframe\">\n  <thead>\n    <tr style=\"text-align: right;\">\n      <th></th>\n      <th>bed</th>\n      <th>bath</th>\n      <th>car</th>\n      <th>type</th>\n      <th>address</th>\n      <th>suburb</th>\n      <th>postcode</th>\n      <th>url</th>\n      <th>loc_address</th>\n      <th>lat</th>\n      <th>lon</th>\n      <th>weekly_rent</th>\n      <th>list_date</th>\n      <th>list_history</th>\n      <th>list_count</th>\n    </tr>\n  </thead>\n  <tbody>\n    <tr>\n      <th>0</th>\n      <td>3</td>\n      <td>1</td>\n      <td>2</td>\n      <td>AUF</td>\n      <td>. GLYNDON ROAD, CAMBERWELL</td>\n      <td>Camberwell</td>\n      <td>3124</td>\n      <td>https://www.oldlistings.com.au/real-estate/VIC...</td>\n      <td>Glyndon Road, Camberwell, Melbourne, City of B...</td>\n      <td>-37.836230</td>\n      <td>145.079003</td>\n      <td>525.0</td>\n      <td>2022-08-01</td>\n      <td>[[-0.08487511721664373, 176.0], [-0.2491495376...</td>\n      <td>2</td>\n    </tr>\n    <tr>\n      <th>1</th>\n      <td>3</td>\n      <td>1</td>\n      <td>2</td>\n      <td>House</td>\n      <td>.97 HUNTINGDALE ROAD, ASHWOOD</td>\n      <td>Ashwood</td>\n      <td>3147</td>\n      <td>https://www.oldlistings.com.au/real-estate/VIC...</td>\n      <td>Huntingdale Road, Ashwood, Melbourne, City of ...</td>\n      <td>-37.864211</td>\n      <td>145.112405</td>\n      <td>430.0</td>\n      <td>2021-02-01</td>\n      <td>[[-1.1608725709631273, -75.00000000000006]]</td>\n      <td>1</td>\n    </tr>\n    <tr>\n      <th>2</th>\n      <td>3</td>\n      <td>1</td>\n      <td>1</td>\n      <td>House</td>\n      <td>0 LANCASTER DRIVE, MANGALORE</td>\n      <td>Mangalore</td>\n      <td>3663</td>\n      <td>https://www.oldlistings.com.au/real-estate/VIC...</td>\n      <td>Lancaster Drive, Mangalore, Shire of Strathbog...</td>\n      <td>-36.891826</td>\n      <td>145.183443</td>\n      <td>300.0</td>\n      <td>2022-02-01</td>\n      <td>[[-7.000828216869614, 200.00000000000006], [-1...</td>\n      <td>2</td>\n    </tr>\n    <tr>\n      <th>3</th>\n      <td>2</td>\n      <td>1</td>\n      <td>1</td>\n      <td>AUF</td>\n      <td>06/34 AUBURN RD, HAWTHORN</td>\n      <td>Hawthorn</td>\n      <td>3122</td>\n      <td>https://www.oldlistings.com.au/real-estate/VIC...</td>\n      <td>Auburn Road, Hawthorn, Melbourne, City of Boro...</td>\n      <td>-37.829572</td>\n      <td>145.043714</td>\n      <td>325.0</td>\n      <td>2022-05-01</td>\n      <td>[[2.2505595597445534, -90.0]]</td>\n      <td>1</td>\n    </tr>\n    <tr>\n      <th>4</th>\n      <td>1</td>\n      <td>1</td>\n      <td>1</td>\n      <td>AUF</td>\n      <td>07/39 DARLING STREET, SOUTH YARRA</td>\n      <td>South Yarra</td>\n      <td>3141</td>\n      <td>https://www.oldlistings.com.au/real-estate/VIC...</td>\n      <td>Darling Street, South Yarra, Melbourne, City o...</td>\n      <td>-37.835333</td>\n      <td>144.992038</td>\n      <td>290.0</td>\n      <td>2021-07-01</td>\n      <td>[[4.914543077544371, 30.0], [-0.75292442692183...</td>\n      <td>3</td>\n    </tr>\n    <tr>\n      <th>5</th>\n      <td>2</td>\n      <td>1</td>\n      <td>1</td>\n      <td>AUF</td>\n      <td>08/26 ROTHERWOOD STREET, RICHMOND</td>\n      <td>Richmond</td>\n      <td>3121</td>\n      <td>https://www.oldlistings.com.au/real-estate/VIC...</td>\n      <td>Rotherwood Street, Richmond, Melbourne, City o...</td>\n      <td>-37.819132</td>\n      <td>144.991919</td>\n      <td>420.0</td>\n      <td>2021-09-01</td>\n      <td>[[1.8343976946823002, -140.0], [-0.08487511721...</td>\n      <td>2</td>\n    </tr>\n    <tr>\n      <th>6</th>\n      <td>2</td>\n      <td>1</td>\n      <td>1</td>\n      <td>NaN</td>\n      <td>1 / 1 KELLY STREET, WERRIBEE, WERRIBEE</td>\n      <td>Werribee</td>\n      <td>3030</td>\n      <td>https://www.oldlistings.com.au/real-estate/VIC...</td>\n      <td>Kelly Street, Werribee, Melbourne, City of Wyn...</td>\n      <td>-37.899365</td>\n      <td>144.665314</td>\n      <td>270.0</td>\n      <td>2022-05-01</td>\n      <td>[[0.7556623339288281, 165.0]]</td>\n      <td>1</td>\n    </tr>\n    <tr>\n      <th>7</th>\n      <td>2</td>\n      <td>1</td>\n      <td>1</td>\n      <td>NaN</td>\n      <td>1 / 1 KINGFISHER COURT, KINGS PARK</td>\n      <td>Kings Park</td>\n      <td>3021</td>\n      <td>https://www.oldlistings.com.au/real-estate/VIC...</td>\n      <td>Kingfisher Court, Kings Park, Melbourne, City ...</td>\n      <td>-37.726443</td>\n      <td>144.765013</td>\n      <td>320.0</td>\n      <td>2022-01-01</td>\n      <td>[[-0.9226746613551271, -55.0], [-0.07939930320...</td>\n      <td>4</td>\n    </tr>\n    <tr>\n      <th>8</th>\n      <td>2</td>\n      <td>1</td>\n      <td>1</td>\n      <td>NaN</td>\n      <td>1 / 10 BETTINA ST, CLAYTON</td>\n      <td>Clayton</td>\n      <td>3168</td>\n      <td>https://www.oldlistings.com.au/real-estate/VIC...</td>\n      <td>Bettina Street, Clayton, Melbourne, City of Mo...</td>\n      <td>-37.919015</td>\n      <td>145.137066</td>\n      <td>379.0</td>\n      <td>2022-02-01</td>\n      <td>[[7.167840544295913, -120.0], [-0.334024654852...</td>\n      <td>3</td>\n    </tr>\n    <tr>\n      <th>9</th>\n      <td>3</td>\n      <td>2</td>\n      <td>2</td>\n      <td>NaN</td>\n      <td>1 / 10 FRANCIS STREET, BELMONT</td>\n      <td>Belmont</td>\n      <td>3216</td>\n      <td>https://www.oldlistings.com.au/real-estate/VIC...</td>\n      <td>Francis Street, Belmont, City of Greater Geelo...</td>\n      <td>-38.181797</td>\n      <td>144.347595</td>\n      <td>380.0</td>\n      <td>2022-02-01</td>\n      <td>[[5.333442849613613, -30.0], [-0.1670123274262...</td>\n      <td>6</td>\n    </tr>\n    <tr>\n      <th>10</th>\n      <td>3</td>\n      <td>2</td>\n      <td>2</td>\n      <td>NaN</td>\n      <td>1 / 10 MARGOT STREET, WEST FOOTSCRAY, WEST FOO...</td>\n      <td>West Footscray</td>\n      <td>3012</td>\n      <td>https://www.oldlistings.com.au/real-estate/VIC...</td>\n      <td>Margot Street, West Footscray, Melbourne, City...</td>\n      <td>-37.808920</td>\n      <td>144.871284</td>\n      <td>450.0</td>\n      <td>2021-08-01</td>\n      <td>[[6.2533796039617515, -55.00000000000006]]</td>\n      <td>1</td>\n    </tr>\n    <tr>\n      <th>11</th>\n      <td>1</td>\n      <td>1</td>\n      <td>1</td>\n      <td>NaN</td>\n      <td>1 / 106 RUPERT STREET, WEST FOOTSCRAY, WEST FO...</td>\n      <td>West Footscray</td>\n      <td>3012</td>\n      <td>https://www.oldlistings.com.au/real-estate/VIC...</td>\n      <td>Rupert Street, West Footscray, Melbourne, City...</td>\n      <td>-37.798454</td>\n      <td>144.869195</td>\n      <td>300.0</td>\n      <td>2021-06-01</td>\n      <td>[[0.3340246548525979, 150.00000000000006]]</td>\n      <td>1</td>\n    </tr>\n    <tr>\n      <th>12</th>\n      <td>2</td>\n      <td>1</td>\n      <td>1</td>\n      <td>NaN</td>\n      <td>1 / 112 RUPERT STREET, WEST FOOTSCRAY</td>\n      <td>West Footscray</td>\n      <td>3012</td>\n      <td>https://www.oldlistings.com.au/real-estate/VIC...</td>\n      <td>Rupert Street, West Footscray, Melbourne, City...</td>\n      <td>-37.798454</td>\n      <td>144.869195</td>\n      <td>410.0</td>\n      <td>2022-02-01</td>\n      <td>[[-4.082219347419865, -95.0], [-0.169750234433...</td>\n      <td>3</td>\n    </tr>\n    <tr>\n      <th>13</th>\n      <td>2</td>\n      <td>1</td>\n      <td>1</td>\n      <td>AUF</td>\n      <td>1 / 115 CLOW STREET, DANDENONG</td>\n      <td>Dandenong</td>\n      <td>3175</td>\n      <td>https://www.oldlistings.com.au/real-estate/VIC...</td>\n      <td>Clow Street, Dandenong, Melbourne, City of Gre...</td>\n      <td>-37.984958</td>\n      <td>145.215293</td>\n      <td>280.0</td>\n      <td>2021-09-01</td>\n      <td>[[-0.8323237301245063, 145.0]]</td>\n      <td>1</td>\n    </tr>\n    <tr>\n      <th>14</th>\n      <td>2</td>\n      <td>1</td>\n      <td>2</td>\n      <td>NaN</td>\n      <td>1 / 117 DUNCANS ROAD, WERRIBEE, WERRIBEE</td>\n      <td>Werribee</td>\n      <td>3030</td>\n      <td>https://www.oldlistings.com.au/real-estate/VIC...</td>\n      <td>Duncans Road, Werribee, Melbourne, City of Wyn...</td>\n      <td>-37.902268</td>\n      <td>144.663290</td>\n      <td>310.0</td>\n      <td>2022-04-01</td>\n      <td>[[6.168504486745108, -60.0], [-0.6653114026982...</td>\n      <td>2</td>\n    </tr>\n    <tr>\n      <th>15</th>\n      <td>2</td>\n      <td>1</td>\n      <td>1</td>\n      <td>AUF</td>\n      <td>1 / 12 HART STREET, EUROA</td>\n      <td>Euroa</td>\n      <td>3666</td>\n      <td>https://www.oldlistings.com.au/real-estate/VIC...</td>\n      <td>Hart Street, Euroa, Shire of Strathbogie, Vict...</td>\n      <td>-36.754652</td>\n      <td>145.568830</td>\n      <td>280.0</td>\n      <td>2021-03-01</td>\n      <td>[[-3.5017830619383012, 90.0]]</td>\n      <td>1</td>\n    </tr>\n    <tr>\n      <th>16</th>\n      <td>2</td>\n      <td>1</td>\n      <td>1</td>\n      <td>NaN</td>\n      <td>1 / 13 MELIS COURT, SWAN HILL</td>\n      <td>Swan Hill</td>\n      <td>3585</td>\n      <td>https://www.oldlistings.com.au/real-estate/VIC...</td>\n      <td>Melis Court, Swan Hill, Rural City of Swan Hil...</td>\n      <td>-35.330650</td>\n      <td>143.557824</td>\n      <td>330.0</td>\n      <td>2022-03-01</td>\n      <td>[[3.4169079447216575, -40.0], [-3.080145382862...</td>\n      <td>4</td>\n    </tr>\n    <tr>\n      <th>17</th>\n      <td>2</td>\n      <td>2</td>\n      <td>1</td>\n      <td>NaN</td>\n      <td>1 / 13-15 GOODSON STREET, DONCASTER</td>\n      <td>Doncaster</td>\n      <td>3108</td>\n      <td>https://www.oldlistings.com.au/real-estate/VIC...</td>\n      <td>Goodson Street, Doncaster, Melbourne, City of ...</td>\n      <td>-37.784929</td>\n      <td>145.128745</td>\n      <td>450.0</td>\n      <td>2021-08-01</td>\n      <td>[[10.998172447072836, -195.0], [-1.91379699788...</td>\n      <td>7</td>\n    </tr>\n    <tr>\n      <th>18</th>\n      <td>4</td>\n      <td>3</td>\n      <td>2</td>\n      <td>Townhouse</td>\n      <td>1 / 14 MCNABB ST, BERWICK</td>\n      <td>Berwick</td>\n      <td>3806</td>\n      <td>https://www.oldlistings.com.au/real-estate/VIC...</td>\n      <td>McNabb Street, Berwick, Melbourne, City of Cas...</td>\n      <td>-38.028392</td>\n      <td>145.345131</td>\n      <td>430.0</td>\n      <td>2021-06-01</td>\n      <td>[[12.249395949266583, -25.0]]</td>\n      <td>1</td>\n    </tr>\n    <tr>\n      <th>19</th>\n      <td>2</td>\n      <td>1</td>\n      <td>1</td>\n      <td>NaN</td>\n      <td>1 / 14 PAGNOCCOLO STREET, WERRIBEE, WERRIBEE</td>\n      <td>Werribee</td>\n      <td>3030</td>\n      <td>https://www.oldlistings.com.au/real-estate/VIC...</td>\n      <td>Pagnoccolo Street, Werribee, Melbourne, City o...</td>\n      <td>-37.910189</td>\n      <td>144.657145</td>\n      <td>285.0</td>\n      <td>2022-03-01</td>\n      <td>[[0.7529244269218396, 120.0]]</td>\n      <td>1</td>\n    </tr>\n  </tbody>\n</table>\n</div>"
     },
     "execution_count": 85,
     "metadata": {},
     "output_type": "execute_result"
    }
   ],
   "source": [
    "df2.head(20)"
   ],
   "metadata": {
    "collapsed": false,
    "pycharm": {
     "name": "#%%\n"
    }
   }
  },
  {
   "cell_type": "code",
   "execution_count": 86,
   "outputs": [
    {
     "data": {
      "text/plain": "52904"
     },
     "execution_count": 86,
     "metadata": {},
     "output_type": "execute_result"
    }
   ],
   "source": [
    "# compare with the previous output to make sure we have roughly the expected amount of output\n",
    "len(df2)"
   ],
   "metadata": {
    "collapsed": false,
    "pycharm": {
     "name": "#%%\n"
    }
   }
  },
  {
   "cell_type": "code",
   "execution_count": 87,
   "outputs": [
    {
     "name": "stdout",
     "output_type": "stream",
     "text": [
      "Counter({1: 19138, 2: 12393, 3: 7849, 4: 5017, 5: 3084, 6: 1993, 7: 1241, 8: 722, 9: 436, 0: 422, 10: 243, 11: 167, 12: 69, 13: 44, 14: 27, 15: 16, 16: 9, 17: 8, 19: 5, 20: 5, 18: 4, 21: 2, 29: 2, 34: 2, 23: 1, 24: 1, 26: 1, 27: 1, 30: 1, 42: 1})\n"
     ]
    }
   ],
   "source": [
    "# pivot to the number of past listings\n",
    "col_list = (df2['list_count'].values.tolist())\n",
    "col_list.sort()\n",
    "counter = collections.Counter(col_list)\n",
    "print(counter)\n",
    "# it means there are 3xxxx properties that have been listed once in the past, etc"
   ],
   "metadata": {
    "collapsed": false,
    "pycharm": {
     "name": "#%%\n"
    }
   }
  },
  {
   "cell_type": "markdown",
   "source": [
    "### Embed SA2 area information to the existing dataframe"
   ],
   "metadata": {
    "collapsed": false
   }
  },
  {
   "cell_type": "code",
   "execution_count": 88,
   "outputs": [
    {
     "data": {
      "text/plain": "      postcode          suburb   SA2_NAME_2016  SA2_MAINCODE_2016  \\\n6151      3000       Melbourne       Melbourne        206041122.0   \n6152      3001       Melbourne       Melbourne        206041122.0   \n6153      3002  East Melbourne  East Melbourne        206041119.0   \n6154      3003  West Melbourne  West Melbourne        206041127.0   \n6155      3004       Melbourne       Southbank        206041126.0   \n\n          lgaregion  \n6151      Melbourne  \n6152  Moonee Valley  \n6153          Yarra  \n6154      Melbourne  \n6155          Yarra  ",
      "text/html": "<div>\n<style scoped>\n    .dataframe tbody tr th:only-of-type {\n        vertical-align: middle;\n    }\n\n    .dataframe tbody tr th {\n        vertical-align: top;\n    }\n\n    .dataframe thead th {\n        text-align: right;\n    }\n</style>\n<table border=\"1\" class=\"dataframe\">\n  <thead>\n    <tr style=\"text-align: right;\">\n      <th></th>\n      <th>postcode</th>\n      <th>suburb</th>\n      <th>SA2_NAME_2016</th>\n      <th>SA2_MAINCODE_2016</th>\n      <th>lgaregion</th>\n    </tr>\n  </thead>\n  <tbody>\n    <tr>\n      <th>6151</th>\n      <td>3000</td>\n      <td>Melbourne</td>\n      <td>Melbourne</td>\n      <td>206041122.0</td>\n      <td>Melbourne</td>\n    </tr>\n    <tr>\n      <th>6152</th>\n      <td>3001</td>\n      <td>Melbourne</td>\n      <td>Melbourne</td>\n      <td>206041122.0</td>\n      <td>Moonee Valley</td>\n    </tr>\n    <tr>\n      <th>6153</th>\n      <td>3002</td>\n      <td>East Melbourne</td>\n      <td>East Melbourne</td>\n      <td>206041119.0</td>\n      <td>Yarra</td>\n    </tr>\n    <tr>\n      <th>6154</th>\n      <td>3003</td>\n      <td>West Melbourne</td>\n      <td>West Melbourne</td>\n      <td>206041127.0</td>\n      <td>Melbourne</td>\n    </tr>\n    <tr>\n      <th>6155</th>\n      <td>3004</td>\n      <td>Melbourne</td>\n      <td>Southbank</td>\n      <td>206041126.0</td>\n      <td>Yarra</td>\n    </tr>\n  </tbody>\n</table>\n</div>"
     },
     "execution_count": 88,
     "metadata": {},
     "output_type": "execute_result"
    }
   ],
   "source": [
    "# read in the postcode information\n",
    "postcode_df = pd.read_csv('../data/raw/abs/australian_postcodes.csv')\n",
    "# only retain information that is relavent for faster running time\n",
    "postcode_df = postcode_df.loc[postcode_df['state'] == 'VIC']\n",
    "# rename columns to match dataframe so it can perform a 'vlookup' properly\n",
    "postcode_df['locality'] = postcode_df['locality'].str.title()\n",
    "postcode_df = postcode_df[['postcode', 'locality', 'SA2_NAME_2016', 'SA2_MAINCODE_2016', 'lgaregion']]\n",
    "postcode_df = postcode_df.rename(columns={'locality': 'suburb'}, errors=\"raise\")\n",
    "postcode_df.head()"
   ],
   "metadata": {
    "collapsed": false,
    "pycharm": {
     "name": "#%%\n"
    }
   }
  },
  {
   "cell_type": "code",
   "execution_count": 208,
   "outputs": [
    {
     "data": {
      "text/plain": "   bed  bath  car       type                         address      suburb  \\\n0    3     1    2        AUF      . GLYNDON ROAD, CAMBERWELL  Camberwell   \n1    4     2    3        NaN      1 NEVIS STREET, CAMBERWELL  Camberwell   \n2    3     2    2  Townhouse  1/1017 TOORAK ROAD, CAMBERWELL  Camberwell   \n3    2     1    1        AUF    1/11 EDDY STREET, CAMBERWELL  Camberwell   \n4    2     1    1        AUF   1/11 ORANGE GROVE, CAMBERWELL  Camberwell   \n\n   postcode                                                url  \\\n0      3124  https://www.oldlistings.com.au/real-estate/VIC...   \n1      3124  https://www.oldlistings.com.au/real-estate/VIC...   \n2      3124  https://www.oldlistings.com.au/real-estate/VIC...   \n3      3124  https://www.oldlistings.com.au/real-estate/VIC...   \n4      3124  https://www.oldlistings.com.au/real-estate/VIC...   \n\n                                         loc_address        lat         lon  \\\n0  Glyndon Road, Camberwell, Melbourne, City of B... -37.836230  145.079003   \n1  Nevis Street, Camberwell, Melbourne, City of B... -37.843101  145.080403   \n2  Toorak Road, Camberwell, Melbourne, City of Bo... -37.850405  145.095567   \n3  Eddy Street, Camberwell, Melbourne, City of Bo... -37.846792  145.072722   \n4  Orange Grove, Camberwell, Melbourne, City of B... -37.841181  145.067238   \n\n   weekly_rent  list_date                                       list_history  \\\n0        525.0 2022-08-01  [[-0.08487511721664373, 176.0], [-0.2491495376...   \n1        850.0 2022-08-01  [[5.746866807668877, -400.0], [-0.084875117216...   \n2        580.0 2021-07-01  [[5.5031930840469006, -75.0], [-2.083547232318...   \n3        400.0 2022-06-01  [[-0.9171988473411501, -40.0], [-1.42097373662...   \n4        435.0 2021-02-01  [[-2.162946535520921, 35.0], [-0.0848751172166...   \n\n   list_count SA2_NAME_2016        SA2   lgaregion  \n0           2    Camberwell  207011149  Whitehorse  \n1           3    Camberwell  207011149  Whitehorse  \n2           5    Camberwell  207011149  Whitehorse  \n3           3    Camberwell  207011149  Whitehorse  \n4           9    Camberwell  207011149  Whitehorse  ",
      "text/html": "<div>\n<style scoped>\n    .dataframe tbody tr th:only-of-type {\n        vertical-align: middle;\n    }\n\n    .dataframe tbody tr th {\n        vertical-align: top;\n    }\n\n    .dataframe thead th {\n        text-align: right;\n    }\n</style>\n<table border=\"1\" class=\"dataframe\">\n  <thead>\n    <tr style=\"text-align: right;\">\n      <th></th>\n      <th>bed</th>\n      <th>bath</th>\n      <th>car</th>\n      <th>type</th>\n      <th>address</th>\n      <th>suburb</th>\n      <th>postcode</th>\n      <th>url</th>\n      <th>loc_address</th>\n      <th>lat</th>\n      <th>lon</th>\n      <th>weekly_rent</th>\n      <th>list_date</th>\n      <th>list_history</th>\n      <th>list_count</th>\n      <th>SA2_NAME_2016</th>\n      <th>SA2</th>\n      <th>lgaregion</th>\n    </tr>\n  </thead>\n  <tbody>\n    <tr>\n      <th>0</th>\n      <td>3</td>\n      <td>1</td>\n      <td>2</td>\n      <td>AUF</td>\n      <td>. GLYNDON ROAD, CAMBERWELL</td>\n      <td>Camberwell</td>\n      <td>3124</td>\n      <td>https://www.oldlistings.com.au/real-estate/VIC...</td>\n      <td>Glyndon Road, Camberwell, Melbourne, City of B...</td>\n      <td>-37.836230</td>\n      <td>145.079003</td>\n      <td>525.0</td>\n      <td>2022-08-01</td>\n      <td>[[-0.08487511721664373, 176.0], [-0.2491495376...</td>\n      <td>2</td>\n      <td>Camberwell</td>\n      <td>207011149</td>\n      <td>Whitehorse</td>\n    </tr>\n    <tr>\n      <th>1</th>\n      <td>4</td>\n      <td>2</td>\n      <td>3</td>\n      <td>NaN</td>\n      <td>1 NEVIS STREET, CAMBERWELL</td>\n      <td>Camberwell</td>\n      <td>3124</td>\n      <td>https://www.oldlistings.com.au/real-estate/VIC...</td>\n      <td>Nevis Street, Camberwell, Melbourne, City of B...</td>\n      <td>-37.843101</td>\n      <td>145.080403</td>\n      <td>850.0</td>\n      <td>2022-08-01</td>\n      <td>[[5.746866807668877, -400.0], [-0.084875117216...</td>\n      <td>3</td>\n      <td>Camberwell</td>\n      <td>207011149</td>\n      <td>Whitehorse</td>\n    </tr>\n    <tr>\n      <th>2</th>\n      <td>3</td>\n      <td>2</td>\n      <td>2</td>\n      <td>Townhouse</td>\n      <td>1/1017 TOORAK ROAD, CAMBERWELL</td>\n      <td>Camberwell</td>\n      <td>3124</td>\n      <td>https://www.oldlistings.com.au/real-estate/VIC...</td>\n      <td>Toorak Road, Camberwell, Melbourne, City of Bo...</td>\n      <td>-37.850405</td>\n      <td>145.095567</td>\n      <td>580.0</td>\n      <td>2021-07-01</td>\n      <td>[[5.5031930840469006, -75.0], [-2.083547232318...</td>\n      <td>5</td>\n      <td>Camberwell</td>\n      <td>207011149</td>\n      <td>Whitehorse</td>\n    </tr>\n    <tr>\n      <th>3</th>\n      <td>2</td>\n      <td>1</td>\n      <td>1</td>\n      <td>AUF</td>\n      <td>1/11 EDDY STREET, CAMBERWELL</td>\n      <td>Camberwell</td>\n      <td>3124</td>\n      <td>https://www.oldlistings.com.au/real-estate/VIC...</td>\n      <td>Eddy Street, Camberwell, Melbourne, City of Bo...</td>\n      <td>-37.846792</td>\n      <td>145.072722</td>\n      <td>400.0</td>\n      <td>2022-06-01</td>\n      <td>[[-0.9171988473411501, -40.0], [-1.42097373662...</td>\n      <td>3</td>\n      <td>Camberwell</td>\n      <td>207011149</td>\n      <td>Whitehorse</td>\n    </tr>\n    <tr>\n      <th>4</th>\n      <td>2</td>\n      <td>1</td>\n      <td>1</td>\n      <td>AUF</td>\n      <td>1/11 ORANGE GROVE, CAMBERWELL</td>\n      <td>Camberwell</td>\n      <td>3124</td>\n      <td>https://www.oldlistings.com.au/real-estate/VIC...</td>\n      <td>Orange Grove, Camberwell, Melbourne, City of B...</td>\n      <td>-37.841181</td>\n      <td>145.067238</td>\n      <td>435.0</td>\n      <td>2021-02-01</td>\n      <td>[[-2.162946535520921, 35.0], [-0.0848751172166...</td>\n      <td>9</td>\n      <td>Camberwell</td>\n      <td>207011149</td>\n      <td>Whitehorse</td>\n    </tr>\n  </tbody>\n</table>\n</div>"
     },
     "execution_count": 208,
     "metadata": {},
     "output_type": "execute_result"
    }
   ],
   "source": [
    "# df3 will be the final output dataframe\n",
    "# the property informations are merged with its SA2 information by matching both postcode and suburb name\n",
    "df3 = pd.merge(df2, postcode_df, on=['postcode', 'suburb'])\n",
    "df3['SA2_MAINCODE_2016'] = df3['SA2_MAINCODE_2016'].astype(int)\n",
    "df3 = df3.rename(columns={'SA2_MAINCODE_2016': 'SA2'}, errors=\"raise\")\n",
    "df3.head()"
   ],
   "metadata": {
    "collapsed": false,
    "pycharm": {
     "name": "#%%\n"
    }
   }
  },
  {
   "cell_type": "code",
   "execution_count": 209,
   "outputs": [
    {
     "data": {
      "text/plain": "52844"
     },
     "execution_count": 209,
     "metadata": {},
     "output_type": "execute_result"
    }
   ],
   "source": [
    "len(df3)"
   ],
   "metadata": {
    "collapsed": false,
    "pycharm": {
     "name": "#%%\n"
    }
   }
  },
  {
   "cell_type": "code",
   "execution_count": 210,
   "outputs": [],
   "source": [
    "# metro_melb is a list of all LGAs of metropolitan melbourne\n",
    "# that is defined https://liveinmelbourne.vic.gov.au/discover/melbourne-victoria/metropolitan-melbourne\n",
    "metro_melb = ['Banyule', 'Bayside', 'Boroondara', 'Brimbank', 'Cardinia', 'Casey', 'Darebin', 'Frankston', 'Glen Eira', 'Greater Dandenong', 'Hobsons Bay', 'Hume', 'Kingston', 'Knox', 'Manningham', 'Maribyrnong', 'Maroondah', 'Melbourne', 'Melton', 'Monash', 'Moonee Valley', 'Moreland', 'Mornington Peninsula', 'Nillumbik', 'Port Phillip', 'Stonnington', 'Whitehorse', 'Whittlesea', 'Wyndham', 'Yarra', 'Yarra Ranges']"
   ],
   "metadata": {
    "collapsed": false,
    "pycharm": {
     "name": "#%%\n"
    }
   }
  },
  {
   "cell_type": "code",
   "execution_count": 211,
   "outputs": [],
   "source": [
    "# only retain entries that are in metro melbourne as they are more related with the study\n",
    "df3 = df3.loc[df3['lgaregion'].isin(metro_melb)]"
   ],
   "metadata": {
    "collapsed": false,
    "pycharm": {
     "name": "#%%\n"
    }
   }
  },
  {
   "cell_type": "code",
   "execution_count": 212,
   "outputs": [
    {
     "data": {
      "text/plain": "42736"
     },
     "execution_count": 212,
     "metadata": {},
     "output_type": "execute_result"
    }
   ],
   "source": [
    "# check the number of unique properties again\n",
    "len(df3)"
   ],
   "metadata": {
    "collapsed": false,
    "pycharm": {
     "name": "#%%\n"
    }
   }
  },
  {
   "cell_type": "markdown",
   "source": [
    "### Embed income data"
   ],
   "metadata": {
    "collapsed": false
   }
  },
  {
   "cell_type": "code",
   "execution_count": 213,
   "outputs": [
    {
     "data": {
      "text/plain": "         SA2  income_earner  income_median_age  income_median  income_mean  \\\n0  201011001         7989.0               42.0        53932.0      63668.0   \n1  201011002         7595.0               47.0        53688.0      77876.0   \n2  201011003        13598.0               43.0        50593.0      60367.0   \n3  201011004        12722.0               40.0        45828.0      50778.0   \n4  201011005         4249.0               46.0        52377.0      63258.0   \n\n   income_top_10_pct  \n0               28.7  \n1               38.4  \n2               29.3  \n3               26.1  \n4               29.3  ",
      "text/html": "<div>\n<style scoped>\n    .dataframe tbody tr th:only-of-type {\n        vertical-align: middle;\n    }\n\n    .dataframe tbody tr th {\n        vertical-align: top;\n    }\n\n    .dataframe thead th {\n        text-align: right;\n    }\n</style>\n<table border=\"1\" class=\"dataframe\">\n  <thead>\n    <tr style=\"text-align: right;\">\n      <th></th>\n      <th>SA2</th>\n      <th>income_earner</th>\n      <th>income_median_age</th>\n      <th>income_median</th>\n      <th>income_mean</th>\n      <th>income_top_10_pct</th>\n    </tr>\n  </thead>\n  <tbody>\n    <tr>\n      <th>0</th>\n      <td>201011001</td>\n      <td>7989.0</td>\n      <td>42.0</td>\n      <td>53932.0</td>\n      <td>63668.0</td>\n      <td>28.7</td>\n    </tr>\n    <tr>\n      <th>1</th>\n      <td>201011002</td>\n      <td>7595.0</td>\n      <td>47.0</td>\n      <td>53688.0</td>\n      <td>77876.0</td>\n      <td>38.4</td>\n    </tr>\n    <tr>\n      <th>2</th>\n      <td>201011003</td>\n      <td>13598.0</td>\n      <td>43.0</td>\n      <td>50593.0</td>\n      <td>60367.0</td>\n      <td>29.3</td>\n    </tr>\n    <tr>\n      <th>3</th>\n      <td>201011004</td>\n      <td>12722.0</td>\n      <td>40.0</td>\n      <td>45828.0</td>\n      <td>50778.0</td>\n      <td>26.1</td>\n    </tr>\n    <tr>\n      <th>4</th>\n      <td>201011005</td>\n      <td>4249.0</td>\n      <td>46.0</td>\n      <td>52377.0</td>\n      <td>63258.0</td>\n      <td>29.3</td>\n    </tr>\n  </tbody>\n</table>\n</div>"
     },
     "execution_count": 213,
     "metadata": {},
     "output_type": "execute_result"
    }
   ],
   "source": [
    "# the csv file was exported from MS Excel as Python's ability to read csv with weird formating is limited\n",
    "income_df = pd.read_csv(f'{files_dire}/abs/income_distribution.csv')\n",
    "# only retain information that will be used\n",
    "income_df = income_df[['SA2', 'Earners', 'Median age of earners', 'Median', 'Mean', 'Top 10%']]\n",
    "income_df = income_df.replace(',','', regex=True)\n",
    "cols = ['Earners', 'Median age of earners', 'Median', 'Mean', 'Top 10%']\n",
    "income_df[cols] = income_df[cols].apply(pd.to_numeric, errors='coerce', axis=1)\n",
    "income_df = income_df.rename(columns={'Earners': 'income_earner', 'Median age of earners': 'income_median_age', 'Median': 'income_median', 'Mean': 'income_mean', 'Top 10%': 'income_top_10_pct'}, errors=\"raise\")\n",
    "# information will be 'vlookup'ed by SA2 code, the data contains the number of earners in the SA2, median age of the earner\n",
    "# median income of the SA2, average income of the SA2 and how much of the population are ranked 10 percent within whole Australia\n",
    "income_df.head()"
   ],
   "metadata": {
    "collapsed": false,
    "pycharm": {
     "name": "#%%\n"
    }
   }
  },
  {
   "cell_type": "code",
   "execution_count": 214,
   "outputs": [
    {
     "data": {
      "text/plain": "   bed  bath  car       type                         address      suburb  \\\n0    3     1    2        AUF      . GLYNDON ROAD, CAMBERWELL  Camberwell   \n1    4     2    3        NaN      1 NEVIS STREET, CAMBERWELL  Camberwell   \n2    3     2    2  Townhouse  1/1017 TOORAK ROAD, CAMBERWELL  Camberwell   \n3    2     1    1        AUF    1/11 EDDY STREET, CAMBERWELL  Camberwell   \n4    2     1    1        AUF   1/11 ORANGE GROVE, CAMBERWELL  Camberwell   \n\n   postcode                                                url  \\\n0      3124  https://www.oldlistings.com.au/real-estate/VIC...   \n1      3124  https://www.oldlistings.com.au/real-estate/VIC...   \n2      3124  https://www.oldlistings.com.au/real-estate/VIC...   \n3      3124  https://www.oldlistings.com.au/real-estate/VIC...   \n4      3124  https://www.oldlistings.com.au/real-estate/VIC...   \n\n                                         loc_address        lat  ...  \\\n0  Glyndon Road, Camberwell, Melbourne, City of B... -37.836230  ...   \n1  Nevis Street, Camberwell, Melbourne, City of B... -37.843101  ...   \n2  Toorak Road, Camberwell, Melbourne, City of Bo... -37.850405  ...   \n3  Eddy Street, Camberwell, Melbourne, City of Bo... -37.846792  ...   \n4  Orange Grove, Camberwell, Melbourne, City of B... -37.841181  ...   \n\n                                        list_history  list_count  \\\n0  [[-0.08487511721664373, 176.0], [-0.2491495376...           2   \n1  [[5.746866807668877, -400.0], [-0.084875117216...           3   \n2  [[5.5031930840469006, -75.0], [-2.083547232318...           5   \n3  [[-0.9171988473411501, -40.0], [-1.42097373662...           3   \n4  [[-2.162946535520921, 35.0], [-0.0848751172166...           9   \n\n  SA2_NAME_2016        SA2   lgaregion income_earner  income_median_age  \\\n0    Camberwell  207011149  Whitehorse       14501.0               47.0   \n1    Camberwell  207011149  Whitehorse       14501.0               47.0   \n2    Camberwell  207011149  Whitehorse       14501.0               47.0   \n3    Camberwell  207011149  Whitehorse       14501.0               47.0   \n4    Camberwell  207011149  Whitehorse       14501.0               47.0   \n\n  income_median  income_mean  income_top_10_pct  \n0       61520.0     101491.0               42.5  \n1       61520.0     101491.0               42.5  \n2       61520.0     101491.0               42.5  \n3       61520.0     101491.0               42.5  \n4       61520.0     101491.0               42.5  \n\n[5 rows x 23 columns]",
      "text/html": "<div>\n<style scoped>\n    .dataframe tbody tr th:only-of-type {\n        vertical-align: middle;\n    }\n\n    .dataframe tbody tr th {\n        vertical-align: top;\n    }\n\n    .dataframe thead th {\n        text-align: right;\n    }\n</style>\n<table border=\"1\" class=\"dataframe\">\n  <thead>\n    <tr style=\"text-align: right;\">\n      <th></th>\n      <th>bed</th>\n      <th>bath</th>\n      <th>car</th>\n      <th>type</th>\n      <th>address</th>\n      <th>suburb</th>\n      <th>postcode</th>\n      <th>url</th>\n      <th>loc_address</th>\n      <th>lat</th>\n      <th>...</th>\n      <th>list_history</th>\n      <th>list_count</th>\n      <th>SA2_NAME_2016</th>\n      <th>SA2</th>\n      <th>lgaregion</th>\n      <th>income_earner</th>\n      <th>income_median_age</th>\n      <th>income_median</th>\n      <th>income_mean</th>\n      <th>income_top_10_pct</th>\n    </tr>\n  </thead>\n  <tbody>\n    <tr>\n      <th>0</th>\n      <td>3</td>\n      <td>1</td>\n      <td>2</td>\n      <td>AUF</td>\n      <td>. GLYNDON ROAD, CAMBERWELL</td>\n      <td>Camberwell</td>\n      <td>3124</td>\n      <td>https://www.oldlistings.com.au/real-estate/VIC...</td>\n      <td>Glyndon Road, Camberwell, Melbourne, City of B...</td>\n      <td>-37.836230</td>\n      <td>...</td>\n      <td>[[-0.08487511721664373, 176.0], [-0.2491495376...</td>\n      <td>2</td>\n      <td>Camberwell</td>\n      <td>207011149</td>\n      <td>Whitehorse</td>\n      <td>14501.0</td>\n      <td>47.0</td>\n      <td>61520.0</td>\n      <td>101491.0</td>\n      <td>42.5</td>\n    </tr>\n    <tr>\n      <th>1</th>\n      <td>4</td>\n      <td>2</td>\n      <td>3</td>\n      <td>NaN</td>\n      <td>1 NEVIS STREET, CAMBERWELL</td>\n      <td>Camberwell</td>\n      <td>3124</td>\n      <td>https://www.oldlistings.com.au/real-estate/VIC...</td>\n      <td>Nevis Street, Camberwell, Melbourne, City of B...</td>\n      <td>-37.843101</td>\n      <td>...</td>\n      <td>[[5.746866807668877, -400.0], [-0.084875117216...</td>\n      <td>3</td>\n      <td>Camberwell</td>\n      <td>207011149</td>\n      <td>Whitehorse</td>\n      <td>14501.0</td>\n      <td>47.0</td>\n      <td>61520.0</td>\n      <td>101491.0</td>\n      <td>42.5</td>\n    </tr>\n    <tr>\n      <th>2</th>\n      <td>3</td>\n      <td>2</td>\n      <td>2</td>\n      <td>Townhouse</td>\n      <td>1/1017 TOORAK ROAD, CAMBERWELL</td>\n      <td>Camberwell</td>\n      <td>3124</td>\n      <td>https://www.oldlistings.com.au/real-estate/VIC...</td>\n      <td>Toorak Road, Camberwell, Melbourne, City of Bo...</td>\n      <td>-37.850405</td>\n      <td>...</td>\n      <td>[[5.5031930840469006, -75.0], [-2.083547232318...</td>\n      <td>5</td>\n      <td>Camberwell</td>\n      <td>207011149</td>\n      <td>Whitehorse</td>\n      <td>14501.0</td>\n      <td>47.0</td>\n      <td>61520.0</td>\n      <td>101491.0</td>\n      <td>42.5</td>\n    </tr>\n    <tr>\n      <th>3</th>\n      <td>2</td>\n      <td>1</td>\n      <td>1</td>\n      <td>AUF</td>\n      <td>1/11 EDDY STREET, CAMBERWELL</td>\n      <td>Camberwell</td>\n      <td>3124</td>\n      <td>https://www.oldlistings.com.au/real-estate/VIC...</td>\n      <td>Eddy Street, Camberwell, Melbourne, City of Bo...</td>\n      <td>-37.846792</td>\n      <td>...</td>\n      <td>[[-0.9171988473411501, -40.0], [-1.42097373662...</td>\n      <td>3</td>\n      <td>Camberwell</td>\n      <td>207011149</td>\n      <td>Whitehorse</td>\n      <td>14501.0</td>\n      <td>47.0</td>\n      <td>61520.0</td>\n      <td>101491.0</td>\n      <td>42.5</td>\n    </tr>\n    <tr>\n      <th>4</th>\n      <td>2</td>\n      <td>1</td>\n      <td>1</td>\n      <td>AUF</td>\n      <td>1/11 ORANGE GROVE, CAMBERWELL</td>\n      <td>Camberwell</td>\n      <td>3124</td>\n      <td>https://www.oldlistings.com.au/real-estate/VIC...</td>\n      <td>Orange Grove, Camberwell, Melbourne, City of B...</td>\n      <td>-37.841181</td>\n      <td>...</td>\n      <td>[[-2.162946535520921, 35.0], [-0.0848751172166...</td>\n      <td>9</td>\n      <td>Camberwell</td>\n      <td>207011149</td>\n      <td>Whitehorse</td>\n      <td>14501.0</td>\n      <td>47.0</td>\n      <td>61520.0</td>\n      <td>101491.0</td>\n      <td>42.5</td>\n    </tr>\n  </tbody>\n</table>\n<p>5 rows × 23 columns</p>\n</div>"
     },
     "execution_count": 214,
     "metadata": {},
     "output_type": "execute_result"
    }
   ],
   "source": [
    "# merge income information\n",
    "df3 = pd.merge(df3, income_df, on='SA2')\n",
    "df3.head()"
   ],
   "metadata": {
    "collapsed": false,
    "pycharm": {
     "name": "#%%\n"
    }
   }
  },
  {
   "cell_type": "code",
   "execution_count": 215,
   "outputs": [
    {
     "data": {
      "text/plain": "42736"
     },
     "execution_count": 215,
     "metadata": {},
     "output_type": "execute_result"
    }
   ],
   "source": [
    "len(df3)"
   ],
   "metadata": {
    "collapsed": false,
    "pycharm": {
     "name": "#%%\n"
    }
   }
  },
  {
   "cell_type": "markdown",
   "source": [
    "### Embed population statistics"
   ],
   "metadata": {
    "collapsed": false
   }
  },
  {
   "cell_type": "code",
   "execution_count": 216,
   "outputs": [
    {
     "data": {
      "text/plain": "         SA2  population_total  population_children  population_prime_working  \\\n0  201011001             16823                 4075                      6702   \n1  201011002             12076                 1806                      4321   \n2  201011005              7232                 1532                      2483   \n3  201011006             10640                 2299                      4347   \n4  201011007              4213                  904                      1533   \n\n   population_elderly  population_early_working  population_mature_working  \n0                2098                      2391                       1557  \n1                2750                      1565                       1634  \n2                1295                       944                        978  \n3                1543                      1434                       1017  \n4                 594                       559                        623  ",
      "text/html": "<div>\n<style scoped>\n    .dataframe tbody tr th:only-of-type {\n        vertical-align: middle;\n    }\n\n    .dataframe tbody tr th {\n        vertical-align: top;\n    }\n\n    .dataframe thead th {\n        text-align: right;\n    }\n</style>\n<table border=\"1\" class=\"dataframe\">\n  <thead>\n    <tr style=\"text-align: right;\">\n      <th></th>\n      <th>SA2</th>\n      <th>population_total</th>\n      <th>population_children</th>\n      <th>population_prime_working</th>\n      <th>population_elderly</th>\n      <th>population_early_working</th>\n      <th>population_mature_working</th>\n    </tr>\n  </thead>\n  <tbody>\n    <tr>\n      <th>0</th>\n      <td>201011001</td>\n      <td>16823</td>\n      <td>4075</td>\n      <td>6702</td>\n      <td>2098</td>\n      <td>2391</td>\n      <td>1557</td>\n    </tr>\n    <tr>\n      <th>1</th>\n      <td>201011002</td>\n      <td>12076</td>\n      <td>1806</td>\n      <td>4321</td>\n      <td>2750</td>\n      <td>1565</td>\n      <td>1634</td>\n    </tr>\n    <tr>\n      <th>2</th>\n      <td>201011005</td>\n      <td>7232</td>\n      <td>1532</td>\n      <td>2483</td>\n      <td>1295</td>\n      <td>944</td>\n      <td>978</td>\n    </tr>\n    <tr>\n      <th>3</th>\n      <td>201011006</td>\n      <td>10640</td>\n      <td>2299</td>\n      <td>4347</td>\n      <td>1543</td>\n      <td>1434</td>\n      <td>1017</td>\n    </tr>\n    <tr>\n      <th>4</th>\n      <td>201011007</td>\n      <td>4213</td>\n      <td>904</td>\n      <td>1533</td>\n      <td>594</td>\n      <td>559</td>\n      <td>623</td>\n    </tr>\n  </tbody>\n</table>\n</div>"
     },
     "execution_count": 216,
     "metadata": {},
     "output_type": "execute_result"
    }
   ],
   "source": [
    "# the csv file was exported from MS Excel as Python's ability to read csv with weird formating is limited\n",
    "population_df = pd.read_csv(f'{files_dire}/abs/population.csv')\n",
    "population_df = population_df.iloc[: , 8:]\n",
    "# age are grouped into following categories\n",
    "# they are sumed to produce these columns\n",
    "# 0-14 years (children), 15-24 years (early working age), 25-54 years (prime working age), 55-64 years (mature working age), 65 years and over (elderly)\n",
    "population_df['population_children'] = population_df[['0-4', '5–9', '10–14']].sum(axis = 1)\n",
    "population_df = population_df.drop(['0-4', '5–9', '10–14'], axis=1)\n",
    "population_df['population_prime_working'] = population_df[['25–29', '30–34', '35–39', '40–44', '45–49', '50–54']].sum(axis = 1)\n",
    "population_df = population_df.drop(['25–29', '30–34', '35–39', '40–44', '45–49', '50–54'], axis=1)\n",
    "population_df['population_elderly'] = population_df[['65–69', '70–74', '75–79', '80–84', '85 and over']].sum(axis = 1)\n",
    "population_df = population_df.drop(['65–69', '70–74', '75–79', '80–84', '85 and over'], axis=1)\n",
    "population_df['population_early_working'] = population_df.iloc[:,2] + population_df.iloc[:,3]\n",
    "population_df['population_mature_working'] = population_df.iloc[:,4] + population_df.iloc[:,5]\n",
    "population_df = population_df.drop(['15–19', '20–24', '55–59', '60–64', 'SA2 name'], axis=1)\n",
    "population_df = population_df.rename(columns={'Total persons': 'population_total', 'SA2 code': 'SA2'}, errors=\"raise\")\n",
    "population_df.head()"
   ],
   "metadata": {
    "collapsed": false,
    "pycharm": {
     "name": "#%%\n"
    }
   }
  },
  {
   "cell_type": "code",
   "execution_count": 217,
   "outputs": [
    {
     "data": {
      "text/plain": "   bed  bath  car       type                         address      suburb  \\\n0    3     1    2        AUF      . GLYNDON ROAD, CAMBERWELL  Camberwell   \n1    4     2    3        NaN      1 NEVIS STREET, CAMBERWELL  Camberwell   \n2    3     2    2  Townhouse  1/1017 TOORAK ROAD, CAMBERWELL  Camberwell   \n3    2     1    1        AUF    1/11 EDDY STREET, CAMBERWELL  Camberwell   \n4    2     1    1        AUF   1/11 ORANGE GROVE, CAMBERWELL  Camberwell   \n\n   postcode                                                url  \\\n0      3124  https://www.oldlistings.com.au/real-estate/VIC...   \n1      3124  https://www.oldlistings.com.au/real-estate/VIC...   \n2      3124  https://www.oldlistings.com.au/real-estate/VIC...   \n3      3124  https://www.oldlistings.com.au/real-estate/VIC...   \n4      3124  https://www.oldlistings.com.au/real-estate/VIC...   \n\n                                         loc_address        lat  ...  \\\n0  Glyndon Road, Camberwell, Melbourne, City of B... -37.836230  ...   \n1  Nevis Street, Camberwell, Melbourne, City of B... -37.843101  ...   \n2  Toorak Road, Camberwell, Melbourne, City of Bo... -37.850405  ...   \n3  Eddy Street, Camberwell, Melbourne, City of Bo... -37.846792  ...   \n4  Orange Grove, Camberwell, Melbourne, City of B... -37.841181  ...   \n\n   income_median_age  income_median income_mean income_top_10_pct  \\\n0               47.0        61520.0    101491.0              42.5   \n1               47.0        61520.0    101491.0              42.5   \n2               47.0        61520.0    101491.0              42.5   \n3               47.0        61520.0    101491.0              42.5   \n4               47.0        61520.0    101491.0              42.5   \n\n   population_total population_children  population_prime_working  \\\n0             21512                3506                      7721   \n1             21512                3506                      7721   \n2             21512                3506                      7721   \n3             21512                3506                      7721   \n4             21512                3506                      7721   \n\n  population_elderly  population_early_working  population_mature_working  \n0               4504                      3069                       2712  \n1               4504                      3069                       2712  \n2               4504                      3069                       2712  \n3               4504                      3069                       2712  \n4               4504                      3069                       2712  \n\n[5 rows x 29 columns]",
      "text/html": "<div>\n<style scoped>\n    .dataframe tbody tr th:only-of-type {\n        vertical-align: middle;\n    }\n\n    .dataframe tbody tr th {\n        vertical-align: top;\n    }\n\n    .dataframe thead th {\n        text-align: right;\n    }\n</style>\n<table border=\"1\" class=\"dataframe\">\n  <thead>\n    <tr style=\"text-align: right;\">\n      <th></th>\n      <th>bed</th>\n      <th>bath</th>\n      <th>car</th>\n      <th>type</th>\n      <th>address</th>\n      <th>suburb</th>\n      <th>postcode</th>\n      <th>url</th>\n      <th>loc_address</th>\n      <th>lat</th>\n      <th>...</th>\n      <th>income_median_age</th>\n      <th>income_median</th>\n      <th>income_mean</th>\n      <th>income_top_10_pct</th>\n      <th>population_total</th>\n      <th>population_children</th>\n      <th>population_prime_working</th>\n      <th>population_elderly</th>\n      <th>population_early_working</th>\n      <th>population_mature_working</th>\n    </tr>\n  </thead>\n  <tbody>\n    <tr>\n      <th>0</th>\n      <td>3</td>\n      <td>1</td>\n      <td>2</td>\n      <td>AUF</td>\n      <td>. GLYNDON ROAD, CAMBERWELL</td>\n      <td>Camberwell</td>\n      <td>3124</td>\n      <td>https://www.oldlistings.com.au/real-estate/VIC...</td>\n      <td>Glyndon Road, Camberwell, Melbourne, City of B...</td>\n      <td>-37.836230</td>\n      <td>...</td>\n      <td>47.0</td>\n      <td>61520.0</td>\n      <td>101491.0</td>\n      <td>42.5</td>\n      <td>21512</td>\n      <td>3506</td>\n      <td>7721</td>\n      <td>4504</td>\n      <td>3069</td>\n      <td>2712</td>\n    </tr>\n    <tr>\n      <th>1</th>\n      <td>4</td>\n      <td>2</td>\n      <td>3</td>\n      <td>NaN</td>\n      <td>1 NEVIS STREET, CAMBERWELL</td>\n      <td>Camberwell</td>\n      <td>3124</td>\n      <td>https://www.oldlistings.com.au/real-estate/VIC...</td>\n      <td>Nevis Street, Camberwell, Melbourne, City of B...</td>\n      <td>-37.843101</td>\n      <td>...</td>\n      <td>47.0</td>\n      <td>61520.0</td>\n      <td>101491.0</td>\n      <td>42.5</td>\n      <td>21512</td>\n      <td>3506</td>\n      <td>7721</td>\n      <td>4504</td>\n      <td>3069</td>\n      <td>2712</td>\n    </tr>\n    <tr>\n      <th>2</th>\n      <td>3</td>\n      <td>2</td>\n      <td>2</td>\n      <td>Townhouse</td>\n      <td>1/1017 TOORAK ROAD, CAMBERWELL</td>\n      <td>Camberwell</td>\n      <td>3124</td>\n      <td>https://www.oldlistings.com.au/real-estate/VIC...</td>\n      <td>Toorak Road, Camberwell, Melbourne, City of Bo...</td>\n      <td>-37.850405</td>\n      <td>...</td>\n      <td>47.0</td>\n      <td>61520.0</td>\n      <td>101491.0</td>\n      <td>42.5</td>\n      <td>21512</td>\n      <td>3506</td>\n      <td>7721</td>\n      <td>4504</td>\n      <td>3069</td>\n      <td>2712</td>\n    </tr>\n    <tr>\n      <th>3</th>\n      <td>2</td>\n      <td>1</td>\n      <td>1</td>\n      <td>AUF</td>\n      <td>1/11 EDDY STREET, CAMBERWELL</td>\n      <td>Camberwell</td>\n      <td>3124</td>\n      <td>https://www.oldlistings.com.au/real-estate/VIC...</td>\n      <td>Eddy Street, Camberwell, Melbourne, City of Bo...</td>\n      <td>-37.846792</td>\n      <td>...</td>\n      <td>47.0</td>\n      <td>61520.0</td>\n      <td>101491.0</td>\n      <td>42.5</td>\n      <td>21512</td>\n      <td>3506</td>\n      <td>7721</td>\n      <td>4504</td>\n      <td>3069</td>\n      <td>2712</td>\n    </tr>\n    <tr>\n      <th>4</th>\n      <td>2</td>\n      <td>1</td>\n      <td>1</td>\n      <td>AUF</td>\n      <td>1/11 ORANGE GROVE, CAMBERWELL</td>\n      <td>Camberwell</td>\n      <td>3124</td>\n      <td>https://www.oldlistings.com.au/real-estate/VIC...</td>\n      <td>Orange Grove, Camberwell, Melbourne, City of B...</td>\n      <td>-37.841181</td>\n      <td>...</td>\n      <td>47.0</td>\n      <td>61520.0</td>\n      <td>101491.0</td>\n      <td>42.5</td>\n      <td>21512</td>\n      <td>3506</td>\n      <td>7721</td>\n      <td>4504</td>\n      <td>3069</td>\n      <td>2712</td>\n    </tr>\n  </tbody>\n</table>\n<p>5 rows × 29 columns</p>\n</div>"
     },
     "execution_count": 217,
     "metadata": {},
     "output_type": "execute_result"
    }
   ],
   "source": [
    "df3 = pd.merge(df3, population_df, on='SA2')\n",
    "df3.head()"
   ],
   "metadata": {
    "collapsed": false,
    "pycharm": {
     "name": "#%%\n"
    }
   }
  },
  {
   "cell_type": "code",
   "execution_count": 218,
   "outputs": [
    {
     "data": {
      "text/plain": "31533"
     },
     "execution_count": 218,
     "metadata": {},
     "output_type": "execute_result"
    }
   ],
   "source": [
    "len(df3)"
   ],
   "metadata": {
    "collapsed": false,
    "pycharm": {
     "name": "#%%\n"
    }
   }
  },
  {
   "cell_type": "markdown",
   "source": [
    "### Embed school locations"
   ],
   "metadata": {
    "collapsed": false
   }
  },
  {
   "cell_type": "code",
   "execution_count": 219,
   "outputs": [],
   "source": [
    "school_df = pd.read_csv('../data/raw/schools.csv')\n",
    "school_df = school_df.drop(['Entity_Type', 'School_No', 'School_Status', 'Address_Line_1', 'Address_Line_2',\n",
    "         'Address_Town', 'Address_State', 'Address_Postcode',\n",
    "         'Postal_Address_Line_1', 'Postal_Address_Line_2', 'Postal_Town',\n",
    "         'Postal_State', 'Postal_Postcode', 'Full_Phone_No', 'LGA_ID',\n",
    "         'LGA_Name'], axis=1)\n",
    "school_df['geo_coordinate'] = [(x, y) for x,y in zip(school_df['Y'], school_df['X'])]\n",
    "# only retain public schools\n",
    "school_df = school_df.loc[school_df['Education_Sector']=='Government']"
   ],
   "metadata": {
    "collapsed": false,
    "pycharm": {
     "name": "#%%\n"
    }
   }
  },
  {
   "cell_type": "code",
   "execution_count": 220,
   "outputs": [],
   "source": [
    "# this is adapted from stackoverflow\n",
    "# https://codereview.stackexchange.com/questions/28207/finding-the-closest-point-to-a-list-of-points\n",
    "def closest_point(point, points):\n",
    "    # Find closest point from a list of points.\n",
    "    return points[cdist([point], points).argmin()]\n",
    "def match_value(df, col1, x, col2):\n",
    "    # Match value x from col1 row to value in col2.\n",
    "    return df[df[col1] == x][col2].values[0]"
   ],
   "metadata": {
    "collapsed": false,
    "pycharm": {
     "name": "#%%\n"
    }
   }
  },
  {
   "cell_type": "code",
   "execution_count": 221,
   "outputs": [
    {
     "data": {
      "text/plain": "   bed  bath  car       type                         address      suburb  \\\n0    3     1    2        AUF      . GLYNDON ROAD, CAMBERWELL  Camberwell   \n1    4     2    3        NaN      1 NEVIS STREET, CAMBERWELL  Camberwell   \n2    3     2    2  Townhouse  1/1017 TOORAK ROAD, CAMBERWELL  Camberwell   \n3    2     1    1        AUF    1/11 EDDY STREET, CAMBERWELL  Camberwell   \n4    2     1    1        AUF   1/11 ORANGE GROVE, CAMBERWELL  Camberwell   \n\n   postcode                                                url  \\\n0      3124  https://www.oldlistings.com.au/real-estate/VIC...   \n1      3124  https://www.oldlistings.com.au/real-estate/VIC...   \n2      3124  https://www.oldlistings.com.au/real-estate/VIC...   \n3      3124  https://www.oldlistings.com.au/real-estate/VIC...   \n4      3124  https://www.oldlistings.com.au/real-estate/VIC...   \n\n                                         loc_address        lat  ...  \\\n0  Glyndon Road, Camberwell, Melbourne, City of B... -37.836230  ...   \n1  Nevis Street, Camberwell, Melbourne, City of B... -37.843101  ...   \n2  Toorak Road, Camberwell, Melbourne, City of Bo... -37.850405  ...   \n3  Eddy Street, Camberwell, Melbourne, City of Bo... -37.846792  ...   \n4  Orange Grove, Camberwell, Melbourne, City of B... -37.841181  ...   \n\n   income_median  income_mean income_top_10_pct population_total  \\\n0        61520.0     101491.0              42.5            21512   \n1        61520.0     101491.0              42.5            21512   \n2        61520.0     101491.0              42.5            21512   \n3        61520.0     101491.0              42.5            21512   \n4        61520.0     101491.0              42.5            21512   \n\n   population_children population_prime_working  population_elderly  \\\n0                 3506                     7721                4504   \n1                 3506                     7721                4504   \n2                 3506                     7721                4504   \n3                 3506                     7721                4504   \n4                 3506                     7721                4504   \n\n  population_early_working  population_mature_working  \\\n0                     3069                       2712   \n1                     3069                       2712   \n2                     3069                       2712   \n3                     3069                       2712   \n4                     3069                       2712   \n\n               geo_coordinate  \n0  (-37.8362297, 145.0790033)  \n1   (-37.8431012, 145.080403)  \n2  (-37.8504051, 145.0955675)  \n3  (-37.8467915, 145.0727223)  \n4  (-37.8411808, 145.0672378)  \n\n[5 rows x 30 columns]",
      "text/html": "<div>\n<style scoped>\n    .dataframe tbody tr th:only-of-type {\n        vertical-align: middle;\n    }\n\n    .dataframe tbody tr th {\n        vertical-align: top;\n    }\n\n    .dataframe thead th {\n        text-align: right;\n    }\n</style>\n<table border=\"1\" class=\"dataframe\">\n  <thead>\n    <tr style=\"text-align: right;\">\n      <th></th>\n      <th>bed</th>\n      <th>bath</th>\n      <th>car</th>\n      <th>type</th>\n      <th>address</th>\n      <th>suburb</th>\n      <th>postcode</th>\n      <th>url</th>\n      <th>loc_address</th>\n      <th>lat</th>\n      <th>...</th>\n      <th>income_median</th>\n      <th>income_mean</th>\n      <th>income_top_10_pct</th>\n      <th>population_total</th>\n      <th>population_children</th>\n      <th>population_prime_working</th>\n      <th>population_elderly</th>\n      <th>population_early_working</th>\n      <th>population_mature_working</th>\n      <th>geo_coordinate</th>\n    </tr>\n  </thead>\n  <tbody>\n    <tr>\n      <th>0</th>\n      <td>3</td>\n      <td>1</td>\n      <td>2</td>\n      <td>AUF</td>\n      <td>. GLYNDON ROAD, CAMBERWELL</td>\n      <td>Camberwell</td>\n      <td>3124</td>\n      <td>https://www.oldlistings.com.au/real-estate/VIC...</td>\n      <td>Glyndon Road, Camberwell, Melbourne, City of B...</td>\n      <td>-37.836230</td>\n      <td>...</td>\n      <td>61520.0</td>\n      <td>101491.0</td>\n      <td>42.5</td>\n      <td>21512</td>\n      <td>3506</td>\n      <td>7721</td>\n      <td>4504</td>\n      <td>3069</td>\n      <td>2712</td>\n      <td>(-37.8362297, 145.0790033)</td>\n    </tr>\n    <tr>\n      <th>1</th>\n      <td>4</td>\n      <td>2</td>\n      <td>3</td>\n      <td>NaN</td>\n      <td>1 NEVIS STREET, CAMBERWELL</td>\n      <td>Camberwell</td>\n      <td>3124</td>\n      <td>https://www.oldlistings.com.au/real-estate/VIC...</td>\n      <td>Nevis Street, Camberwell, Melbourne, City of B...</td>\n      <td>-37.843101</td>\n      <td>...</td>\n      <td>61520.0</td>\n      <td>101491.0</td>\n      <td>42.5</td>\n      <td>21512</td>\n      <td>3506</td>\n      <td>7721</td>\n      <td>4504</td>\n      <td>3069</td>\n      <td>2712</td>\n      <td>(-37.8431012, 145.080403)</td>\n    </tr>\n    <tr>\n      <th>2</th>\n      <td>3</td>\n      <td>2</td>\n      <td>2</td>\n      <td>Townhouse</td>\n      <td>1/1017 TOORAK ROAD, CAMBERWELL</td>\n      <td>Camberwell</td>\n      <td>3124</td>\n      <td>https://www.oldlistings.com.au/real-estate/VIC...</td>\n      <td>Toorak Road, Camberwell, Melbourne, City of Bo...</td>\n      <td>-37.850405</td>\n      <td>...</td>\n      <td>61520.0</td>\n      <td>101491.0</td>\n      <td>42.5</td>\n      <td>21512</td>\n      <td>3506</td>\n      <td>7721</td>\n      <td>4504</td>\n      <td>3069</td>\n      <td>2712</td>\n      <td>(-37.8504051, 145.0955675)</td>\n    </tr>\n    <tr>\n      <th>3</th>\n      <td>2</td>\n      <td>1</td>\n      <td>1</td>\n      <td>AUF</td>\n      <td>1/11 EDDY STREET, CAMBERWELL</td>\n      <td>Camberwell</td>\n      <td>3124</td>\n      <td>https://www.oldlistings.com.au/real-estate/VIC...</td>\n      <td>Eddy Street, Camberwell, Melbourne, City of Bo...</td>\n      <td>-37.846792</td>\n      <td>...</td>\n      <td>61520.0</td>\n      <td>101491.0</td>\n      <td>42.5</td>\n      <td>21512</td>\n      <td>3506</td>\n      <td>7721</td>\n      <td>4504</td>\n      <td>3069</td>\n      <td>2712</td>\n      <td>(-37.8467915, 145.0727223)</td>\n    </tr>\n    <tr>\n      <th>4</th>\n      <td>2</td>\n      <td>1</td>\n      <td>1</td>\n      <td>AUF</td>\n      <td>1/11 ORANGE GROVE, CAMBERWELL</td>\n      <td>Camberwell</td>\n      <td>3124</td>\n      <td>https://www.oldlistings.com.au/real-estate/VIC...</td>\n      <td>Orange Grove, Camberwell, Melbourne, City of B...</td>\n      <td>-37.841181</td>\n      <td>...</td>\n      <td>61520.0</td>\n      <td>101491.0</td>\n      <td>42.5</td>\n      <td>21512</td>\n      <td>3506</td>\n      <td>7721</td>\n      <td>4504</td>\n      <td>3069</td>\n      <td>2712</td>\n      <td>(-37.8411808, 145.0672378)</td>\n    </tr>\n  </tbody>\n</table>\n<p>5 rows × 30 columns</p>\n</div>"
     },
     "execution_count": 221,
     "metadata": {},
     "output_type": "execute_result"
    }
   ],
   "source": [
    "df3['geo_coordinate'] = [(x, y) for x,y in zip(df3['lat'], df3['lon'])]\n",
    "df3.head()"
   ],
   "metadata": {
    "collapsed": false,
    "pycharm": {
     "name": "#%%\n"
    }
   }
  },
  {
   "cell_type": "markdown",
   "source": [
    "##### primary schools"
   ],
   "metadata": {
    "collapsed": false
   }
  },
  {
   "cell_type": "code",
   "execution_count": 222,
   "outputs": [],
   "source": [
    "school_type = ['Primary', 'Pri/Sec']\n",
    "school_primary_df = school_df.loc[school_df['School_Type'].isin(school_type)]"
   ],
   "metadata": {
    "collapsed": false,
    "pycharm": {
     "name": "#%%\n"
    }
   }
  },
  {
   "cell_type": "code",
   "execution_count": 223,
   "outputs": [
    {
     "name": "stderr",
     "output_type": "stream",
     "text": [
      "100%|██████████| 31533/31533 [00:00<00:00, 5076925.57it/s]\n",
      "100%|██████████| 31533/31533 [00:00<00:00, 5121553.13it/s]\n"
     ]
    }
   ],
   "source": [
    "# primary school\n",
    "df3['closest_primary_school_loc'] = tqdm([closest_point(x, list(school_primary_df['geo_coordinate'])) for x in df3['geo_coordinate']])\n",
    "df3['primary_school_name'] = tqdm([match_value(school_primary_df, 'geo_coordinate', x, 'School_Name') for x in df3['closest_primary_school_loc']])"
   ],
   "metadata": {
    "collapsed": false,
    "pycharm": {
     "name": "#%%\n"
    }
   }
  },
  {
   "cell_type": "markdown",
   "source": [
    "##### secondary schools"
   ],
   "metadata": {
    "collapsed": false
   }
  },
  {
   "cell_type": "code",
   "execution_count": 224,
   "outputs": [],
   "source": [
    "school_type = ['Secondary', 'Pri/Sec']\n",
    "school_secondary_df = school_df.loc[school_df['School_Type'].isin(school_type)]"
   ],
   "metadata": {
    "collapsed": false,
    "pycharm": {
     "name": "#%%\n"
    }
   }
  },
  {
   "cell_type": "code",
   "execution_count": 225,
   "outputs": [],
   "source": [
    "# embed secondary school ranking information\n",
    "# considering some family may rent a property for its free education\n",
    "school_ranking = pd.read_html('https://bettereducation.com.au/Results/vcePublicSchoolResults.aspx')[-1]\n",
    "school_ranking = school_ranking[['Better Education Rank', 'School', 'Unit 3-4 cohort']]\n",
    "school_ranking = school_ranking.rename(columns={'School': 'School_Name', 'Better Education Rank': 'secondary_school_rank', 'Unit 3-4 cohort': 'secondary_cohort'}, errors=\"coerce\")\n",
    "school_secondary_df = pd.merge(school_secondary_df, school_ranking, on='School_Name')"
   ],
   "metadata": {
    "collapsed": false,
    "pycharm": {
     "name": "#%%\n"
    }
   }
  },
  {
   "cell_type": "code",
   "execution_count": 226,
   "outputs": [
    {
     "name": "stderr",
     "output_type": "stream",
     "text": [
      "100%|██████████| 31533/31533 [00:00<00:00, 5193143.87it/s]\n",
      "100%|██████████| 31533/31533 [00:00<00:00, 5145062.94it/s]\n",
      "100%|██████████| 31533/31533 [00:00<00:00, 5127907.41it/s]\n",
      "100%|██████████| 31533/31533 [00:00<00:00, 4923279.78it/s]\n"
     ]
    }
   ],
   "source": [
    "df3['closest_secondary_school_loc'] = tqdm([closest_point(x, list(school_secondary_df['geo_coordinate'])) for x in df3['geo_coordinate']])\n",
    "df3['secondary_school_name'] = tqdm([match_value(school_secondary_df, 'geo_coordinate', x, 'School_Name') for x in df3['closest_secondary_school_loc']])\n",
    "df3['secondary_school_rank'] = tqdm([match_value(school_secondary_df, 'geo_coordinate', x, 'secondary_school_rank') for x in df3['closest_secondary_school_loc']])\n",
    "df3['secondary_school_cohort'] = tqdm([match_value(school_secondary_df, 'geo_coordinate', x, 'secondary_cohort') for x in df3['closest_secondary_school_loc']])"
   ],
   "metadata": {
    "collapsed": false,
    "pycharm": {
     "name": "#%%\n"
    }
   }
  },
  {
   "cell_type": "code",
   "execution_count": 227,
   "outputs": [],
   "source": [
    "df3['closest_primary_school_loc'] = df3['closest_primary_school_loc'].astype('str')\n",
    "df3['closest_secondary_school_loc'] = df3['closest_secondary_school_loc'].astype('str')"
   ],
   "metadata": {
    "collapsed": false,
    "pycharm": {
     "name": "#%%\n"
    }
   }
  },
  {
   "cell_type": "code",
   "execution_count": 228,
   "outputs": [
    {
     "name": "stderr",
     "output_type": "stream",
     "text": [
      "/var/folders/y5/myhyydfd6h9dlwv1qmqtqhmr0000gn/T/ipykernel_97198/1371061774.py:1: FutureWarning: In a future version of pandas all arguments of StringMethods.split except for the argument 'pat' will be keyword-only.\n",
      "  df3[['pri_lat', 'pri_lon']] = df3['closest_primary_school_loc'].str.split(', ', 1, expand=True)\n",
      "/var/folders/y5/myhyydfd6h9dlwv1qmqtqhmr0000gn/T/ipykernel_97198/1371061774.py:2: FutureWarning: In a future version of pandas all arguments of StringMethods.split except for the argument 'pat' will be keyword-only.\n",
      "  df3[['sec_lat', 'sec_lon']] = df3['closest_secondary_school_loc'].str.split(',', 1, expand=True)\n"
     ]
    }
   ],
   "source": [
    "df3[['pri_lat', 'pri_lon']] = df3['closest_primary_school_loc'].str.split(', ', 1, expand=True)\n",
    "df3[['sec_lat', 'sec_lon']] = df3['closest_secondary_school_loc'].str.split(',', 1, expand=True)"
   ],
   "metadata": {
    "collapsed": false,
    "pycharm": {
     "name": "#%%\n"
    }
   }
  },
  {
   "cell_type": "code",
   "execution_count": 229,
   "outputs": [],
   "source": [
    "bracket_remove = ['pri_lat', 'pri_lon', 'sec_lat', 'sec_lon']\n",
    "for i in bracket_remove:\n",
    "    df3[i] = df3[i].str.strip('()')\n",
    "df3[bracket_remove] = df3[bracket_remove].apply(pd.to_numeric, errors='coerce')"
   ],
   "metadata": {
    "collapsed": false,
    "pycharm": {
     "name": "#%%\n"
    }
   }
  },
  {
   "cell_type": "code",
   "execution_count": 230,
   "outputs": [],
   "source": [
    "df3 = df3.drop(['closest_primary_school_loc', 'closest_secondary_school_loc'], axis = 1)"
   ],
   "metadata": {
    "collapsed": false,
    "pycharm": {
     "name": "#%%\n"
    }
   }
  },
  {
   "cell_type": "code",
   "execution_count": 231,
   "outputs": [
    {
     "data": {
      "text/plain": "       bed  bath  car       type                             address  \\\n0        3     1    2        AUF          . GLYNDON ROAD, CAMBERWELL   \n1        4     2    3        NaN          1 NEVIS STREET, CAMBERWELL   \n2        3     2    2  Townhouse      1/1017 TOORAK ROAD, CAMBERWELL   \n3        2     1    1        AUF        1/11 EDDY STREET, CAMBERWELL   \n4        2     1    1        AUF       1/11 ORANGE GROVE, CAMBERWELL   \n...    ...   ...  ...        ...                                 ...   \n31528    3     2    2      House  25 CHARLES SMITH DRIVE, WONGA PARK   \n31529    2     1    2      House          389 YARRA ROAD, WONGA PARK   \n31530    2     1    1        AUF       3/1 WEST END ROAD, WARRANDYTE   \n31531    3     2    2      House    48 BEAUTY GULLY ROAD, WARRANDYTE   \n31532    4     2    2      House     49 ALPINE RIDGE DRIVE, MERRIJIG   \n\n           suburb  postcode  \\\n0      Camberwell      3124   \n1      Camberwell      3124   \n2      Camberwell      3124   \n3      Camberwell      3124   \n4      Camberwell      3124   \n...           ...       ...   \n31528  Wonga Park      3115   \n31529  Wonga Park      3115   \n31530  Warrandyte      3113   \n31531  Warrandyte      3113   \n31532    Merrijig      3723   \n\n                                                     url  \\\n0      https://www.oldlistings.com.au/real-estate/VIC...   \n1      https://www.oldlistings.com.au/real-estate/VIC...   \n2      https://www.oldlistings.com.au/real-estate/VIC...   \n3      https://www.oldlistings.com.au/real-estate/VIC...   \n4      https://www.oldlistings.com.au/real-estate/VIC...   \n...                                                  ...   \n31528  https://www.oldlistings.com.au/real-estate/VIC...   \n31529  https://www.oldlistings.com.au/real-estate/VIC...   \n31530  https://www.oldlistings.com.au/real-estate/VIC...   \n31531  https://www.oldlistings.com.au/real-estate/VIC...   \n31532  https://www.oldlistings.com.au/real-estate/VIC...   \n\n                                             loc_address        lat  ...  \\\n0      Glyndon Road, Camberwell, Melbourne, City of B... -37.836230  ...   \n1      Nevis Street, Camberwell, Melbourne, City of B... -37.843101  ...   \n2      Toorak Road, Camberwell, Melbourne, City of Bo... -37.850405  ...   \n3      Eddy Street, Camberwell, Melbourne, City of Bo... -37.846792  ...   \n4      Orange Grove, Camberwell, Melbourne, City of B... -37.841181  ...   \n...                                                  ...        ...  ...   \n31528  Charles Smith Drive, Wonga Park, Melbourne, Ci... -37.767758  ...   \n31529  Yarra Road, Wonga Park South, Wonga Park, Melb... -37.751110  ...   \n31530  West End Road, Warrandyte, Melbourne, City of ... -37.743661  ...   \n31531  Beauty Gully Road, Warrandyte, Melbourne, City... -37.759570  ...   \n31532  Alpine Ridge Drive, Merrijig, Sawmill Settleme... -37.109772  ...   \n\n       population_mature_working              geo_coordinate  \\\n0                           2712  (-37.8362297, 145.0790033)   \n1                           2712   (-37.8431012, 145.080403)   \n2                           2712  (-37.8504051, 145.0955675)   \n3                           2712  (-37.8467915, 145.0727223)   \n4                           2712  (-37.8411808, 145.0672378)   \n...                          ...                         ...   \n31528                       1600  (-37.7677579, 145.2703888)   \n31529                       1600  (-37.7511101, 145.2714333)   \n31530                       1600  (-37.7436613, 145.2039103)   \n31531                       1600  (-37.7595698, 145.2126606)   \n31532                       1708  (-37.1097723, 146.3497923)   \n\n                   primary_school_name             secondary_school_name  \\\n0            Canterbury Primary School            Camberwell High School   \n1              Hartwell Primary School            Camberwell High School   \n2           Wattle Park Primary School               Ashwood High School   \n3      Camberwell South Primary School            Camberwell High School   \n4      Camberwell South Primary School            Camberwell High School   \n...                                ...                               ...   \n31528        Yarra Road Primary School               Mooroolbark College   \n31529        Yarra Road Primary School               Mooroolbark College   \n31530   Andersons Creek Primary School  East Doncaster Secondary College   \n31531   Andersons Creek Primary School         Norwood Secondary College   \n31532          Merrijig Primary School       Mansfield Secondary College   \n\n       secondary_school_rank secondary_school_cohort    pri_lat     pri_lon  \\\n0                         40                     290 -37.830963  145.083144   \n1                         40                     290 -37.848051  145.084466   \n2                         17                      42 -37.842635  145.097370   \n3                         40                     290 -37.847905  145.062612   \n4                         40                     290 -37.847905  145.062612   \n...                      ...                     ...        ...         ...   \n31528                     74                     258 -37.766401  145.272227   \n31529                     74                     258 -37.766401  145.272227   \n31530                      7                     342 -37.748220  145.207680   \n31531                     85                     255 -37.748220  145.207680   \n31532                     45                      56 -37.102798  146.256880   \n\n         sec_lat     sec_lon  \n0     -37.830151  145.072821  \n1     -37.830151  145.072821  \n2     -37.864527  145.103328  \n3     -37.830151  145.072821  \n4     -37.830151  145.072821  \n...          ...         ...  \n31528 -37.775083  145.314230  \n31529 -37.775083  145.314230  \n31530 -37.782127  145.158557  \n31531 -37.799752  145.237605  \n31532 -37.062676  146.088565  \n\n[31533 rows x 38 columns]",
      "text/html": "<div>\n<style scoped>\n    .dataframe tbody tr th:only-of-type {\n        vertical-align: middle;\n    }\n\n    .dataframe tbody tr th {\n        vertical-align: top;\n    }\n\n    .dataframe thead th {\n        text-align: right;\n    }\n</style>\n<table border=\"1\" class=\"dataframe\">\n  <thead>\n    <tr style=\"text-align: right;\">\n      <th></th>\n      <th>bed</th>\n      <th>bath</th>\n      <th>car</th>\n      <th>type</th>\n      <th>address</th>\n      <th>suburb</th>\n      <th>postcode</th>\n      <th>url</th>\n      <th>loc_address</th>\n      <th>lat</th>\n      <th>...</th>\n      <th>population_mature_working</th>\n      <th>geo_coordinate</th>\n      <th>primary_school_name</th>\n      <th>secondary_school_name</th>\n      <th>secondary_school_rank</th>\n      <th>secondary_school_cohort</th>\n      <th>pri_lat</th>\n      <th>pri_lon</th>\n      <th>sec_lat</th>\n      <th>sec_lon</th>\n    </tr>\n  </thead>\n  <tbody>\n    <tr>\n      <th>0</th>\n      <td>3</td>\n      <td>1</td>\n      <td>2</td>\n      <td>AUF</td>\n      <td>. GLYNDON ROAD, CAMBERWELL</td>\n      <td>Camberwell</td>\n      <td>3124</td>\n      <td>https://www.oldlistings.com.au/real-estate/VIC...</td>\n      <td>Glyndon Road, Camberwell, Melbourne, City of B...</td>\n      <td>-37.836230</td>\n      <td>...</td>\n      <td>2712</td>\n      <td>(-37.8362297, 145.0790033)</td>\n      <td>Canterbury Primary School</td>\n      <td>Camberwell High School</td>\n      <td>40</td>\n      <td>290</td>\n      <td>-37.830963</td>\n      <td>145.083144</td>\n      <td>-37.830151</td>\n      <td>145.072821</td>\n    </tr>\n    <tr>\n      <th>1</th>\n      <td>4</td>\n      <td>2</td>\n      <td>3</td>\n      <td>NaN</td>\n      <td>1 NEVIS STREET, CAMBERWELL</td>\n      <td>Camberwell</td>\n      <td>3124</td>\n      <td>https://www.oldlistings.com.au/real-estate/VIC...</td>\n      <td>Nevis Street, Camberwell, Melbourne, City of B...</td>\n      <td>-37.843101</td>\n      <td>...</td>\n      <td>2712</td>\n      <td>(-37.8431012, 145.080403)</td>\n      <td>Hartwell Primary School</td>\n      <td>Camberwell High School</td>\n      <td>40</td>\n      <td>290</td>\n      <td>-37.848051</td>\n      <td>145.084466</td>\n      <td>-37.830151</td>\n      <td>145.072821</td>\n    </tr>\n    <tr>\n      <th>2</th>\n      <td>3</td>\n      <td>2</td>\n      <td>2</td>\n      <td>Townhouse</td>\n      <td>1/1017 TOORAK ROAD, CAMBERWELL</td>\n      <td>Camberwell</td>\n      <td>3124</td>\n      <td>https://www.oldlistings.com.au/real-estate/VIC...</td>\n      <td>Toorak Road, Camberwell, Melbourne, City of Bo...</td>\n      <td>-37.850405</td>\n      <td>...</td>\n      <td>2712</td>\n      <td>(-37.8504051, 145.0955675)</td>\n      <td>Wattle Park Primary School</td>\n      <td>Ashwood High School</td>\n      <td>17</td>\n      <td>42</td>\n      <td>-37.842635</td>\n      <td>145.097370</td>\n      <td>-37.864527</td>\n      <td>145.103328</td>\n    </tr>\n    <tr>\n      <th>3</th>\n      <td>2</td>\n      <td>1</td>\n      <td>1</td>\n      <td>AUF</td>\n      <td>1/11 EDDY STREET, CAMBERWELL</td>\n      <td>Camberwell</td>\n      <td>3124</td>\n      <td>https://www.oldlistings.com.au/real-estate/VIC...</td>\n      <td>Eddy Street, Camberwell, Melbourne, City of Bo...</td>\n      <td>-37.846792</td>\n      <td>...</td>\n      <td>2712</td>\n      <td>(-37.8467915, 145.0727223)</td>\n      <td>Camberwell South Primary School</td>\n      <td>Camberwell High School</td>\n      <td>40</td>\n      <td>290</td>\n      <td>-37.847905</td>\n      <td>145.062612</td>\n      <td>-37.830151</td>\n      <td>145.072821</td>\n    </tr>\n    <tr>\n      <th>4</th>\n      <td>2</td>\n      <td>1</td>\n      <td>1</td>\n      <td>AUF</td>\n      <td>1/11 ORANGE GROVE, CAMBERWELL</td>\n      <td>Camberwell</td>\n      <td>3124</td>\n      <td>https://www.oldlistings.com.au/real-estate/VIC...</td>\n      <td>Orange Grove, Camberwell, Melbourne, City of B...</td>\n      <td>-37.841181</td>\n      <td>...</td>\n      <td>2712</td>\n      <td>(-37.8411808, 145.0672378)</td>\n      <td>Camberwell South Primary School</td>\n      <td>Camberwell High School</td>\n      <td>40</td>\n      <td>290</td>\n      <td>-37.847905</td>\n      <td>145.062612</td>\n      <td>-37.830151</td>\n      <td>145.072821</td>\n    </tr>\n    <tr>\n      <th>...</th>\n      <td>...</td>\n      <td>...</td>\n      <td>...</td>\n      <td>...</td>\n      <td>...</td>\n      <td>...</td>\n      <td>...</td>\n      <td>...</td>\n      <td>...</td>\n      <td>...</td>\n      <td>...</td>\n      <td>...</td>\n      <td>...</td>\n      <td>...</td>\n      <td>...</td>\n      <td>...</td>\n      <td>...</td>\n      <td>...</td>\n      <td>...</td>\n      <td>...</td>\n      <td>...</td>\n    </tr>\n    <tr>\n      <th>31528</th>\n      <td>3</td>\n      <td>2</td>\n      <td>2</td>\n      <td>House</td>\n      <td>25 CHARLES SMITH DRIVE, WONGA PARK</td>\n      <td>Wonga Park</td>\n      <td>3115</td>\n      <td>https://www.oldlistings.com.au/real-estate/VIC...</td>\n      <td>Charles Smith Drive, Wonga Park, Melbourne, Ci...</td>\n      <td>-37.767758</td>\n      <td>...</td>\n      <td>1600</td>\n      <td>(-37.7677579, 145.2703888)</td>\n      <td>Yarra Road Primary School</td>\n      <td>Mooroolbark College</td>\n      <td>74</td>\n      <td>258</td>\n      <td>-37.766401</td>\n      <td>145.272227</td>\n      <td>-37.775083</td>\n      <td>145.314230</td>\n    </tr>\n    <tr>\n      <th>31529</th>\n      <td>2</td>\n      <td>1</td>\n      <td>2</td>\n      <td>House</td>\n      <td>389 YARRA ROAD, WONGA PARK</td>\n      <td>Wonga Park</td>\n      <td>3115</td>\n      <td>https://www.oldlistings.com.au/real-estate/VIC...</td>\n      <td>Yarra Road, Wonga Park South, Wonga Park, Melb...</td>\n      <td>-37.751110</td>\n      <td>...</td>\n      <td>1600</td>\n      <td>(-37.7511101, 145.2714333)</td>\n      <td>Yarra Road Primary School</td>\n      <td>Mooroolbark College</td>\n      <td>74</td>\n      <td>258</td>\n      <td>-37.766401</td>\n      <td>145.272227</td>\n      <td>-37.775083</td>\n      <td>145.314230</td>\n    </tr>\n    <tr>\n      <th>31530</th>\n      <td>2</td>\n      <td>1</td>\n      <td>1</td>\n      <td>AUF</td>\n      <td>3/1 WEST END ROAD, WARRANDYTE</td>\n      <td>Warrandyte</td>\n      <td>3113</td>\n      <td>https://www.oldlistings.com.au/real-estate/VIC...</td>\n      <td>West End Road, Warrandyte, Melbourne, City of ...</td>\n      <td>-37.743661</td>\n      <td>...</td>\n      <td>1600</td>\n      <td>(-37.7436613, 145.2039103)</td>\n      <td>Andersons Creek Primary School</td>\n      <td>East Doncaster Secondary College</td>\n      <td>7</td>\n      <td>342</td>\n      <td>-37.748220</td>\n      <td>145.207680</td>\n      <td>-37.782127</td>\n      <td>145.158557</td>\n    </tr>\n    <tr>\n      <th>31531</th>\n      <td>3</td>\n      <td>2</td>\n      <td>2</td>\n      <td>House</td>\n      <td>48 BEAUTY GULLY ROAD, WARRANDYTE</td>\n      <td>Warrandyte</td>\n      <td>3113</td>\n      <td>https://www.oldlistings.com.au/real-estate/VIC...</td>\n      <td>Beauty Gully Road, Warrandyte, Melbourne, City...</td>\n      <td>-37.759570</td>\n      <td>...</td>\n      <td>1600</td>\n      <td>(-37.7595698, 145.2126606)</td>\n      <td>Andersons Creek Primary School</td>\n      <td>Norwood Secondary College</td>\n      <td>85</td>\n      <td>255</td>\n      <td>-37.748220</td>\n      <td>145.207680</td>\n      <td>-37.799752</td>\n      <td>145.237605</td>\n    </tr>\n    <tr>\n      <th>31532</th>\n      <td>4</td>\n      <td>2</td>\n      <td>2</td>\n      <td>House</td>\n      <td>49 ALPINE RIDGE DRIVE, MERRIJIG</td>\n      <td>Merrijig</td>\n      <td>3723</td>\n      <td>https://www.oldlistings.com.au/real-estate/VIC...</td>\n      <td>Alpine Ridge Drive, Merrijig, Sawmill Settleme...</td>\n      <td>-37.109772</td>\n      <td>...</td>\n      <td>1708</td>\n      <td>(-37.1097723, 146.3497923)</td>\n      <td>Merrijig Primary School</td>\n      <td>Mansfield Secondary College</td>\n      <td>45</td>\n      <td>56</td>\n      <td>-37.102798</td>\n      <td>146.256880</td>\n      <td>-37.062676</td>\n      <td>146.088565</td>\n    </tr>\n  </tbody>\n</table>\n<p>31533 rows × 38 columns</p>\n</div>"
     },
     "execution_count": 231,
     "metadata": {},
     "output_type": "execute_result"
    }
   ],
   "source": [
    "df3"
   ],
   "metadata": {
    "collapsed": false,
    "pycharm": {
     "name": "#%%\n"
    }
   }
  },
  {
   "cell_type": "code",
   "execution_count": 232,
   "outputs": [
    {
     "data": {
      "text/plain": "bed                                   int64\nbath                                  int64\ncar                                   int64\ntype                                 object\naddress                              object\nsuburb                               object\npostcode                              int64\nurl                                  object\nloc_address                          object\nlat                                 float64\nlon                                 float64\nweekly_rent                         float64\nlist_date                    datetime64[ns]\nlist_history                         object\nlist_count                            int64\nSA2_NAME_2016                        object\nSA2                                   int64\nlgaregion                            object\nincome_earner                       float64\nincome_median_age                   float64\nincome_median                       float64\nincome_mean                         float64\nincome_top_10_pct                   float64\npopulation_total                      int64\npopulation_children                   int64\npopulation_prime_working              int64\npopulation_elderly                    int64\npopulation_early_working              int64\npopulation_mature_working             int64\ngeo_coordinate                       object\nprimary_school_name                  object\nsecondary_school_name                object\nsecondary_school_rank                 int64\nsecondary_school_cohort               int64\npri_lat                             float64\npri_lon                             float64\nsec_lat                             float64\nsec_lon                             float64\ndtype: object"
     },
     "execution_count": 232,
     "metadata": {},
     "output_type": "execute_result"
    }
   ],
   "source": [
    "df3.dtypes"
   ],
   "metadata": {
    "collapsed": false,
    "pycharm": {
     "name": "#%%\n"
    }
   }
  },
  {
   "cell_type": "markdown",
   "source": [
    "### embed population projection"
   ],
   "metadata": {
    "collapsed": false
   }
  },
  {
   "cell_type": "code",
   "execution_count": 233,
   "outputs": [
    {
     "data": {
      "text/plain": "             SA2  proj_population_total  proj_population_children  \\\n13862  201011001                  18611                      4389   \n13865  201011002                  12252                      1788   \n13868  201011003                  26630                      5094   \n13871  201011004                  28423                      4849   \n13874  201011005                   8900                      1919   \n\n       proj_population_early_working  proj_population_prime_working  \\\n13862                           2496                           7275   \n13865                           1796                           3940   \n13868                           2777                           9809   \n13871                           3734                          11347   \n13874                           1368                           2966   \n\n       proj_population_mature_working  proj_population_elderly  \n13862                            1807                     2644  \n13865                            1674                     3054  \n13868                            3270                     5680  \n13871                            3056                     5437  \n13874                            1067                     1580  ",
      "text/html": "<div>\n<style scoped>\n    .dataframe tbody tr th:only-of-type {\n        vertical-align: middle;\n    }\n\n    .dataframe tbody tr th {\n        vertical-align: top;\n    }\n\n    .dataframe thead th {\n        text-align: right;\n    }\n</style>\n<table border=\"1\" class=\"dataframe\">\n  <thead>\n    <tr style=\"text-align: right;\">\n      <th></th>\n      <th>SA2</th>\n      <th>proj_population_total</th>\n      <th>proj_population_children</th>\n      <th>proj_population_early_working</th>\n      <th>proj_population_prime_working</th>\n      <th>proj_population_mature_working</th>\n      <th>proj_population_elderly</th>\n    </tr>\n  </thead>\n  <tbody>\n    <tr>\n      <th>13862</th>\n      <td>201011001</td>\n      <td>18611</td>\n      <td>4389</td>\n      <td>2496</td>\n      <td>7275</td>\n      <td>1807</td>\n      <td>2644</td>\n    </tr>\n    <tr>\n      <th>13865</th>\n      <td>201011002</td>\n      <td>12252</td>\n      <td>1788</td>\n      <td>1796</td>\n      <td>3940</td>\n      <td>1674</td>\n      <td>3054</td>\n    </tr>\n    <tr>\n      <th>13868</th>\n      <td>201011003</td>\n      <td>26630</td>\n      <td>5094</td>\n      <td>2777</td>\n      <td>9809</td>\n      <td>3270</td>\n      <td>5680</td>\n    </tr>\n    <tr>\n      <th>13871</th>\n      <td>201011004</td>\n      <td>28423</td>\n      <td>4849</td>\n      <td>3734</td>\n      <td>11347</td>\n      <td>3056</td>\n      <td>5437</td>\n    </tr>\n    <tr>\n      <th>13874</th>\n      <td>201011005</td>\n      <td>8900</td>\n      <td>1919</td>\n      <td>1368</td>\n      <td>2966</td>\n      <td>1067</td>\n      <td>1580</td>\n    </tr>\n  </tbody>\n</table>\n</div>"
     },
     "execution_count": 233,
     "metadata": {},
     "output_type": "execute_result"
    }
   ],
   "source": [
    "population_projection_df = pd.read_csv('../data/raw/population_projection.csv')\n",
    "population_projection_df = population_projection_df.loc[population_projection_df['SEX'] == 'Persons']\n",
    "population_projection_df = population_projection_df.loc[population_projection_df['YEAR'] == 2027]\n",
    "population_projection_df = population_projection_df.drop(['YEAR', 'SA2_NAME', 'SEX'], axis=1)\n",
    "# they are categories as well with the previous population statistics\n",
    "# 0-14 years (children), 15-24 years (early working age), 25-54 years (prime working age), 55-64 years (mature working age), 65 years and over (elderly)\n",
    "population_projection_df['proj_population_children'] = population_projection_df[['Age0-4', 'Age5-9', 'Age10-14']].sum(axis = 1)\n",
    "population_projection_df = population_projection_df.drop(['Age0-4', 'Age5-9', 'Age10-14'], axis=1)\n",
    "population_projection_df['proj_population_early_working'] = population_projection_df[['Age15-19', 'Age20-24']].sum(axis = 1)\n",
    "population_projection_df = population_projection_df.drop(['Age15-19', 'Age20-24'], axis=1)\n",
    "population_projection_df['proj_population_prime_working'] = population_projection_df[['Age25-29', 'Age30-34', 'Age35-39', 'Age40-44', 'Age45-49', 'Age50-54']].sum(axis = 1)\n",
    "population_projection_df = population_projection_df.drop(['Age25-29', 'Age30-34', 'Age35-39', 'Age40-44', 'Age45-49', 'Age50-54'], axis=1)\n",
    "population_projection_df['proj_population_mature_working'] = population_projection_df[['Age55-59', 'Age60-64']].sum(axis = 1)\n",
    "population_projection_df = population_projection_df.drop(['Age55-59', 'Age60-64'], axis=1)\n",
    "population_projection_df['proj_population_elderly'] = population_projection_df[['Age65-69', 'Age70-74', 'Age75-79', 'Age80-84', 'Age85+']].sum(axis = 1)\n",
    "population_projection_df = population_projection_df.drop(['Age65-69', 'Age70-74', 'Age75-79', 'Age80-84', 'Age85+'], axis=1)\n",
    "population_projection_df = population_projection_df.rename(columns={'Total': 'proj_population_total', 'SA2_CODE': 'SA2'}, errors=\"raise\")\n",
    "population_projection_df.head()"
   ],
   "metadata": {
    "collapsed": false,
    "pycharm": {
     "name": "#%%\n"
    }
   }
  },
  {
   "cell_type": "code",
   "execution_count": 234,
   "outputs": [
    {
     "data": {
      "text/plain": "   bed  bath  car       type                         address      suburb  \\\n0    3     1    2        AUF      . GLYNDON ROAD, CAMBERWELL  Camberwell   \n1    4     2    3        NaN      1 NEVIS STREET, CAMBERWELL  Camberwell   \n2    3     2    2  Townhouse  1/1017 TOORAK ROAD, CAMBERWELL  Camberwell   \n3    2     1    1        AUF    1/11 EDDY STREET, CAMBERWELL  Camberwell   \n4    2     1    1        AUF   1/11 ORANGE GROVE, CAMBERWELL  Camberwell   \n\n   postcode                                                url  \\\n0      3124  https://www.oldlistings.com.au/real-estate/VIC...   \n1      3124  https://www.oldlistings.com.au/real-estate/VIC...   \n2      3124  https://www.oldlistings.com.au/real-estate/VIC...   \n3      3124  https://www.oldlistings.com.au/real-estate/VIC...   \n4      3124  https://www.oldlistings.com.au/real-estate/VIC...   \n\n                                         loc_address        lat  ...  \\\n0  Glyndon Road, Camberwell, Melbourne, City of B... -37.836230  ...   \n1  Nevis Street, Camberwell, Melbourne, City of B... -37.843101  ...   \n2  Toorak Road, Camberwell, Melbourne, City of Bo... -37.850405  ...   \n3  Eddy Street, Camberwell, Melbourne, City of Bo... -37.846792  ...   \n4  Orange Grove, Camberwell, Melbourne, City of B... -37.841181  ...   \n\n     pri_lat     pri_lon    sec_lat     sec_lon  proj_population_total  \\\n0 -37.830963  145.083144 -37.830151  145.072821                  25643   \n1 -37.848051  145.084466 -37.830151  145.072821                  25643   \n2 -37.842635  145.097370 -37.864527  145.103328                  25643   \n3 -37.847905  145.062612 -37.830151  145.072821                  25643   \n4 -37.847905  145.062612 -37.830151  145.072821                  25643   \n\n  proj_population_children  proj_population_early_working  \\\n0                     4215                           4019   \n1                     4215                           4019   \n2                     4215                           4019   \n3                     4215                           4019   \n4                     4215                           4019   \n\n  proj_population_prime_working  proj_population_mature_working  \\\n0                          9588                            2937   \n1                          9588                            2937   \n2                          9588                            2937   \n3                          9588                            2937   \n4                          9588                            2937   \n\n   proj_population_elderly  \n0                     4884  \n1                     4884  \n2                     4884  \n3                     4884  \n4                     4884  \n\n[5 rows x 44 columns]",
      "text/html": "<div>\n<style scoped>\n    .dataframe tbody tr th:only-of-type {\n        vertical-align: middle;\n    }\n\n    .dataframe tbody tr th {\n        vertical-align: top;\n    }\n\n    .dataframe thead th {\n        text-align: right;\n    }\n</style>\n<table border=\"1\" class=\"dataframe\">\n  <thead>\n    <tr style=\"text-align: right;\">\n      <th></th>\n      <th>bed</th>\n      <th>bath</th>\n      <th>car</th>\n      <th>type</th>\n      <th>address</th>\n      <th>suburb</th>\n      <th>postcode</th>\n      <th>url</th>\n      <th>loc_address</th>\n      <th>lat</th>\n      <th>...</th>\n      <th>pri_lat</th>\n      <th>pri_lon</th>\n      <th>sec_lat</th>\n      <th>sec_lon</th>\n      <th>proj_population_total</th>\n      <th>proj_population_children</th>\n      <th>proj_population_early_working</th>\n      <th>proj_population_prime_working</th>\n      <th>proj_population_mature_working</th>\n      <th>proj_population_elderly</th>\n    </tr>\n  </thead>\n  <tbody>\n    <tr>\n      <th>0</th>\n      <td>3</td>\n      <td>1</td>\n      <td>2</td>\n      <td>AUF</td>\n      <td>. GLYNDON ROAD, CAMBERWELL</td>\n      <td>Camberwell</td>\n      <td>3124</td>\n      <td>https://www.oldlistings.com.au/real-estate/VIC...</td>\n      <td>Glyndon Road, Camberwell, Melbourne, City of B...</td>\n      <td>-37.836230</td>\n      <td>...</td>\n      <td>-37.830963</td>\n      <td>145.083144</td>\n      <td>-37.830151</td>\n      <td>145.072821</td>\n      <td>25643</td>\n      <td>4215</td>\n      <td>4019</td>\n      <td>9588</td>\n      <td>2937</td>\n      <td>4884</td>\n    </tr>\n    <tr>\n      <th>1</th>\n      <td>4</td>\n      <td>2</td>\n      <td>3</td>\n      <td>NaN</td>\n      <td>1 NEVIS STREET, CAMBERWELL</td>\n      <td>Camberwell</td>\n      <td>3124</td>\n      <td>https://www.oldlistings.com.au/real-estate/VIC...</td>\n      <td>Nevis Street, Camberwell, Melbourne, City of B...</td>\n      <td>-37.843101</td>\n      <td>...</td>\n      <td>-37.848051</td>\n      <td>145.084466</td>\n      <td>-37.830151</td>\n      <td>145.072821</td>\n      <td>25643</td>\n      <td>4215</td>\n      <td>4019</td>\n      <td>9588</td>\n      <td>2937</td>\n      <td>4884</td>\n    </tr>\n    <tr>\n      <th>2</th>\n      <td>3</td>\n      <td>2</td>\n      <td>2</td>\n      <td>Townhouse</td>\n      <td>1/1017 TOORAK ROAD, CAMBERWELL</td>\n      <td>Camberwell</td>\n      <td>3124</td>\n      <td>https://www.oldlistings.com.au/real-estate/VIC...</td>\n      <td>Toorak Road, Camberwell, Melbourne, City of Bo...</td>\n      <td>-37.850405</td>\n      <td>...</td>\n      <td>-37.842635</td>\n      <td>145.097370</td>\n      <td>-37.864527</td>\n      <td>145.103328</td>\n      <td>25643</td>\n      <td>4215</td>\n      <td>4019</td>\n      <td>9588</td>\n      <td>2937</td>\n      <td>4884</td>\n    </tr>\n    <tr>\n      <th>3</th>\n      <td>2</td>\n      <td>1</td>\n      <td>1</td>\n      <td>AUF</td>\n      <td>1/11 EDDY STREET, CAMBERWELL</td>\n      <td>Camberwell</td>\n      <td>3124</td>\n      <td>https://www.oldlistings.com.au/real-estate/VIC...</td>\n      <td>Eddy Street, Camberwell, Melbourne, City of Bo...</td>\n      <td>-37.846792</td>\n      <td>...</td>\n      <td>-37.847905</td>\n      <td>145.062612</td>\n      <td>-37.830151</td>\n      <td>145.072821</td>\n      <td>25643</td>\n      <td>4215</td>\n      <td>4019</td>\n      <td>9588</td>\n      <td>2937</td>\n      <td>4884</td>\n    </tr>\n    <tr>\n      <th>4</th>\n      <td>2</td>\n      <td>1</td>\n      <td>1</td>\n      <td>AUF</td>\n      <td>1/11 ORANGE GROVE, CAMBERWELL</td>\n      <td>Camberwell</td>\n      <td>3124</td>\n      <td>https://www.oldlistings.com.au/real-estate/VIC...</td>\n      <td>Orange Grove, Camberwell, Melbourne, City of B...</td>\n      <td>-37.841181</td>\n      <td>...</td>\n      <td>-37.847905</td>\n      <td>145.062612</td>\n      <td>-37.830151</td>\n      <td>145.072821</td>\n      <td>25643</td>\n      <td>4215</td>\n      <td>4019</td>\n      <td>9588</td>\n      <td>2937</td>\n      <td>4884</td>\n    </tr>\n  </tbody>\n</table>\n<p>5 rows × 44 columns</p>\n</div>"
     },
     "execution_count": 234,
     "metadata": {},
     "output_type": "execute_result"
    }
   ],
   "source": [
    "df3 = pd.merge(df3, population_projection_df, on='SA2')\n",
    "df3.head()"
   ],
   "metadata": {
    "collapsed": false,
    "pycharm": {
     "name": "#%%\n"
    }
   }
  },
  {
   "cell_type": "code",
   "execution_count": 235,
   "outputs": [
    {
     "data": {
      "text/plain": "31533"
     },
     "execution_count": 235,
     "metadata": {},
     "output_type": "execute_result"
    }
   ],
   "source": [
    "len(df3)"
   ],
   "metadata": {
    "collapsed": false,
    "pycharm": {
     "name": "#%%\n"
    }
   }
  },
  {
   "cell_type": "markdown",
   "source": [
    "### hospitals"
   ],
   "metadata": {
    "collapsed": false
   }
  },
  {
   "cell_type": "code",
   "execution_count": 236,
   "outputs": [],
   "source": [
    "hospitals_df = pd.read_csv('../data/raw/hospitals.csv')\n",
    "hospitals_df = hospitals_df.loc[hospitals_df['Emergency Capable'] == 'YES']\n",
    "hospitals_df['full_address'] = hospitals_df['Location Address'] + ', ' +hospitals_df['Suburb'] + ', Victoria'\n",
    "hospitals_df = hospitals_df[['Formal Name', 'full_address']]"
   ],
   "metadata": {
    "collapsed": false,
    "pycharm": {
     "name": "#%%\n"
    }
   }
  },
  {
   "cell_type": "code",
   "execution_count": 237,
   "outputs": [
    {
     "name": "stderr",
     "output_type": "stream",
     "text": [
      "100%|██████████| 39/39 [00:31<00:00,  1.25it/s]\n"
     ]
    }
   ],
   "source": [
    "# get the geocode of each hospital\n",
    "temp = []\n",
    "for i in tqdm(hospitals_df['full_address']):\n",
    "    locator = geopy.Nominatim(user_agent=\"myGeocoder\");\n",
    "    location = locator.geocode(i,timeout=None);\n",
    "    if location != None:\n",
    "        info = [i, location.latitude, location.longitude]\n",
    "        temp.append(info)"
   ],
   "metadata": {
    "collapsed": false,
    "pycharm": {
     "name": "#%%\n"
    }
   }
  },
  {
   "cell_type": "code",
   "execution_count": 238,
   "outputs": [],
   "source": [
    "hospital_geo = pd.DataFrame(temp, columns=['full_address', 'lat', 'lon'])\n",
    "hospitals_df = pd.merge(hospitals_df, hospital_geo, on=['full_address'])\n",
    "hospitals_df = hospitals_df.drop('full_address', axis=1)\n",
    "hospitals_df['geo_coordinate'] = [(x, y) for x,y in zip(hospitals_df['lat'], hospitals_df['lon'])]"
   ],
   "metadata": {
    "collapsed": false,
    "pycharm": {
     "name": "#%%\n"
    }
   }
  },
  {
   "cell_type": "code",
   "execution_count": 239,
   "outputs": [
    {
     "data": {
      "text/plain": "                          Formal Name        lat         lon  \\\n0               Albury Wodonga Health -36.132040  146.880004   \n1                    Angliss Hospital -37.896522  145.310067   \n2     Austin Health - Austin Hospital -37.756561  145.058657   \n3  Bairnsdale Regional Health Service -37.817113  147.611512   \n4                      Bendigo Health -36.748620  144.285198   \n\n                       geo_coordinate  \n0          (-36.1320403, 146.8800037)  \n1          (-37.8965217, 145.3100668)  \n2  (-37.75656125, 145.05865657809136)  \n3          (-37.8171132, 147.6115117)  \n4          (-36.7486197, 144.2851975)  ",
      "text/html": "<div>\n<style scoped>\n    .dataframe tbody tr th:only-of-type {\n        vertical-align: middle;\n    }\n\n    .dataframe tbody tr th {\n        vertical-align: top;\n    }\n\n    .dataframe thead th {\n        text-align: right;\n    }\n</style>\n<table border=\"1\" class=\"dataframe\">\n  <thead>\n    <tr style=\"text-align: right;\">\n      <th></th>\n      <th>Formal Name</th>\n      <th>lat</th>\n      <th>lon</th>\n      <th>geo_coordinate</th>\n    </tr>\n  </thead>\n  <tbody>\n    <tr>\n      <th>0</th>\n      <td>Albury Wodonga Health</td>\n      <td>-36.132040</td>\n      <td>146.880004</td>\n      <td>(-36.1320403, 146.8800037)</td>\n    </tr>\n    <tr>\n      <th>1</th>\n      <td>Angliss Hospital</td>\n      <td>-37.896522</td>\n      <td>145.310067</td>\n      <td>(-37.8965217, 145.3100668)</td>\n    </tr>\n    <tr>\n      <th>2</th>\n      <td>Austin Health - Austin Hospital</td>\n      <td>-37.756561</td>\n      <td>145.058657</td>\n      <td>(-37.75656125, 145.05865657809136)</td>\n    </tr>\n    <tr>\n      <th>3</th>\n      <td>Bairnsdale Regional Health Service</td>\n      <td>-37.817113</td>\n      <td>147.611512</td>\n      <td>(-37.8171132, 147.6115117)</td>\n    </tr>\n    <tr>\n      <th>4</th>\n      <td>Bendigo Health</td>\n      <td>-36.748620</td>\n      <td>144.285198</td>\n      <td>(-36.7486197, 144.2851975)</td>\n    </tr>\n  </tbody>\n</table>\n</div>"
     },
     "execution_count": 239,
     "metadata": {},
     "output_type": "execute_result"
    }
   ],
   "source": [
    "hospitals_df.head()"
   ],
   "metadata": {
    "collapsed": false,
    "pycharm": {
     "name": "#%%\n"
    }
   }
  },
  {
   "cell_type": "code",
   "execution_count": 240,
   "outputs": [
    {
     "name": "stderr",
     "output_type": "stream",
     "text": [
      "100%|██████████| 31533/31533 [00:00<00:00, 5129896.36it/s]\n",
      "100%|██████████| 31533/31533 [00:00<00:00, 4744717.06it/s]\n"
     ]
    }
   ],
   "source": [
    "df3['closest_ed_loc'] = tqdm([closest_point(x, list(hospitals_df['geo_coordinate'])) for x in df3['geo_coordinate']])\n",
    "df3['closest_ed_name'] = tqdm([match_value(hospitals_df, 'geo_coordinate', x, 'Formal Name') for x in df3['closest_ed_loc']])"
   ],
   "metadata": {
    "collapsed": false,
    "pycharm": {
     "name": "#%%\n"
    }
   }
  },
  {
   "cell_type": "code",
   "execution_count": 241,
   "outputs": [
    {
     "name": "stderr",
     "output_type": "stream",
     "text": [
      "/var/folders/y5/myhyydfd6h9dlwv1qmqtqhmr0000gn/T/ipykernel_97198/2338036252.py:2: FutureWarning: In a future version of pandas all arguments of StringMethods.split except for the argument 'pat' will be keyword-only.\n",
      "  df3[['ed_lat', 'ed_lon']] = df3['closest_ed_loc'].str.split(', ', 1, expand=True)\n"
     ]
    }
   ],
   "source": [
    "df3['closest_ed_loc'] = df3['closest_ed_loc'].astype('str')\n",
    "df3[['ed_lat', 'ed_lon']] = df3['closest_ed_loc'].str.split(', ', 1, expand=True)"
   ],
   "metadata": {
    "collapsed": false,
    "pycharm": {
     "name": "#%%\n"
    }
   }
  },
  {
   "cell_type": "code",
   "execution_count": 242,
   "outputs": [],
   "source": [
    "bracket_remove = ['ed_lat', 'ed_lon']\n",
    "for i in bracket_remove:\n",
    "    df3[i] = df3[i].str.strip('()')\n",
    "df3[bracket_remove] = df3[bracket_remove].apply(pd.to_numeric, errors='coerce')"
   ],
   "metadata": {
    "collapsed": false,
    "pycharm": {
     "name": "#%%\n"
    }
   }
  },
  {
   "cell_type": "code",
   "execution_count": 243,
   "outputs": [],
   "source": [
    "df3 = df3.drop('closest_ed_loc', axis = 1)"
   ],
   "metadata": {
    "collapsed": false,
    "pycharm": {
     "name": "#%%\n"
    }
   }
  },
  {
   "cell_type": "code",
   "execution_count": 244,
   "outputs": [
    {
     "data": {
      "text/plain": "       bed  bath  car       type                             address  \\\n0        3     1    2        AUF          . GLYNDON ROAD, CAMBERWELL   \n1        4     2    3        NaN          1 NEVIS STREET, CAMBERWELL   \n2        3     2    2  Townhouse      1/1017 TOORAK ROAD, CAMBERWELL   \n3        2     1    1        AUF        1/11 EDDY STREET, CAMBERWELL   \n4        2     1    1        AUF       1/11 ORANGE GROVE, CAMBERWELL   \n...    ...   ...  ...        ...                                 ...   \n31528    3     2    2      House  25 CHARLES SMITH DRIVE, WONGA PARK   \n31529    2     1    2      House          389 YARRA ROAD, WONGA PARK   \n31530    2     1    1        AUF       3/1 WEST END ROAD, WARRANDYTE   \n31531    3     2    2      House    48 BEAUTY GULLY ROAD, WARRANDYTE   \n31532    4     2    2      House     49 ALPINE RIDGE DRIVE, MERRIJIG   \n\n           suburb  postcode  \\\n0      Camberwell      3124   \n1      Camberwell      3124   \n2      Camberwell      3124   \n3      Camberwell      3124   \n4      Camberwell      3124   \n...           ...       ...   \n31528  Wonga Park      3115   \n31529  Wonga Park      3115   \n31530  Warrandyte      3113   \n31531  Warrandyte      3113   \n31532    Merrijig      3723   \n\n                                                     url  \\\n0      https://www.oldlistings.com.au/real-estate/VIC...   \n1      https://www.oldlistings.com.au/real-estate/VIC...   \n2      https://www.oldlistings.com.au/real-estate/VIC...   \n3      https://www.oldlistings.com.au/real-estate/VIC...   \n4      https://www.oldlistings.com.au/real-estate/VIC...   \n...                                                  ...   \n31528  https://www.oldlistings.com.au/real-estate/VIC...   \n31529  https://www.oldlistings.com.au/real-estate/VIC...   \n31530  https://www.oldlistings.com.au/real-estate/VIC...   \n31531  https://www.oldlistings.com.au/real-estate/VIC...   \n31532  https://www.oldlistings.com.au/real-estate/VIC...   \n\n                                             loc_address        lat  ...  \\\n0      Glyndon Road, Camberwell, Melbourne, City of B... -37.836230  ...   \n1      Nevis Street, Camberwell, Melbourne, City of B... -37.843101  ...   \n2      Toorak Road, Camberwell, Melbourne, City of Bo... -37.850405  ...   \n3      Eddy Street, Camberwell, Melbourne, City of Bo... -37.846792  ...   \n4      Orange Grove, Camberwell, Melbourne, City of B... -37.841181  ...   \n...                                                  ...        ...  ...   \n31528  Charles Smith Drive, Wonga Park, Melbourne, Ci... -37.767758  ...   \n31529  Yarra Road, Wonga Park South, Wonga Park, Melb... -37.751110  ...   \n31530  West End Road, Warrandyte, Melbourne, City of ... -37.743661  ...   \n31531  Beauty Gully Road, Warrandyte, Melbourne, City... -37.759570  ...   \n31532  Alpine Ridge Drive, Merrijig, Sawmill Settleme... -37.109772  ...   \n\n          sec_lon  proj_population_total proj_population_children  \\\n0      145.072821                  25643                     4215   \n1      145.072821                  25643                     4215   \n2      145.103328                  25643                     4215   \n3      145.072821                  25643                     4215   \n4      145.072821                  25643                     4215   \n...           ...                    ...                      ...   \n31528  145.314230                  11265                     1706   \n31529  145.314230                  11265                     1706   \n31530  145.158557                  11265                     1706   \n31531  145.237605                  11265                     1706   \n31532  146.088565                  10538                     1814   \n\n      proj_population_early_working  proj_population_prime_working  \\\n0                              4019                           9588   \n1                              4019                           9588   \n2                              4019                           9588   \n3                              4019                           9588   \n4                              4019                           9588   \n...                             ...                            ...   \n31528                          1747                           3789   \n31529                          1747                           3789   \n31530                          1747                           3789   \n31531                          1747                           3789   \n31532                          1240                           3084   \n\n      proj_population_mature_working  proj_population_elderly  \\\n0                               2937                     4884   \n1                               2937                     4884   \n2                               2937                     4884   \n3                               2937                     4884   \n4                               2937                     4884   \n...                              ...                      ...   \n31528                           1611                     2412   \n31529                           1611                     2412   \n31530                           1611                     2412   \n31531                           1611                     2412   \n31532                           1419                     2981   \n\n                   closest_ed_name     ed_lat      ed_lon  \n0                Box Hill Hospital -37.815458  145.119672  \n1                Box Hill Hospital -37.815458  145.119672  \n2                Box Hill Hospital -37.815458  145.119672  \n3                Box Hill Hospital -37.815458  145.119672  \n4                Box Hill Hospital -37.815458  145.119672  \n...                            ...        ...         ...  \n31528           Maroondah Hospital -37.809273  145.247901  \n31529           Maroondah Hospital -37.809273  145.247901  \n31530           Maroondah Hospital -37.809273  145.247901  \n31531           Maroondah Hospital -37.809273  145.247901  \n31532  Northeast Health Wangaratta -36.354113  146.313804  \n\n[31533 rows x 47 columns]",
      "text/html": "<div>\n<style scoped>\n    .dataframe tbody tr th:only-of-type {\n        vertical-align: middle;\n    }\n\n    .dataframe tbody tr th {\n        vertical-align: top;\n    }\n\n    .dataframe thead th {\n        text-align: right;\n    }\n</style>\n<table border=\"1\" class=\"dataframe\">\n  <thead>\n    <tr style=\"text-align: right;\">\n      <th></th>\n      <th>bed</th>\n      <th>bath</th>\n      <th>car</th>\n      <th>type</th>\n      <th>address</th>\n      <th>suburb</th>\n      <th>postcode</th>\n      <th>url</th>\n      <th>loc_address</th>\n      <th>lat</th>\n      <th>...</th>\n      <th>sec_lon</th>\n      <th>proj_population_total</th>\n      <th>proj_population_children</th>\n      <th>proj_population_early_working</th>\n      <th>proj_population_prime_working</th>\n      <th>proj_population_mature_working</th>\n      <th>proj_population_elderly</th>\n      <th>closest_ed_name</th>\n      <th>ed_lat</th>\n      <th>ed_lon</th>\n    </tr>\n  </thead>\n  <tbody>\n    <tr>\n      <th>0</th>\n      <td>3</td>\n      <td>1</td>\n      <td>2</td>\n      <td>AUF</td>\n      <td>. GLYNDON ROAD, CAMBERWELL</td>\n      <td>Camberwell</td>\n      <td>3124</td>\n      <td>https://www.oldlistings.com.au/real-estate/VIC...</td>\n      <td>Glyndon Road, Camberwell, Melbourne, City of B...</td>\n      <td>-37.836230</td>\n      <td>...</td>\n      <td>145.072821</td>\n      <td>25643</td>\n      <td>4215</td>\n      <td>4019</td>\n      <td>9588</td>\n      <td>2937</td>\n      <td>4884</td>\n      <td>Box Hill Hospital</td>\n      <td>-37.815458</td>\n      <td>145.119672</td>\n    </tr>\n    <tr>\n      <th>1</th>\n      <td>4</td>\n      <td>2</td>\n      <td>3</td>\n      <td>NaN</td>\n      <td>1 NEVIS STREET, CAMBERWELL</td>\n      <td>Camberwell</td>\n      <td>3124</td>\n      <td>https://www.oldlistings.com.au/real-estate/VIC...</td>\n      <td>Nevis Street, Camberwell, Melbourne, City of B...</td>\n      <td>-37.843101</td>\n      <td>...</td>\n      <td>145.072821</td>\n      <td>25643</td>\n      <td>4215</td>\n      <td>4019</td>\n      <td>9588</td>\n      <td>2937</td>\n      <td>4884</td>\n      <td>Box Hill Hospital</td>\n      <td>-37.815458</td>\n      <td>145.119672</td>\n    </tr>\n    <tr>\n      <th>2</th>\n      <td>3</td>\n      <td>2</td>\n      <td>2</td>\n      <td>Townhouse</td>\n      <td>1/1017 TOORAK ROAD, CAMBERWELL</td>\n      <td>Camberwell</td>\n      <td>3124</td>\n      <td>https://www.oldlistings.com.au/real-estate/VIC...</td>\n      <td>Toorak Road, Camberwell, Melbourne, City of Bo...</td>\n      <td>-37.850405</td>\n      <td>...</td>\n      <td>145.103328</td>\n      <td>25643</td>\n      <td>4215</td>\n      <td>4019</td>\n      <td>9588</td>\n      <td>2937</td>\n      <td>4884</td>\n      <td>Box Hill Hospital</td>\n      <td>-37.815458</td>\n      <td>145.119672</td>\n    </tr>\n    <tr>\n      <th>3</th>\n      <td>2</td>\n      <td>1</td>\n      <td>1</td>\n      <td>AUF</td>\n      <td>1/11 EDDY STREET, CAMBERWELL</td>\n      <td>Camberwell</td>\n      <td>3124</td>\n      <td>https://www.oldlistings.com.au/real-estate/VIC...</td>\n      <td>Eddy Street, Camberwell, Melbourne, City of Bo...</td>\n      <td>-37.846792</td>\n      <td>...</td>\n      <td>145.072821</td>\n      <td>25643</td>\n      <td>4215</td>\n      <td>4019</td>\n      <td>9588</td>\n      <td>2937</td>\n      <td>4884</td>\n      <td>Box Hill Hospital</td>\n      <td>-37.815458</td>\n      <td>145.119672</td>\n    </tr>\n    <tr>\n      <th>4</th>\n      <td>2</td>\n      <td>1</td>\n      <td>1</td>\n      <td>AUF</td>\n      <td>1/11 ORANGE GROVE, CAMBERWELL</td>\n      <td>Camberwell</td>\n      <td>3124</td>\n      <td>https://www.oldlistings.com.au/real-estate/VIC...</td>\n      <td>Orange Grove, Camberwell, Melbourne, City of B...</td>\n      <td>-37.841181</td>\n      <td>...</td>\n      <td>145.072821</td>\n      <td>25643</td>\n      <td>4215</td>\n      <td>4019</td>\n      <td>9588</td>\n      <td>2937</td>\n      <td>4884</td>\n      <td>Box Hill Hospital</td>\n      <td>-37.815458</td>\n      <td>145.119672</td>\n    </tr>\n    <tr>\n      <th>...</th>\n      <td>...</td>\n      <td>...</td>\n      <td>...</td>\n      <td>...</td>\n      <td>...</td>\n      <td>...</td>\n      <td>...</td>\n      <td>...</td>\n      <td>...</td>\n      <td>...</td>\n      <td>...</td>\n      <td>...</td>\n      <td>...</td>\n      <td>...</td>\n      <td>...</td>\n      <td>...</td>\n      <td>...</td>\n      <td>...</td>\n      <td>...</td>\n      <td>...</td>\n      <td>...</td>\n    </tr>\n    <tr>\n      <th>31528</th>\n      <td>3</td>\n      <td>2</td>\n      <td>2</td>\n      <td>House</td>\n      <td>25 CHARLES SMITH DRIVE, WONGA PARK</td>\n      <td>Wonga Park</td>\n      <td>3115</td>\n      <td>https://www.oldlistings.com.au/real-estate/VIC...</td>\n      <td>Charles Smith Drive, Wonga Park, Melbourne, Ci...</td>\n      <td>-37.767758</td>\n      <td>...</td>\n      <td>145.314230</td>\n      <td>11265</td>\n      <td>1706</td>\n      <td>1747</td>\n      <td>3789</td>\n      <td>1611</td>\n      <td>2412</td>\n      <td>Maroondah Hospital</td>\n      <td>-37.809273</td>\n      <td>145.247901</td>\n    </tr>\n    <tr>\n      <th>31529</th>\n      <td>2</td>\n      <td>1</td>\n      <td>2</td>\n      <td>House</td>\n      <td>389 YARRA ROAD, WONGA PARK</td>\n      <td>Wonga Park</td>\n      <td>3115</td>\n      <td>https://www.oldlistings.com.au/real-estate/VIC...</td>\n      <td>Yarra Road, Wonga Park South, Wonga Park, Melb...</td>\n      <td>-37.751110</td>\n      <td>...</td>\n      <td>145.314230</td>\n      <td>11265</td>\n      <td>1706</td>\n      <td>1747</td>\n      <td>3789</td>\n      <td>1611</td>\n      <td>2412</td>\n      <td>Maroondah Hospital</td>\n      <td>-37.809273</td>\n      <td>145.247901</td>\n    </tr>\n    <tr>\n      <th>31530</th>\n      <td>2</td>\n      <td>1</td>\n      <td>1</td>\n      <td>AUF</td>\n      <td>3/1 WEST END ROAD, WARRANDYTE</td>\n      <td>Warrandyte</td>\n      <td>3113</td>\n      <td>https://www.oldlistings.com.au/real-estate/VIC...</td>\n      <td>West End Road, Warrandyte, Melbourne, City of ...</td>\n      <td>-37.743661</td>\n      <td>...</td>\n      <td>145.158557</td>\n      <td>11265</td>\n      <td>1706</td>\n      <td>1747</td>\n      <td>3789</td>\n      <td>1611</td>\n      <td>2412</td>\n      <td>Maroondah Hospital</td>\n      <td>-37.809273</td>\n      <td>145.247901</td>\n    </tr>\n    <tr>\n      <th>31531</th>\n      <td>3</td>\n      <td>2</td>\n      <td>2</td>\n      <td>House</td>\n      <td>48 BEAUTY GULLY ROAD, WARRANDYTE</td>\n      <td>Warrandyte</td>\n      <td>3113</td>\n      <td>https://www.oldlistings.com.au/real-estate/VIC...</td>\n      <td>Beauty Gully Road, Warrandyte, Melbourne, City...</td>\n      <td>-37.759570</td>\n      <td>...</td>\n      <td>145.237605</td>\n      <td>11265</td>\n      <td>1706</td>\n      <td>1747</td>\n      <td>3789</td>\n      <td>1611</td>\n      <td>2412</td>\n      <td>Maroondah Hospital</td>\n      <td>-37.809273</td>\n      <td>145.247901</td>\n    </tr>\n    <tr>\n      <th>31532</th>\n      <td>4</td>\n      <td>2</td>\n      <td>2</td>\n      <td>House</td>\n      <td>49 ALPINE RIDGE DRIVE, MERRIJIG</td>\n      <td>Merrijig</td>\n      <td>3723</td>\n      <td>https://www.oldlistings.com.au/real-estate/VIC...</td>\n      <td>Alpine Ridge Drive, Merrijig, Sawmill Settleme...</td>\n      <td>-37.109772</td>\n      <td>...</td>\n      <td>146.088565</td>\n      <td>10538</td>\n      <td>1814</td>\n      <td>1240</td>\n      <td>3084</td>\n      <td>1419</td>\n      <td>2981</td>\n      <td>Northeast Health Wangaratta</td>\n      <td>-36.354113</td>\n      <td>146.313804</td>\n    </tr>\n  </tbody>\n</table>\n<p>31533 rows × 47 columns</p>\n</div>"
     },
     "execution_count": 244,
     "metadata": {},
     "output_type": "execute_result"
    }
   ],
   "source": [
    "df3"
   ],
   "metadata": {
    "collapsed": false,
    "pycharm": {
     "name": "#%%\n"
    }
   }
  },
  {
   "cell_type": "markdown",
   "source": [
    "#### train station"
   ],
   "metadata": {
    "collapsed": false
   }
  },
  {
   "cell_type": "code",
   "execution_count": 245,
   "outputs": [
    {
     "data": {
      "text/plain": "                                             STOP_NAME  \\\n0               Royal Park Railway Station (Parkville)   \n1    Flemington Bridge Railway Station (North Melbo...   \n2           Macaulay Railway Station (North Melbourne)   \n3     North Melbourne Railway Station (West Melbourne)   \n4          Clifton Hill Railway Station (Clifton Hill)   \n..                                                 ...   \n215                    Coburg Railway Station (Coburg)   \n216                  Moreland Railway Station (Coburg)   \n217                 Anstey Railway Station (Brunswick)   \n218              Brunswick Railway Station (Brunswick)   \n219                 Jewell Railway Station (Brunswick)   \n\n               geo_coordinate  n_routes  \n0    (-37.781193, 144.952301)         1  \n1     (-37.78814, 144.939323)         1  \n2    (-37.794267, 144.936166)         1  \n3     (-37.807419, 144.94257)         6  \n4    (-37.788657, 144.995417)         2  \n..                        ...       ...  \n215  (-37.742345, 144.963336)         1  \n216  (-37.754485, 144.961823)         1  \n217  (-37.761242, 144.960684)         1  \n218  (-37.767721, 144.959587)         1  \n219  (-37.774987, 144.958717)         1  \n\n[220 rows x 3 columns]",
      "text/html": "<div>\n<style scoped>\n    .dataframe tbody tr th:only-of-type {\n        vertical-align: middle;\n    }\n\n    .dataframe tbody tr th {\n        vertical-align: top;\n    }\n\n    .dataframe thead th {\n        text-align: right;\n    }\n</style>\n<table border=\"1\" class=\"dataframe\">\n  <thead>\n    <tr style=\"text-align: right;\">\n      <th></th>\n      <th>STOP_NAME</th>\n      <th>geo_coordinate</th>\n      <th>n_routes</th>\n    </tr>\n  </thead>\n  <tbody>\n    <tr>\n      <th>0</th>\n      <td>Royal Park Railway Station (Parkville)</td>\n      <td>(-37.781193, 144.952301)</td>\n      <td>1</td>\n    </tr>\n    <tr>\n      <th>1</th>\n      <td>Flemington Bridge Railway Station (North Melbo...</td>\n      <td>(-37.78814, 144.939323)</td>\n      <td>1</td>\n    </tr>\n    <tr>\n      <th>2</th>\n      <td>Macaulay Railway Station (North Melbourne)</td>\n      <td>(-37.794267, 144.936166)</td>\n      <td>1</td>\n    </tr>\n    <tr>\n      <th>3</th>\n      <td>North Melbourne Railway Station (West Melbourne)</td>\n      <td>(-37.807419, 144.94257)</td>\n      <td>6</td>\n    </tr>\n    <tr>\n      <th>4</th>\n      <td>Clifton Hill Railway Station (Clifton Hill)</td>\n      <td>(-37.788657, 144.995417)</td>\n      <td>2</td>\n    </tr>\n    <tr>\n      <th>...</th>\n      <td>...</td>\n      <td>...</td>\n      <td>...</td>\n    </tr>\n    <tr>\n      <th>215</th>\n      <td>Coburg Railway Station (Coburg)</td>\n      <td>(-37.742345, 144.963336)</td>\n      <td>1</td>\n    </tr>\n    <tr>\n      <th>216</th>\n      <td>Moreland Railway Station (Coburg)</td>\n      <td>(-37.754485, 144.961823)</td>\n      <td>1</td>\n    </tr>\n    <tr>\n      <th>217</th>\n      <td>Anstey Railway Station (Brunswick)</td>\n      <td>(-37.761242, 144.960684)</td>\n      <td>1</td>\n    </tr>\n    <tr>\n      <th>218</th>\n      <td>Brunswick Railway Station (Brunswick)</td>\n      <td>(-37.767721, 144.959587)</td>\n      <td>1</td>\n    </tr>\n    <tr>\n      <th>219</th>\n      <td>Jewell Railway Station (Brunswick)</td>\n      <td>(-37.774987, 144.958717)</td>\n      <td>1</td>\n    </tr>\n  </tbody>\n</table>\n<p>220 rows × 3 columns</p>\n</div>"
     },
     "execution_count": 245,
     "metadata": {},
     "output_type": "execute_result"
    }
   ],
   "source": [
    "train_df = gpd.read_file('../data/raw/PTV/PTV_METRO_TRAIN_STATION.shp')\n",
    "train_df = train_df[['STOP_NAME', 'LATITUDE', 'LONGITUDE', 'ROUTEUSSP']]\n",
    "train_df['geo_coordinate'] = [(x, y) for x, y in zip(train_df['LATITUDE'], train_df['LONGITUDE'])]\n",
    "train_df['n_routes'] = train_df['ROUTEUSSP'].str.count(',') + 1\n",
    "train_df = train_df.drop(['LONGITUDE', 'LATITUDE', 'ROUTEUSSP'], axis=1)\n",
    "train_df"
   ],
   "metadata": {
    "collapsed": false,
    "pycharm": {
     "name": "#%%\n"
    }
   }
  },
  {
   "cell_type": "code",
   "execution_count": 251,
   "outputs": [
    {
     "name": "stderr",
     "output_type": "stream",
     "text": [
      "100%|██████████| 31533/31533 [00:00<00:00, 5331303.94it/s]\n",
      "100%|██████████| 31533/31533 [00:00<00:00, 5459381.99it/s]\n",
      "100%|██████████| 31533/31533 [00:00<00:00, 4745398.01it/s]\n"
     ]
    }
   ],
   "source": [
    "df3['closest_train_loc'] = tqdm([closest_point(x, list(train_df['geo_coordinate'])) for x in df3['geo_coordinate']])\n",
    "df3['train_stop'] = tqdm([match_value(train_df, 'geo_coordinate', x, 'STOP_NAME') for x in df3['closest_train_loc']])\n",
    "df3['train_n_lines'] = tqdm([match_value(train_df, 'geo_coordinate', x, 'n_routes') for x in df3['closest_train_loc']])"
   ],
   "metadata": {
    "collapsed": false,
    "pycharm": {
     "name": "#%%\n"
    }
   }
  },
  {
   "cell_type": "code",
   "execution_count": 252,
   "outputs": [
    {
     "name": "stderr",
     "output_type": "stream",
     "text": [
      "/var/folders/y5/myhyydfd6h9dlwv1qmqtqhmr0000gn/T/ipykernel_97198/284886828.py:2: FutureWarning: In a future version of pandas all arguments of StringMethods.split except for the argument 'pat' will be keyword-only.\n",
      "  df3[['train_lat', 'train_lon']] = df3['closest_train_loc'].str.split(', ', 1, expand=True)\n"
     ]
    }
   ],
   "source": [
    "df3['closest_train_loc'] = df3['closest_train_loc'].astype('str')\n",
    "df3[['train_lat', 'train_lon']] = df3['closest_train_loc'].str.split(', ', 1, expand=True)"
   ],
   "metadata": {
    "collapsed": false,
    "pycharm": {
     "name": "#%%\n"
    }
   }
  },
  {
   "cell_type": "code",
   "execution_count": 253,
   "outputs": [],
   "source": [
    "bracket_remove = ['train_lat', 'train_lon']\n",
    "for i in bracket_remove:\n",
    "    df3[i] = df3[i].str.strip('()')\n",
    "df3[bracket_remove] = df3[bracket_remove].apply(pd.to_numeric, errors='coerce')\n",
    "df3 = df3.drop('closest_train_loc', axis=1)"
   ],
   "metadata": {
    "collapsed": false,
    "pycharm": {
     "name": "#%%\n"
    }
   }
  },
  {
   "cell_type": "code",
   "execution_count": 254,
   "outputs": [
    {
     "data": {
      "text/plain": "       bed  bath  car       type                             address  \\\n0        3     1    2        AUF          . GLYNDON ROAD, CAMBERWELL   \n1        4     2    3        NaN          1 NEVIS STREET, CAMBERWELL   \n2        3     2    2  Townhouse      1/1017 TOORAK ROAD, CAMBERWELL   \n3        2     1    1        AUF        1/11 EDDY STREET, CAMBERWELL   \n4        2     1    1        AUF       1/11 ORANGE GROVE, CAMBERWELL   \n...    ...   ...  ...        ...                                 ...   \n31528    3     2    2      House  25 CHARLES SMITH DRIVE, WONGA PARK   \n31529    2     1    2      House          389 YARRA ROAD, WONGA PARK   \n31530    2     1    1        AUF       3/1 WEST END ROAD, WARRANDYTE   \n31531    3     2    2      House    48 BEAUTY GULLY ROAD, WARRANDYTE   \n31532    4     2    2      House     49 ALPINE RIDGE DRIVE, MERRIJIG   \n\n           suburb  postcode  \\\n0      Camberwell      3124   \n1      Camberwell      3124   \n2      Camberwell      3124   \n3      Camberwell      3124   \n4      Camberwell      3124   \n...           ...       ...   \n31528  Wonga Park      3115   \n31529  Wonga Park      3115   \n31530  Warrandyte      3113   \n31531  Warrandyte      3113   \n31532    Merrijig      3723   \n\n                                                     url  \\\n0      https://www.oldlistings.com.au/real-estate/VIC...   \n1      https://www.oldlistings.com.au/real-estate/VIC...   \n2      https://www.oldlistings.com.au/real-estate/VIC...   \n3      https://www.oldlistings.com.au/real-estate/VIC...   \n4      https://www.oldlistings.com.au/real-estate/VIC...   \n...                                                  ...   \n31528  https://www.oldlistings.com.au/real-estate/VIC...   \n31529  https://www.oldlistings.com.au/real-estate/VIC...   \n31530  https://www.oldlistings.com.au/real-estate/VIC...   \n31531  https://www.oldlistings.com.au/real-estate/VIC...   \n31532  https://www.oldlistings.com.au/real-estate/VIC...   \n\n                                             loc_address        lat  ...  \\\n0      Glyndon Road, Camberwell, Melbourne, City of B... -37.836230  ...   \n1      Nevis Street, Camberwell, Melbourne, City of B... -37.843101  ...   \n2      Toorak Road, Camberwell, Melbourne, City of Bo... -37.850405  ...   \n3      Eddy Street, Camberwell, Melbourne, City of Bo... -37.846792  ...   \n4      Orange Grove, Camberwell, Melbourne, City of B... -37.841181  ...   \n...                                                  ...        ...  ...   \n31528  Charles Smith Drive, Wonga Park, Melbourne, Ci... -37.767758  ...   \n31529  Yarra Road, Wonga Park South, Wonga Park, Melb... -37.751110  ...   \n31530  West End Road, Warrandyte, Melbourne, City of ... -37.743661  ...   \n31531  Beauty Gully Road, Warrandyte, Melbourne, City... -37.759570  ...   \n31532  Alpine Ridge Drive, Merrijig, Sawmill Settleme... -37.109772  ...   \n\n       proj_population_prime_working  proj_population_mature_working  \\\n0                               9588                            2937   \n1                               9588                            2937   \n2                               9588                            2937   \n3                               9588                            2937   \n4                               9588                            2937   \n...                              ...                             ...   \n31528                           3789                            1611   \n31529                           3789                            1611   \n31530                           3789                            1611   \n31531                           3789                            1611   \n31532                           3084                            1419   \n\n      proj_population_elderly              closest_ed_name     ed_lat  \\\n0                        4884            Box Hill Hospital -37.815458   \n1                        4884            Box Hill Hospital -37.815458   \n2                        4884            Box Hill Hospital -37.815458   \n3                        4884            Box Hill Hospital -37.815458   \n4                        4884            Box Hill Hospital -37.815458   \n...                       ...                          ...        ...   \n31528                    2412           Maroondah Hospital -37.809273   \n31529                    2412           Maroondah Hospital -37.809273   \n31530                    2412           Maroondah Hospital -37.809273   \n31531                    2412           Maroondah Hospital -37.809273   \n31532                    2981  Northeast Health Wangaratta -36.354113   \n\n           ed_lon                             train_stop  train_lat  \\\n0      145.119672  Hartwell Railway Station (Camberwell) -37.843985   \n1      145.119672  Hartwell Railway Station (Camberwell) -37.843985   \n2      145.119672    Burwood Railway Station (Glen Iris) -37.851563   \n3      145.119672  Hartwell Railway Station (Camberwell) -37.843985   \n4      145.119672  Willison Railway Station (Camberwell) -37.835716   \n...           ...                                    ...        ...   \n31528  145.247901      Croydon Railway Station (Croydon) -37.795437   \n31529  145.247901      Croydon Railway Station (Croydon) -37.795437   \n31530  145.247901        Eltham Railway Station (Eltham) -37.713550   \n31531  145.247901    Ringwood Railway Station (Ringwood) -37.815660   \n31532  146.313804    Lilydale Railway Station (Lilydale) -37.755518   \n\n        train_lon  train_n_lines  \n0      145.075560              1  \n1      145.075560              1  \n2      145.080511              1  \n3      145.075560              1  \n4      145.070298              1  \n...           ...            ...  \n31528  145.280598              1  \n31529  145.280598              1  \n31530  145.147822              1  \n31531  145.229474              2  \n31532  145.347710              1  \n\n[31533 rows x 51 columns]",
      "text/html": "<div>\n<style scoped>\n    .dataframe tbody tr th:only-of-type {\n        vertical-align: middle;\n    }\n\n    .dataframe tbody tr th {\n        vertical-align: top;\n    }\n\n    .dataframe thead th {\n        text-align: right;\n    }\n</style>\n<table border=\"1\" class=\"dataframe\">\n  <thead>\n    <tr style=\"text-align: right;\">\n      <th></th>\n      <th>bed</th>\n      <th>bath</th>\n      <th>car</th>\n      <th>type</th>\n      <th>address</th>\n      <th>suburb</th>\n      <th>postcode</th>\n      <th>url</th>\n      <th>loc_address</th>\n      <th>lat</th>\n      <th>...</th>\n      <th>proj_population_prime_working</th>\n      <th>proj_population_mature_working</th>\n      <th>proj_population_elderly</th>\n      <th>closest_ed_name</th>\n      <th>ed_lat</th>\n      <th>ed_lon</th>\n      <th>train_stop</th>\n      <th>train_lat</th>\n      <th>train_lon</th>\n      <th>train_n_lines</th>\n    </tr>\n  </thead>\n  <tbody>\n    <tr>\n      <th>0</th>\n      <td>3</td>\n      <td>1</td>\n      <td>2</td>\n      <td>AUF</td>\n      <td>. GLYNDON ROAD, CAMBERWELL</td>\n      <td>Camberwell</td>\n      <td>3124</td>\n      <td>https://www.oldlistings.com.au/real-estate/VIC...</td>\n      <td>Glyndon Road, Camberwell, Melbourne, City of B...</td>\n      <td>-37.836230</td>\n      <td>...</td>\n      <td>9588</td>\n      <td>2937</td>\n      <td>4884</td>\n      <td>Box Hill Hospital</td>\n      <td>-37.815458</td>\n      <td>145.119672</td>\n      <td>Hartwell Railway Station (Camberwell)</td>\n      <td>-37.843985</td>\n      <td>145.075560</td>\n      <td>1</td>\n    </tr>\n    <tr>\n      <th>1</th>\n      <td>4</td>\n      <td>2</td>\n      <td>3</td>\n      <td>NaN</td>\n      <td>1 NEVIS STREET, CAMBERWELL</td>\n      <td>Camberwell</td>\n      <td>3124</td>\n      <td>https://www.oldlistings.com.au/real-estate/VIC...</td>\n      <td>Nevis Street, Camberwell, Melbourne, City of B...</td>\n      <td>-37.843101</td>\n      <td>...</td>\n      <td>9588</td>\n      <td>2937</td>\n      <td>4884</td>\n      <td>Box Hill Hospital</td>\n      <td>-37.815458</td>\n      <td>145.119672</td>\n      <td>Hartwell Railway Station (Camberwell)</td>\n      <td>-37.843985</td>\n      <td>145.075560</td>\n      <td>1</td>\n    </tr>\n    <tr>\n      <th>2</th>\n      <td>3</td>\n      <td>2</td>\n      <td>2</td>\n      <td>Townhouse</td>\n      <td>1/1017 TOORAK ROAD, CAMBERWELL</td>\n      <td>Camberwell</td>\n      <td>3124</td>\n      <td>https://www.oldlistings.com.au/real-estate/VIC...</td>\n      <td>Toorak Road, Camberwell, Melbourne, City of Bo...</td>\n      <td>-37.850405</td>\n      <td>...</td>\n      <td>9588</td>\n      <td>2937</td>\n      <td>4884</td>\n      <td>Box Hill Hospital</td>\n      <td>-37.815458</td>\n      <td>145.119672</td>\n      <td>Burwood Railway Station (Glen Iris)</td>\n      <td>-37.851563</td>\n      <td>145.080511</td>\n      <td>1</td>\n    </tr>\n    <tr>\n      <th>3</th>\n      <td>2</td>\n      <td>1</td>\n      <td>1</td>\n      <td>AUF</td>\n      <td>1/11 EDDY STREET, CAMBERWELL</td>\n      <td>Camberwell</td>\n      <td>3124</td>\n      <td>https://www.oldlistings.com.au/real-estate/VIC...</td>\n      <td>Eddy Street, Camberwell, Melbourne, City of Bo...</td>\n      <td>-37.846792</td>\n      <td>...</td>\n      <td>9588</td>\n      <td>2937</td>\n      <td>4884</td>\n      <td>Box Hill Hospital</td>\n      <td>-37.815458</td>\n      <td>145.119672</td>\n      <td>Hartwell Railway Station (Camberwell)</td>\n      <td>-37.843985</td>\n      <td>145.075560</td>\n      <td>1</td>\n    </tr>\n    <tr>\n      <th>4</th>\n      <td>2</td>\n      <td>1</td>\n      <td>1</td>\n      <td>AUF</td>\n      <td>1/11 ORANGE GROVE, CAMBERWELL</td>\n      <td>Camberwell</td>\n      <td>3124</td>\n      <td>https://www.oldlistings.com.au/real-estate/VIC...</td>\n      <td>Orange Grove, Camberwell, Melbourne, City of B...</td>\n      <td>-37.841181</td>\n      <td>...</td>\n      <td>9588</td>\n      <td>2937</td>\n      <td>4884</td>\n      <td>Box Hill Hospital</td>\n      <td>-37.815458</td>\n      <td>145.119672</td>\n      <td>Willison Railway Station (Camberwell)</td>\n      <td>-37.835716</td>\n      <td>145.070298</td>\n      <td>1</td>\n    </tr>\n    <tr>\n      <th>...</th>\n      <td>...</td>\n      <td>...</td>\n      <td>...</td>\n      <td>...</td>\n      <td>...</td>\n      <td>...</td>\n      <td>...</td>\n      <td>...</td>\n      <td>...</td>\n      <td>...</td>\n      <td>...</td>\n      <td>...</td>\n      <td>...</td>\n      <td>...</td>\n      <td>...</td>\n      <td>...</td>\n      <td>...</td>\n      <td>...</td>\n      <td>...</td>\n      <td>...</td>\n      <td>...</td>\n    </tr>\n    <tr>\n      <th>31528</th>\n      <td>3</td>\n      <td>2</td>\n      <td>2</td>\n      <td>House</td>\n      <td>25 CHARLES SMITH DRIVE, WONGA PARK</td>\n      <td>Wonga Park</td>\n      <td>3115</td>\n      <td>https://www.oldlistings.com.au/real-estate/VIC...</td>\n      <td>Charles Smith Drive, Wonga Park, Melbourne, Ci...</td>\n      <td>-37.767758</td>\n      <td>...</td>\n      <td>3789</td>\n      <td>1611</td>\n      <td>2412</td>\n      <td>Maroondah Hospital</td>\n      <td>-37.809273</td>\n      <td>145.247901</td>\n      <td>Croydon Railway Station (Croydon)</td>\n      <td>-37.795437</td>\n      <td>145.280598</td>\n      <td>1</td>\n    </tr>\n    <tr>\n      <th>31529</th>\n      <td>2</td>\n      <td>1</td>\n      <td>2</td>\n      <td>House</td>\n      <td>389 YARRA ROAD, WONGA PARK</td>\n      <td>Wonga Park</td>\n      <td>3115</td>\n      <td>https://www.oldlistings.com.au/real-estate/VIC...</td>\n      <td>Yarra Road, Wonga Park South, Wonga Park, Melb...</td>\n      <td>-37.751110</td>\n      <td>...</td>\n      <td>3789</td>\n      <td>1611</td>\n      <td>2412</td>\n      <td>Maroondah Hospital</td>\n      <td>-37.809273</td>\n      <td>145.247901</td>\n      <td>Croydon Railway Station (Croydon)</td>\n      <td>-37.795437</td>\n      <td>145.280598</td>\n      <td>1</td>\n    </tr>\n    <tr>\n      <th>31530</th>\n      <td>2</td>\n      <td>1</td>\n      <td>1</td>\n      <td>AUF</td>\n      <td>3/1 WEST END ROAD, WARRANDYTE</td>\n      <td>Warrandyte</td>\n      <td>3113</td>\n      <td>https://www.oldlistings.com.au/real-estate/VIC...</td>\n      <td>West End Road, Warrandyte, Melbourne, City of ...</td>\n      <td>-37.743661</td>\n      <td>...</td>\n      <td>3789</td>\n      <td>1611</td>\n      <td>2412</td>\n      <td>Maroondah Hospital</td>\n      <td>-37.809273</td>\n      <td>145.247901</td>\n      <td>Eltham Railway Station (Eltham)</td>\n      <td>-37.713550</td>\n      <td>145.147822</td>\n      <td>1</td>\n    </tr>\n    <tr>\n      <th>31531</th>\n      <td>3</td>\n      <td>2</td>\n      <td>2</td>\n      <td>House</td>\n      <td>48 BEAUTY GULLY ROAD, WARRANDYTE</td>\n      <td>Warrandyte</td>\n      <td>3113</td>\n      <td>https://www.oldlistings.com.au/real-estate/VIC...</td>\n      <td>Beauty Gully Road, Warrandyte, Melbourne, City...</td>\n      <td>-37.759570</td>\n      <td>...</td>\n      <td>3789</td>\n      <td>1611</td>\n      <td>2412</td>\n      <td>Maroondah Hospital</td>\n      <td>-37.809273</td>\n      <td>145.247901</td>\n      <td>Ringwood Railway Station (Ringwood)</td>\n      <td>-37.815660</td>\n      <td>145.229474</td>\n      <td>2</td>\n    </tr>\n    <tr>\n      <th>31532</th>\n      <td>4</td>\n      <td>2</td>\n      <td>2</td>\n      <td>House</td>\n      <td>49 ALPINE RIDGE DRIVE, MERRIJIG</td>\n      <td>Merrijig</td>\n      <td>3723</td>\n      <td>https://www.oldlistings.com.au/real-estate/VIC...</td>\n      <td>Alpine Ridge Drive, Merrijig, Sawmill Settleme...</td>\n      <td>-37.109772</td>\n      <td>...</td>\n      <td>3084</td>\n      <td>1419</td>\n      <td>2981</td>\n      <td>Northeast Health Wangaratta</td>\n      <td>-36.354113</td>\n      <td>146.313804</td>\n      <td>Lilydale Railway Station (Lilydale)</td>\n      <td>-37.755518</td>\n      <td>145.347710</td>\n      <td>1</td>\n    </tr>\n  </tbody>\n</table>\n<p>31533 rows × 51 columns</p>\n</div>"
     },
     "execution_count": 254,
     "metadata": {},
     "output_type": "execute_result"
    }
   ],
   "source": [
    "df3"
   ],
   "metadata": {
    "collapsed": false,
    "pycharm": {
     "name": "#%%\n"
    }
   }
  },
  {
   "cell_type": "markdown",
   "source": [
    "### final check and export"
   ],
   "metadata": {
    "collapsed": false
   }
  },
  {
   "cell_type": "code",
   "execution_count": 255,
   "outputs": [],
   "source": [
    "df3 = df3.drop('geo_coordinate', axis = 1)"
   ],
   "metadata": {
    "collapsed": false,
    "pycharm": {
     "name": "#%%\n"
    }
   }
  },
  {
   "cell_type": "code",
   "execution_count": 256,
   "outputs": [
    {
     "data": {
      "text/plain": "bed                                  0\nbath                                 0\ncar                                  0\ntype                              5895\naddress                              0\nsuburb                               0\npostcode                             0\nurl                                  0\nloc_address                          0\nlat                                  0\nlon                                  0\nweekly_rent                          0\nlist_date                            0\nlist_history                         0\nlist_count                           0\nSA2_NAME_2016                        0\nSA2                                  0\nlgaregion                            0\nincome_earner                        0\nincome_median_age                    0\nincome_median                        0\nincome_mean                          0\nincome_top_10_pct                  112\npopulation_total                     0\npopulation_children                  0\npopulation_prime_working             0\npopulation_elderly                   0\npopulation_early_working             0\npopulation_mature_working            0\nprimary_school_name                  0\nsecondary_school_name                0\nsecondary_school_rank                0\nsecondary_school_cohort              0\npri_lat                              0\npri_lon                              0\nsec_lat                              0\nsec_lon                              0\nproj_population_total                0\nproj_population_children             0\nproj_population_early_working        0\nproj_population_prime_working        0\nproj_population_mature_working       0\nproj_population_elderly              0\nclosest_ed_name                      0\ned_lat                               0\ned_lon                               0\ntrain_stop                           0\ntrain_lat                            0\ntrain_lon                            0\ntrain_n_lines                        0\ndtype: int64"
     },
     "execution_count": 256,
     "metadata": {},
     "output_type": "execute_result"
    }
   ],
   "source": [
    "df3.isna().sum()\n",
    "# consider we still have a lot of entries\n",
    "# and we want to produce the best model\n",
    "# drop all rows with any NaN\n",
    "# this shall not be applied if the dataset is small"
   ],
   "metadata": {
    "collapsed": false,
    "pycharm": {
     "name": "#%%\n"
    }
   }
  },
  {
   "cell_type": "code",
   "execution_count": 257,
   "outputs": [],
   "source": [
    "df3 = df3.dropna()"
   ],
   "metadata": {
    "collapsed": false,
    "pycharm": {
     "name": "#%%\n"
    }
   }
  },
  {
   "cell_type": "code",
   "execution_count": 258,
   "outputs": [
    {
     "data": {
      "text/plain": "25551"
     },
     "execution_count": 258,
     "metadata": {},
     "output_type": "execute_result"
    }
   ],
   "source": [
    "len(df3)"
   ],
   "metadata": {
    "collapsed": false,
    "pycharm": {
     "name": "#%%\n"
    }
   }
  },
  {
   "cell_type": "code",
   "execution_count": 270,
   "outputs": [],
   "source": [
    "features = ['lat', 'lon', 'pri_lat', 'pri_lon', 'sec_lat', 'sec_lon', 'ed_lat', 'ed_lon', 'train_lat', 'train_lon']"
   ],
   "metadata": {
    "collapsed": false,
    "pycharm": {
     "name": "#%%\n"
    }
   }
  },
  {
   "cell_type": "code",
   "execution_count": 264,
   "outputs": [],
   "source": [
    "df3 = df3[df3['lat'] < -34]\n",
    "df3 = df3[df3['lat'] > -40]\n",
    "df3 = df3[df3['lon'] > 140]\n",
    "df3 = df3[df3['lon'] < 150]"
   ],
   "metadata": {
    "collapsed": false,
    "pycharm": {
     "name": "#%%\n"
    }
   }
  },
  {
   "cell_type": "code",
   "execution_count": 271,
   "outputs": [
    {
     "data": {
      "text/plain": "22284"
     },
     "execution_count": 271,
     "metadata": {},
     "output_type": "execute_result"
    }
   ],
   "source": [
    "len(df3)"
   ],
   "metadata": {
    "collapsed": false,
    "pycharm": {
     "name": "#%%\n"
    }
   }
  },
  {
   "cell_type": "code",
   "execution_count": 266,
   "outputs": [],
   "source": [
    "df3.to_csv('../data/curated/listing_with_features.csv')"
   ],
   "metadata": {
    "collapsed": false,
    "pycharm": {
     "name": "#%%\n"
    }
   }
  },
  {
   "cell_type": "code",
   "execution_count": 272,
   "outputs": [
    {
     "name": "stdout",
     "output_type": "stream",
     "text": [
      "lat\n",
      "-37.9999943\n",
      "-37.1097723\n",
      "lon\n",
      "144.324648\n",
      "146.3497923\n",
      "pri_lat\n",
      "-38.015915\n",
      "-37.102798\n",
      "pri_lon\n",
      "144.255106\n",
      "146.25688\n",
      "sec_lat\n",
      "-38.109956\n",
      "-37.062676\n",
      "sec_lon\n",
      "144.340792\n",
      "146.088565\n",
      "ed_lat\n",
      "-38.1726891\n",
      "-36.35411275\n",
      "ed_lon\n",
      "144.667923\n",
      "146.31380413326383\n",
      "train_lat\n",
      "-38.080614\n",
      "-37.579091\n",
      "train_lon\n",
      "144.661118\n",
      "145.486379\n"
     ]
    }
   ],
   "source": [
    "for i in features:\n",
    "    print(i)\n",
    "    print(df3[i].min())\n",
    "    print(df3[i].max())"
   ],
   "metadata": {
    "collapsed": false,
    "pycharm": {
     "name": "#%%\n"
    }
   }
  },
  {
   "cell_type": "code",
   "execution_count": null,
   "outputs": [],
   "source": [],
   "metadata": {
    "collapsed": false,
    "pycharm": {
     "name": "#%%\n"
    }
   }
  }
 ],
 "metadata": {
  "kernelspec": {
   "display_name": "Python 3",
   "language": "python",
   "name": "python3"
  },
  "language_info": {
   "codemirror_mode": {
    "name": "ipython",
    "version": 2
   },
   "file_extension": ".py",
   "mimetype": "text/x-python",
   "name": "python",
   "nbconvert_exporter": "python",
   "pygments_lexer": "ipython2",
   "version": "2.7.6"
  }
 },
 "nbformat": 4,
 "nbformat_minor": 0
}