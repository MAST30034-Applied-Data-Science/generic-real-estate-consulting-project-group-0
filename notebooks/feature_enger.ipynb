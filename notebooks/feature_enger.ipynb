{
 "cells": [
  {
   "cell_type": "code",
   "execution_count": 75,
   "metadata": {
    "collapsed": true
   },
   "outputs": [],
   "source": [
    "import pandas as pd\n",
    "import numpy as np\n",
    "from tqdm import tqdm\n",
    "import collections\n",
    "\n",
    "# !pip install openrouteservice\n",
    "# import openrouteservice"
   ]
  },
  {
   "cell_type": "code",
   "execution_count": 61,
   "outputs": [
    {
     "data": {
      "text/plain": "   bed  bath  car   type                         address     suburb  code  \\\n0    3     1    2  House   4 LUCERNE CRESCENT, FRANKSTON  Frankston  3199   \n1    3     1    2  House   4 LUCERNE CRESCENT, FRANKSTON  Frankston  3199   \n2    3     1    2  House   4 LUCERNE CRESCENT, FRANKSTON  Frankston  3199   \n3    3     1    2  House   4 LUCERNE CRESCENT, FRANKSTON  Frankston  3199   \n4    3     1    3  House  19 FRALLON CRESCENT, FRANKSTON  Frankston  3199   \n\n                                                 url  \\\n0  https://www.oldlistings.com.au/real-estate/VIC...   \n1  https://www.oldlistings.com.au/real-estate/VIC...   \n2  https://www.oldlistings.com.au/real-estate/VIC...   \n3  https://www.oldlistings.com.au/real-estate/VIC...   \n4  https://www.oldlistings.com.au/real-estate/VIC...   \n\n                                         loc_address        lat         lon  \\\n0  Lucerne Crescent, Frankston, Melbourne, City o... -38.146375  145.166494   \n1  Lucerne Crescent, Frankston, Melbourne, City o... -38.146375  145.166494   \n2  Lucerne Crescent, Frankston, Melbourne, City o... -38.146375  145.166494   \n3  Lucerne Crescent, Frankston, Melbourne, City o... -38.146375  145.166494   \n4  Frallon Crescent, Karingal, Frankston, Melbour... -38.136790  145.152331   \n\n   weekly_rent   list_date  \n0        350.0  2016-12-01  \n1        330.0  2016-12-01  \n2        330.0  2016-01-01  \n3        330.0  2015-11-01  \n4        420.0  2021-01-01  ",
      "text/html": "<div>\n<style scoped>\n    .dataframe tbody tr th:only-of-type {\n        vertical-align: middle;\n    }\n\n    .dataframe tbody tr th {\n        vertical-align: top;\n    }\n\n    .dataframe thead th {\n        text-align: right;\n    }\n</style>\n<table border=\"1\" class=\"dataframe\">\n  <thead>\n    <tr style=\"text-align: right;\">\n      <th></th>\n      <th>bed</th>\n      <th>bath</th>\n      <th>car</th>\n      <th>type</th>\n      <th>address</th>\n      <th>suburb</th>\n      <th>code</th>\n      <th>url</th>\n      <th>loc_address</th>\n      <th>lat</th>\n      <th>lon</th>\n      <th>weekly_rent</th>\n      <th>list_date</th>\n    </tr>\n  </thead>\n  <tbody>\n    <tr>\n      <th>0</th>\n      <td>3</td>\n      <td>1</td>\n      <td>2</td>\n      <td>House</td>\n      <td>4 LUCERNE CRESCENT, FRANKSTON</td>\n      <td>Frankston</td>\n      <td>3199</td>\n      <td>https://www.oldlistings.com.au/real-estate/VIC...</td>\n      <td>Lucerne Crescent, Frankston, Melbourne, City o...</td>\n      <td>-38.146375</td>\n      <td>145.166494</td>\n      <td>350.0</td>\n      <td>2016-12-01</td>\n    </tr>\n    <tr>\n      <th>1</th>\n      <td>3</td>\n      <td>1</td>\n      <td>2</td>\n      <td>House</td>\n      <td>4 LUCERNE CRESCENT, FRANKSTON</td>\n      <td>Frankston</td>\n      <td>3199</td>\n      <td>https://www.oldlistings.com.au/real-estate/VIC...</td>\n      <td>Lucerne Crescent, Frankston, Melbourne, City o...</td>\n      <td>-38.146375</td>\n      <td>145.166494</td>\n      <td>330.0</td>\n      <td>2016-12-01</td>\n    </tr>\n    <tr>\n      <th>2</th>\n      <td>3</td>\n      <td>1</td>\n      <td>2</td>\n      <td>House</td>\n      <td>4 LUCERNE CRESCENT, FRANKSTON</td>\n      <td>Frankston</td>\n      <td>3199</td>\n      <td>https://www.oldlistings.com.au/real-estate/VIC...</td>\n      <td>Lucerne Crescent, Frankston, Melbourne, City o...</td>\n      <td>-38.146375</td>\n      <td>145.166494</td>\n      <td>330.0</td>\n      <td>2016-01-01</td>\n    </tr>\n    <tr>\n      <th>3</th>\n      <td>3</td>\n      <td>1</td>\n      <td>2</td>\n      <td>House</td>\n      <td>4 LUCERNE CRESCENT, FRANKSTON</td>\n      <td>Frankston</td>\n      <td>3199</td>\n      <td>https://www.oldlistings.com.au/real-estate/VIC...</td>\n      <td>Lucerne Crescent, Frankston, Melbourne, City o...</td>\n      <td>-38.146375</td>\n      <td>145.166494</td>\n      <td>330.0</td>\n      <td>2015-11-01</td>\n    </tr>\n    <tr>\n      <th>4</th>\n      <td>3</td>\n      <td>1</td>\n      <td>3</td>\n      <td>House</td>\n      <td>19 FRALLON CRESCENT, FRANKSTON</td>\n      <td>Frankston</td>\n      <td>3199</td>\n      <td>https://www.oldlistings.com.au/real-estate/VIC...</td>\n      <td>Frallon Crescent, Karingal, Frankston, Melbour...</td>\n      <td>-38.136790</td>\n      <td>145.152331</td>\n      <td>420.0</td>\n      <td>2021-01-01</td>\n    </tr>\n  </tbody>\n</table>\n</div>"
     },
     "execution_count": 61,
     "metadata": {},
     "output_type": "execute_result"
    }
   ],
   "source": [
    "files_dire = '../data/curated/'\n",
    "df = pd.read_csv(f'{files_dire}/processed_listing.csv').iloc[: , 1:]\n",
    "df.head()"
   ],
   "metadata": {
    "collapsed": false,
    "pycharm": {
     "name": "#%%\n"
    }
   }
  },
  {
   "cell_type": "code",
   "execution_count": 63,
   "outputs": [],
   "source": [
    "df['list_date'] = df['list_date'].apply(pd.to_datetime)"
   ],
   "metadata": {
    "collapsed": false,
    "pycharm": {
     "name": "#%%\n"
    }
   }
  },
  {
   "cell_type": "code",
   "execution_count": 64,
   "outputs": [],
   "source": [
    "n_rows = len(df)"
   ],
   "metadata": {
    "collapsed": false,
    "pycharm": {
     "name": "#%%\n"
    }
   }
  },
  {
   "cell_type": "code",
   "execution_count": 65,
   "outputs": [
    {
     "data": {
      "text/plain": "82556"
     },
     "execution_count": 65,
     "metadata": {},
     "output_type": "execute_result"
    }
   ],
   "source": [
    "len(list(set(df['address'].tolist())))"
   ],
   "metadata": {
    "collapsed": false,
    "pycharm": {
     "name": "#%%\n"
    }
   }
  },
  {
   "cell_type": "code",
   "execution_count": 41,
   "outputs": [
    {
     "data": {
      "text/plain": "   bed  bath  car   type                        address     suburb  code  \\\n0    3     1    2  House  4 LUCERNE CRESCENT, FRANKSTON  Frankston  3199   \n\n                                                 url  \\\n0  https://www.oldlistings.com.au/real-estate/VIC...   \n\n                                         loc_address        lat         lon  \\\n0  Lucerne Crescent, Frankston, Melbourne, City o... -38.146375  145.166494   \n\n   weekly_rent  list_date list_history  \n0        350.0 2016-12-01               ",
      "text/html": "<div>\n<style scoped>\n    .dataframe tbody tr th:only-of-type {\n        vertical-align: middle;\n    }\n\n    .dataframe tbody tr th {\n        vertical-align: top;\n    }\n\n    .dataframe thead th {\n        text-align: right;\n    }\n</style>\n<table border=\"1\" class=\"dataframe\">\n  <thead>\n    <tr style=\"text-align: right;\">\n      <th></th>\n      <th>bed</th>\n      <th>bath</th>\n      <th>car</th>\n      <th>type</th>\n      <th>address</th>\n      <th>suburb</th>\n      <th>code</th>\n      <th>url</th>\n      <th>loc_address</th>\n      <th>lat</th>\n      <th>lon</th>\n      <th>weekly_rent</th>\n      <th>list_date</th>\n      <th>list_history</th>\n    </tr>\n  </thead>\n  <tbody>\n    <tr>\n      <th>0</th>\n      <td>3</td>\n      <td>1</td>\n      <td>2</td>\n      <td>House</td>\n      <td>4 LUCERNE CRESCENT, FRANKSTON</td>\n      <td>Frankston</td>\n      <td>3199</td>\n      <td>https://www.oldlistings.com.au/real-estate/VIC...</td>\n      <td>Lucerne Crescent, Frankston, Melbourne, City o...</td>\n      <td>-38.146375</td>\n      <td>145.166494</td>\n      <td>350.0</td>\n      <td>2016-12-01</td>\n      <td></td>\n    </tr>\n  </tbody>\n</table>\n</div>"
     },
     "execution_count": 41,
     "metadata": {},
     "output_type": "execute_result"
    }
   ],
   "source": [
    "df2 = df.iloc[0:1,:]\n",
    "df2 = df2.assign(list_history = '')\n",
    "df2.head()"
   ],
   "metadata": {
    "collapsed": false,
    "pycharm": {
     "name": "#%%\n"
    }
   }
  },
  {
   "cell_type": "code",
   "execution_count": 66,
   "outputs": [],
   "source": [
    "n_property = 0"
   ],
   "metadata": {
    "collapsed": false,
    "pycharm": {
     "name": "#%%\n"
    }
   }
  },
  {
   "cell_type": "code",
   "execution_count": 67,
   "outputs": [],
   "source": [
    "past_listing = []\n",
    "list_date = df.iloc[0]['list_date']\n",
    "list_price = df.iloc[0]['weekly_rent']"
   ],
   "metadata": {
    "collapsed": false,
    "pycharm": {
     "name": "#%%\n"
    }
   }
  },
  {
   "cell_type": "code",
   "execution_count": 68,
   "outputs": [
    {
     "name": "stderr",
     "output_type": "stream",
     "text": [
      "100%|██████████| 303639/303639 [04:29<00:00, 1126.34it/s]\n"
     ]
    }
   ],
   "source": [
    "for i in tqdm(range(1, n_rows)):\n",
    "    # print(i)\n",
    "    # print(df.iloc[i]['address'])\n",
    "    if df.iloc[i]['address'] == df2.iloc[n_property]['address']:\n",
    "        # print(past_listing)\n",
    "        # print(list_date)\n",
    "        # print(df2.iloc[n_property]['list_date'])\n",
    "        days = (df.iloc[i]['list_date'] - list_date)/ np.timedelta64(1, 'Y')\n",
    "        list_date = df.iloc[i]['list_date']\n",
    "        price = list_price - df.iloc[i]['weekly_rent']\n",
    "        list_price = df.iloc[i]['weekly_rent']\n",
    "        if days != 0:\n",
    "            temp = [days, price]\n",
    "            past_listing.append(temp)\n",
    "    else:\n",
    "        df2.at[n_property, 'list_history'] = past_listing\n",
    "        n_property += 1\n",
    "        df2.loc[n_property] = df.iloc[i]\n",
    "        past_listing = []\n",
    "df2.at[n_property, 'list_history'] = past_listing"
   ],
   "metadata": {
    "collapsed": false,
    "pycharm": {
     "name": "#%%\n"
    }
   }
  },
  {
   "cell_type": "code",
   "execution_count": 69,
   "outputs": [],
   "source": [
    "df2['list_count'] = df2['list_history'].str.len()"
   ],
   "metadata": {
    "collapsed": false,
    "pycharm": {
     "name": "#%%\n"
    }
   }
  },
  {
   "cell_type": "code",
   "execution_count": 113,
   "outputs": [
    {
     "data": {
      "text/plain": "   bed  bath  car   type                         address     suburb  postcode  \\\n0    3     1    2  House   4 LUCERNE CRESCENT, FRANKSTON  Frankston      3199   \n1    3     1    3  House  19 FRALLON CRESCENT, FRANKSTON  Frankston      3199   \n2    3     1    2    AUF    1/14 PARER STREET, FRANKSTON  Frankston      3199   \n3    3     1    2    AUF        1/14 PARER ST, FRANKSTON  Frankston      3199   \n4    3     2    2  House            1 YORK CT, FRANKSTON  Frankston      3199   \n\n                                                 url  \\\n0  https://www.oldlistings.com.au/real-estate/VIC...   \n1  https://www.oldlistings.com.au/real-estate/VIC...   \n2  https://www.oldlistings.com.au/real-estate/VIC...   \n3  https://www.oldlistings.com.au/real-estate/VIC...   \n4  https://www.oldlistings.com.au/real-estate/VIC...   \n\n                                         loc_address        lat         lon  \\\n0  Lucerne Crescent, Frankston, Melbourne, City o... -38.146375  145.166494   \n1  Frallon Crescent, Karingal, Frankston, Melbour... -38.136790  145.152331   \n2  Parer Street, Frankston, Melbourne, City of Fr... -38.143728  145.140240   \n3  Parer Street, Frankston, Melbourne, City of Fr... -38.143728  145.140240   \n4  York Court, Karingal, Frankston, Melbourne, Ci... -38.139321  145.157489   \n\n   weekly_rent  list_date                                       list_history  \\\n0        350.0 2016-12-01  [[-0.9171988473411501, 0.0], [-0.1670123274262...   \n1        420.0 2021-01-01  [[4.498381212482118, -100.0], [-0.082137210209...   \n2        220.0 2008-10-01                     [[-13.087195493405067, 250.0]]   \n3        320.0 2021-01-01  [[10.086449413745662, -90.0], [-1.248485595186...   \n4        400.0 2021-01-01                      [[8.167176601846718, -170.0]]   \n\n   list_count  \n0           2  \n1           2  \n2           1  \n3           3  \n4           1  ",
      "text/html": "<div>\n<style scoped>\n    .dataframe tbody tr th:only-of-type {\n        vertical-align: middle;\n    }\n\n    .dataframe tbody tr th {\n        vertical-align: top;\n    }\n\n    .dataframe thead th {\n        text-align: right;\n    }\n</style>\n<table border=\"1\" class=\"dataframe\">\n  <thead>\n    <tr style=\"text-align: right;\">\n      <th></th>\n      <th>bed</th>\n      <th>bath</th>\n      <th>car</th>\n      <th>type</th>\n      <th>address</th>\n      <th>suburb</th>\n      <th>postcode</th>\n      <th>url</th>\n      <th>loc_address</th>\n      <th>lat</th>\n      <th>lon</th>\n      <th>weekly_rent</th>\n      <th>list_date</th>\n      <th>list_history</th>\n      <th>list_count</th>\n    </tr>\n  </thead>\n  <tbody>\n    <tr>\n      <th>0</th>\n      <td>3</td>\n      <td>1</td>\n      <td>2</td>\n      <td>House</td>\n      <td>4 LUCERNE CRESCENT, FRANKSTON</td>\n      <td>Frankston</td>\n      <td>3199</td>\n      <td>https://www.oldlistings.com.au/real-estate/VIC...</td>\n      <td>Lucerne Crescent, Frankston, Melbourne, City o...</td>\n      <td>-38.146375</td>\n      <td>145.166494</td>\n      <td>350.0</td>\n      <td>2016-12-01</td>\n      <td>[[-0.9171988473411501, 0.0], [-0.1670123274262...</td>\n      <td>2</td>\n    </tr>\n    <tr>\n      <th>1</th>\n      <td>3</td>\n      <td>1</td>\n      <td>3</td>\n      <td>House</td>\n      <td>19 FRALLON CRESCENT, FRANKSTON</td>\n      <td>Frankston</td>\n      <td>3199</td>\n      <td>https://www.oldlistings.com.au/real-estate/VIC...</td>\n      <td>Frallon Crescent, Karingal, Frankston, Melbour...</td>\n      <td>-38.136790</td>\n      <td>145.152331</td>\n      <td>420.0</td>\n      <td>2021-01-01</td>\n      <td>[[4.498381212482118, -100.0], [-0.082137210209...</td>\n      <td>2</td>\n    </tr>\n    <tr>\n      <th>2</th>\n      <td>3</td>\n      <td>1</td>\n      <td>2</td>\n      <td>AUF</td>\n      <td>1/14 PARER STREET, FRANKSTON</td>\n      <td>Frankston</td>\n      <td>3199</td>\n      <td>https://www.oldlistings.com.au/real-estate/VIC...</td>\n      <td>Parer Street, Frankston, Melbourne, City of Fr...</td>\n      <td>-38.143728</td>\n      <td>145.140240</td>\n      <td>220.0</td>\n      <td>2008-10-01</td>\n      <td>[[-13.087195493405067, 250.0]]</td>\n      <td>1</td>\n    </tr>\n    <tr>\n      <th>3</th>\n      <td>3</td>\n      <td>1</td>\n      <td>2</td>\n      <td>AUF</td>\n      <td>1/14 PARER ST, FRANKSTON</td>\n      <td>Frankston</td>\n      <td>3199</td>\n      <td>https://www.oldlistings.com.au/real-estate/VIC...</td>\n      <td>Parer Street, Frankston, Melbourne, City of Fr...</td>\n      <td>-38.143728</td>\n      <td>145.140240</td>\n      <td>320.0</td>\n      <td>2021-01-01</td>\n      <td>[[10.086449413745662, -90.0], [-1.248485595186...</td>\n      <td>3</td>\n    </tr>\n    <tr>\n      <th>4</th>\n      <td>3</td>\n      <td>2</td>\n      <td>2</td>\n      <td>House</td>\n      <td>1 YORK CT, FRANKSTON</td>\n      <td>Frankston</td>\n      <td>3199</td>\n      <td>https://www.oldlistings.com.au/real-estate/VIC...</td>\n      <td>York Court, Karingal, Frankston, Melbourne, Ci...</td>\n      <td>-38.139321</td>\n      <td>145.157489</td>\n      <td>400.0</td>\n      <td>2021-01-01</td>\n      <td>[[8.167176601846718, -170.0]]</td>\n      <td>1</td>\n    </tr>\n  </tbody>\n</table>\n</div>"
     },
     "execution_count": 113,
     "metadata": {},
     "output_type": "execute_result"
    }
   ],
   "source": [
    "df2 = df2.rename(columns={'code': 'postcode'}, errors=\"raise\")\n",
    "df2.head()"
   ],
   "metadata": {
    "collapsed": false,
    "pycharm": {
     "name": "#%%\n"
    }
   }
  },
  {
   "cell_type": "code",
   "execution_count": 114,
   "outputs": [],
   "source": [
    "df2.to_csv('../data/curated/processed_listing_combined.csv')"
   ],
   "metadata": {
    "collapsed": false,
    "pycharm": {
     "name": "#%%\n"
    }
   }
  },
  {
   "cell_type": "code",
   "execution_count": 87,
   "outputs": [],
   "source": [
    "col_list = (df2['list_count'].values.tolist())"
   ],
   "metadata": {
    "collapsed": false,
    "pycharm": {
     "name": "#%%\n"
    }
   }
  },
  {
   "cell_type": "code",
   "execution_count": 89,
   "outputs": [],
   "source": [
    "col_list.sort()"
   ],
   "metadata": {
    "collapsed": false,
    "pycharm": {
     "name": "#%%\n"
    }
   }
  },
  {
   "cell_type": "code",
   "execution_count": 90,
   "outputs": [
    {
     "name": "stdout",
     "output_type": "stream",
     "text": [
      "Counter({1: 30322, 2: 19577, 3: 12567, 4: 7812, 5: 4750, 6: 2845, 7: 1702, 8: 1007, 0: 638, 9: 558, 10: 305, 11: 205, 12: 101, 13: 56, 14: 34, 15: 21, 16: 13, 17: 12, 19: 7, 20: 5, 18: 4, 21: 3, 23: 3, 29: 3, 30: 2, 34: 2, 24: 1, 26: 1, 27: 1, 32: 1, 42: 1})\n"
     ]
    }
   ],
   "source": [
    "counter = collections.Counter(col_list)\n",
    "print(counter)"
   ],
   "metadata": {
    "collapsed": false,
    "pycharm": {
     "name": "#%%\n"
    }
   }
  },
  {
   "cell_type": "code",
   "execution_count": 111,
   "outputs": [
    {
     "data": {
      "text/plain": "      postcode          suburb   SA2_NAME_2016  SA2_MAINCODE_2016\n6151      3000       Melbourne       Melbourne        206041122.0\n6152      3001       Melbourne       Melbourne        206041122.0\n6153      3002  East Melbourne  East Melbourne        206041119.0\n6154      3003  West Melbourne  West Melbourne        206041127.0\n6155      3004       Melbourne       Southbank        206041126.0",
      "text/html": "<div>\n<style scoped>\n    .dataframe tbody tr th:only-of-type {\n        vertical-align: middle;\n    }\n\n    .dataframe tbody tr th {\n        vertical-align: top;\n    }\n\n    .dataframe thead th {\n        text-align: right;\n    }\n</style>\n<table border=\"1\" class=\"dataframe\">\n  <thead>\n    <tr style=\"text-align: right;\">\n      <th></th>\n      <th>postcode</th>\n      <th>suburb</th>\n      <th>SA2_NAME_2016</th>\n      <th>SA2_MAINCODE_2016</th>\n    </tr>\n  </thead>\n  <tbody>\n    <tr>\n      <th>6151</th>\n      <td>3000</td>\n      <td>Melbourne</td>\n      <td>Melbourne</td>\n      <td>206041122.0</td>\n    </tr>\n    <tr>\n      <th>6152</th>\n      <td>3001</td>\n      <td>Melbourne</td>\n      <td>Melbourne</td>\n      <td>206041122.0</td>\n    </tr>\n    <tr>\n      <th>6153</th>\n      <td>3002</td>\n      <td>East Melbourne</td>\n      <td>East Melbourne</td>\n      <td>206041119.0</td>\n    </tr>\n    <tr>\n      <th>6154</th>\n      <td>3003</td>\n      <td>West Melbourne</td>\n      <td>West Melbourne</td>\n      <td>206041127.0</td>\n    </tr>\n    <tr>\n      <th>6155</th>\n      <td>3004</td>\n      <td>Melbourne</td>\n      <td>Southbank</td>\n      <td>206041126.0</td>\n    </tr>\n  </tbody>\n</table>\n</div>"
     },
     "execution_count": 111,
     "metadata": {},
     "output_type": "execute_result"
    }
   ],
   "source": [
    "postcode_df = pd.read_csv('../data/raw/abs/australian_postcodes.csv')\n",
    "postcode_df = postcode_df.loc[postcode_df['state'] == 'VIC']\n",
    "postcode_df['locality'] = postcode_df['locality'].str.title()\n",
    "postcode_df = postcode_df[['postcode', 'locality', 'SA2_NAME_2016', 'SA2_MAINCODE_2016']]\n",
    "postcode_df = postcode_df.rename(columns={'locality': 'suburb'}, errors=\"raise\")\n",
    "postcode_df.head()"
   ],
   "metadata": {
    "collapsed": false,
    "pycharm": {
     "name": "#%%\n"
    }
   }
  },
  {
   "cell_type": "code",
   "execution_count": 144,
   "outputs": [
    {
     "data": {
      "text/plain": "   bed  bath  car   type                         address     suburb  postcode  \\\n0    3     1    2  House   4 LUCERNE CRESCENT, FRANKSTON  Frankston      3199   \n1    3     1    3  House  19 FRALLON CRESCENT, FRANKSTON  Frankston      3199   \n2    3     1    2    AUF    1/14 PARER STREET, FRANKSTON  Frankston      3199   \n3    3     1    2    AUF        1/14 PARER ST, FRANKSTON  Frankston      3199   \n4    3     2    2  House            1 YORK CT, FRANKSTON  Frankston      3199   \n\n                                                 url  \\\n0  https://www.oldlistings.com.au/real-estate/VIC...   \n1  https://www.oldlistings.com.au/real-estate/VIC...   \n2  https://www.oldlistings.com.au/real-estate/VIC...   \n3  https://www.oldlistings.com.au/real-estate/VIC...   \n4  https://www.oldlistings.com.au/real-estate/VIC...   \n\n                                         loc_address        lat         lon  \\\n0  Lucerne Crescent, Frankston, Melbourne, City o... -38.146375  145.166494   \n1  Frallon Crescent, Karingal, Frankston, Melbour... -38.136790  145.152331   \n2  Parer Street, Frankston, Melbourne, City of Fr... -38.143728  145.140240   \n3  Parer Street, Frankston, Melbourne, City of Fr... -38.143728  145.140240   \n4  York Court, Karingal, Frankston, Melbourne, Ci... -38.139321  145.157489   \n\n   weekly_rent  list_date                                       list_history  \\\n0        350.0 2016-12-01  [[-0.9171988473411501, 0.0], [-0.1670123274262...   \n1        420.0 2021-01-01  [[4.498381212482118, -100.0], [-0.082137210209...   \n2        220.0 2008-10-01                     [[-13.087195493405067, 250.0]]   \n3        320.0 2021-01-01  [[10.086449413745662, -90.0], [-1.248485595186...   \n4        400.0 2021-01-01                      [[8.167176601846718, -170.0]]   \n\n   list_count SA2_NAME_2016        SA2  \n0           2     Frankston  214011371  \n1           2     Frankston  214011371  \n2           1     Frankston  214011371  \n3           3     Frankston  214011371  \n4           1     Frankston  214011371  ",
      "text/html": "<div>\n<style scoped>\n    .dataframe tbody tr th:only-of-type {\n        vertical-align: middle;\n    }\n\n    .dataframe tbody tr th {\n        vertical-align: top;\n    }\n\n    .dataframe thead th {\n        text-align: right;\n    }\n</style>\n<table border=\"1\" class=\"dataframe\">\n  <thead>\n    <tr style=\"text-align: right;\">\n      <th></th>\n      <th>bed</th>\n      <th>bath</th>\n      <th>car</th>\n      <th>type</th>\n      <th>address</th>\n      <th>suburb</th>\n      <th>postcode</th>\n      <th>url</th>\n      <th>loc_address</th>\n      <th>lat</th>\n      <th>lon</th>\n      <th>weekly_rent</th>\n      <th>list_date</th>\n      <th>list_history</th>\n      <th>list_count</th>\n      <th>SA2_NAME_2016</th>\n      <th>SA2</th>\n    </tr>\n  </thead>\n  <tbody>\n    <tr>\n      <th>0</th>\n      <td>3</td>\n      <td>1</td>\n      <td>2</td>\n      <td>House</td>\n      <td>4 LUCERNE CRESCENT, FRANKSTON</td>\n      <td>Frankston</td>\n      <td>3199</td>\n      <td>https://www.oldlistings.com.au/real-estate/VIC...</td>\n      <td>Lucerne Crescent, Frankston, Melbourne, City o...</td>\n      <td>-38.146375</td>\n      <td>145.166494</td>\n      <td>350.0</td>\n      <td>2016-12-01</td>\n      <td>[[-0.9171988473411501, 0.0], [-0.1670123274262...</td>\n      <td>2</td>\n      <td>Frankston</td>\n      <td>214011371</td>\n    </tr>\n    <tr>\n      <th>1</th>\n      <td>3</td>\n      <td>1</td>\n      <td>3</td>\n      <td>House</td>\n      <td>19 FRALLON CRESCENT, FRANKSTON</td>\n      <td>Frankston</td>\n      <td>3199</td>\n      <td>https://www.oldlistings.com.au/real-estate/VIC...</td>\n      <td>Frallon Crescent, Karingal, Frankston, Melbour...</td>\n      <td>-38.136790</td>\n      <td>145.152331</td>\n      <td>420.0</td>\n      <td>2021-01-01</td>\n      <td>[[4.498381212482118, -100.0], [-0.082137210209...</td>\n      <td>2</td>\n      <td>Frankston</td>\n      <td>214011371</td>\n    </tr>\n    <tr>\n      <th>2</th>\n      <td>3</td>\n      <td>1</td>\n      <td>2</td>\n      <td>AUF</td>\n      <td>1/14 PARER STREET, FRANKSTON</td>\n      <td>Frankston</td>\n      <td>3199</td>\n      <td>https://www.oldlistings.com.au/real-estate/VIC...</td>\n      <td>Parer Street, Frankston, Melbourne, City of Fr...</td>\n      <td>-38.143728</td>\n      <td>145.140240</td>\n      <td>220.0</td>\n      <td>2008-10-01</td>\n      <td>[[-13.087195493405067, 250.0]]</td>\n      <td>1</td>\n      <td>Frankston</td>\n      <td>214011371</td>\n    </tr>\n    <tr>\n      <th>3</th>\n      <td>3</td>\n      <td>1</td>\n      <td>2</td>\n      <td>AUF</td>\n      <td>1/14 PARER ST, FRANKSTON</td>\n      <td>Frankston</td>\n      <td>3199</td>\n      <td>https://www.oldlistings.com.au/real-estate/VIC...</td>\n      <td>Parer Street, Frankston, Melbourne, City of Fr...</td>\n      <td>-38.143728</td>\n      <td>145.140240</td>\n      <td>320.0</td>\n      <td>2021-01-01</td>\n      <td>[[10.086449413745662, -90.0], [-1.248485595186...</td>\n      <td>3</td>\n      <td>Frankston</td>\n      <td>214011371</td>\n    </tr>\n    <tr>\n      <th>4</th>\n      <td>3</td>\n      <td>2</td>\n      <td>2</td>\n      <td>House</td>\n      <td>1 YORK CT, FRANKSTON</td>\n      <td>Frankston</td>\n      <td>3199</td>\n      <td>https://www.oldlistings.com.au/real-estate/VIC...</td>\n      <td>York Court, Karingal, Frankston, Melbourne, Ci...</td>\n      <td>-38.139321</td>\n      <td>145.157489</td>\n      <td>400.0</td>\n      <td>2021-01-01</td>\n      <td>[[8.167176601846718, -170.0]]</td>\n      <td>1</td>\n      <td>Frankston</td>\n      <td>214011371</td>\n    </tr>\n  </tbody>\n</table>\n</div>"
     },
     "execution_count": 144,
     "metadata": {},
     "output_type": "execute_result"
    }
   ],
   "source": [
    "df3 = pd.merge(df2, postcode_df, on=['postcode', 'suburb'])\n",
    "df3['SA2_MAINCODE_2016'] = df3['SA2_MAINCODE_2016'].astype(int)\n",
    "df3 = df3.rename(columns={'SA2_MAINCODE_2016': 'SA2'}, errors=\"raise\")\n",
    "df3.head()"
   ],
   "metadata": {
    "collapsed": false,
    "pycharm": {
     "name": "#%%\n"
    }
   }
  },
  {
   "cell_type": "code",
   "execution_count": 145,
   "outputs": [
    {
     "data": {
      "text/plain": "bed                       int64\nbath                      int64\ncar                       int64\ntype                     object\naddress                  object\nsuburb                   object\npostcode                  int64\nurl                      object\nloc_address              object\nlat                     float64\nlon                     float64\nweekly_rent             float64\nlist_date        datetime64[ns]\nlist_history             object\nlist_count                int64\nSA2_NAME_2016            object\nSA2                       int64\ndtype: object"
     },
     "execution_count": 145,
     "metadata": {},
     "output_type": "execute_result"
    }
   ],
   "source": [
    "df3.dtypes"
   ],
   "metadata": {
    "collapsed": false,
    "pycharm": {
     "name": "#%%\n"
    }
   }
  },
  {
   "cell_type": "code",
   "execution_count": 146,
   "outputs": [
    {
     "data": {
      "text/plain": "         SA2  income_earner  income_median_age  income_median  income_mean  \\\n0  201011001         7989.0               42.0        53932.0      63668.0   \n1  201011002         7595.0               47.0        53688.0      77876.0   \n2  201011003        13598.0               43.0        50593.0      60367.0   \n3  201011004        12722.0               40.0        45828.0      50778.0   \n4  201011005         4249.0               46.0        52377.0      63258.0   \n\n   income_top_10_pct  \n0               28.7  \n1               38.4  \n2               29.3  \n3               26.1  \n4               29.3  ",
      "text/html": "<div>\n<style scoped>\n    .dataframe tbody tr th:only-of-type {\n        vertical-align: middle;\n    }\n\n    .dataframe tbody tr th {\n        vertical-align: top;\n    }\n\n    .dataframe thead th {\n        text-align: right;\n    }\n</style>\n<table border=\"1\" class=\"dataframe\">\n  <thead>\n    <tr style=\"text-align: right;\">\n      <th></th>\n      <th>SA2</th>\n      <th>income_earner</th>\n      <th>income_median_age</th>\n      <th>income_median</th>\n      <th>income_mean</th>\n      <th>income_top_10_pct</th>\n    </tr>\n  </thead>\n  <tbody>\n    <tr>\n      <th>0</th>\n      <td>201011001</td>\n      <td>7989.0</td>\n      <td>42.0</td>\n      <td>53932.0</td>\n      <td>63668.0</td>\n      <td>28.7</td>\n    </tr>\n    <tr>\n      <th>1</th>\n      <td>201011002</td>\n      <td>7595.0</td>\n      <td>47.0</td>\n      <td>53688.0</td>\n      <td>77876.0</td>\n      <td>38.4</td>\n    </tr>\n    <tr>\n      <th>2</th>\n      <td>201011003</td>\n      <td>13598.0</td>\n      <td>43.0</td>\n      <td>50593.0</td>\n      <td>60367.0</td>\n      <td>29.3</td>\n    </tr>\n    <tr>\n      <th>3</th>\n      <td>201011004</td>\n      <td>12722.0</td>\n      <td>40.0</td>\n      <td>45828.0</td>\n      <td>50778.0</td>\n      <td>26.1</td>\n    </tr>\n    <tr>\n      <th>4</th>\n      <td>201011005</td>\n      <td>4249.0</td>\n      <td>46.0</td>\n      <td>52377.0</td>\n      <td>63258.0</td>\n      <td>29.3</td>\n    </tr>\n  </tbody>\n</table>\n</div>"
     },
     "execution_count": 146,
     "metadata": {},
     "output_type": "execute_result"
    }
   ],
   "source": [
    "income_df = pd.read_csv(f'{files_dire}/abs/income_distribution.csv')\n",
    "income_df = income_df[['SA2', 'Earners', 'Median age of earners', 'Median', 'Mean', 'Top 10%']]\n",
    "income_df = income_df.replace(',','', regex=True)\n",
    "cols = ['Earners', 'Median age of earners', 'Median', 'Mean', 'Top 10%']\n",
    "income_df[cols] = income_df[cols].apply(pd.to_numeric, errors='coerce', axis=1)\n",
    "income_df = income_df.rename(columns={'Earners': 'income_earner', 'Median age of earners': 'income_median_age', 'Median': 'income_median', 'Mean': 'income_mean', 'Top 10%': 'income_top_10_pct'}, errors=\"raise\")\n",
    "income_df.head()"
   ],
   "metadata": {
    "collapsed": false,
    "pycharm": {
     "name": "#%%\n"
    }
   }
  },
  {
   "cell_type": "code",
   "execution_count": 147,
   "outputs": [],
   "source": [
    "df3 = pd.merge(df3, income_df, on='SA2')\n",
    "df3.head()"
   ],
   "metadata": {
    "collapsed": false,
    "pycharm": {
     "name": "#%%\n"
    }
   }
  },
  {
   "cell_type": "code",
   "execution_count": 230,
   "outputs": [
    {
     "data": {
      "text/plain": "         SA2  population_total  population_children  population_prime_working  \\\n0  201011001             16823                 4075                      6702   \n1  201011002             12076                 1806                      4321   \n2  201011005              7232                 1532                      2483   \n3  201011006             10640                 2299                      4347   \n4  201011007              4213                  904                      1533   \n\n   population_elderly  population_early_working  population_mature_working  \n0                2098                      2391                       1557  \n1                2750                      1565                       1634  \n2                1295                       944                        978  \n3                1543                      1434                       1017  \n4                 594                       559                        623  ",
      "text/html": "<div>\n<style scoped>\n    .dataframe tbody tr th:only-of-type {\n        vertical-align: middle;\n    }\n\n    .dataframe tbody tr th {\n        vertical-align: top;\n    }\n\n    .dataframe thead th {\n        text-align: right;\n    }\n</style>\n<table border=\"1\" class=\"dataframe\">\n  <thead>\n    <tr style=\"text-align: right;\">\n      <th></th>\n      <th>SA2</th>\n      <th>population_total</th>\n      <th>population_children</th>\n      <th>population_prime_working</th>\n      <th>population_elderly</th>\n      <th>population_early_working</th>\n      <th>population_mature_working</th>\n    </tr>\n  </thead>\n  <tbody>\n    <tr>\n      <th>0</th>\n      <td>201011001</td>\n      <td>16823</td>\n      <td>4075</td>\n      <td>6702</td>\n      <td>2098</td>\n      <td>2391</td>\n      <td>1557</td>\n    </tr>\n    <tr>\n      <th>1</th>\n      <td>201011002</td>\n      <td>12076</td>\n      <td>1806</td>\n      <td>4321</td>\n      <td>2750</td>\n      <td>1565</td>\n      <td>1634</td>\n    </tr>\n    <tr>\n      <th>2</th>\n      <td>201011005</td>\n      <td>7232</td>\n      <td>1532</td>\n      <td>2483</td>\n      <td>1295</td>\n      <td>944</td>\n      <td>978</td>\n    </tr>\n    <tr>\n      <th>3</th>\n      <td>201011006</td>\n      <td>10640</td>\n      <td>2299</td>\n      <td>4347</td>\n      <td>1543</td>\n      <td>1434</td>\n      <td>1017</td>\n    </tr>\n    <tr>\n      <th>4</th>\n      <td>201011007</td>\n      <td>4213</td>\n      <td>904</td>\n      <td>1533</td>\n      <td>594</td>\n      <td>559</td>\n      <td>623</td>\n    </tr>\n  </tbody>\n</table>\n</div>"
     },
     "execution_count": 230,
     "metadata": {},
     "output_type": "execute_result"
    }
   ],
   "source": [
    "population_df = pd.read_csv(f'{files_dire}/abs/population.csv')\n",
    "population_df = population_df.iloc[: , 8:]\n",
    "col_list = ['0-4', '5-9', '10–14']\n",
    "# 0-14 years (children), 15-24 years (early working age), 25-54 years (prime working age), 55-64 years (mature working age), 65 years and over (elderly)\n",
    "population_df['population_children'] = population_df[['0-4', '5–9', '10–14']].sum(axis = 1)\n",
    "population_df = population_df.drop(['0-4', '5–9', '10–14'], axis=1)\n",
    "population_df['population_prime_working'] = population_df[['25–29', '30–34', '35–39', '40–44', '45–49', '50–54']].sum(axis = 1)\n",
    "population_df = population_df.drop(['25–29', '30–34', '35–39', '40–44', '45–49', '50–54'], axis=1)\n",
    "population_df['population_elderly'] = population_df[['65–69', '70–74', '75–79', '80–84', '85 and over']].sum(axis = 1)\n",
    "population_df = population_df.drop(['65–69', '70–74', '75–79', '80–84', '85 and over'], axis=1)\n",
    "population_df['population_early_working'] = population_df.iloc[:,2] + population_df.iloc[:,3]\n",
    "population_df['population_mature_working'] = population_df.iloc[:,4] + population_df.iloc[:,5]\n",
    "population_df = population_df.drop(['15–19', '20–24', '55–59', '60–64', 'SA2 name'], axis=1)\n",
    "population_df = population_df.rename(columns={'Total persons': 'population_total', 'SA2 code': 'SA2'}, errors=\"raise\")\n",
    "population_df.head()"
   ],
   "metadata": {
    "collapsed": false,
    "pycharm": {
     "name": "#%%\n"
    }
   }
  },
  {
   "cell_type": "code",
   "execution_count": 231,
   "outputs": [
    {
     "data": {
      "text/plain": "   bed  bath  car   type                         address     suburb  postcode  \\\n0    3     1    2  House   4 LUCERNE CRESCENT, FRANKSTON  Frankston      3199   \n1    3     1    3  House  19 FRALLON CRESCENT, FRANKSTON  Frankston      3199   \n2    3     1    2    AUF    1/14 PARER STREET, FRANKSTON  Frankston      3199   \n3    3     1    2    AUF        1/14 PARER ST, FRANKSTON  Frankston      3199   \n4    3     2    2  House            1 YORK CT, FRANKSTON  Frankston      3199   \n\n                                                 url  \\\n0  https://www.oldlistings.com.au/real-estate/VIC...   \n1  https://www.oldlistings.com.au/real-estate/VIC...   \n2  https://www.oldlistings.com.au/real-estate/VIC...   \n3  https://www.oldlistings.com.au/real-estate/VIC...   \n4  https://www.oldlistings.com.au/real-estate/VIC...   \n\n                                         loc_address        lat  ...  \\\n0  Lucerne Crescent, Frankston, Melbourne, City o... -38.146375  ...   \n1  Frallon Crescent, Karingal, Frankston, Melbour... -38.136790  ...   \n2  Parer Street, Frankston, Melbourne, City of Fr... -38.143728  ...   \n3  Parer Street, Frankston, Melbourne, City of Fr... -38.143728  ...   \n4  York Court, Karingal, Frankston, Melbourne, Ci... -38.139321  ...   \n\n   population_prime_working_x  population_elderly_x  \\\n0                       10224                  4091   \n1                       10224                  4091   \n2                       10224                  4091   \n3                       10224                  4091   \n4                       10224                  4091   \n\n  population_early_working_x population_mature_working_x  population_total_y  \\\n0                       2836                        2861               23908   \n1                       2836                        2861               23908   \n2                       2836                        2861               23908   \n3                       2836                        2861               23908   \n4                       2836                        2861               23908   \n\n  population_children_y  population_prime_working_y  population_elderly_y  \\\n0                  3896                       10224                  4091   \n1                  3896                       10224                  4091   \n2                  3896                       10224                  4091   \n3                  3896                       10224                  4091   \n4                  3896                       10224                  4091   \n\n   population_early_working_y  population_mature_working_y  \n0                        2836                         2861  \n1                        2836                         2861  \n2                        2836                         2861  \n3                        2836                         2861  \n4                        2836                         2861  \n\n[5 rows x 34 columns]",
      "text/html": "<div>\n<style scoped>\n    .dataframe tbody tr th:only-of-type {\n        vertical-align: middle;\n    }\n\n    .dataframe tbody tr th {\n        vertical-align: top;\n    }\n\n    .dataframe thead th {\n        text-align: right;\n    }\n</style>\n<table border=\"1\" class=\"dataframe\">\n  <thead>\n    <tr style=\"text-align: right;\">\n      <th></th>\n      <th>bed</th>\n      <th>bath</th>\n      <th>car</th>\n      <th>type</th>\n      <th>address</th>\n      <th>suburb</th>\n      <th>postcode</th>\n      <th>url</th>\n      <th>loc_address</th>\n      <th>lat</th>\n      <th>...</th>\n      <th>population_prime_working_x</th>\n      <th>population_elderly_x</th>\n      <th>population_early_working_x</th>\n      <th>population_mature_working_x</th>\n      <th>population_total_y</th>\n      <th>population_children_y</th>\n      <th>population_prime_working_y</th>\n      <th>population_elderly_y</th>\n      <th>population_early_working_y</th>\n      <th>population_mature_working_y</th>\n    </tr>\n  </thead>\n  <tbody>\n    <tr>\n      <th>0</th>\n      <td>3</td>\n      <td>1</td>\n      <td>2</td>\n      <td>House</td>\n      <td>4 LUCERNE CRESCENT, FRANKSTON</td>\n      <td>Frankston</td>\n      <td>3199</td>\n      <td>https://www.oldlistings.com.au/real-estate/VIC...</td>\n      <td>Lucerne Crescent, Frankston, Melbourne, City o...</td>\n      <td>-38.146375</td>\n      <td>...</td>\n      <td>10224</td>\n      <td>4091</td>\n      <td>2836</td>\n      <td>2861</td>\n      <td>23908</td>\n      <td>3896</td>\n      <td>10224</td>\n      <td>4091</td>\n      <td>2836</td>\n      <td>2861</td>\n    </tr>\n    <tr>\n      <th>1</th>\n      <td>3</td>\n      <td>1</td>\n      <td>3</td>\n      <td>House</td>\n      <td>19 FRALLON CRESCENT, FRANKSTON</td>\n      <td>Frankston</td>\n      <td>3199</td>\n      <td>https://www.oldlistings.com.au/real-estate/VIC...</td>\n      <td>Frallon Crescent, Karingal, Frankston, Melbour...</td>\n      <td>-38.136790</td>\n      <td>...</td>\n      <td>10224</td>\n      <td>4091</td>\n      <td>2836</td>\n      <td>2861</td>\n      <td>23908</td>\n      <td>3896</td>\n      <td>10224</td>\n      <td>4091</td>\n      <td>2836</td>\n      <td>2861</td>\n    </tr>\n    <tr>\n      <th>2</th>\n      <td>3</td>\n      <td>1</td>\n      <td>2</td>\n      <td>AUF</td>\n      <td>1/14 PARER STREET, FRANKSTON</td>\n      <td>Frankston</td>\n      <td>3199</td>\n      <td>https://www.oldlistings.com.au/real-estate/VIC...</td>\n      <td>Parer Street, Frankston, Melbourne, City of Fr...</td>\n      <td>-38.143728</td>\n      <td>...</td>\n      <td>10224</td>\n      <td>4091</td>\n      <td>2836</td>\n      <td>2861</td>\n      <td>23908</td>\n      <td>3896</td>\n      <td>10224</td>\n      <td>4091</td>\n      <td>2836</td>\n      <td>2861</td>\n    </tr>\n    <tr>\n      <th>3</th>\n      <td>3</td>\n      <td>1</td>\n      <td>2</td>\n      <td>AUF</td>\n      <td>1/14 PARER ST, FRANKSTON</td>\n      <td>Frankston</td>\n      <td>3199</td>\n      <td>https://www.oldlistings.com.au/real-estate/VIC...</td>\n      <td>Parer Street, Frankston, Melbourne, City of Fr...</td>\n      <td>-38.143728</td>\n      <td>...</td>\n      <td>10224</td>\n      <td>4091</td>\n      <td>2836</td>\n      <td>2861</td>\n      <td>23908</td>\n      <td>3896</td>\n      <td>10224</td>\n      <td>4091</td>\n      <td>2836</td>\n      <td>2861</td>\n    </tr>\n    <tr>\n      <th>4</th>\n      <td>3</td>\n      <td>2</td>\n      <td>2</td>\n      <td>House</td>\n      <td>1 YORK CT, FRANKSTON</td>\n      <td>Frankston</td>\n      <td>3199</td>\n      <td>https://www.oldlistings.com.au/real-estate/VIC...</td>\n      <td>York Court, Karingal, Frankston, Melbourne, Ci...</td>\n      <td>-38.139321</td>\n      <td>...</td>\n      <td>10224</td>\n      <td>4091</td>\n      <td>2836</td>\n      <td>2861</td>\n      <td>23908</td>\n      <td>3896</td>\n      <td>10224</td>\n      <td>4091</td>\n      <td>2836</td>\n      <td>2861</td>\n    </tr>\n  </tbody>\n</table>\n<p>5 rows × 34 columns</p>\n</div>"
     },
     "execution_count": 231,
     "metadata": {},
     "output_type": "execute_result"
    }
   ],
   "source": [
    "df3 = pd.merge(df3, population_df, on='SA2')\n",
    "df3.head()"
   ],
   "metadata": {
    "collapsed": false,
    "pycharm": {
     "name": "#%%\n"
    }
   }
  },
  {
   "cell_type": "code",
   "execution_count": 260,
   "outputs": [
    {
     "data": {
      "text/plain": "  Education_Sector                             School_Name School_Type  \\\n0       Government                 Alberton Primary School     Primary   \n1       Government  Allansford and District Primary School     Primary   \n2       Government                    Avoca Primary School     Primary   \n3       Government                   Avenel Primary School     Primary   \n4       Government               Warrandyte Primary School     Primary   \n\n            X          Y            geo_coordinate  \n0  146.666601 -38.617713  (-38.617713, 146.666601)  \n1  142.590393 -38.386281  (-38.386281, 142.590393)  \n2  143.475649 -37.084502  (-37.084502, 143.475649)  \n3  145.234722 -36.901368  (-36.901368, 145.234722)  \n4  145.213980 -37.742675   (-37.742675, 145.21398)  ",
      "text/html": "<div>\n<style scoped>\n    .dataframe tbody tr th:only-of-type {\n        vertical-align: middle;\n    }\n\n    .dataframe tbody tr th {\n        vertical-align: top;\n    }\n\n    .dataframe thead th {\n        text-align: right;\n    }\n</style>\n<table border=\"1\" class=\"dataframe\">\n  <thead>\n    <tr style=\"text-align: right;\">\n      <th></th>\n      <th>Education_Sector</th>\n      <th>School_Name</th>\n      <th>School_Type</th>\n      <th>X</th>\n      <th>Y</th>\n      <th>geo_coordinate</th>\n    </tr>\n  </thead>\n  <tbody>\n    <tr>\n      <th>0</th>\n      <td>Government</td>\n      <td>Alberton Primary School</td>\n      <td>Primary</td>\n      <td>146.666601</td>\n      <td>-38.617713</td>\n      <td>(-38.617713, 146.666601)</td>\n    </tr>\n    <tr>\n      <th>1</th>\n      <td>Government</td>\n      <td>Allansford and District Primary School</td>\n      <td>Primary</td>\n      <td>142.590393</td>\n      <td>-38.386281</td>\n      <td>(-38.386281, 142.590393)</td>\n    </tr>\n    <tr>\n      <th>2</th>\n      <td>Government</td>\n      <td>Avoca Primary School</td>\n      <td>Primary</td>\n      <td>143.475649</td>\n      <td>-37.084502</td>\n      <td>(-37.084502, 143.475649)</td>\n    </tr>\n    <tr>\n      <th>3</th>\n      <td>Government</td>\n      <td>Avenel Primary School</td>\n      <td>Primary</td>\n      <td>145.234722</td>\n      <td>-36.901368</td>\n      <td>(-36.901368, 145.234722)</td>\n    </tr>\n    <tr>\n      <th>4</th>\n      <td>Government</td>\n      <td>Warrandyte Primary School</td>\n      <td>Primary</td>\n      <td>145.213980</td>\n      <td>-37.742675</td>\n      <td>(-37.742675, 145.21398)</td>\n    </tr>\n  </tbody>\n</table>\n</div>"
     },
     "execution_count": 260,
     "metadata": {},
     "output_type": "execute_result"
    }
   ],
   "source": [
    "school_df = pd.read_csv('../data/raw/schools.csv')\n",
    "school_df = school_df.drop(['Entity_Type', 'School_No', 'School_Status', 'Address_Line_1', 'Address_Line_2',\n",
    "         'Address_Town', 'Address_State', 'Address_Postcode',\n",
    "         'Postal_Address_Line_1', 'Postal_Address_Line_2', 'Postal_Town',\n",
    "         'Postal_State', 'Postal_Postcode', 'Full_Phone_No', 'LGA_ID',\n",
    "         'LGA_Name'], axis=1)\n",
    "school_type = ['Primary', 'Secondary', 'Pri/Sec']\n",
    "school_df = school_df.loc[school_df['School_Type'].isin(school_type)]\n",
    "school_df['geo_coordinate'] = [(x, y) for x,y in zip(school_df['Y'], school_df['X'])]\n",
    "school_df.head()"
   ],
   "metadata": {
    "collapsed": false,
    "pycharm": {
     "name": "#%%\n"
    }
   }
  },
  {
   "cell_type": "code",
   "execution_count": 256,
   "outputs": [
    {
     "data": {
      "text/plain": "   bed  bath  car   type                         address     suburb  postcode  \\\n0    3     1    2  House   4 LUCERNE CRESCENT, FRANKSTON  Frankston      3199   \n1    3     1    3  House  19 FRALLON CRESCENT, FRANKSTON  Frankston      3199   \n2    3     1    2    AUF    1/14 PARER STREET, FRANKSTON  Frankston      3199   \n3    3     1    2    AUF        1/14 PARER ST, FRANKSTON  Frankston      3199   \n4    3     2    2  House            1 YORK CT, FRANKSTON  Frankston      3199   \n\n                                                 url  \\\n0  https://www.oldlistings.com.au/real-estate/VIC...   \n1  https://www.oldlistings.com.au/real-estate/VIC...   \n2  https://www.oldlistings.com.au/real-estate/VIC...   \n3  https://www.oldlistings.com.au/real-estate/VIC...   \n4  https://www.oldlistings.com.au/real-estate/VIC...   \n\n                                         loc_address        lat  ...  \\\n0  Lucerne Crescent, Frankston, Melbourne, City o... -38.146375  ...   \n1  Frallon Crescent, Karingal, Frankston, Melbour... -38.136790  ...   \n2  Parer Street, Frankston, Melbourne, City of Fr... -38.143728  ...   \n3  Parer Street, Frankston, Melbourne, City of Fr... -38.143728  ...   \n4  York Court, Karingal, Frankston, Melbourne, Ci... -38.139321  ...   \n\n   population_elderly_x  population_early_working_x  \\\n0                  4091                        2836   \n1                  4091                        2836   \n2                  4091                        2836   \n3                  4091                        2836   \n4                  4091                        2836   \n\n  population_mature_working_x population_total_y  population_children_y  \\\n0                        2861              23908                   3896   \n1                        2861              23908                   3896   \n2                        2861              23908                   3896   \n3                        2861              23908                   3896   \n4                        2861              23908                   3896   \n\n  population_prime_working_y  population_elderly_y  \\\n0                      10224                  4091   \n1                      10224                  4091   \n2                      10224                  4091   \n3                      10224                  4091   \n4                      10224                  4091   \n\n   population_early_working_y  population_mature_working_y  \\\n0                        2836                         2861   \n1                        2836                         2861   \n2                        2836                         2861   \n3                        2836                         2861   \n4                        2836                         2861   \n\n               geo_coordinate  \n0  (-38.1463748, 145.1664942)  \n1  (-38.1367897, 145.1523308)  \n2     (-38.143728, 145.14024)  \n3     (-38.143728, 145.14024)  \n4  (-38.1393209, 145.1574891)  \n\n[5 rows x 35 columns]",
      "text/html": "<div>\n<style scoped>\n    .dataframe tbody tr th:only-of-type {\n        vertical-align: middle;\n    }\n\n    .dataframe tbody tr th {\n        vertical-align: top;\n    }\n\n    .dataframe thead th {\n        text-align: right;\n    }\n</style>\n<table border=\"1\" class=\"dataframe\">\n  <thead>\n    <tr style=\"text-align: right;\">\n      <th></th>\n      <th>bed</th>\n      <th>bath</th>\n      <th>car</th>\n      <th>type</th>\n      <th>address</th>\n      <th>suburb</th>\n      <th>postcode</th>\n      <th>url</th>\n      <th>loc_address</th>\n      <th>lat</th>\n      <th>...</th>\n      <th>population_elderly_x</th>\n      <th>population_early_working_x</th>\n      <th>population_mature_working_x</th>\n      <th>population_total_y</th>\n      <th>population_children_y</th>\n      <th>population_prime_working_y</th>\n      <th>population_elderly_y</th>\n      <th>population_early_working_y</th>\n      <th>population_mature_working_y</th>\n      <th>geo_coordinate</th>\n    </tr>\n  </thead>\n  <tbody>\n    <tr>\n      <th>0</th>\n      <td>3</td>\n      <td>1</td>\n      <td>2</td>\n      <td>House</td>\n      <td>4 LUCERNE CRESCENT, FRANKSTON</td>\n      <td>Frankston</td>\n      <td>3199</td>\n      <td>https://www.oldlistings.com.au/real-estate/VIC...</td>\n      <td>Lucerne Crescent, Frankston, Melbourne, City o...</td>\n      <td>-38.146375</td>\n      <td>...</td>\n      <td>4091</td>\n      <td>2836</td>\n      <td>2861</td>\n      <td>23908</td>\n      <td>3896</td>\n      <td>10224</td>\n      <td>4091</td>\n      <td>2836</td>\n      <td>2861</td>\n      <td>(-38.1463748, 145.1664942)</td>\n    </tr>\n    <tr>\n      <th>1</th>\n      <td>3</td>\n      <td>1</td>\n      <td>3</td>\n      <td>House</td>\n      <td>19 FRALLON CRESCENT, FRANKSTON</td>\n      <td>Frankston</td>\n      <td>3199</td>\n      <td>https://www.oldlistings.com.au/real-estate/VIC...</td>\n      <td>Frallon Crescent, Karingal, Frankston, Melbour...</td>\n      <td>-38.136790</td>\n      <td>...</td>\n      <td>4091</td>\n      <td>2836</td>\n      <td>2861</td>\n      <td>23908</td>\n      <td>3896</td>\n      <td>10224</td>\n      <td>4091</td>\n      <td>2836</td>\n      <td>2861</td>\n      <td>(-38.1367897, 145.1523308)</td>\n    </tr>\n    <tr>\n      <th>2</th>\n      <td>3</td>\n      <td>1</td>\n      <td>2</td>\n      <td>AUF</td>\n      <td>1/14 PARER STREET, FRANKSTON</td>\n      <td>Frankston</td>\n      <td>3199</td>\n      <td>https://www.oldlistings.com.au/real-estate/VIC...</td>\n      <td>Parer Street, Frankston, Melbourne, City of Fr...</td>\n      <td>-38.143728</td>\n      <td>...</td>\n      <td>4091</td>\n      <td>2836</td>\n      <td>2861</td>\n      <td>23908</td>\n      <td>3896</td>\n      <td>10224</td>\n      <td>4091</td>\n      <td>2836</td>\n      <td>2861</td>\n      <td>(-38.143728, 145.14024)</td>\n    </tr>\n    <tr>\n      <th>3</th>\n      <td>3</td>\n      <td>1</td>\n      <td>2</td>\n      <td>AUF</td>\n      <td>1/14 PARER ST, FRANKSTON</td>\n      <td>Frankston</td>\n      <td>3199</td>\n      <td>https://www.oldlistings.com.au/real-estate/VIC...</td>\n      <td>Parer Street, Frankston, Melbourne, City of Fr...</td>\n      <td>-38.143728</td>\n      <td>...</td>\n      <td>4091</td>\n      <td>2836</td>\n      <td>2861</td>\n      <td>23908</td>\n      <td>3896</td>\n      <td>10224</td>\n      <td>4091</td>\n      <td>2836</td>\n      <td>2861</td>\n      <td>(-38.143728, 145.14024)</td>\n    </tr>\n    <tr>\n      <th>4</th>\n      <td>3</td>\n      <td>2</td>\n      <td>2</td>\n      <td>House</td>\n      <td>1 YORK CT, FRANKSTON</td>\n      <td>Frankston</td>\n      <td>3199</td>\n      <td>https://www.oldlistings.com.au/real-estate/VIC...</td>\n      <td>York Court, Karingal, Frankston, Melbourne, Ci...</td>\n      <td>-38.139321</td>\n      <td>...</td>\n      <td>4091</td>\n      <td>2836</td>\n      <td>2861</td>\n      <td>23908</td>\n      <td>3896</td>\n      <td>10224</td>\n      <td>4091</td>\n      <td>2836</td>\n      <td>2861</td>\n      <td>(-38.1393209, 145.1574891)</td>\n    </tr>\n  </tbody>\n</table>\n<p>5 rows × 35 columns</p>\n</div>"
     },
     "execution_count": 256,
     "metadata": {},
     "output_type": "execute_result"
    }
   ],
   "source": [
    "from scipy.spatial.distance import cdist\n",
    "df3['geo_coordinate'] = [(x, y) for x,y in zip(df3['lat'], df3['lon'])]\n",
    "df3.head()"
   ],
   "metadata": {
    "collapsed": false,
    "pycharm": {
     "name": "#%%\n"
    }
   }
  },
  {
   "cell_type": "code",
   "execution_count": 263,
   "outputs": [],
   "source": [
    "def closest_point(point, points):\n",
    "    \"\"\" Find closest point from a list of points. \"\"\"\n",
    "    return points[cdist([point], points).argmin()]\n",
    "\n",
    "def match_value(df, col1, x, col2):\n",
    "    \"\"\" Match value x from col1 row to value in col2. \"\"\"\n",
    "    return df[df[col1] == x][col2].values[0]"
   ],
   "metadata": {
    "collapsed": false,
    "pycharm": {
     "name": "#%%\n"
    }
   }
  },
  {
   "cell_type": "code",
   "execution_count": 298,
   "outputs": [
    {
     "name": "stderr",
     "output_type": "stream",
     "text": [
      "100%|██████████| 61959/61959 [00:00<00:00, 5156349.96it/s]\n",
      "100%|██████████| 61959/61959 [00:00<00:00, 5131607.79it/s]\n"
     ]
    }
   ],
   "source": [
    "df3['closest_school_loc'] = tqdm([closest_point(x, list(school_df['geo_coordinate'])) for x in df3['geo_coordinate']])\n",
    "df3['school_name'] = tqdm([match_value(school_df, 'geo_coordinate', x, 'School_Name') for x in df3['closest_school_loc']])"
   ],
   "metadata": {
    "collapsed": false,
    "pycharm": {
     "name": "#%%\n"
    }
   }
  },
  {
   "cell_type": "code",
   "execution_count": 299,
   "outputs": [
    {
     "data": {
      "text/plain": "       bed  bath  car   type  \\\n0        3     1    2  House   \n1        3     1    3  House   \n2        3     1    2    AUF   \n3        3     1    2    AUF   \n4        3     2    2  House   \n...    ...   ...  ...    ...   \n61954    3     2    2  House   \n61955    3     2    2  House   \n61956    4     2    2  House   \n61957    3     1    1  House   \n61958    4     2    2  House   \n\n                                                 address            suburb  \\\n0                          4 LUCERNE CRESCENT, FRANKSTON         Frankston   \n1                         19 FRALLON CRESCENT, FRANKSTON         Frankston   \n2                           1/14 PARER STREET, FRANKSTON         Frankston   \n3                               1/14 PARER ST, FRANKSTON         Frankston   \n4                                   1 YORK CT, FRANKSTON         Frankston   \n...                                                  ...               ...   \n61954                   7 EILEEN CLOSE, NORTH WARRANDYTE  North Warrandyte   \n61955       187 RESEARCH-WARRANDYTE RD, NORTH WARRANDYTE  North Warrandyte   \n61956  81 KANGAROO GROUND-WARRANDYTE ROAD, NORTH WARR...  North Warrandyte   \n61957                           25 GREGORY STREET, OUYEN             Ouyen   \n61958                    196 SPRATLINGS ROAD, ROSS CREEK        Ross Creek   \n\n       postcode                                                url  \\\n0          3199  https://www.oldlistings.com.au/real-estate/VIC...   \n1          3199  https://www.oldlistings.com.au/real-estate/VIC...   \n2          3199  https://www.oldlistings.com.au/real-estate/VIC...   \n3          3199  https://www.oldlistings.com.au/real-estate/VIC...   \n4          3199  https://www.oldlistings.com.au/real-estate/VIC...   \n...         ...                                                ...   \n61954      3113  https://www.oldlistings.com.au/real-estate/VIC...   \n61955      3113  https://www.oldlistings.com.au/real-estate/VIC...   \n61956      3113  https://www.oldlistings.com.au/real-estate/VIC...   \n61957      3490  https://www.oldlistings.com.au/real-estate/VIC...   \n61958      3351  https://www.oldlistings.com.au/real-estate/VIC...   \n\n                                             loc_address        lat  ...  \\\n0      Lucerne Crescent, Frankston, Melbourne, City o... -38.146375  ...   \n1      Frallon Crescent, Karingal, Frankston, Melbour... -38.136790  ...   \n2      Parer Street, Frankston, Melbourne, City of Fr... -38.143728  ...   \n3      Parer Street, Frankston, Melbourne, City of Fr... -38.143728  ...   \n4      York Court, Karingal, Frankston, Melbourne, Ci... -38.139321  ...   \n...                                                  ...        ...  ...   \n61954  Eileen Close, North Warrandyte, Melbourne, Shi... -37.720603  ...   \n61955  Research - Warrandyte Road, Sloan Hill, North ... -37.726075  ...   \n61956  Kangaroo Ground - Warrandyte Road, Sloan Hill,... -37.734741  ...   \n61957  Gregory Street, Ouyen, Rural City of Mildura, ... -35.072039  ...   \n61958  Spratlings Road, Ross Creek, Golden Plains Shi... -37.651998  ...   \n\n       population_mature_working_x  population_total_y population_children_y  \\\n0                             2861               23908                  3896   \n1                             2861               23908                  3896   \n2                             2861               23908                  3896   \n3                             2861               23908                  3896   \n4                             2861               23908                  3896   \n...                            ...                 ...                   ...   \n61954                         1102                6985                  1338   \n61955                         1102                6985                  1338   \n61956                         1102                6985                  1338   \n61957                          609                3709                   641   \n61958                          623                4213                   904   \n\n      population_prime_working_y  population_elderly_y  \\\n0                          10224                  4091   \n1                          10224                  4091   \n2                          10224                  4091   \n3                          10224                  4091   \n4                          10224                  4091   \n...                          ...                   ...   \n61954                       2502                  1066   \n61955                       2502                  1066   \n61956                       2502                  1066   \n61957                       1254                   856   \n61958                       1533                   594   \n\n      population_early_working_y  population_mature_working_y  \\\n0                           2836                         2861   \n1                           2836                         2861   \n2                           2836                         2861   \n3                           2836                         2861   \n4                           2836                         2861   \n...                          ...                          ...   \n61954                        977                         1102   \n61955                        977                         1102   \n61956                        977                         1102   \n61957                        349                          609   \n61958                        559                          623   \n\n                   geo_coordinate           closest_school_loc  \\\n0      (-38.1463748, 145.1664942)     (-38.141476, 145.166813)   \n1      (-38.1367897, 145.1523308)     (-38.137924, 145.152277)   \n2         (-38.143728, 145.14024)      (-38.14663, 145.145528)   \n3         (-38.143728, 145.14024)      (-38.14663, 145.145528)   \n4      (-38.1393209, 145.1574891)     (-38.137924, 145.152277)   \n...                           ...                          ...   \n61954  (-37.7206034, 145.2173285)      (-37.742675, 145.21398)   \n61955  (-37.7260753, 145.2110538)      (-37.742675, 145.21398)   \n61956  (-37.7347411, 145.2227867)      (-37.742675, 145.21398)   \n61957  (-35.0720389, 142.3160326)     (-35.064571, 142.322608)   \n61958  (-37.6519985, 143.7513617)  (-37.64352309, 143.6842973)   \n\n                           school_name  \n0      Karingal Heights Primary School  \n1              Karingal Primary School  \n2        Frankston East Primary School  \n3        Frankston East Primary School  \n4              Karingal Primary School  \n...                                ...  \n61954        Warrandyte Primary School  \n61955        Warrandyte Primary School  \n61956        Warrandyte Primary School  \n61957               Ouyen P-12 College  \n61958      Woady Yaloak Primary School  \n\n[61959 rows x 37 columns]",
      "text/html": "<div>\n<style scoped>\n    .dataframe tbody tr th:only-of-type {\n        vertical-align: middle;\n    }\n\n    .dataframe tbody tr th {\n        vertical-align: top;\n    }\n\n    .dataframe thead th {\n        text-align: right;\n    }\n</style>\n<table border=\"1\" class=\"dataframe\">\n  <thead>\n    <tr style=\"text-align: right;\">\n      <th></th>\n      <th>bed</th>\n      <th>bath</th>\n      <th>car</th>\n      <th>type</th>\n      <th>address</th>\n      <th>suburb</th>\n      <th>postcode</th>\n      <th>url</th>\n      <th>loc_address</th>\n      <th>lat</th>\n      <th>...</th>\n      <th>population_mature_working_x</th>\n      <th>population_total_y</th>\n      <th>population_children_y</th>\n      <th>population_prime_working_y</th>\n      <th>population_elderly_y</th>\n      <th>population_early_working_y</th>\n      <th>population_mature_working_y</th>\n      <th>geo_coordinate</th>\n      <th>closest_school_loc</th>\n      <th>school_name</th>\n    </tr>\n  </thead>\n  <tbody>\n    <tr>\n      <th>0</th>\n      <td>3</td>\n      <td>1</td>\n      <td>2</td>\n      <td>House</td>\n      <td>4 LUCERNE CRESCENT, FRANKSTON</td>\n      <td>Frankston</td>\n      <td>3199</td>\n      <td>https://www.oldlistings.com.au/real-estate/VIC...</td>\n      <td>Lucerne Crescent, Frankston, Melbourne, City o...</td>\n      <td>-38.146375</td>\n      <td>...</td>\n      <td>2861</td>\n      <td>23908</td>\n      <td>3896</td>\n      <td>10224</td>\n      <td>4091</td>\n      <td>2836</td>\n      <td>2861</td>\n      <td>(-38.1463748, 145.1664942)</td>\n      <td>(-38.141476, 145.166813)</td>\n      <td>Karingal Heights Primary School</td>\n    </tr>\n    <tr>\n      <th>1</th>\n      <td>3</td>\n      <td>1</td>\n      <td>3</td>\n      <td>House</td>\n      <td>19 FRALLON CRESCENT, FRANKSTON</td>\n      <td>Frankston</td>\n      <td>3199</td>\n      <td>https://www.oldlistings.com.au/real-estate/VIC...</td>\n      <td>Frallon Crescent, Karingal, Frankston, Melbour...</td>\n      <td>-38.136790</td>\n      <td>...</td>\n      <td>2861</td>\n      <td>23908</td>\n      <td>3896</td>\n      <td>10224</td>\n      <td>4091</td>\n      <td>2836</td>\n      <td>2861</td>\n      <td>(-38.1367897, 145.1523308)</td>\n      <td>(-38.137924, 145.152277)</td>\n      <td>Karingal Primary School</td>\n    </tr>\n    <tr>\n      <th>2</th>\n      <td>3</td>\n      <td>1</td>\n      <td>2</td>\n      <td>AUF</td>\n      <td>1/14 PARER STREET, FRANKSTON</td>\n      <td>Frankston</td>\n      <td>3199</td>\n      <td>https://www.oldlistings.com.au/real-estate/VIC...</td>\n      <td>Parer Street, Frankston, Melbourne, City of Fr...</td>\n      <td>-38.143728</td>\n      <td>...</td>\n      <td>2861</td>\n      <td>23908</td>\n      <td>3896</td>\n      <td>10224</td>\n      <td>4091</td>\n      <td>2836</td>\n      <td>2861</td>\n      <td>(-38.143728, 145.14024)</td>\n      <td>(-38.14663, 145.145528)</td>\n      <td>Frankston East Primary School</td>\n    </tr>\n    <tr>\n      <th>3</th>\n      <td>3</td>\n      <td>1</td>\n      <td>2</td>\n      <td>AUF</td>\n      <td>1/14 PARER ST, FRANKSTON</td>\n      <td>Frankston</td>\n      <td>3199</td>\n      <td>https://www.oldlistings.com.au/real-estate/VIC...</td>\n      <td>Parer Street, Frankston, Melbourne, City of Fr...</td>\n      <td>-38.143728</td>\n      <td>...</td>\n      <td>2861</td>\n      <td>23908</td>\n      <td>3896</td>\n      <td>10224</td>\n      <td>4091</td>\n      <td>2836</td>\n      <td>2861</td>\n      <td>(-38.143728, 145.14024)</td>\n      <td>(-38.14663, 145.145528)</td>\n      <td>Frankston East Primary School</td>\n    </tr>\n    <tr>\n      <th>4</th>\n      <td>3</td>\n      <td>2</td>\n      <td>2</td>\n      <td>House</td>\n      <td>1 YORK CT, FRANKSTON</td>\n      <td>Frankston</td>\n      <td>3199</td>\n      <td>https://www.oldlistings.com.au/real-estate/VIC...</td>\n      <td>York Court, Karingal, Frankston, Melbourne, Ci...</td>\n      <td>-38.139321</td>\n      <td>...</td>\n      <td>2861</td>\n      <td>23908</td>\n      <td>3896</td>\n      <td>10224</td>\n      <td>4091</td>\n      <td>2836</td>\n      <td>2861</td>\n      <td>(-38.1393209, 145.1574891)</td>\n      <td>(-38.137924, 145.152277)</td>\n      <td>Karingal Primary School</td>\n    </tr>\n    <tr>\n      <th>...</th>\n      <td>...</td>\n      <td>...</td>\n      <td>...</td>\n      <td>...</td>\n      <td>...</td>\n      <td>...</td>\n      <td>...</td>\n      <td>...</td>\n      <td>...</td>\n      <td>...</td>\n      <td>...</td>\n      <td>...</td>\n      <td>...</td>\n      <td>...</td>\n      <td>...</td>\n      <td>...</td>\n      <td>...</td>\n      <td>...</td>\n      <td>...</td>\n      <td>...</td>\n      <td>...</td>\n    </tr>\n    <tr>\n      <th>61954</th>\n      <td>3</td>\n      <td>2</td>\n      <td>2</td>\n      <td>House</td>\n      <td>7 EILEEN CLOSE, NORTH WARRANDYTE</td>\n      <td>North Warrandyte</td>\n      <td>3113</td>\n      <td>https://www.oldlistings.com.au/real-estate/VIC...</td>\n      <td>Eileen Close, North Warrandyte, Melbourne, Shi...</td>\n      <td>-37.720603</td>\n      <td>...</td>\n      <td>1102</td>\n      <td>6985</td>\n      <td>1338</td>\n      <td>2502</td>\n      <td>1066</td>\n      <td>977</td>\n      <td>1102</td>\n      <td>(-37.7206034, 145.2173285)</td>\n      <td>(-37.742675, 145.21398)</td>\n      <td>Warrandyte Primary School</td>\n    </tr>\n    <tr>\n      <th>61955</th>\n      <td>3</td>\n      <td>2</td>\n      <td>2</td>\n      <td>House</td>\n      <td>187 RESEARCH-WARRANDYTE RD, NORTH WARRANDYTE</td>\n      <td>North Warrandyte</td>\n      <td>3113</td>\n      <td>https://www.oldlistings.com.au/real-estate/VIC...</td>\n      <td>Research - Warrandyte Road, Sloan Hill, North ...</td>\n      <td>-37.726075</td>\n      <td>...</td>\n      <td>1102</td>\n      <td>6985</td>\n      <td>1338</td>\n      <td>2502</td>\n      <td>1066</td>\n      <td>977</td>\n      <td>1102</td>\n      <td>(-37.7260753, 145.2110538)</td>\n      <td>(-37.742675, 145.21398)</td>\n      <td>Warrandyte Primary School</td>\n    </tr>\n    <tr>\n      <th>61956</th>\n      <td>4</td>\n      <td>2</td>\n      <td>2</td>\n      <td>House</td>\n      <td>81 KANGAROO GROUND-WARRANDYTE ROAD, NORTH WARR...</td>\n      <td>North Warrandyte</td>\n      <td>3113</td>\n      <td>https://www.oldlistings.com.au/real-estate/VIC...</td>\n      <td>Kangaroo Ground - Warrandyte Road, Sloan Hill,...</td>\n      <td>-37.734741</td>\n      <td>...</td>\n      <td>1102</td>\n      <td>6985</td>\n      <td>1338</td>\n      <td>2502</td>\n      <td>1066</td>\n      <td>977</td>\n      <td>1102</td>\n      <td>(-37.7347411, 145.2227867)</td>\n      <td>(-37.742675, 145.21398)</td>\n      <td>Warrandyte Primary School</td>\n    </tr>\n    <tr>\n      <th>61957</th>\n      <td>3</td>\n      <td>1</td>\n      <td>1</td>\n      <td>House</td>\n      <td>25 GREGORY STREET, OUYEN</td>\n      <td>Ouyen</td>\n      <td>3490</td>\n      <td>https://www.oldlistings.com.au/real-estate/VIC...</td>\n      <td>Gregory Street, Ouyen, Rural City of Mildura, ...</td>\n      <td>-35.072039</td>\n      <td>...</td>\n      <td>609</td>\n      <td>3709</td>\n      <td>641</td>\n      <td>1254</td>\n      <td>856</td>\n      <td>349</td>\n      <td>609</td>\n      <td>(-35.0720389, 142.3160326)</td>\n      <td>(-35.064571, 142.322608)</td>\n      <td>Ouyen P-12 College</td>\n    </tr>\n    <tr>\n      <th>61958</th>\n      <td>4</td>\n      <td>2</td>\n      <td>2</td>\n      <td>House</td>\n      <td>196 SPRATLINGS ROAD, ROSS CREEK</td>\n      <td>Ross Creek</td>\n      <td>3351</td>\n      <td>https://www.oldlistings.com.au/real-estate/VIC...</td>\n      <td>Spratlings Road, Ross Creek, Golden Plains Shi...</td>\n      <td>-37.651998</td>\n      <td>...</td>\n      <td>623</td>\n      <td>4213</td>\n      <td>904</td>\n      <td>1533</td>\n      <td>594</td>\n      <td>559</td>\n      <td>623</td>\n      <td>(-37.6519985, 143.7513617)</td>\n      <td>(-37.64352309, 143.6842973)</td>\n      <td>Woady Yaloak Primary School</td>\n    </tr>\n  </tbody>\n</table>\n<p>61959 rows × 37 columns</p>\n</div>"
     },
     "execution_count": 299,
     "metadata": {},
     "output_type": "execute_result"
    }
   ],
   "source": [
    "df3"
   ],
   "metadata": {
    "collapsed": false,
    "pycharm": {
     "name": "#%%\n"
    }
   }
  },
  {
   "cell_type": "code",
   "execution_count": 300,
   "outputs": [
    {
     "data": {
      "text/plain": "             SA2  proj_population_total  proj_population_children  \\\n13862  201011001                  18611                      4389   \n13865  201011002                  12252                      1788   \n13868  201011003                  26630                      5094   \n13871  201011004                  28423                      4849   \n13874  201011005                   8900                      1919   \n\n       proj_population_early_working  proj_population_prime_working  \\\n13862                           2496                           7275   \n13865                           1796                           3940   \n13868                           2777                           9809   \n13871                           3734                          11347   \n13874                           1368                           2966   \n\n       proj_population_mature_working  proj_population_elderly  \n13862                            1807                     2644  \n13865                            1674                     3054  \n13868                            3270                     5680  \n13871                            3056                     5437  \n13874                            1067                     1580  ",
      "text/html": "<div>\n<style scoped>\n    .dataframe tbody tr th:only-of-type {\n        vertical-align: middle;\n    }\n\n    .dataframe tbody tr th {\n        vertical-align: top;\n    }\n\n    .dataframe thead th {\n        text-align: right;\n    }\n</style>\n<table border=\"1\" class=\"dataframe\">\n  <thead>\n    <tr style=\"text-align: right;\">\n      <th></th>\n      <th>SA2</th>\n      <th>proj_population_total</th>\n      <th>proj_population_children</th>\n      <th>proj_population_early_working</th>\n      <th>proj_population_prime_working</th>\n      <th>proj_population_mature_working</th>\n      <th>proj_population_elderly</th>\n    </tr>\n  </thead>\n  <tbody>\n    <tr>\n      <th>13862</th>\n      <td>201011001</td>\n      <td>18611</td>\n      <td>4389</td>\n      <td>2496</td>\n      <td>7275</td>\n      <td>1807</td>\n      <td>2644</td>\n    </tr>\n    <tr>\n      <th>13865</th>\n      <td>201011002</td>\n      <td>12252</td>\n      <td>1788</td>\n      <td>1796</td>\n      <td>3940</td>\n      <td>1674</td>\n      <td>3054</td>\n    </tr>\n    <tr>\n      <th>13868</th>\n      <td>201011003</td>\n      <td>26630</td>\n      <td>5094</td>\n      <td>2777</td>\n      <td>9809</td>\n      <td>3270</td>\n      <td>5680</td>\n    </tr>\n    <tr>\n      <th>13871</th>\n      <td>201011004</td>\n      <td>28423</td>\n      <td>4849</td>\n      <td>3734</td>\n      <td>11347</td>\n      <td>3056</td>\n      <td>5437</td>\n    </tr>\n    <tr>\n      <th>13874</th>\n      <td>201011005</td>\n      <td>8900</td>\n      <td>1919</td>\n      <td>1368</td>\n      <td>2966</td>\n      <td>1067</td>\n      <td>1580</td>\n    </tr>\n  </tbody>\n</table>\n</div>"
     },
     "execution_count": 300,
     "metadata": {},
     "output_type": "execute_result"
    }
   ],
   "source": [
    "population_projection_df = pd.read_csv('../data/raw/population_projection.csv')\n",
    "population_projection_df = population_projection_df.loc[population_projection_df['SEX'] == 'Persons']\n",
    "population_projection_df = population_projection_df.loc[population_projection_df['YEAR'] == 2027]\n",
    "population_projection_df = population_projection_df.drop(['YEAR', 'SA2_NAME', 'SEX'], axis=1)\n",
    "\n",
    "# 0-14 years (children), 15-24 years (early working age), 25-54 years (prime working age), 55-64 years (mature working age), 65 years and over (elderly)\n",
    "population_projection_df['proj_population_children'] = population_projection_df[['Age0-4', 'Age5-9', 'Age10-14']].sum(axis = 1)\n",
    "population_projection_df = population_projection_df.drop(['Age0-4', 'Age5-9', 'Age10-14'], axis=1)\n",
    "population_projection_df['proj_population_early_working'] = population_projection_df[['Age15-19', 'Age20-24']].sum(axis = 1)\n",
    "population_projection_df = population_projection_df.drop(['Age15-19', 'Age20-24'], axis=1)\n",
    "population_projection_df['proj_population_prime_working'] = population_projection_df[['Age25-29', 'Age30-34', 'Age35-39', 'Age40-44', 'Age45-49', 'Age50-54']].sum(axis = 1)\n",
    "population_projection_df = population_projection_df.drop(['Age25-29', 'Age30-34', 'Age35-39', 'Age40-44', 'Age45-49', 'Age50-54'], axis=1)\n",
    "population_projection_df['proj_population_mature_working'] = population_projection_df[['Age55-59', 'Age60-64']].sum(axis = 1)\n",
    "population_projection_df = population_projection_df.drop(['Age55-59', 'Age60-64'], axis=1)\n",
    "population_projection_df['proj_population_elderly'] = population_projection_df[['Age65-69', 'Age70-74', 'Age75-79', 'Age80-84', 'Age85+']].sum(axis = 1)\n",
    "population_projection_df = population_projection_df.drop(['Age65-69', 'Age70-74', 'Age75-79', 'Age80-84', 'Age85+'], axis=1)\n",
    "population_projection_df = population_projection_df.rename(columns={'Total': 'proj_population_total', 'SA2_CODE': 'SA2'}, errors=\"raise\")\n",
    "population_projection_df.head()"
   ],
   "metadata": {
    "collapsed": false,
    "pycharm": {
     "name": "#%%\n"
    }
   }
  },
  {
   "cell_type": "code",
   "execution_count": 301,
   "outputs": [
    {
     "data": {
      "text/plain": "   bed  bath  car   type                         address     suburb  postcode  \\\n0    3     1    2  House   4 LUCERNE CRESCENT, FRANKSTON  Frankston      3199   \n1    3     1    3  House  19 FRALLON CRESCENT, FRANKSTON  Frankston      3199   \n2    3     1    2    AUF    1/14 PARER STREET, FRANKSTON  Frankston      3199   \n3    3     1    2    AUF        1/14 PARER ST, FRANKSTON  Frankston      3199   \n4    3     2    2  House            1 YORK CT, FRANKSTON  Frankston      3199   \n\n                                                 url  \\\n0  https://www.oldlistings.com.au/real-estate/VIC...   \n1  https://www.oldlistings.com.au/real-estate/VIC...   \n2  https://www.oldlistings.com.au/real-estate/VIC...   \n3  https://www.oldlistings.com.au/real-estate/VIC...   \n4  https://www.oldlistings.com.au/real-estate/VIC...   \n\n                                         loc_address        lat  ...  \\\n0  Lucerne Crescent, Frankston, Melbourne, City o... -38.146375  ...   \n1  Frallon Crescent, Karingal, Frankston, Melbour... -38.136790  ...   \n2  Parer Street, Frankston, Melbourne, City of Fr... -38.143728  ...   \n3  Parer Street, Frankston, Melbourne, City of Fr... -38.143728  ...   \n4  York Court, Karingal, Frankston, Melbourne, Ci... -38.139321  ...   \n\n   population_mature_working_y              geo_coordinate  \\\n0                         2861  (-38.1463748, 145.1664942)   \n1                         2861  (-38.1367897, 145.1523308)   \n2                         2861     (-38.143728, 145.14024)   \n3                         2861     (-38.143728, 145.14024)   \n4                         2861  (-38.1393209, 145.1574891)   \n\n         closest_school_loc                      school_name  \\\n0  (-38.141476, 145.166813)  Karingal Heights Primary School   \n1  (-38.137924, 145.152277)          Karingal Primary School   \n2   (-38.14663, 145.145528)    Frankston East Primary School   \n3   (-38.14663, 145.145528)    Frankston East Primary School   \n4  (-38.137924, 145.152277)          Karingal Primary School   \n\n   proj_population_total proj_population_children  \\\n0                  26093                     4247   \n1                  26093                     4247   \n2                  26093                     4247   \n3                  26093                     4247   \n4                  26093                     4247   \n\n   proj_population_early_working  proj_population_prime_working  \\\n0                           3044                          10817   \n1                           3044                          10817   \n2                           3044                          10817   \n3                           3044                          10817   \n4                           3044                          10817   \n\n   proj_population_mature_working  proj_population_elderly  \n0                            3023                     4962  \n1                            3023                     4962  \n2                            3023                     4962  \n3                            3023                     4962  \n4                            3023                     4962  \n\n[5 rows x 43 columns]",
      "text/html": "<div>\n<style scoped>\n    .dataframe tbody tr th:only-of-type {\n        vertical-align: middle;\n    }\n\n    .dataframe tbody tr th {\n        vertical-align: top;\n    }\n\n    .dataframe thead th {\n        text-align: right;\n    }\n</style>\n<table border=\"1\" class=\"dataframe\">\n  <thead>\n    <tr style=\"text-align: right;\">\n      <th></th>\n      <th>bed</th>\n      <th>bath</th>\n      <th>car</th>\n      <th>type</th>\n      <th>address</th>\n      <th>suburb</th>\n      <th>postcode</th>\n      <th>url</th>\n      <th>loc_address</th>\n      <th>lat</th>\n      <th>...</th>\n      <th>population_mature_working_y</th>\n      <th>geo_coordinate</th>\n      <th>closest_school_loc</th>\n      <th>school_name</th>\n      <th>proj_population_total</th>\n      <th>proj_population_children</th>\n      <th>proj_population_early_working</th>\n      <th>proj_population_prime_working</th>\n      <th>proj_population_mature_working</th>\n      <th>proj_population_elderly</th>\n    </tr>\n  </thead>\n  <tbody>\n    <tr>\n      <th>0</th>\n      <td>3</td>\n      <td>1</td>\n      <td>2</td>\n      <td>House</td>\n      <td>4 LUCERNE CRESCENT, FRANKSTON</td>\n      <td>Frankston</td>\n      <td>3199</td>\n      <td>https://www.oldlistings.com.au/real-estate/VIC...</td>\n      <td>Lucerne Crescent, Frankston, Melbourne, City o...</td>\n      <td>-38.146375</td>\n      <td>...</td>\n      <td>2861</td>\n      <td>(-38.1463748, 145.1664942)</td>\n      <td>(-38.141476, 145.166813)</td>\n      <td>Karingal Heights Primary School</td>\n      <td>26093</td>\n      <td>4247</td>\n      <td>3044</td>\n      <td>10817</td>\n      <td>3023</td>\n      <td>4962</td>\n    </tr>\n    <tr>\n      <th>1</th>\n      <td>3</td>\n      <td>1</td>\n      <td>3</td>\n      <td>House</td>\n      <td>19 FRALLON CRESCENT, FRANKSTON</td>\n      <td>Frankston</td>\n      <td>3199</td>\n      <td>https://www.oldlistings.com.au/real-estate/VIC...</td>\n      <td>Frallon Crescent, Karingal, Frankston, Melbour...</td>\n      <td>-38.136790</td>\n      <td>...</td>\n      <td>2861</td>\n      <td>(-38.1367897, 145.1523308)</td>\n      <td>(-38.137924, 145.152277)</td>\n      <td>Karingal Primary School</td>\n      <td>26093</td>\n      <td>4247</td>\n      <td>3044</td>\n      <td>10817</td>\n      <td>3023</td>\n      <td>4962</td>\n    </tr>\n    <tr>\n      <th>2</th>\n      <td>3</td>\n      <td>1</td>\n      <td>2</td>\n      <td>AUF</td>\n      <td>1/14 PARER STREET, FRANKSTON</td>\n      <td>Frankston</td>\n      <td>3199</td>\n      <td>https://www.oldlistings.com.au/real-estate/VIC...</td>\n      <td>Parer Street, Frankston, Melbourne, City of Fr...</td>\n      <td>-38.143728</td>\n      <td>...</td>\n      <td>2861</td>\n      <td>(-38.143728, 145.14024)</td>\n      <td>(-38.14663, 145.145528)</td>\n      <td>Frankston East Primary School</td>\n      <td>26093</td>\n      <td>4247</td>\n      <td>3044</td>\n      <td>10817</td>\n      <td>3023</td>\n      <td>4962</td>\n    </tr>\n    <tr>\n      <th>3</th>\n      <td>3</td>\n      <td>1</td>\n      <td>2</td>\n      <td>AUF</td>\n      <td>1/14 PARER ST, FRANKSTON</td>\n      <td>Frankston</td>\n      <td>3199</td>\n      <td>https://www.oldlistings.com.au/real-estate/VIC...</td>\n      <td>Parer Street, Frankston, Melbourne, City of Fr...</td>\n      <td>-38.143728</td>\n      <td>...</td>\n      <td>2861</td>\n      <td>(-38.143728, 145.14024)</td>\n      <td>(-38.14663, 145.145528)</td>\n      <td>Frankston East Primary School</td>\n      <td>26093</td>\n      <td>4247</td>\n      <td>3044</td>\n      <td>10817</td>\n      <td>3023</td>\n      <td>4962</td>\n    </tr>\n    <tr>\n      <th>4</th>\n      <td>3</td>\n      <td>2</td>\n      <td>2</td>\n      <td>House</td>\n      <td>1 YORK CT, FRANKSTON</td>\n      <td>Frankston</td>\n      <td>3199</td>\n      <td>https://www.oldlistings.com.au/real-estate/VIC...</td>\n      <td>York Court, Karingal, Frankston, Melbourne, Ci...</td>\n      <td>-38.139321</td>\n      <td>...</td>\n      <td>2861</td>\n      <td>(-38.1393209, 145.1574891)</td>\n      <td>(-38.137924, 145.152277)</td>\n      <td>Karingal Primary School</td>\n      <td>26093</td>\n      <td>4247</td>\n      <td>3044</td>\n      <td>10817</td>\n      <td>3023</td>\n      <td>4962</td>\n    </tr>\n  </tbody>\n</table>\n<p>5 rows × 43 columns</p>\n</div>"
     },
     "execution_count": 301,
     "metadata": {},
     "output_type": "execute_result"
    }
   ],
   "source": [
    "df3 = pd.merge(df3, population_projection_df, on='SA2')\n",
    "df3.head()"
   ],
   "metadata": {
    "collapsed": false,
    "pycharm": {
     "name": "#%%\n"
    }
   }
  },
  {
   "cell_type": "code",
   "execution_count": 302,
   "outputs": [
    {
     "data": {
      "text/plain": "Index(['SA2', 'proj_population_total', 'proj_population_children',\n       'proj_population_early_working', 'proj_population_prime_working',\n       'proj_population_mature_working', 'proj_population_elderly'],\n      dtype='object')"
     },
     "execution_count": 302,
     "metadata": {},
     "output_type": "execute_result"
    }
   ],
   "source": [
    "population_projection_df.columns"
   ],
   "metadata": {
    "collapsed": false,
    "pycharm": {
     "name": "#%%\n"
    }
   }
  },
  {
   "cell_type": "code",
   "execution_count": 303,
   "outputs": [],
   "source": [
    "df3.to_csv('../data/curated/listing_with_features.csv')"
   ],
   "metadata": {
    "collapsed": false,
    "pycharm": {
     "name": "#%%\n"
    }
   }
  },
  {
   "cell_type": "code",
   "execution_count": null,
   "outputs": [],
   "source": [],
   "metadata": {
    "collapsed": false,
    "pycharm": {
     "name": "#%%\n"
    }
   }
  }
 ],
 "metadata": {
  "kernelspec": {
   "display_name": "Python 3",
   "language": "python",
   "name": "python3"
  },
  "language_info": {
   "codemirror_mode": {
    "name": "ipython",
    "version": 2
   },
   "file_extension": ".py",
   "mimetype": "text/x-python",
   "name": "python",
   "nbconvert_exporter": "python",
   "pygments_lexer": "ipython2",
   "version": "2.7.6"
  }
 },
 "nbformat": 4,
 "nbformat_minor": 0
}