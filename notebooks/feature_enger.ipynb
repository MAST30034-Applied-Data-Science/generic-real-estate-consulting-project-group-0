{
 "cells": [
  {
   "cell_type": "code",
   "execution_count": 6,
   "metadata": {
    "collapsed": true
   },
   "outputs": [
    {
     "name": "stdout",
     "output_type": "stream",
     "text": [
      "Requirement already satisfied: openrouteservice in /Users/nhe/opt/anaconda3/lib/python3.9/site-packages (2.3.3)\r\n",
      "Requirement already satisfied: requests>=2.0 in /Users/nhe/opt/anaconda3/lib/python3.9/site-packages (from openrouteservice) (2.26.0)\r\n",
      "Requirement already satisfied: charset-normalizer~=2.0.0 in /Users/nhe/opt/anaconda3/lib/python3.9/site-packages (from requests>=2.0->openrouteservice) (2.0.4)\r\n",
      "Requirement already satisfied: idna<4,>=2.5 in /Users/nhe/opt/anaconda3/lib/python3.9/site-packages (from requests>=2.0->openrouteservice) (3.2)\r\n",
      "Requirement already satisfied: urllib3<1.27,>=1.21.1 in /Users/nhe/opt/anaconda3/lib/python3.9/site-packages (from requests>=2.0->openrouteservice) (1.26.7)\r\n",
      "Requirement already satisfied: certifi>=2017.4.17 in /Users/nhe/opt/anaconda3/lib/python3.9/site-packages (from requests>=2.0->openrouteservice) (2021.10.8)\r\n"
     ]
    }
   ],
   "source": [
    "import pandas as pd\n",
    "import numpy as np\n",
    "from tqdm import tqdm\n",
    "!pip install openrouteservice\n",
    "import openrouteservice"
   ]
  },
  {
   "cell_type": "code",
   "execution_count": 255,
   "outputs": [
    {
     "data": {
      "text/plain": "   bed  bath  car   type                         address     suburb  code  \\\n0    3     1    2  House   4 LUCERNE CRESCENT, FRANKSTON  Frankston  3199   \n1    3     1    2  House   4 LUCERNE CRESCENT, FRANKSTON  Frankston  3199   \n2    3     1    2  House   4 LUCERNE CRESCENT, FRANKSTON  Frankston  3199   \n3    3     1    2  House   4 LUCERNE CRESCENT, FRANKSTON  Frankston  3199   \n4    3     1    3  House  19 FRALLON CRESCENT, FRANKSTON  Frankston  3199   \n\n                                                 url  \\\n0  https://www.oldlistings.com.au/real-estate/VIC...   \n1  https://www.oldlistings.com.au/real-estate/VIC...   \n2  https://www.oldlistings.com.au/real-estate/VIC...   \n3  https://www.oldlistings.com.au/real-estate/VIC...   \n4  https://www.oldlistings.com.au/real-estate/VIC...   \n\n                                         loc_address        lat         lon  \\\n0  Lucerne Crescent, Frankston, Melbourne, City o... -38.146375  145.166494   \n1  Lucerne Crescent, Frankston, Melbourne, City o... -38.146375  145.166494   \n2  Lucerne Crescent, Frankston, Melbourne, City o... -38.146375  145.166494   \n3  Lucerne Crescent, Frankston, Melbourne, City o... -38.146375  145.166494   \n4  Frallon Crescent, Karingal, Frankston, Melbour... -38.136790  145.152331   \n\n   weekly_rent   list_date  \n0        350.0  2016-12-01  \n1        330.0  2016-12-01  \n2        330.0  2016-01-01  \n3        330.0  2015-11-01  \n4        420.0  2021-01-01  ",
      "text/html": "<div>\n<style scoped>\n    .dataframe tbody tr th:only-of-type {\n        vertical-align: middle;\n    }\n\n    .dataframe tbody tr th {\n        vertical-align: top;\n    }\n\n    .dataframe thead th {\n        text-align: right;\n    }\n</style>\n<table border=\"1\" class=\"dataframe\">\n  <thead>\n    <tr style=\"text-align: right;\">\n      <th></th>\n      <th>bed</th>\n      <th>bath</th>\n      <th>car</th>\n      <th>type</th>\n      <th>address</th>\n      <th>suburb</th>\n      <th>code</th>\n      <th>url</th>\n      <th>loc_address</th>\n      <th>lat</th>\n      <th>lon</th>\n      <th>weekly_rent</th>\n      <th>list_date</th>\n    </tr>\n  </thead>\n  <tbody>\n    <tr>\n      <th>0</th>\n      <td>3</td>\n      <td>1</td>\n      <td>2</td>\n      <td>House</td>\n      <td>4 LUCERNE CRESCENT, FRANKSTON</td>\n      <td>Frankston</td>\n      <td>3199</td>\n      <td>https://www.oldlistings.com.au/real-estate/VIC...</td>\n      <td>Lucerne Crescent, Frankston, Melbourne, City o...</td>\n      <td>-38.146375</td>\n      <td>145.166494</td>\n      <td>350.0</td>\n      <td>2016-12-01</td>\n    </tr>\n    <tr>\n      <th>1</th>\n      <td>3</td>\n      <td>1</td>\n      <td>2</td>\n      <td>House</td>\n      <td>4 LUCERNE CRESCENT, FRANKSTON</td>\n      <td>Frankston</td>\n      <td>3199</td>\n      <td>https://www.oldlistings.com.au/real-estate/VIC...</td>\n      <td>Lucerne Crescent, Frankston, Melbourne, City o...</td>\n      <td>-38.146375</td>\n      <td>145.166494</td>\n      <td>330.0</td>\n      <td>2016-12-01</td>\n    </tr>\n    <tr>\n      <th>2</th>\n      <td>3</td>\n      <td>1</td>\n      <td>2</td>\n      <td>House</td>\n      <td>4 LUCERNE CRESCENT, FRANKSTON</td>\n      <td>Frankston</td>\n      <td>3199</td>\n      <td>https://www.oldlistings.com.au/real-estate/VIC...</td>\n      <td>Lucerne Crescent, Frankston, Melbourne, City o...</td>\n      <td>-38.146375</td>\n      <td>145.166494</td>\n      <td>330.0</td>\n      <td>2016-01-01</td>\n    </tr>\n    <tr>\n      <th>3</th>\n      <td>3</td>\n      <td>1</td>\n      <td>2</td>\n      <td>House</td>\n      <td>4 LUCERNE CRESCENT, FRANKSTON</td>\n      <td>Frankston</td>\n      <td>3199</td>\n      <td>https://www.oldlistings.com.au/real-estate/VIC...</td>\n      <td>Lucerne Crescent, Frankston, Melbourne, City o...</td>\n      <td>-38.146375</td>\n      <td>145.166494</td>\n      <td>330.0</td>\n      <td>2015-11-01</td>\n    </tr>\n    <tr>\n      <th>4</th>\n      <td>3</td>\n      <td>1</td>\n      <td>3</td>\n      <td>House</td>\n      <td>19 FRALLON CRESCENT, FRANKSTON</td>\n      <td>Frankston</td>\n      <td>3199</td>\n      <td>https://www.oldlistings.com.au/real-estate/VIC...</td>\n      <td>Frallon Crescent, Karingal, Frankston, Melbour...</td>\n      <td>-38.136790</td>\n      <td>145.152331</td>\n      <td>420.0</td>\n      <td>2021-01-01</td>\n    </tr>\n  </tbody>\n</table>\n</div>"
     },
     "execution_count": 255,
     "metadata": {},
     "output_type": "execute_result"
    }
   ],
   "source": [
    "files_dire = '../data/curated/'\n",
    "df = pd.read_csv(f'{files_dire}/processed_listing.csv').iloc[: , 1:]\n",
    "df.head()"
   ],
   "metadata": {
    "collapsed": false,
    "pycharm": {
     "name": "#%%\n"
    }
   }
  },
  {
   "cell_type": "code",
   "execution_count": 256,
   "outputs": [],
   "source": [
    "df['list_date'] = df['list_date'].apply(pd.to_datetime)"
   ],
   "metadata": {
    "collapsed": false,
    "pycharm": {
     "name": "#%%\n"
    }
   }
  },
  {
   "cell_type": "code",
   "execution_count": 257,
   "outputs": [],
   "source": [
    "n_rows = len(df)"
   ],
   "metadata": {
    "collapsed": false,
    "pycharm": {
     "name": "#%%\n"
    }
   }
  },
  {
   "cell_type": "code",
   "execution_count": 258,
   "outputs": [
    {
     "data": {
      "text/plain": "82556"
     },
     "execution_count": 258,
     "metadata": {},
     "output_type": "execute_result"
    }
   ],
   "source": [
    "len(list(set(df['address'].tolist())))"
   ],
   "metadata": {
    "collapsed": false,
    "pycharm": {
     "name": "#%%\n"
    }
   }
  },
  {
   "cell_type": "code",
   "execution_count": 259,
   "outputs": [
    {
     "data": {
      "text/plain": "   bed  bath  car   type                        address     suburb  code  \\\n0    3     1    2  House  4 LUCERNE CRESCENT, FRANKSTON  Frankston  3199   \n\n                                                 url  \\\n0  https://www.oldlistings.com.au/real-estate/VIC...   \n\n                                         loc_address        lat         lon  \\\n0  Lucerne Crescent, Frankston, Melbourne, City o... -38.146375  145.166494   \n\n   weekly_rent  list_date list_history  \n0        350.0 2016-12-01               ",
      "text/html": "<div>\n<style scoped>\n    .dataframe tbody tr th:only-of-type {\n        vertical-align: middle;\n    }\n\n    .dataframe tbody tr th {\n        vertical-align: top;\n    }\n\n    .dataframe thead th {\n        text-align: right;\n    }\n</style>\n<table border=\"1\" class=\"dataframe\">\n  <thead>\n    <tr style=\"text-align: right;\">\n      <th></th>\n      <th>bed</th>\n      <th>bath</th>\n      <th>car</th>\n      <th>type</th>\n      <th>address</th>\n      <th>suburb</th>\n      <th>code</th>\n      <th>url</th>\n      <th>loc_address</th>\n      <th>lat</th>\n      <th>lon</th>\n      <th>weekly_rent</th>\n      <th>list_date</th>\n      <th>list_history</th>\n    </tr>\n  </thead>\n  <tbody>\n    <tr>\n      <th>0</th>\n      <td>3</td>\n      <td>1</td>\n      <td>2</td>\n      <td>House</td>\n      <td>4 LUCERNE CRESCENT, FRANKSTON</td>\n      <td>Frankston</td>\n      <td>3199</td>\n      <td>https://www.oldlistings.com.au/real-estate/VIC...</td>\n      <td>Lucerne Crescent, Frankston, Melbourne, City o...</td>\n      <td>-38.146375</td>\n      <td>145.166494</td>\n      <td>350.0</td>\n      <td>2016-12-01</td>\n      <td></td>\n    </tr>\n  </tbody>\n</table>\n</div>"
     },
     "execution_count": 259,
     "metadata": {},
     "output_type": "execute_result"
    }
   ],
   "source": [
    "df2 = df.iloc[0:1,:]\n",
    "df2 = df2.assign(list_history = '')\n",
    "df2.head()"
   ],
   "metadata": {
    "collapsed": false,
    "pycharm": {
     "name": "#%%\n"
    }
   }
  },
  {
   "cell_type": "code",
   "execution_count": 260,
   "outputs": [],
   "source": [
    "n_property = 0"
   ],
   "metadata": {
    "collapsed": false,
    "pycharm": {
     "name": "#%%\n"
    }
   }
  },
  {
   "cell_type": "code",
   "execution_count": 261,
   "outputs": [],
   "source": [
    "past_listing = []\n",
    "list_date = df.iloc[0]['list_date']"
   ],
   "metadata": {
    "collapsed": false,
    "pycharm": {
     "name": "#%%\n"
    }
   }
  },
  {
   "cell_type": "code",
   "execution_count": 262,
   "outputs": [
    {
     "name": "stderr",
     "output_type": "stream",
     "text": [
      "100%|██████████| 303639/303639 [07:25<00:00, 682.13it/s]\n"
     ]
    }
   ],
   "source": [
    "for i in tqdm(range(1,n_rows)):\n",
    "    # pprint(i)\n",
    "    if df.iloc[i]['address'] == df2.iloc[n_property]['address']:\n",
    "        days = (df2.iloc[n_property]['list_date'] - list_date)/ np.timedelta64(1, 'Y')\n",
    "        list_date = df2.iloc[n_property]['list_date']\n",
    "        price = df2.iloc[n_property]['weekly_rent'] - df.iloc[i]['weekly_rent']\n",
    "        if days != 0:\n",
    "            temp = [days, price]\n",
    "            past_listing.append(temp)\n",
    "    else:\n",
    "        df2.at[n_property, 'list_history'] = past_listing\n",
    "        n_property += 1\n",
    "        df2.loc[n_property] = df.iloc[i]\n",
    "        # df2 = df2.append(df.iloc[i])\n",
    "        # print(past_listing)\n",
    "        # print(past_listing)\n",
    "        past_listing = []\n",
    "df2.at[n_property, 'list_history'] = past_listing"
   ],
   "metadata": {
    "collapsed": false,
    "pycharm": {
     "name": "#%%\n"
    }
   }
  },
  {
   "cell_type": "code",
   "execution_count": 263,
   "outputs": [
    {
     "data": {
      "text/plain": "   bed  bath  car   type                         address     suburb  code  \\\n0    3     1    2  House   4 LUCERNE CRESCENT, FRANKSTON  Frankston  3199   \n1    3     1    3  House  19 FRALLON CRESCENT, FRANKSTON  Frankston  3199   \n2    3     1    2    AUF    1/14 PARER STREET, FRANKSTON  Frankston  3199   \n3    3     1    2    AUF        1/14 PARER ST, FRANKSTON  Frankston  3199   \n4    3     2    2  House            1 YORK CT, FRANKSTON  Frankston  3199   \n\n                                                 url  \\\n0  https://www.oldlistings.com.au/real-estate/VIC...   \n1  https://www.oldlistings.com.au/real-estate/VIC...   \n2  https://www.oldlistings.com.au/real-estate/VIC...   \n3  https://www.oldlistings.com.au/real-estate/VIC...   \n4  https://www.oldlistings.com.au/real-estate/VIC...   \n\n                                         loc_address        lat         lon  \\\n0  Lucerne Crescent, Frankston, Melbourne, City o... -38.146375  145.166494   \n1  Frallon Crescent, Karingal, Frankston, Melbour... -38.136790  145.152331   \n2  Parer Street, Frankston, Melbourne, City of Fr... -38.143728  145.140240   \n3  Parer Street, Frankston, Melbourne, City of Fr... -38.143728  145.140240   \n4  York Court, Karingal, Frankston, Melbourne, Ci... -38.139321  145.157489   \n\n   weekly_rent  list_date                   list_history  \n0        350.0 2016-12-01                             []  \n1        420.0 2021-01-01   [[4.084957254426853, -10.0]]  \n2        220.0 2008-10-01  [[-12.252133856273572, 40.0]]  \n3        320.0 2021-01-01   [[12.252133856273572, 50.0]]  \n4        400.0 2021-01-01                             []  ",
      "text/html": "<div>\n<style scoped>\n    .dataframe tbody tr th:only-of-type {\n        vertical-align: middle;\n    }\n\n    .dataframe tbody tr th {\n        vertical-align: top;\n    }\n\n    .dataframe thead th {\n        text-align: right;\n    }\n</style>\n<table border=\"1\" class=\"dataframe\">\n  <thead>\n    <tr style=\"text-align: right;\">\n      <th></th>\n      <th>bed</th>\n      <th>bath</th>\n      <th>car</th>\n      <th>type</th>\n      <th>address</th>\n      <th>suburb</th>\n      <th>code</th>\n      <th>url</th>\n      <th>loc_address</th>\n      <th>lat</th>\n      <th>lon</th>\n      <th>weekly_rent</th>\n      <th>list_date</th>\n      <th>list_history</th>\n    </tr>\n  </thead>\n  <tbody>\n    <tr>\n      <th>0</th>\n      <td>3</td>\n      <td>1</td>\n      <td>2</td>\n      <td>House</td>\n      <td>4 LUCERNE CRESCENT, FRANKSTON</td>\n      <td>Frankston</td>\n      <td>3199</td>\n      <td>https://www.oldlistings.com.au/real-estate/VIC...</td>\n      <td>Lucerne Crescent, Frankston, Melbourne, City o...</td>\n      <td>-38.146375</td>\n      <td>145.166494</td>\n      <td>350.0</td>\n      <td>2016-12-01</td>\n      <td>[]</td>\n    </tr>\n    <tr>\n      <th>1</th>\n      <td>3</td>\n      <td>1</td>\n      <td>3</td>\n      <td>House</td>\n      <td>19 FRALLON CRESCENT, FRANKSTON</td>\n      <td>Frankston</td>\n      <td>3199</td>\n      <td>https://www.oldlistings.com.au/real-estate/VIC...</td>\n      <td>Frallon Crescent, Karingal, Frankston, Melbour...</td>\n      <td>-38.136790</td>\n      <td>145.152331</td>\n      <td>420.0</td>\n      <td>2021-01-01</td>\n      <td>[[4.084957254426853, -10.0]]</td>\n    </tr>\n    <tr>\n      <th>2</th>\n      <td>3</td>\n      <td>1</td>\n      <td>2</td>\n      <td>AUF</td>\n      <td>1/14 PARER STREET, FRANKSTON</td>\n      <td>Frankston</td>\n      <td>3199</td>\n      <td>https://www.oldlistings.com.au/real-estate/VIC...</td>\n      <td>Parer Street, Frankston, Melbourne, City of Fr...</td>\n      <td>-38.143728</td>\n      <td>145.140240</td>\n      <td>220.0</td>\n      <td>2008-10-01</td>\n      <td>[[-12.252133856273572, 40.0]]</td>\n    </tr>\n    <tr>\n      <th>3</th>\n      <td>3</td>\n      <td>1</td>\n      <td>2</td>\n      <td>AUF</td>\n      <td>1/14 PARER ST, FRANKSTON</td>\n      <td>Frankston</td>\n      <td>3199</td>\n      <td>https://www.oldlistings.com.au/real-estate/VIC...</td>\n      <td>Parer Street, Frankston, Melbourne, City of Fr...</td>\n      <td>-38.143728</td>\n      <td>145.140240</td>\n      <td>320.0</td>\n      <td>2021-01-01</td>\n      <td>[[12.252133856273572, 50.0]]</td>\n    </tr>\n    <tr>\n      <th>4</th>\n      <td>3</td>\n      <td>2</td>\n      <td>2</td>\n      <td>House</td>\n      <td>1 YORK CT, FRANKSTON</td>\n      <td>Frankston</td>\n      <td>3199</td>\n      <td>https://www.oldlistings.com.au/real-estate/VIC...</td>\n      <td>York Court, Karingal, Frankston, Melbourne, Ci...</td>\n      <td>-38.139321</td>\n      <td>145.157489</td>\n      <td>400.0</td>\n      <td>2021-01-01</td>\n      <td>[]</td>\n    </tr>\n  </tbody>\n</table>\n</div>"
     },
     "execution_count": 263,
     "metadata": {},
     "output_type": "execute_result"
    }
   ],
   "source": [
    "df2.head()"
   ],
   "metadata": {
    "collapsed": false,
    "pycharm": {
     "name": "#%%\n"
    }
   }
  },
  {
   "cell_type": "code",
   "execution_count": 265,
   "outputs": [
    {
     "data": {
      "text/plain": "303640"
     },
     "execution_count": 265,
     "metadata": {},
     "output_type": "execute_result"
    }
   ],
   "source": [
    "len(df)"
   ],
   "metadata": {
    "collapsed": false,
    "pycharm": {
     "name": "#%%\n"
    }
   }
  },
  {
   "cell_type": "code",
   "execution_count": 264,
   "outputs": [
    {
     "data": {
      "text/plain": "       bed  bath  car       type                         address     suburb  \\\n1        3     1    3      House  19 FRALLON CRESCENT, FRANKSTON  Frankston   \n2        3     1    2        AUF    1/14 PARER STREET, FRANKSTON  Frankston   \n3        3     1    2        AUF        1/14 PARER ST, FRANKSTON  Frankston   \n5        4     1    2      House       8 MERLIN COURT, FRANKSTON  Frankston   \n6        3     2    1  Townhouse    1/2 GORDON AVENUE, FRANKSTON  Frankston   \n...    ...   ...  ...        ...                             ...        ...   \n82548    2     1    1        AUF       5/198 GRANGE RD, CARNEGIE   Carnegie   \n82550    3     2    1        NaN      7/7 MAROONA ROAD, CARNEGIE   Carnegie   \n82551    1     1    1        AUF   116/9 MORTON AVENUE, CARNEGIE   Carnegie   \n82554    2     1    1        NaN     7/4 KOKARIBB ROAD, CARNEGIE   Carnegie   \n82555    1     1    1        NaN   5 / 6 WALNUT STREET, CARNEGIE   Carnegie   \n\n       code                                                url  \\\n1      3199  https://www.oldlistings.com.au/real-estate/VIC...   \n2      3199  https://www.oldlistings.com.au/real-estate/VIC...   \n3      3199  https://www.oldlistings.com.au/real-estate/VIC...   \n5      3199  https://www.oldlistings.com.au/real-estate/VIC...   \n6      3199  https://www.oldlistings.com.au/real-estate/VIC...   \n...     ...                                                ...   \n82548  3163  https://www.oldlistings.com.au/real-estate/VIC...   \n82550  3163  https://www.oldlistings.com.au/real-estate/VIC...   \n82551  3163  https://www.oldlistings.com.au/real-estate/VIC...   \n82554  3163  https://www.oldlistings.com.au/real-estate/VIC...   \n82555  3163  https://www.oldlistings.com.au/real-estate/VIC...   \n\n                                             loc_address        lat  \\\n1      Frallon Crescent, Karingal, Frankston, Melbour... -38.136790   \n2      Parer Street, Frankston, Melbourne, City of Fr... -38.143728   \n3      Parer Street, Frankston, Melbourne, City of Fr... -38.143728   \n5      Merlin Court, Karingal, Frankston, Melbourne, ... -38.141709   \n6      Gordon Avenue, Frankston, Melbourne, City of F... -38.143041   \n...                                                  ...        ...   \n82548  Grange Road, Carnegie, Melbourne, City of Glen... -37.881444   \n82550  Maroona Road, Carnegie, Melbourne, City of Gle... -37.890048   \n82551  Morton Avenue, Carnegie, Melbourne, City of Gl... -37.886487   \n82554  Kokaribb Road, Carnegie, Melbourne, City of Gl... -37.887325   \n82555  Walnut Street, Carnegie, Melbourne, City of Gl... -37.884761   \n\n              lon  weekly_rent  list_date  \\\n1      145.152331        420.0 2021-01-01   \n2      145.140240        220.0 2008-10-01   \n3      145.140240        320.0 2021-01-01   \n5      145.153106        400.0 2017-11-01   \n6      145.141483        450.0 2020-02-01   \n...           ...          ...        ...   \n82548  145.049445        310.0 2021-11-01   \n82550  145.047566        550.0 2019-08-01   \n82551  145.058239        350.0 2021-11-01   \n82554  145.056148        395.0 2015-01-01   \n82555  145.062195        280.0 2015-08-01   \n\n                                      list_history  \n1                     [[4.084957254426853, -10.0]]  \n2                    [[-12.252133856273572, 40.0]]  \n3                     [[12.252133856273572, 50.0]]  \n5                     [[-3.1677584070857034, 0.0]]  \n6      [[2.2505595597445534, -19.999999999999943]]  \n...                                            ...  \n82548                   [[1.251223502193748, 0.0]]  \n82550                [[-2.2532974667515417, 30.0]]  \n82551                [[2.2532974667515417, -40.0]]  \n82554                 [[-6.833815889443315, 60.0]]  \n82555                 [[0.5804362854815637, 20.0]]  \n\n[57660 rows x 14 columns]",
      "text/html": "<div>\n<style scoped>\n    .dataframe tbody tr th:only-of-type {\n        vertical-align: middle;\n    }\n\n    .dataframe tbody tr th {\n        vertical-align: top;\n    }\n\n    .dataframe thead th {\n        text-align: right;\n    }\n</style>\n<table border=\"1\" class=\"dataframe\">\n  <thead>\n    <tr style=\"text-align: right;\">\n      <th></th>\n      <th>bed</th>\n      <th>bath</th>\n      <th>car</th>\n      <th>type</th>\n      <th>address</th>\n      <th>suburb</th>\n      <th>code</th>\n      <th>url</th>\n      <th>loc_address</th>\n      <th>lat</th>\n      <th>lon</th>\n      <th>weekly_rent</th>\n      <th>list_date</th>\n      <th>list_history</th>\n    </tr>\n  </thead>\n  <tbody>\n    <tr>\n      <th>1</th>\n      <td>3</td>\n      <td>1</td>\n      <td>3</td>\n      <td>House</td>\n      <td>19 FRALLON CRESCENT, FRANKSTON</td>\n      <td>Frankston</td>\n      <td>3199</td>\n      <td>https://www.oldlistings.com.au/real-estate/VIC...</td>\n      <td>Frallon Crescent, Karingal, Frankston, Melbour...</td>\n      <td>-38.136790</td>\n      <td>145.152331</td>\n      <td>420.0</td>\n      <td>2021-01-01</td>\n      <td>[[4.084957254426853, -10.0]]</td>\n    </tr>\n    <tr>\n      <th>2</th>\n      <td>3</td>\n      <td>1</td>\n      <td>2</td>\n      <td>AUF</td>\n      <td>1/14 PARER STREET, FRANKSTON</td>\n      <td>Frankston</td>\n      <td>3199</td>\n      <td>https://www.oldlistings.com.au/real-estate/VIC...</td>\n      <td>Parer Street, Frankston, Melbourne, City of Fr...</td>\n      <td>-38.143728</td>\n      <td>145.140240</td>\n      <td>220.0</td>\n      <td>2008-10-01</td>\n      <td>[[-12.252133856273572, 40.0]]</td>\n    </tr>\n    <tr>\n      <th>3</th>\n      <td>3</td>\n      <td>1</td>\n      <td>2</td>\n      <td>AUF</td>\n      <td>1/14 PARER ST, FRANKSTON</td>\n      <td>Frankston</td>\n      <td>3199</td>\n      <td>https://www.oldlistings.com.au/real-estate/VIC...</td>\n      <td>Parer Street, Frankston, Melbourne, City of Fr...</td>\n      <td>-38.143728</td>\n      <td>145.140240</td>\n      <td>320.0</td>\n      <td>2021-01-01</td>\n      <td>[[12.252133856273572, 50.0]]</td>\n    </tr>\n    <tr>\n      <th>5</th>\n      <td>4</td>\n      <td>1</td>\n      <td>2</td>\n      <td>House</td>\n      <td>8 MERLIN COURT, FRANKSTON</td>\n      <td>Frankston</td>\n      <td>3199</td>\n      <td>https://www.oldlistings.com.au/real-estate/VIC...</td>\n      <td>Merlin Court, Karingal, Frankston, Melbourne, ...</td>\n      <td>-38.141709</td>\n      <td>145.153106</td>\n      <td>400.0</td>\n      <td>2017-11-01</td>\n      <td>[[-3.1677584070857034, 0.0]]</td>\n    </tr>\n    <tr>\n      <th>6</th>\n      <td>3</td>\n      <td>2</td>\n      <td>1</td>\n      <td>Townhouse</td>\n      <td>1/2 GORDON AVENUE, FRANKSTON</td>\n      <td>Frankston</td>\n      <td>3199</td>\n      <td>https://www.oldlistings.com.au/real-estate/VIC...</td>\n      <td>Gordon Avenue, Frankston, Melbourne, City of F...</td>\n      <td>-38.143041</td>\n      <td>145.141483</td>\n      <td>450.0</td>\n      <td>2020-02-01</td>\n      <td>[[2.2505595597445534, -19.999999999999943]]</td>\n    </tr>\n    <tr>\n      <th>...</th>\n      <td>...</td>\n      <td>...</td>\n      <td>...</td>\n      <td>...</td>\n      <td>...</td>\n      <td>...</td>\n      <td>...</td>\n      <td>...</td>\n      <td>...</td>\n      <td>...</td>\n      <td>...</td>\n      <td>...</td>\n      <td>...</td>\n      <td>...</td>\n    </tr>\n    <tr>\n      <th>82548</th>\n      <td>2</td>\n      <td>1</td>\n      <td>1</td>\n      <td>AUF</td>\n      <td>5/198 GRANGE RD, CARNEGIE</td>\n      <td>Carnegie</td>\n      <td>3163</td>\n      <td>https://www.oldlistings.com.au/real-estate/VIC...</td>\n      <td>Grange Road, Carnegie, Melbourne, City of Glen...</td>\n      <td>-37.881444</td>\n      <td>145.049445</td>\n      <td>310.0</td>\n      <td>2021-11-01</td>\n      <td>[[1.251223502193748, 0.0]]</td>\n    </tr>\n    <tr>\n      <th>82550</th>\n      <td>3</td>\n      <td>2</td>\n      <td>1</td>\n      <td>NaN</td>\n      <td>7/7 MAROONA ROAD, CARNEGIE</td>\n      <td>Carnegie</td>\n      <td>3163</td>\n      <td>https://www.oldlistings.com.au/real-estate/VIC...</td>\n      <td>Maroona Road, Carnegie, Melbourne, City of Gle...</td>\n      <td>-37.890048</td>\n      <td>145.047566</td>\n      <td>550.0</td>\n      <td>2019-08-01</td>\n      <td>[[-2.2532974667515417, 30.0]]</td>\n    </tr>\n    <tr>\n      <th>82551</th>\n      <td>1</td>\n      <td>1</td>\n      <td>1</td>\n      <td>AUF</td>\n      <td>116/9 MORTON AVENUE, CARNEGIE</td>\n      <td>Carnegie</td>\n      <td>3163</td>\n      <td>https://www.oldlistings.com.au/real-estate/VIC...</td>\n      <td>Morton Avenue, Carnegie, Melbourne, City of Gl...</td>\n      <td>-37.886487</td>\n      <td>145.058239</td>\n      <td>350.0</td>\n      <td>2021-11-01</td>\n      <td>[[2.2532974667515417, -40.0]]</td>\n    </tr>\n    <tr>\n      <th>82554</th>\n      <td>2</td>\n      <td>1</td>\n      <td>1</td>\n      <td>NaN</td>\n      <td>7/4 KOKARIBB ROAD, CARNEGIE</td>\n      <td>Carnegie</td>\n      <td>3163</td>\n      <td>https://www.oldlistings.com.au/real-estate/VIC...</td>\n      <td>Kokaribb Road, Carnegie, Melbourne, City of Gl...</td>\n      <td>-37.887325</td>\n      <td>145.056148</td>\n      <td>395.0</td>\n      <td>2015-01-01</td>\n      <td>[[-6.833815889443315, 60.0]]</td>\n    </tr>\n    <tr>\n      <th>82555</th>\n      <td>1</td>\n      <td>1</td>\n      <td>1</td>\n      <td>NaN</td>\n      <td>5 / 6 WALNUT STREET, CARNEGIE</td>\n      <td>Carnegie</td>\n      <td>3163</td>\n      <td>https://www.oldlistings.com.au/real-estate/VIC...</td>\n      <td>Walnut Street, Carnegie, Melbourne, City of Gl...</td>\n      <td>-37.884761</td>\n      <td>145.062195</td>\n      <td>280.0</td>\n      <td>2015-08-01</td>\n      <td>[[0.5804362854815637, 20.0]]</td>\n    </tr>\n  </tbody>\n</table>\n<p>57660 rows × 14 columns</p>\n</div>"
     },
     "execution_count": 264,
     "metadata": {},
     "output_type": "execute_result"
    }
   ],
   "source": [
    "df2[df2['list_history'].map(lambda d: len(d)) > 0]"
   ],
   "metadata": {
    "collapsed": false,
    "pycharm": {
     "name": "#%%\n"
    }
   }
  },
  {
   "cell_type": "code",
   "execution_count": 267,
   "outputs": [
    {
     "ename": "KeyError",
     "evalue": "12",
     "output_type": "error",
     "traceback": [
      "\u001B[0;31m---------------------------------------------------------------------------\u001B[0m",
      "\u001B[0;31mKeyError\u001B[0m                                  Traceback (most recent call last)",
      "\u001B[0;32m/var/folders/y5/myhyydfd6h9dlwv1qmqtqhmr0000gn/T/ipykernel_96701/2923317406.py\u001B[0m in \u001B[0;36m<module>\u001B[0;34m\u001B[0m\n\u001B[0;32m----> 1\u001B[0;31m \u001B[0mdf2\u001B[0m\u001B[0;34m.\u001B[0m\u001B[0mgroupby\u001B[0m\u001B[0;34m(\u001B[0m\u001B[0mlen\u001B[0m\u001B[0;34m(\u001B[0m\u001B[0;34m'list_history'\u001B[0m\u001B[0;34m)\u001B[0m\u001B[0;34m)\u001B[0m\u001B[0;34m.\u001B[0m\u001B[0maddress\u001B[0m\u001B[0;34m.\u001B[0m\u001B[0mtransform\u001B[0m\u001B[0;34m(\u001B[0m\u001B[0;34m'count'\u001B[0m\u001B[0;34m)\u001B[0m\u001B[0;34m\u001B[0m\u001B[0;34m\u001B[0m\u001B[0m\n\u001B[0m",
      "\u001B[0;32m~/opt/anaconda3/lib/python3.9/site-packages/pandas/core/frame.py\u001B[0m in \u001B[0;36mgroupby\u001B[0;34m(self, by, axis, level, as_index, sort, group_keys, squeeze, observed, dropna)\u001B[0m\n\u001B[1;32m   8390\u001B[0m         \u001B[0maxis\u001B[0m \u001B[0;34m=\u001B[0m \u001B[0mself\u001B[0m\u001B[0;34m.\u001B[0m\u001B[0m_get_axis_number\u001B[0m\u001B[0;34m(\u001B[0m\u001B[0maxis\u001B[0m\u001B[0;34m)\u001B[0m\u001B[0;34m\u001B[0m\u001B[0;34m\u001B[0m\u001B[0m\n\u001B[1;32m   8391\u001B[0m \u001B[0;34m\u001B[0m\u001B[0m\n\u001B[0;32m-> 8392\u001B[0;31m         return DataFrameGroupBy(\n\u001B[0m\u001B[1;32m   8393\u001B[0m             \u001B[0mobj\u001B[0m\u001B[0;34m=\u001B[0m\u001B[0mself\u001B[0m\u001B[0;34m,\u001B[0m\u001B[0;34m\u001B[0m\u001B[0;34m\u001B[0m\u001B[0m\n\u001B[1;32m   8394\u001B[0m             \u001B[0mkeys\u001B[0m\u001B[0;34m=\u001B[0m\u001B[0mby\u001B[0m\u001B[0;34m,\u001B[0m\u001B[0;34m\u001B[0m\u001B[0;34m\u001B[0m\u001B[0m\n",
      "\u001B[0;32m~/opt/anaconda3/lib/python3.9/site-packages/pandas/core/groupby/groupby.py\u001B[0m in \u001B[0;36m__init__\u001B[0;34m(self, obj, keys, axis, level, grouper, exclusions, selection, as_index, sort, group_keys, squeeze, observed, mutated, dropna)\u001B[0m\n\u001B[1;32m    957\u001B[0m             \u001B[0;32mfrom\u001B[0m \u001B[0mpandas\u001B[0m\u001B[0;34m.\u001B[0m\u001B[0mcore\u001B[0m\u001B[0;34m.\u001B[0m\u001B[0mgroupby\u001B[0m\u001B[0;34m.\u001B[0m\u001B[0mgrouper\u001B[0m \u001B[0;32mimport\u001B[0m \u001B[0mget_grouper\u001B[0m\u001B[0;34m\u001B[0m\u001B[0;34m\u001B[0m\u001B[0m\n\u001B[1;32m    958\u001B[0m \u001B[0;34m\u001B[0m\u001B[0m\n\u001B[0;32m--> 959\u001B[0;31m             grouper, exclusions, obj = get_grouper(\n\u001B[0m\u001B[1;32m    960\u001B[0m                 \u001B[0mobj\u001B[0m\u001B[0;34m,\u001B[0m\u001B[0;34m\u001B[0m\u001B[0;34m\u001B[0m\u001B[0m\n\u001B[1;32m    961\u001B[0m                 \u001B[0mkeys\u001B[0m\u001B[0;34m,\u001B[0m\u001B[0;34m\u001B[0m\u001B[0;34m\u001B[0m\u001B[0m\n",
      "\u001B[0;32m~/opt/anaconda3/lib/python3.9/site-packages/pandas/core/groupby/grouper.py\u001B[0m in \u001B[0;36mget_grouper\u001B[0;34m(obj, key, axis, level, sort, observed, mutated, validate, dropna)\u001B[0m\n\u001B[1;32m    887\u001B[0m                 \u001B[0min_axis\u001B[0m\u001B[0;34m,\u001B[0m \u001B[0mlevel\u001B[0m\u001B[0;34m,\u001B[0m \u001B[0mgpr\u001B[0m \u001B[0;34m=\u001B[0m \u001B[0;32mFalse\u001B[0m\u001B[0;34m,\u001B[0m \u001B[0mgpr\u001B[0m\u001B[0;34m,\u001B[0m \u001B[0;32mNone\u001B[0m\u001B[0;34m\u001B[0m\u001B[0;34m\u001B[0m\u001B[0m\n\u001B[1;32m    888\u001B[0m             \u001B[0;32melse\u001B[0m\u001B[0;34m:\u001B[0m\u001B[0;34m\u001B[0m\u001B[0;34m\u001B[0m\u001B[0m\n\u001B[0;32m--> 889\u001B[0;31m                 \u001B[0;32mraise\u001B[0m \u001B[0mKeyError\u001B[0m\u001B[0;34m(\u001B[0m\u001B[0mgpr\u001B[0m\u001B[0;34m)\u001B[0m\u001B[0;34m\u001B[0m\u001B[0;34m\u001B[0m\u001B[0m\n\u001B[0m\u001B[1;32m    890\u001B[0m         \u001B[0;32melif\u001B[0m \u001B[0misinstance\u001B[0m\u001B[0;34m(\u001B[0m\u001B[0mgpr\u001B[0m\u001B[0;34m,\u001B[0m \u001B[0mGrouper\u001B[0m\u001B[0;34m)\u001B[0m \u001B[0;32mand\u001B[0m \u001B[0mgpr\u001B[0m\u001B[0;34m.\u001B[0m\u001B[0mkey\u001B[0m \u001B[0;32mis\u001B[0m \u001B[0;32mnot\u001B[0m \u001B[0;32mNone\u001B[0m\u001B[0;34m:\u001B[0m\u001B[0;34m\u001B[0m\u001B[0;34m\u001B[0m\u001B[0m\n\u001B[1;32m    891\u001B[0m             \u001B[0;31m# Add key to exclusions\u001B[0m\u001B[0;34m\u001B[0m\u001B[0;34m\u001B[0m\u001B[0m\n",
      "\u001B[0;31mKeyError\u001B[0m: 12"
     ]
    }
   ],
   "source": [
    "df2.groupby(len('list_history')).address.transform('count')"
   ],
   "metadata": {
    "collapsed": false,
    "pycharm": {
     "name": "#%%\n"
    }
   }
  },
  {
   "cell_type": "code",
   "execution_count": null,
   "outputs": [],
   "source": [],
   "metadata": {
    "collapsed": false,
    "pycharm": {
     "name": "#%%\n"
    }
   }
  }
 ],
 "metadata": {
  "kernelspec": {
   "display_name": "Python 3",
   "language": "python",
   "name": "python3"
  },
  "language_info": {
   "codemirror_mode": {
    "name": "ipython",
    "version": 2
   },
   "file_extension": ".py",
   "mimetype": "text/x-python",
   "name": "python",
   "nbconvert_exporter": "python",
   "pygments_lexer": "ipython2",
   "version": "2.7.6"
  }
 },
 "nbformat": 4,
 "nbformat_minor": 0
}