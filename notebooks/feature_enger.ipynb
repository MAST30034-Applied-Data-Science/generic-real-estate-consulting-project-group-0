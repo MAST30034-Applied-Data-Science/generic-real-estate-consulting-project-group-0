{
 "cells": [
  {
   "cell_type": "markdown",
   "source": [
    "Feature engineering"
   ],
   "metadata": {
    "collapsed": false
   }
  },
  {
   "cell_type": "code",
   "execution_count": 28,
   "metadata": {
    "collapsed": true
   },
   "outputs": [],
   "source": [
    "import pandas as pd\n",
    "import numpy as np\n",
    "from tqdm import tqdm\n",
    "import collections\n",
    "from scipy.spatial.distance import cdist"
   ]
  },
  {
   "cell_type": "code",
   "execution_count": 6,
   "outputs": [
    {
     "data": {
      "text/plain": "        bed  bath  car   type                        address      suburb  \\\n96355     3     1    2    AUF     . GLYNDON ROAD, CAMBERWELL  Camberwell   \n96356     3     1    2    AUF     . GLYNDON ROAD, CAMBERWELL  Camberwell   \n96357     3     1    2    AUF     . GLYNDON ROAD, CAMBERWELL  Camberwell   \n181672    3     1    2  House  .97 HUNTINGDALE ROAD, ASHWOOD     Ashwood   \n181673    3     1    2  House  .97 HUNTINGDALE ROAD, ASHWOOD     Ashwood   \n\n        code                                                url  \\\n96355   3124  https://www.oldlistings.com.au/real-estate/VIC...   \n96356   3124  https://www.oldlistings.com.au/real-estate/VIC...   \n96357   3124  https://www.oldlistings.com.au/real-estate/VIC...   \n181672  3147  https://www.oldlistings.com.au/real-estate/VIC...   \n181673  3147  https://www.oldlistings.com.au/real-estate/VIC...   \n\n                                              loc_address        lat  \\\n96355   Glyndon Road, Camberwell, Melbourne, City of B... -37.836230   \n96356   Glyndon Road, Camberwell, Melbourne, City of B... -37.836230   \n96357   Glyndon Road, Camberwell, Melbourne, City of B... -37.836230   \n181672  Huntingdale Road, Ashwood, Melbourne, City of ... -37.864211   \n181673  Huntingdale Road, Ashwood, Melbourne, City of ... -37.864211   \n\n               lon  weekly_rent   list_date  \n96355   145.079003        525.0  2022-08-01  \n96356   145.079003        349.0  2022-07-01  \n96357   145.079003        375.0  2022-04-01  \n181672  145.112405        430.0  2021-02-01  \n181673  145.112405        450.0  2021-02-01  ",
      "text/html": "<div>\n<style scoped>\n    .dataframe tbody tr th:only-of-type {\n        vertical-align: middle;\n    }\n\n    .dataframe tbody tr th {\n        vertical-align: top;\n    }\n\n    .dataframe thead th {\n        text-align: right;\n    }\n</style>\n<table border=\"1\" class=\"dataframe\">\n  <thead>\n    <tr style=\"text-align: right;\">\n      <th></th>\n      <th>bed</th>\n      <th>bath</th>\n      <th>car</th>\n      <th>type</th>\n      <th>address</th>\n      <th>suburb</th>\n      <th>code</th>\n      <th>url</th>\n      <th>loc_address</th>\n      <th>lat</th>\n      <th>lon</th>\n      <th>weekly_rent</th>\n      <th>list_date</th>\n    </tr>\n  </thead>\n  <tbody>\n    <tr>\n      <th>96355</th>\n      <td>3</td>\n      <td>1</td>\n      <td>2</td>\n      <td>AUF</td>\n      <td>. GLYNDON ROAD, CAMBERWELL</td>\n      <td>Camberwell</td>\n      <td>3124</td>\n      <td>https://www.oldlistings.com.au/real-estate/VIC...</td>\n      <td>Glyndon Road, Camberwell, Melbourne, City of B...</td>\n      <td>-37.836230</td>\n      <td>145.079003</td>\n      <td>525.0</td>\n      <td>2022-08-01</td>\n    </tr>\n    <tr>\n      <th>96356</th>\n      <td>3</td>\n      <td>1</td>\n      <td>2</td>\n      <td>AUF</td>\n      <td>. GLYNDON ROAD, CAMBERWELL</td>\n      <td>Camberwell</td>\n      <td>3124</td>\n      <td>https://www.oldlistings.com.au/real-estate/VIC...</td>\n      <td>Glyndon Road, Camberwell, Melbourne, City of B...</td>\n      <td>-37.836230</td>\n      <td>145.079003</td>\n      <td>349.0</td>\n      <td>2022-07-01</td>\n    </tr>\n    <tr>\n      <th>96357</th>\n      <td>3</td>\n      <td>1</td>\n      <td>2</td>\n      <td>AUF</td>\n      <td>. GLYNDON ROAD, CAMBERWELL</td>\n      <td>Camberwell</td>\n      <td>3124</td>\n      <td>https://www.oldlistings.com.au/real-estate/VIC...</td>\n      <td>Glyndon Road, Camberwell, Melbourne, City of B...</td>\n      <td>-37.836230</td>\n      <td>145.079003</td>\n      <td>375.0</td>\n      <td>2022-04-01</td>\n    </tr>\n    <tr>\n      <th>181672</th>\n      <td>3</td>\n      <td>1</td>\n      <td>2</td>\n      <td>House</td>\n      <td>.97 HUNTINGDALE ROAD, ASHWOOD</td>\n      <td>Ashwood</td>\n      <td>3147</td>\n      <td>https://www.oldlistings.com.au/real-estate/VIC...</td>\n      <td>Huntingdale Road, Ashwood, Melbourne, City of ...</td>\n      <td>-37.864211</td>\n      <td>145.112405</td>\n      <td>430.0</td>\n      <td>2021-02-01</td>\n    </tr>\n    <tr>\n      <th>181673</th>\n      <td>3</td>\n      <td>1</td>\n      <td>2</td>\n      <td>House</td>\n      <td>.97 HUNTINGDALE ROAD, ASHWOOD</td>\n      <td>Ashwood</td>\n      <td>3147</td>\n      <td>https://www.oldlistings.com.au/real-estate/VIC...</td>\n      <td>Huntingdale Road, Ashwood, Melbourne, City of ...</td>\n      <td>-37.864211</td>\n      <td>145.112405</td>\n      <td>450.0</td>\n      <td>2021-02-01</td>\n    </tr>\n  </tbody>\n</table>\n</div>"
     },
     "execution_count": 6,
     "metadata": {},
     "output_type": "execute_result"
    }
   ],
   "source": [
    "# read in the scraped and pre-processed past listing data\n",
    "files_dire = '../data/curated/'\n",
    "df = pd.read_csv(f'{files_dire}/processed_listing.csv').iloc[: , 1:]\n",
    "# sort the dataframe so the same property are followed with sorted list date\n",
    "df = df.sort_values(['address', 'list_date'], ascending=[True, False])\n",
    "df.head()"
   ],
   "metadata": {
    "collapsed": false,
    "pycharm": {
     "name": "#%%\n"
    }
   }
  },
  {
   "cell_type": "code",
   "execution_count": 7,
   "outputs": [],
   "source": [
    "# convert the date to a date format as it cannot be auto recognised by Pandas\n",
    "df['list_date'] = df['list_date'].apply(pd.to_datetime)"
   ],
   "metadata": {
    "collapsed": false,
    "pycharm": {
     "name": "#%%\n"
    }
   }
  },
  {
   "cell_type": "code",
   "execution_count": 8,
   "outputs": [],
   "source": [
    "# store the number of entries for the loop below\n",
    "n_rows = len(df)"
   ],
   "metadata": {
    "collapsed": false,
    "pycharm": {
     "name": "#%%\n"
    }
   }
  },
  {
   "cell_type": "code",
   "execution_count": 9,
   "outputs": [
    {
     "data": {
      "text/plain": "82556"
     },
     "execution_count": 9,
     "metadata": {},
     "output_type": "execute_result"
    }
   ],
   "source": [
    "# print the number of unique properties to have a rough idea\n",
    "len(list(set(df['address'].tolist())))"
   ],
   "metadata": {
    "collapsed": false,
    "pycharm": {
     "name": "#%%\n"
    }
   }
  },
  {
   "cell_type": "code",
   "execution_count": 11,
   "outputs": [
    {
     "data": {
      "text/plain": "       bed  bath  car type                     address      suburb  code  \\\n96355    3     1    2  AUF  . GLYNDON ROAD, CAMBERWELL  Camberwell  3124   \n\n                                                     url  \\\n96355  https://www.oldlistings.com.au/real-estate/VIC...   \n\n                                             loc_address       lat  \\\n96355  Glyndon Road, Camberwell, Melbourne, City of B... -37.83623   \n\n              lon  weekly_rent  list_date list_history  \n96355  145.079003        525.0 2022-08-01               ",
      "text/html": "<div>\n<style scoped>\n    .dataframe tbody tr th:only-of-type {\n        vertical-align: middle;\n    }\n\n    .dataframe tbody tr th {\n        vertical-align: top;\n    }\n\n    .dataframe thead th {\n        text-align: right;\n    }\n</style>\n<table border=\"1\" class=\"dataframe\">\n  <thead>\n    <tr style=\"text-align: right;\">\n      <th></th>\n      <th>bed</th>\n      <th>bath</th>\n      <th>car</th>\n      <th>type</th>\n      <th>address</th>\n      <th>suburb</th>\n      <th>code</th>\n      <th>url</th>\n      <th>loc_address</th>\n      <th>lat</th>\n      <th>lon</th>\n      <th>weekly_rent</th>\n      <th>list_date</th>\n      <th>list_history</th>\n    </tr>\n  </thead>\n  <tbody>\n    <tr>\n      <th>96355</th>\n      <td>3</td>\n      <td>1</td>\n      <td>2</td>\n      <td>AUF</td>\n      <td>. GLYNDON ROAD, CAMBERWELL</td>\n      <td>Camberwell</td>\n      <td>3124</td>\n      <td>https://www.oldlistings.com.au/real-estate/VIC...</td>\n      <td>Glyndon Road, Camberwell, Melbourne, City of B...</td>\n      <td>-37.83623</td>\n      <td>145.079003</td>\n      <td>525.0</td>\n      <td>2022-08-01</td>\n      <td></td>\n    </tr>\n  </tbody>\n</table>\n</div>"
     },
     "execution_count": 11,
     "metadata": {},
     "output_type": "execute_result"
    }
   ],
   "source": [
    "# copy the first row of the dataframe to df2\n",
    "# df2 will only store each property per row to replace the prvious dataframe\n",
    "df2 = df.iloc[0:1,:]\n",
    "# listing history will be stored in a new column as a list with the format of [date difference in years, price difference]\n",
    "df2 = df2.assign(list_history = '')\n",
    "df2.head()"
   ],
   "metadata": {
    "collapsed": false,
    "pycharm": {
     "name": "#%%\n"
    }
   }
  },
  {
   "cell_type": "code",
   "execution_count": 14,
   "outputs": [],
   "source": [
    "# initialise for loop variables\n",
    "n_property = 0\n",
    "past_listing = []\n",
    "list_date = df.iloc[0]['list_date']\n",
    "list_price = df.iloc[0]['weekly_rent']"
   ],
   "metadata": {
    "collapsed": false,
    "pycharm": {
     "name": "#%%\n"
    }
   }
  },
  {
   "cell_type": "code",
   "execution_count": 15,
   "outputs": [
    {
     "name": "stderr",
     "output_type": "stream",
     "text": [
      "100%|██████████| 303639/303639 [13:48<00:00, 366.65it/s]\n"
     ]
    }
   ],
   "source": [
    "# run through all entries in the initial dataframe\n",
    "for i in tqdm(range(1, n_rows)):\n",
    "    # if the following row mataches with the previous one\n",
    "    # calculate the date and price difference\n",
    "    if df.iloc[i]['address'] == df2.iloc[n_property]['address']:\n",
    "        days = (df.iloc[i]['list_date'] - list_date)/ np.timedelta64(1, 'Y')\n",
    "        list_date = df.iloc[i]['list_date']\n",
    "        price = list_price - df.iloc[i]['weekly_rent']\n",
    "        list_price = df.iloc[i]['weekly_rent']\n",
    "        if days != 0:\n",
    "            temp = [days, price]\n",
    "            past_listing.append(temp)\n",
    "    # if the address is different (different property)\n",
    "    # the past listings are stored\n",
    "    else:\n",
    "        df2.at[n_property, 'list_history'] = past_listing\n",
    "        n_property += 1\n",
    "        df2.loc[n_property] = df.iloc[i]\n",
    "        past_listing = []\n",
    "df2.at[n_property, 'list_history'] = past_listing"
   ],
   "metadata": {
    "collapsed": false,
    "pycharm": {
     "name": "#%%\n"
    }
   }
  },
  {
   "cell_type": "code",
   "execution_count": 16,
   "outputs": [],
   "source": [
    "# a new column to store the number of times that the property has been listed for lease\n",
    "df2['list_count'] = df2['list_history'].str.len()"
   ],
   "metadata": {
    "collapsed": false,
    "pycharm": {
     "name": "#%%\n"
    }
   }
  },
  {
   "cell_type": "code",
   "execution_count": 17,
   "outputs": [
    {
     "data": {
      "text/plain": "       bed  bath  car   type                              address  \\\n96355  3.0   1.0  1.0    NaN  3/85 RIDGEWAY PARADE, SUNSHINE WEST   \n0      NaN   NaN  NaN    NaN                                  NaN   \n1      3.0   1.0  2.0  House        .97 HUNTINGDALE ROAD, ASHWOOD   \n2      3.0   1.0  2.0  House        .97 HUNTINGDALE ROAD, ASHWOOD   \n3      3.0   1.0  1.0  House         0 LANCASTER DRIVE, MANGALORE   \n\n              suburb  postcode  \\\n96355  Sunshine West    3020.0   \n0                NaN       NaN   \n1            Ashwood    3147.0   \n2            Ashwood    3147.0   \n3          Mangalore    3663.0   \n\n                                                     url  \\\n96355  https://www.oldlistings.com.au/real-estate/VIC...   \n0                                                    NaN   \n1      https://www.oldlistings.com.au/real-estate/VIC...   \n2      https://www.oldlistings.com.au/real-estate/VIC...   \n3      https://www.oldlistings.com.au/real-estate/VIC...   \n\n                                             loc_address        lat  \\\n96355  Ridgeway Parade, Sunshine West, Melbourne, Cit... -37.783822   \n0                                                    NaN        NaN   \n1      Huntingdale Road, Ashwood, Melbourne, City of ... -37.864211   \n2      Huntingdale Road, Ashwood, Melbourne, City of ... -37.864211   \n3      Lancaster Drive, Mangalore, Shire of Strathbog... -36.891826   \n\n              lon  weekly_rent  list_date  \\\n96355  144.807537        370.0 2019-03-01   \n0             NaN          NaN        NaT   \n1      145.112405        430.0 2021-02-01   \n2      145.112405        450.0 2021-02-01   \n3      145.183443        300.0 2022-02-01   \n\n                                            list_history  list_count  \n96355                                                 []           0  \n0      [[-0.08487511721664373, 176.0], [-0.2491495376...           2  \n1                                                     []           0  \n2                                                     []           0  \n3                                                     []           0  ",
      "text/html": "<div>\n<style scoped>\n    .dataframe tbody tr th:only-of-type {\n        vertical-align: middle;\n    }\n\n    .dataframe tbody tr th {\n        vertical-align: top;\n    }\n\n    .dataframe thead th {\n        text-align: right;\n    }\n</style>\n<table border=\"1\" class=\"dataframe\">\n  <thead>\n    <tr style=\"text-align: right;\">\n      <th></th>\n      <th>bed</th>\n      <th>bath</th>\n      <th>car</th>\n      <th>type</th>\n      <th>address</th>\n      <th>suburb</th>\n      <th>postcode</th>\n      <th>url</th>\n      <th>loc_address</th>\n      <th>lat</th>\n      <th>lon</th>\n      <th>weekly_rent</th>\n      <th>list_date</th>\n      <th>list_history</th>\n      <th>list_count</th>\n    </tr>\n  </thead>\n  <tbody>\n    <tr>\n      <th>96355</th>\n      <td>3.0</td>\n      <td>1.0</td>\n      <td>1.0</td>\n      <td>NaN</td>\n      <td>3/85 RIDGEWAY PARADE, SUNSHINE WEST</td>\n      <td>Sunshine West</td>\n      <td>3020.0</td>\n      <td>https://www.oldlistings.com.au/real-estate/VIC...</td>\n      <td>Ridgeway Parade, Sunshine West, Melbourne, Cit...</td>\n      <td>-37.783822</td>\n      <td>144.807537</td>\n      <td>370.0</td>\n      <td>2019-03-01</td>\n      <td>[]</td>\n      <td>0</td>\n    </tr>\n    <tr>\n      <th>0</th>\n      <td>NaN</td>\n      <td>NaN</td>\n      <td>NaN</td>\n      <td>NaN</td>\n      <td>NaN</td>\n      <td>NaN</td>\n      <td>NaN</td>\n      <td>NaN</td>\n      <td>NaN</td>\n      <td>NaN</td>\n      <td>NaN</td>\n      <td>NaN</td>\n      <td>NaT</td>\n      <td>[[-0.08487511721664373, 176.0], [-0.2491495376...</td>\n      <td>2</td>\n    </tr>\n    <tr>\n      <th>1</th>\n      <td>3.0</td>\n      <td>1.0</td>\n      <td>2.0</td>\n      <td>House</td>\n      <td>.97 HUNTINGDALE ROAD, ASHWOOD</td>\n      <td>Ashwood</td>\n      <td>3147.0</td>\n      <td>https://www.oldlistings.com.au/real-estate/VIC...</td>\n      <td>Huntingdale Road, Ashwood, Melbourne, City of ...</td>\n      <td>-37.864211</td>\n      <td>145.112405</td>\n      <td>430.0</td>\n      <td>2021-02-01</td>\n      <td>[]</td>\n      <td>0</td>\n    </tr>\n    <tr>\n      <th>2</th>\n      <td>3.0</td>\n      <td>1.0</td>\n      <td>2.0</td>\n      <td>House</td>\n      <td>.97 HUNTINGDALE ROAD, ASHWOOD</td>\n      <td>Ashwood</td>\n      <td>3147.0</td>\n      <td>https://www.oldlistings.com.au/real-estate/VIC...</td>\n      <td>Huntingdale Road, Ashwood, Melbourne, City of ...</td>\n      <td>-37.864211</td>\n      <td>145.112405</td>\n      <td>450.0</td>\n      <td>2021-02-01</td>\n      <td>[]</td>\n      <td>0</td>\n    </tr>\n    <tr>\n      <th>3</th>\n      <td>3.0</td>\n      <td>1.0</td>\n      <td>1.0</td>\n      <td>House</td>\n      <td>0 LANCASTER DRIVE, MANGALORE</td>\n      <td>Mangalore</td>\n      <td>3663.0</td>\n      <td>https://www.oldlistings.com.au/real-estate/VIC...</td>\n      <td>Lancaster Drive, Mangalore, Shire of Strathbog...</td>\n      <td>-36.891826</td>\n      <td>145.183443</td>\n      <td>300.0</td>\n      <td>2022-02-01</td>\n      <td>[]</td>\n      <td>0</td>\n    </tr>\n  </tbody>\n</table>\n</div>"
     },
     "execution_count": 17,
     "metadata": {},
     "output_type": "execute_result"
    }
   ],
   "source": [
    "# rename the column for legibility\n",
    "df2 = df2.rename(columns={'code': 'postcode'}, errors=\"raise\")\n",
    "df2.head()\n",
    "# this file is stored to share with other group members\n",
    "# df2.to_csv('../data/curated/processed_listing_combined.csv')"
   ],
   "metadata": {
    "collapsed": false,
    "pycharm": {
     "name": "#%%\n"
    }
   }
  },
  {
   "cell_type": "code",
   "execution_count": 18,
   "outputs": [
    {
     "name": "stdout",
     "output_type": "stream",
     "text": [
      "Counter({0: 66114, 1: 24246, 2: 15489, 3: 9920, 4: 5973, 5: 3676, 6: 2263, 7: 1292, 8: 777, 9: 393, 10: 246, 11: 150, 12: 66, 13: 45, 14: 23, 15: 13, 16: 11, 17: 6, 19: 6, 20: 5, 18: 3, 29: 3, 21: 2, 22: 2, 23: 2, 25: 1, 26: 1, 28: 1, 30: 1, 31: 1, 33: 1, 34: 1, 41: 1})\n"
     ]
    }
   ],
   "source": [
    "# pivot to the number of past listings\n",
    "col_list = (df2['list_count'].values.tolist())\n",
    "col_list.sort()\n",
    "counter = collections.Counter(col_list)\n",
    "print(counter)\n",
    "# it means there are 3xxxx properties that have been listed once in the past, etc"
   ],
   "metadata": {
    "collapsed": false,
    "pycharm": {
     "name": "#%%\n"
    }
   }
  },
  {
   "cell_type": "markdown",
   "source": [
    "### Embed SA2 area information to the existing dataframe"
   ],
   "metadata": {
    "collapsed": false
   }
  },
  {
   "cell_type": "code",
   "execution_count": 19,
   "outputs": [
    {
     "data": {
      "text/plain": "      postcode          suburb   SA2_NAME_2016  SA2_MAINCODE_2016\n6151      3000       Melbourne       Melbourne        206041122.0\n6152      3001       Melbourne       Melbourne        206041122.0\n6153      3002  East Melbourne  East Melbourne        206041119.0\n6154      3003  West Melbourne  West Melbourne        206041127.0\n6155      3004       Melbourne       Southbank        206041126.0",
      "text/html": "<div>\n<style scoped>\n    .dataframe tbody tr th:only-of-type {\n        vertical-align: middle;\n    }\n\n    .dataframe tbody tr th {\n        vertical-align: top;\n    }\n\n    .dataframe thead th {\n        text-align: right;\n    }\n</style>\n<table border=\"1\" class=\"dataframe\">\n  <thead>\n    <tr style=\"text-align: right;\">\n      <th></th>\n      <th>postcode</th>\n      <th>suburb</th>\n      <th>SA2_NAME_2016</th>\n      <th>SA2_MAINCODE_2016</th>\n    </tr>\n  </thead>\n  <tbody>\n    <tr>\n      <th>6151</th>\n      <td>3000</td>\n      <td>Melbourne</td>\n      <td>Melbourne</td>\n      <td>206041122.0</td>\n    </tr>\n    <tr>\n      <th>6152</th>\n      <td>3001</td>\n      <td>Melbourne</td>\n      <td>Melbourne</td>\n      <td>206041122.0</td>\n    </tr>\n    <tr>\n      <th>6153</th>\n      <td>3002</td>\n      <td>East Melbourne</td>\n      <td>East Melbourne</td>\n      <td>206041119.0</td>\n    </tr>\n    <tr>\n      <th>6154</th>\n      <td>3003</td>\n      <td>West Melbourne</td>\n      <td>West Melbourne</td>\n      <td>206041127.0</td>\n    </tr>\n    <tr>\n      <th>6155</th>\n      <td>3004</td>\n      <td>Melbourne</td>\n      <td>Southbank</td>\n      <td>206041126.0</td>\n    </tr>\n  </tbody>\n</table>\n</div>"
     },
     "execution_count": 19,
     "metadata": {},
     "output_type": "execute_result"
    }
   ],
   "source": [
    "# read in the postcode information\n",
    "postcode_df = pd.read_csv('../data/raw/abs/australian_postcodes.csv')\n",
    "# only retain information that is relavent for faster running time\n",
    "postcode_df = postcode_df.loc[postcode_df['state'] == 'VIC']\n",
    "# rename columns to match dataframe so it can perform a 'vlookup' properly\n",
    "postcode_df['locality'] = postcode_df['locality'].str.title()\n",
    "postcode_df = postcode_df[['postcode', 'locality', 'SA2_NAME_2016', 'SA2_MAINCODE_2016']]\n",
    "postcode_df = postcode_df.rename(columns={'locality': 'suburb'}, errors=\"raise\")\n",
    "postcode_df.head()"
   ],
   "metadata": {
    "collapsed": false,
    "pycharm": {
     "name": "#%%\n"
    }
   }
  },
  {
   "cell_type": "code",
   "execution_count": 20,
   "outputs": [
    {
     "data": {
      "text/plain": "   bed  bath  car   type                              address         suburb  \\\n0  3.0   1.0  1.0    NaN  3/85 RIDGEWAY PARADE, SUNSHINE WEST  Sunshine West   \n1  4.0   1.0  1.0  House    1 AINSWORTH STREET, SUNSHINE WEST  Sunshine West   \n2  4.0   1.0  1.0  House    1 AINSWORTH STREET, SUNSHINE WEST  Sunshine West   \n3  4.0   2.0  3.0  House   1 BOTTLEBRUSH COURT, SUNSHINE WEST  Sunshine West   \n4  4.0   2.0  3.0  House   1 BOTTLEBRUSH COURT, SUNSHINE WEST  Sunshine West   \n\n   postcode                                                url  \\\n0    3020.0  https://www.oldlistings.com.au/real-estate/VIC...   \n1    3020.0  https://www.oldlistings.com.au/real-estate/VIC...   \n2    3020.0  https://www.oldlistings.com.au/real-estate/VIC...   \n3    3020.0  https://www.oldlistings.com.au/real-estate/VIC...   \n4    3020.0  https://www.oldlistings.com.au/real-estate/VIC...   \n\n                                         loc_address        lat         lon  \\\n0  Ridgeway Parade, Sunshine West, Melbourne, Cit... -37.783822  144.807537   \n1  Ainsworth Street, Sunshine West, Melbourne, Ci... -37.788013  144.815231   \n2  Ainsworth Street, Sunshine West, Melbourne, Ci... -37.788013  144.815231   \n3  Bottlebrush Court, Sunshine West, Melbourne, C... -37.797516  144.790654   \n4  Bottlebrush Court, Sunshine West, Melbourne, C... -37.797516  144.790654   \n\n   weekly_rent  list_date list_history  list_count  SA2_NAME_2016        SA2  \n0        370.0 2019-03-01           []           0  Sunshine West  213011338  \n1        380.0 2020-08-01           []           0  Sunshine West  213011338  \n2        380.0 2020-06-01           []           0  Sunshine West  213011338  \n3        400.0 2017-02-01           []           0  Sunshine West  213011338  \n4        390.0 2014-12-01           []           0  Sunshine West  213011338  ",
      "text/html": "<div>\n<style scoped>\n    .dataframe tbody tr th:only-of-type {\n        vertical-align: middle;\n    }\n\n    .dataframe tbody tr th {\n        vertical-align: top;\n    }\n\n    .dataframe thead th {\n        text-align: right;\n    }\n</style>\n<table border=\"1\" class=\"dataframe\">\n  <thead>\n    <tr style=\"text-align: right;\">\n      <th></th>\n      <th>bed</th>\n      <th>bath</th>\n      <th>car</th>\n      <th>type</th>\n      <th>address</th>\n      <th>suburb</th>\n      <th>postcode</th>\n      <th>url</th>\n      <th>loc_address</th>\n      <th>lat</th>\n      <th>lon</th>\n      <th>weekly_rent</th>\n      <th>list_date</th>\n      <th>list_history</th>\n      <th>list_count</th>\n      <th>SA2_NAME_2016</th>\n      <th>SA2</th>\n    </tr>\n  </thead>\n  <tbody>\n    <tr>\n      <th>0</th>\n      <td>3.0</td>\n      <td>1.0</td>\n      <td>1.0</td>\n      <td>NaN</td>\n      <td>3/85 RIDGEWAY PARADE, SUNSHINE WEST</td>\n      <td>Sunshine West</td>\n      <td>3020.0</td>\n      <td>https://www.oldlistings.com.au/real-estate/VIC...</td>\n      <td>Ridgeway Parade, Sunshine West, Melbourne, Cit...</td>\n      <td>-37.783822</td>\n      <td>144.807537</td>\n      <td>370.0</td>\n      <td>2019-03-01</td>\n      <td>[]</td>\n      <td>0</td>\n      <td>Sunshine West</td>\n      <td>213011338</td>\n    </tr>\n    <tr>\n      <th>1</th>\n      <td>4.0</td>\n      <td>1.0</td>\n      <td>1.0</td>\n      <td>House</td>\n      <td>1 AINSWORTH STREET, SUNSHINE WEST</td>\n      <td>Sunshine West</td>\n      <td>3020.0</td>\n      <td>https://www.oldlistings.com.au/real-estate/VIC...</td>\n      <td>Ainsworth Street, Sunshine West, Melbourne, Ci...</td>\n      <td>-37.788013</td>\n      <td>144.815231</td>\n      <td>380.0</td>\n      <td>2020-08-01</td>\n      <td>[]</td>\n      <td>0</td>\n      <td>Sunshine West</td>\n      <td>213011338</td>\n    </tr>\n    <tr>\n      <th>2</th>\n      <td>4.0</td>\n      <td>1.0</td>\n      <td>1.0</td>\n      <td>House</td>\n      <td>1 AINSWORTH STREET, SUNSHINE WEST</td>\n      <td>Sunshine West</td>\n      <td>3020.0</td>\n      <td>https://www.oldlistings.com.au/real-estate/VIC...</td>\n      <td>Ainsworth Street, Sunshine West, Melbourne, Ci...</td>\n      <td>-37.788013</td>\n      <td>144.815231</td>\n      <td>380.0</td>\n      <td>2020-06-01</td>\n      <td>[]</td>\n      <td>0</td>\n      <td>Sunshine West</td>\n      <td>213011338</td>\n    </tr>\n    <tr>\n      <th>3</th>\n      <td>4.0</td>\n      <td>2.0</td>\n      <td>3.0</td>\n      <td>House</td>\n      <td>1 BOTTLEBRUSH COURT, SUNSHINE WEST</td>\n      <td>Sunshine West</td>\n      <td>3020.0</td>\n      <td>https://www.oldlistings.com.au/real-estate/VIC...</td>\n      <td>Bottlebrush Court, Sunshine West, Melbourne, C...</td>\n      <td>-37.797516</td>\n      <td>144.790654</td>\n      <td>400.0</td>\n      <td>2017-02-01</td>\n      <td>[]</td>\n      <td>0</td>\n      <td>Sunshine West</td>\n      <td>213011338</td>\n    </tr>\n    <tr>\n      <th>4</th>\n      <td>4.0</td>\n      <td>2.0</td>\n      <td>3.0</td>\n      <td>House</td>\n      <td>1 BOTTLEBRUSH COURT, SUNSHINE WEST</td>\n      <td>Sunshine West</td>\n      <td>3020.0</td>\n      <td>https://www.oldlistings.com.au/real-estate/VIC...</td>\n      <td>Bottlebrush Court, Sunshine West, Melbourne, C...</td>\n      <td>-37.797516</td>\n      <td>144.790654</td>\n      <td>390.0</td>\n      <td>2014-12-01</td>\n      <td>[]</td>\n      <td>0</td>\n      <td>Sunshine West</td>\n      <td>213011338</td>\n    </tr>\n  </tbody>\n</table>\n</div>"
     },
     "execution_count": 20,
     "metadata": {},
     "output_type": "execute_result"
    }
   ],
   "source": [
    "# df3 will be the final output dataframe\n",
    "# the property informations are merged with its SA2 information by matching both postcode and suburb name\n",
    "df3 = pd.merge(df2, postcode_df, on=['postcode', 'suburb'])\n",
    "df3['SA2_MAINCODE_2016'] = df3['SA2_MAINCODE_2016'].astype(int)\n",
    "df3 = df3.rename(columns={'SA2_MAINCODE_2016': 'SA2'}, errors=\"raise\")\n",
    "df3.head()"
   ],
   "metadata": {
    "collapsed": false,
    "pycharm": {
     "name": "#%%\n"
    }
   }
  },
  {
   "cell_type": "markdown",
   "source": [
    "### Embed income data"
   ],
   "metadata": {
    "collapsed": false
   }
  },
  {
   "cell_type": "code",
   "execution_count": 21,
   "outputs": [
    {
     "data": {
      "text/plain": "         SA2  income_earner  income_median_age  income_median  income_mean  \\\n0  201011001         7989.0               42.0        53932.0      63668.0   \n1  201011002         7595.0               47.0        53688.0      77876.0   \n2  201011003        13598.0               43.0        50593.0      60367.0   \n3  201011004        12722.0               40.0        45828.0      50778.0   \n4  201011005         4249.0               46.0        52377.0      63258.0   \n\n   income_top_10_pct  \n0               28.7  \n1               38.4  \n2               29.3  \n3               26.1  \n4               29.3  ",
      "text/html": "<div>\n<style scoped>\n    .dataframe tbody tr th:only-of-type {\n        vertical-align: middle;\n    }\n\n    .dataframe tbody tr th {\n        vertical-align: top;\n    }\n\n    .dataframe thead th {\n        text-align: right;\n    }\n</style>\n<table border=\"1\" class=\"dataframe\">\n  <thead>\n    <tr style=\"text-align: right;\">\n      <th></th>\n      <th>SA2</th>\n      <th>income_earner</th>\n      <th>income_median_age</th>\n      <th>income_median</th>\n      <th>income_mean</th>\n      <th>income_top_10_pct</th>\n    </tr>\n  </thead>\n  <tbody>\n    <tr>\n      <th>0</th>\n      <td>201011001</td>\n      <td>7989.0</td>\n      <td>42.0</td>\n      <td>53932.0</td>\n      <td>63668.0</td>\n      <td>28.7</td>\n    </tr>\n    <tr>\n      <th>1</th>\n      <td>201011002</td>\n      <td>7595.0</td>\n      <td>47.0</td>\n      <td>53688.0</td>\n      <td>77876.0</td>\n      <td>38.4</td>\n    </tr>\n    <tr>\n      <th>2</th>\n      <td>201011003</td>\n      <td>13598.0</td>\n      <td>43.0</td>\n      <td>50593.0</td>\n      <td>60367.0</td>\n      <td>29.3</td>\n    </tr>\n    <tr>\n      <th>3</th>\n      <td>201011004</td>\n      <td>12722.0</td>\n      <td>40.0</td>\n      <td>45828.0</td>\n      <td>50778.0</td>\n      <td>26.1</td>\n    </tr>\n    <tr>\n      <th>4</th>\n      <td>201011005</td>\n      <td>4249.0</td>\n      <td>46.0</td>\n      <td>52377.0</td>\n      <td>63258.0</td>\n      <td>29.3</td>\n    </tr>\n  </tbody>\n</table>\n</div>"
     },
     "execution_count": 21,
     "metadata": {},
     "output_type": "execute_result"
    }
   ],
   "source": [
    "# the csv file was exported from MS Excel as Python's ability to read csv with weird formating is limited\n",
    "income_df = pd.read_csv(f'{files_dire}/abs/income_distribution.csv')\n",
    "# only retain information that will be used\n",
    "income_df = income_df[['SA2', 'Earners', 'Median age of earners', 'Median', 'Mean', 'Top 10%']]\n",
    "income_df = income_df.replace(',','', regex=True)\n",
    "cols = ['Earners', 'Median age of earners', 'Median', 'Mean', 'Top 10%']\n",
    "income_df[cols] = income_df[cols].apply(pd.to_numeric, errors='coerce', axis=1)\n",
    "income_df = income_df.rename(columns={'Earners': 'income_earner', 'Median age of earners': 'income_median_age', 'Median': 'income_median', 'Mean': 'income_mean', 'Top 10%': 'income_top_10_pct'}, errors=\"raise\")\n",
    "# information will be 'vlookup'ed by SA2 code, the data contains the number of earners in the SA2, median age of the earner\n",
    "# median income of the SA2, average income of the SA2 and how much of the population are ranked 10 percent within whole Australia\n",
    "income_df.head()"
   ],
   "metadata": {
    "collapsed": false,
    "pycharm": {
     "name": "#%%\n"
    }
   }
  },
  {
   "cell_type": "code",
   "execution_count": 22,
   "outputs": [
    {
     "data": {
      "text/plain": "   bed  bath  car   type                              address         suburb  \\\n0  3.0   1.0  1.0    NaN  3/85 RIDGEWAY PARADE, SUNSHINE WEST  Sunshine West   \n1  4.0   1.0  1.0  House    1 AINSWORTH STREET, SUNSHINE WEST  Sunshine West   \n2  4.0   1.0  1.0  House    1 AINSWORTH STREET, SUNSHINE WEST  Sunshine West   \n3  4.0   2.0  3.0  House   1 BOTTLEBRUSH COURT, SUNSHINE WEST  Sunshine West   \n4  4.0   2.0  3.0  House   1 BOTTLEBRUSH COURT, SUNSHINE WEST  Sunshine West   \n\n   postcode                                                url  \\\n0    3020.0  https://www.oldlistings.com.au/real-estate/VIC...   \n1    3020.0  https://www.oldlistings.com.au/real-estate/VIC...   \n2    3020.0  https://www.oldlistings.com.au/real-estate/VIC...   \n3    3020.0  https://www.oldlistings.com.au/real-estate/VIC...   \n4    3020.0  https://www.oldlistings.com.au/real-estate/VIC...   \n\n                                         loc_address        lat  ...  \\\n0  Ridgeway Parade, Sunshine West, Melbourne, Cit... -37.783822  ...   \n1  Ainsworth Street, Sunshine West, Melbourne, Ci... -37.788013  ...   \n2  Ainsworth Street, Sunshine West, Melbourne, Ci... -37.788013  ...   \n3  Bottlebrush Court, Sunshine West, Melbourne, C... -37.797516  ...   \n4  Bottlebrush Court, Sunshine West, Melbourne, C... -37.797516  ...   \n\n   list_date  list_history list_count  SA2_NAME_2016        SA2 income_earner  \\\n0 2019-03-01            []          0  Sunshine West  213011338        9833.0   \n1 2020-08-01            []          0  Sunshine West  213011338        9833.0   \n2 2020-06-01            []          0  Sunshine West  213011338        9833.0   \n3 2017-02-01            []          0  Sunshine West  213011338        9833.0   \n4 2014-12-01            []          0  Sunshine West  213011338        9833.0   \n\n   income_median_age  income_median  income_mean  income_top_10_pct  \n0               37.0        44582.0      49129.0               25.9  \n1               37.0        44582.0      49129.0               25.9  \n2               37.0        44582.0      49129.0               25.9  \n3               37.0        44582.0      49129.0               25.9  \n4               37.0        44582.0      49129.0               25.9  \n\n[5 rows x 22 columns]",
      "text/html": "<div>\n<style scoped>\n    .dataframe tbody tr th:only-of-type {\n        vertical-align: middle;\n    }\n\n    .dataframe tbody tr th {\n        vertical-align: top;\n    }\n\n    .dataframe thead th {\n        text-align: right;\n    }\n</style>\n<table border=\"1\" class=\"dataframe\">\n  <thead>\n    <tr style=\"text-align: right;\">\n      <th></th>\n      <th>bed</th>\n      <th>bath</th>\n      <th>car</th>\n      <th>type</th>\n      <th>address</th>\n      <th>suburb</th>\n      <th>postcode</th>\n      <th>url</th>\n      <th>loc_address</th>\n      <th>lat</th>\n      <th>...</th>\n      <th>list_date</th>\n      <th>list_history</th>\n      <th>list_count</th>\n      <th>SA2_NAME_2016</th>\n      <th>SA2</th>\n      <th>income_earner</th>\n      <th>income_median_age</th>\n      <th>income_median</th>\n      <th>income_mean</th>\n      <th>income_top_10_pct</th>\n    </tr>\n  </thead>\n  <tbody>\n    <tr>\n      <th>0</th>\n      <td>3.0</td>\n      <td>1.0</td>\n      <td>1.0</td>\n      <td>NaN</td>\n      <td>3/85 RIDGEWAY PARADE, SUNSHINE WEST</td>\n      <td>Sunshine West</td>\n      <td>3020.0</td>\n      <td>https://www.oldlistings.com.au/real-estate/VIC...</td>\n      <td>Ridgeway Parade, Sunshine West, Melbourne, Cit...</td>\n      <td>-37.783822</td>\n      <td>...</td>\n      <td>2019-03-01</td>\n      <td>[]</td>\n      <td>0</td>\n      <td>Sunshine West</td>\n      <td>213011338</td>\n      <td>9833.0</td>\n      <td>37.0</td>\n      <td>44582.0</td>\n      <td>49129.0</td>\n      <td>25.9</td>\n    </tr>\n    <tr>\n      <th>1</th>\n      <td>4.0</td>\n      <td>1.0</td>\n      <td>1.0</td>\n      <td>House</td>\n      <td>1 AINSWORTH STREET, SUNSHINE WEST</td>\n      <td>Sunshine West</td>\n      <td>3020.0</td>\n      <td>https://www.oldlistings.com.au/real-estate/VIC...</td>\n      <td>Ainsworth Street, Sunshine West, Melbourne, Ci...</td>\n      <td>-37.788013</td>\n      <td>...</td>\n      <td>2020-08-01</td>\n      <td>[]</td>\n      <td>0</td>\n      <td>Sunshine West</td>\n      <td>213011338</td>\n      <td>9833.0</td>\n      <td>37.0</td>\n      <td>44582.0</td>\n      <td>49129.0</td>\n      <td>25.9</td>\n    </tr>\n    <tr>\n      <th>2</th>\n      <td>4.0</td>\n      <td>1.0</td>\n      <td>1.0</td>\n      <td>House</td>\n      <td>1 AINSWORTH STREET, SUNSHINE WEST</td>\n      <td>Sunshine West</td>\n      <td>3020.0</td>\n      <td>https://www.oldlistings.com.au/real-estate/VIC...</td>\n      <td>Ainsworth Street, Sunshine West, Melbourne, Ci...</td>\n      <td>-37.788013</td>\n      <td>...</td>\n      <td>2020-06-01</td>\n      <td>[]</td>\n      <td>0</td>\n      <td>Sunshine West</td>\n      <td>213011338</td>\n      <td>9833.0</td>\n      <td>37.0</td>\n      <td>44582.0</td>\n      <td>49129.0</td>\n      <td>25.9</td>\n    </tr>\n    <tr>\n      <th>3</th>\n      <td>4.0</td>\n      <td>2.0</td>\n      <td>3.0</td>\n      <td>House</td>\n      <td>1 BOTTLEBRUSH COURT, SUNSHINE WEST</td>\n      <td>Sunshine West</td>\n      <td>3020.0</td>\n      <td>https://www.oldlistings.com.au/real-estate/VIC...</td>\n      <td>Bottlebrush Court, Sunshine West, Melbourne, C...</td>\n      <td>-37.797516</td>\n      <td>...</td>\n      <td>2017-02-01</td>\n      <td>[]</td>\n      <td>0</td>\n      <td>Sunshine West</td>\n      <td>213011338</td>\n      <td>9833.0</td>\n      <td>37.0</td>\n      <td>44582.0</td>\n      <td>49129.0</td>\n      <td>25.9</td>\n    </tr>\n    <tr>\n      <th>4</th>\n      <td>4.0</td>\n      <td>2.0</td>\n      <td>3.0</td>\n      <td>House</td>\n      <td>1 BOTTLEBRUSH COURT, SUNSHINE WEST</td>\n      <td>Sunshine West</td>\n      <td>3020.0</td>\n      <td>https://www.oldlistings.com.au/real-estate/VIC...</td>\n      <td>Bottlebrush Court, Sunshine West, Melbourne, C...</td>\n      <td>-37.797516</td>\n      <td>...</td>\n      <td>2014-12-01</td>\n      <td>[]</td>\n      <td>0</td>\n      <td>Sunshine West</td>\n      <td>213011338</td>\n      <td>9833.0</td>\n      <td>37.0</td>\n      <td>44582.0</td>\n      <td>49129.0</td>\n      <td>25.9</td>\n    </tr>\n  </tbody>\n</table>\n<p>5 rows × 22 columns</p>\n</div>"
     },
     "execution_count": 22,
     "metadata": {},
     "output_type": "execute_result"
    }
   ],
   "source": [
    "# merge income information\n",
    "df3 = pd.merge(df3, income_df, on='SA2')\n",
    "df3.head()"
   ],
   "metadata": {
    "collapsed": false,
    "pycharm": {
     "name": "#%%\n"
    }
   }
  },
  {
   "cell_type": "markdown",
   "source": [
    "### Embed population statistics"
   ],
   "metadata": {
    "collapsed": false
   }
  },
  {
   "cell_type": "code",
   "execution_count": 23,
   "outputs": [
    {
     "data": {
      "text/plain": "         SA2  population_total  population_children  population_prime_working  \\\n0  201011001             16823                 4075                      6702   \n1  201011002             12076                 1806                      4321   \n2  201011005              7232                 1532                      2483   \n3  201011006             10640                 2299                      4347   \n4  201011007              4213                  904                      1533   \n\n   population_elderly  population_early_working  population_mature_working  \n0                2098                      2391                       1557  \n1                2750                      1565                       1634  \n2                1295                       944                        978  \n3                1543                      1434                       1017  \n4                 594                       559                        623  ",
      "text/html": "<div>\n<style scoped>\n    .dataframe tbody tr th:only-of-type {\n        vertical-align: middle;\n    }\n\n    .dataframe tbody tr th {\n        vertical-align: top;\n    }\n\n    .dataframe thead th {\n        text-align: right;\n    }\n</style>\n<table border=\"1\" class=\"dataframe\">\n  <thead>\n    <tr style=\"text-align: right;\">\n      <th></th>\n      <th>SA2</th>\n      <th>population_total</th>\n      <th>population_children</th>\n      <th>population_prime_working</th>\n      <th>population_elderly</th>\n      <th>population_early_working</th>\n      <th>population_mature_working</th>\n    </tr>\n  </thead>\n  <tbody>\n    <tr>\n      <th>0</th>\n      <td>201011001</td>\n      <td>16823</td>\n      <td>4075</td>\n      <td>6702</td>\n      <td>2098</td>\n      <td>2391</td>\n      <td>1557</td>\n    </tr>\n    <tr>\n      <th>1</th>\n      <td>201011002</td>\n      <td>12076</td>\n      <td>1806</td>\n      <td>4321</td>\n      <td>2750</td>\n      <td>1565</td>\n      <td>1634</td>\n    </tr>\n    <tr>\n      <th>2</th>\n      <td>201011005</td>\n      <td>7232</td>\n      <td>1532</td>\n      <td>2483</td>\n      <td>1295</td>\n      <td>944</td>\n      <td>978</td>\n    </tr>\n    <tr>\n      <th>3</th>\n      <td>201011006</td>\n      <td>10640</td>\n      <td>2299</td>\n      <td>4347</td>\n      <td>1543</td>\n      <td>1434</td>\n      <td>1017</td>\n    </tr>\n    <tr>\n      <th>4</th>\n      <td>201011007</td>\n      <td>4213</td>\n      <td>904</td>\n      <td>1533</td>\n      <td>594</td>\n      <td>559</td>\n      <td>623</td>\n    </tr>\n  </tbody>\n</table>\n</div>"
     },
     "execution_count": 23,
     "metadata": {},
     "output_type": "execute_result"
    }
   ],
   "source": [
    "# the csv file was exported from MS Excel as Python's ability to read csv with weird formating is limited\n",
    "population_df = pd.read_csv(f'{files_dire}/abs/population.csv')\n",
    "population_df = population_df.iloc[: , 8:]\n",
    "# age are grouped into following categories\n",
    "# they are sumed to produce these columns\n",
    "# 0-14 years (children), 15-24 years (early working age), 25-54 years (prime working age), 55-64 years (mature working age), 65 years and over (elderly)\n",
    "population_df['population_children'] = population_df[['0-4', '5–9', '10–14']].sum(axis = 1)\n",
    "population_df = population_df.drop(['0-4', '5–9', '10–14'], axis=1)\n",
    "population_df['population_prime_working'] = population_df[['25–29', '30–34', '35–39', '40–44', '45–49', '50–54']].sum(axis = 1)\n",
    "population_df = population_df.drop(['25–29', '30–34', '35–39', '40–44', '45–49', '50–54'], axis=1)\n",
    "population_df['population_elderly'] = population_df[['65–69', '70–74', '75–79', '80–84', '85 and over']].sum(axis = 1)\n",
    "population_df = population_df.drop(['65–69', '70–74', '75–79', '80–84', '85 and over'], axis=1)\n",
    "population_df['population_early_working'] = population_df.iloc[:,2] + population_df.iloc[:,3]\n",
    "population_df['population_mature_working'] = population_df.iloc[:,4] + population_df.iloc[:,5]\n",
    "population_df = population_df.drop(['15–19', '20–24', '55–59', '60–64', 'SA2 name'], axis=1)\n",
    "population_df = population_df.rename(columns={'Total persons': 'population_total', 'SA2 code': 'SA2'}, errors=\"raise\")\n",
    "population_df.head()"
   ],
   "metadata": {
    "collapsed": false,
    "pycharm": {
     "name": "#%%\n"
    }
   }
  },
  {
   "cell_type": "code",
   "execution_count": 24,
   "outputs": [
    {
     "data": {
      "text/plain": "   bed  bath  car   type                              address         suburb  \\\n0  3.0   1.0  1.0    NaN  3/85 RIDGEWAY PARADE, SUNSHINE WEST  Sunshine West   \n1  4.0   1.0  1.0  House    1 AINSWORTH STREET, SUNSHINE WEST  Sunshine West   \n2  4.0   1.0  1.0  House    1 AINSWORTH STREET, SUNSHINE WEST  Sunshine West   \n3  4.0   2.0  3.0  House   1 BOTTLEBRUSH COURT, SUNSHINE WEST  Sunshine West   \n4  4.0   2.0  3.0  House   1 BOTTLEBRUSH COURT, SUNSHINE WEST  Sunshine West   \n\n   postcode                                                url  \\\n0    3020.0  https://www.oldlistings.com.au/real-estate/VIC...   \n1    3020.0  https://www.oldlistings.com.au/real-estate/VIC...   \n2    3020.0  https://www.oldlistings.com.au/real-estate/VIC...   \n3    3020.0  https://www.oldlistings.com.au/real-estate/VIC...   \n4    3020.0  https://www.oldlistings.com.au/real-estate/VIC...   \n\n                                         loc_address        lat  ...  \\\n0  Ridgeway Parade, Sunshine West, Melbourne, Cit... -37.783822  ...   \n1  Ainsworth Street, Sunshine West, Melbourne, Ci... -37.788013  ...   \n2  Ainsworth Street, Sunshine West, Melbourne, Ci... -37.788013  ...   \n3  Bottlebrush Court, Sunshine West, Melbourne, C... -37.797516  ...   \n4  Bottlebrush Court, Sunshine West, Melbourne, C... -37.797516  ...   \n\n   income_median_age  income_median income_mean income_top_10_pct  \\\n0               37.0        44582.0     49129.0              25.9   \n1               37.0        44582.0     49129.0              25.9   \n2               37.0        44582.0     49129.0              25.9   \n3               37.0        44582.0     49129.0              25.9   \n4               37.0        44582.0     49129.0              25.9   \n\n   population_total population_children  population_prime_working  \\\n0             18779                3161                      8047   \n1             18779                3161                      8047   \n2             18779                3161                      8047   \n3             18779                3161                      8047   \n4             18779                3161                      8047   \n\n   population_elderly  population_early_working  population_mature_working  \n0                3343                      2254                       1974  \n1                3343                      2254                       1974  \n2                3343                      2254                       1974  \n3                3343                      2254                       1974  \n4                3343                      2254                       1974  \n\n[5 rows x 28 columns]",
      "text/html": "<div>\n<style scoped>\n    .dataframe tbody tr th:only-of-type {\n        vertical-align: middle;\n    }\n\n    .dataframe tbody tr th {\n        vertical-align: top;\n    }\n\n    .dataframe thead th {\n        text-align: right;\n    }\n</style>\n<table border=\"1\" class=\"dataframe\">\n  <thead>\n    <tr style=\"text-align: right;\">\n      <th></th>\n      <th>bed</th>\n      <th>bath</th>\n      <th>car</th>\n      <th>type</th>\n      <th>address</th>\n      <th>suburb</th>\n      <th>postcode</th>\n      <th>url</th>\n      <th>loc_address</th>\n      <th>lat</th>\n      <th>...</th>\n      <th>income_median_age</th>\n      <th>income_median</th>\n      <th>income_mean</th>\n      <th>income_top_10_pct</th>\n      <th>population_total</th>\n      <th>population_children</th>\n      <th>population_prime_working</th>\n      <th>population_elderly</th>\n      <th>population_early_working</th>\n      <th>population_mature_working</th>\n    </tr>\n  </thead>\n  <tbody>\n    <tr>\n      <th>0</th>\n      <td>3.0</td>\n      <td>1.0</td>\n      <td>1.0</td>\n      <td>NaN</td>\n      <td>3/85 RIDGEWAY PARADE, SUNSHINE WEST</td>\n      <td>Sunshine West</td>\n      <td>3020.0</td>\n      <td>https://www.oldlistings.com.au/real-estate/VIC...</td>\n      <td>Ridgeway Parade, Sunshine West, Melbourne, Cit...</td>\n      <td>-37.783822</td>\n      <td>...</td>\n      <td>37.0</td>\n      <td>44582.0</td>\n      <td>49129.0</td>\n      <td>25.9</td>\n      <td>18779</td>\n      <td>3161</td>\n      <td>8047</td>\n      <td>3343</td>\n      <td>2254</td>\n      <td>1974</td>\n    </tr>\n    <tr>\n      <th>1</th>\n      <td>4.0</td>\n      <td>1.0</td>\n      <td>1.0</td>\n      <td>House</td>\n      <td>1 AINSWORTH STREET, SUNSHINE WEST</td>\n      <td>Sunshine West</td>\n      <td>3020.0</td>\n      <td>https://www.oldlistings.com.au/real-estate/VIC...</td>\n      <td>Ainsworth Street, Sunshine West, Melbourne, Ci...</td>\n      <td>-37.788013</td>\n      <td>...</td>\n      <td>37.0</td>\n      <td>44582.0</td>\n      <td>49129.0</td>\n      <td>25.9</td>\n      <td>18779</td>\n      <td>3161</td>\n      <td>8047</td>\n      <td>3343</td>\n      <td>2254</td>\n      <td>1974</td>\n    </tr>\n    <tr>\n      <th>2</th>\n      <td>4.0</td>\n      <td>1.0</td>\n      <td>1.0</td>\n      <td>House</td>\n      <td>1 AINSWORTH STREET, SUNSHINE WEST</td>\n      <td>Sunshine West</td>\n      <td>3020.0</td>\n      <td>https://www.oldlistings.com.au/real-estate/VIC...</td>\n      <td>Ainsworth Street, Sunshine West, Melbourne, Ci...</td>\n      <td>-37.788013</td>\n      <td>...</td>\n      <td>37.0</td>\n      <td>44582.0</td>\n      <td>49129.0</td>\n      <td>25.9</td>\n      <td>18779</td>\n      <td>3161</td>\n      <td>8047</td>\n      <td>3343</td>\n      <td>2254</td>\n      <td>1974</td>\n    </tr>\n    <tr>\n      <th>3</th>\n      <td>4.0</td>\n      <td>2.0</td>\n      <td>3.0</td>\n      <td>House</td>\n      <td>1 BOTTLEBRUSH COURT, SUNSHINE WEST</td>\n      <td>Sunshine West</td>\n      <td>3020.0</td>\n      <td>https://www.oldlistings.com.au/real-estate/VIC...</td>\n      <td>Bottlebrush Court, Sunshine West, Melbourne, C...</td>\n      <td>-37.797516</td>\n      <td>...</td>\n      <td>37.0</td>\n      <td>44582.0</td>\n      <td>49129.0</td>\n      <td>25.9</td>\n      <td>18779</td>\n      <td>3161</td>\n      <td>8047</td>\n      <td>3343</td>\n      <td>2254</td>\n      <td>1974</td>\n    </tr>\n    <tr>\n      <th>4</th>\n      <td>4.0</td>\n      <td>2.0</td>\n      <td>3.0</td>\n      <td>House</td>\n      <td>1 BOTTLEBRUSH COURT, SUNSHINE WEST</td>\n      <td>Sunshine West</td>\n      <td>3020.0</td>\n      <td>https://www.oldlistings.com.au/real-estate/VIC...</td>\n      <td>Bottlebrush Court, Sunshine West, Melbourne, C...</td>\n      <td>-37.797516</td>\n      <td>...</td>\n      <td>37.0</td>\n      <td>44582.0</td>\n      <td>49129.0</td>\n      <td>25.9</td>\n      <td>18779</td>\n      <td>3161</td>\n      <td>8047</td>\n      <td>3343</td>\n      <td>2254</td>\n      <td>1974</td>\n    </tr>\n  </tbody>\n</table>\n<p>5 rows × 28 columns</p>\n</div>"
     },
     "execution_count": 24,
     "metadata": {},
     "output_type": "execute_result"
    }
   ],
   "source": [
    "df3 = pd.merge(df3, population_df, on='SA2')\n",
    "df3.head()"
   ],
   "metadata": {
    "collapsed": false,
    "pycharm": {
     "name": "#%%\n"
    }
   }
  },
  {
   "cell_type": "markdown",
   "source": [
    "### Embed school locations"
   ],
   "metadata": {
    "collapsed": false
   }
  },
  {
   "cell_type": "code",
   "execution_count": 29,
   "outputs": [
    {
     "data": {
      "text/plain": "  Education_Sector                             School_Name School_Type  \\\n0       Government                 Alberton Primary School     Primary   \n1       Government  Allansford and District Primary School     Primary   \n2       Government                    Avoca Primary School     Primary   \n3       Government                   Avenel Primary School     Primary   \n4       Government               Warrandyte Primary School     Primary   \n\n            X          Y            geo_coordinate  \n0  146.666601 -38.617713  (-38.617713, 146.666601)  \n1  142.590393 -38.386281  (-38.386281, 142.590393)  \n2  143.475649 -37.084502  (-37.084502, 143.475649)  \n3  145.234722 -36.901368  (-36.901368, 145.234722)  \n4  145.213980 -37.742675   (-37.742675, 145.21398)  ",
      "text/html": "<div>\n<style scoped>\n    .dataframe tbody tr th:only-of-type {\n        vertical-align: middle;\n    }\n\n    .dataframe tbody tr th {\n        vertical-align: top;\n    }\n\n    .dataframe thead th {\n        text-align: right;\n    }\n</style>\n<table border=\"1\" class=\"dataframe\">\n  <thead>\n    <tr style=\"text-align: right;\">\n      <th></th>\n      <th>Education_Sector</th>\n      <th>School_Name</th>\n      <th>School_Type</th>\n      <th>X</th>\n      <th>Y</th>\n      <th>geo_coordinate</th>\n    </tr>\n  </thead>\n  <tbody>\n    <tr>\n      <th>0</th>\n      <td>Government</td>\n      <td>Alberton Primary School</td>\n      <td>Primary</td>\n      <td>146.666601</td>\n      <td>-38.617713</td>\n      <td>(-38.617713, 146.666601)</td>\n    </tr>\n    <tr>\n      <th>1</th>\n      <td>Government</td>\n      <td>Allansford and District Primary School</td>\n      <td>Primary</td>\n      <td>142.590393</td>\n      <td>-38.386281</td>\n      <td>(-38.386281, 142.590393)</td>\n    </tr>\n    <tr>\n      <th>2</th>\n      <td>Government</td>\n      <td>Avoca Primary School</td>\n      <td>Primary</td>\n      <td>143.475649</td>\n      <td>-37.084502</td>\n      <td>(-37.084502, 143.475649)</td>\n    </tr>\n    <tr>\n      <th>3</th>\n      <td>Government</td>\n      <td>Avenel Primary School</td>\n      <td>Primary</td>\n      <td>145.234722</td>\n      <td>-36.901368</td>\n      <td>(-36.901368, 145.234722)</td>\n    </tr>\n    <tr>\n      <th>4</th>\n      <td>Government</td>\n      <td>Warrandyte Primary School</td>\n      <td>Primary</td>\n      <td>145.213980</td>\n      <td>-37.742675</td>\n      <td>(-37.742675, 145.21398)</td>\n    </tr>\n  </tbody>\n</table>\n</div>"
     },
     "execution_count": 29,
     "metadata": {},
     "output_type": "execute_result"
    }
   ],
   "source": [
    "school_df = pd.read_csv('../data/raw/schools.csv')\n",
    "school_df = school_df.drop(['Entity_Type', 'School_No', 'School_Status', 'Address_Line_1', 'Address_Line_2',\n",
    "         'Address_Town', 'Address_State', 'Address_Postcode',\n",
    "         'Postal_Address_Line_1', 'Postal_Address_Line_2', 'Postal_Town',\n",
    "         'Postal_State', 'Postal_Postcode', 'Full_Phone_No', 'LGA_ID',\n",
    "         'LGA_Name'], axis=1)\n",
    "school_type = ['Primary', 'Secondary', 'Pri/Sec']\n",
    "school_df = school_df.loc[school_df['School_Type'].isin(school_type)]\n",
    "school_df['geo_coordinate'] = [(x, y) for x,y in zip(school_df['Y'], school_df['X'])]\n",
    "school_df.head()"
   ],
   "metadata": {
    "collapsed": false,
    "pycharm": {
     "name": "#%%\n"
    }
   }
  },
  {
   "cell_type": "code",
   "execution_count": 30,
   "outputs": [
    {
     "data": {
      "text/plain": "   bed  bath  car   type                              address         suburb  \\\n0  3.0   1.0  1.0    NaN  3/85 RIDGEWAY PARADE, SUNSHINE WEST  Sunshine West   \n1  4.0   1.0  1.0  House    1 AINSWORTH STREET, SUNSHINE WEST  Sunshine West   \n2  4.0   1.0  1.0  House    1 AINSWORTH STREET, SUNSHINE WEST  Sunshine West   \n3  4.0   2.0  3.0  House   1 BOTTLEBRUSH COURT, SUNSHINE WEST  Sunshine West   \n4  4.0   2.0  3.0  House   1 BOTTLEBRUSH COURT, SUNSHINE WEST  Sunshine West   \n\n   postcode                                                url  \\\n0    3020.0  https://www.oldlistings.com.au/real-estate/VIC...   \n1    3020.0  https://www.oldlistings.com.au/real-estate/VIC...   \n2    3020.0  https://www.oldlistings.com.au/real-estate/VIC...   \n3    3020.0  https://www.oldlistings.com.au/real-estate/VIC...   \n4    3020.0  https://www.oldlistings.com.au/real-estate/VIC...   \n\n                                         loc_address        lat  ...  \\\n0  Ridgeway Parade, Sunshine West, Melbourne, Cit... -37.783822  ...   \n1  Ainsworth Street, Sunshine West, Melbourne, Ci... -37.788013  ...   \n2  Ainsworth Street, Sunshine West, Melbourne, Ci... -37.788013  ...   \n3  Bottlebrush Court, Sunshine West, Melbourne, C... -37.797516  ...   \n4  Bottlebrush Court, Sunshine West, Melbourne, C... -37.797516  ...   \n\n   income_median  income_mean income_top_10_pct population_total  \\\n0        44582.0      49129.0              25.9            18779   \n1        44582.0      49129.0              25.9            18779   \n2        44582.0      49129.0              25.9            18779   \n3        44582.0      49129.0              25.9            18779   \n4        44582.0      49129.0              25.9            18779   \n\n   population_children population_prime_working  population_elderly  \\\n0                 3161                     8047                3343   \n1                 3161                     8047                3343   \n2                 3161                     8047                3343   \n3                 3161                     8047                3343   \n4                 3161                     8047                3343   \n\n   population_early_working  population_mature_working  \\\n0                      2254                       1974   \n1                      2254                       1974   \n2                      2254                       1974   \n3                      2254                       1974   \n4                      2254                       1974   \n\n               geo_coordinate  \n0  (-37.7838225, 144.8075373)  \n1  (-37.7880126, 144.8152311)  \n2  (-37.7880126, 144.8152311)  \n3  (-37.7975155, 144.7906544)  \n4  (-37.7975155, 144.7906544)  \n\n[5 rows x 29 columns]",
      "text/html": "<div>\n<style scoped>\n    .dataframe tbody tr th:only-of-type {\n        vertical-align: middle;\n    }\n\n    .dataframe tbody tr th {\n        vertical-align: top;\n    }\n\n    .dataframe thead th {\n        text-align: right;\n    }\n</style>\n<table border=\"1\" class=\"dataframe\">\n  <thead>\n    <tr style=\"text-align: right;\">\n      <th></th>\n      <th>bed</th>\n      <th>bath</th>\n      <th>car</th>\n      <th>type</th>\n      <th>address</th>\n      <th>suburb</th>\n      <th>postcode</th>\n      <th>url</th>\n      <th>loc_address</th>\n      <th>lat</th>\n      <th>...</th>\n      <th>income_median</th>\n      <th>income_mean</th>\n      <th>income_top_10_pct</th>\n      <th>population_total</th>\n      <th>population_children</th>\n      <th>population_prime_working</th>\n      <th>population_elderly</th>\n      <th>population_early_working</th>\n      <th>population_mature_working</th>\n      <th>geo_coordinate</th>\n    </tr>\n  </thead>\n  <tbody>\n    <tr>\n      <th>0</th>\n      <td>3.0</td>\n      <td>1.0</td>\n      <td>1.0</td>\n      <td>NaN</td>\n      <td>3/85 RIDGEWAY PARADE, SUNSHINE WEST</td>\n      <td>Sunshine West</td>\n      <td>3020.0</td>\n      <td>https://www.oldlistings.com.au/real-estate/VIC...</td>\n      <td>Ridgeway Parade, Sunshine West, Melbourne, Cit...</td>\n      <td>-37.783822</td>\n      <td>...</td>\n      <td>44582.0</td>\n      <td>49129.0</td>\n      <td>25.9</td>\n      <td>18779</td>\n      <td>3161</td>\n      <td>8047</td>\n      <td>3343</td>\n      <td>2254</td>\n      <td>1974</td>\n      <td>(-37.7838225, 144.8075373)</td>\n    </tr>\n    <tr>\n      <th>1</th>\n      <td>4.0</td>\n      <td>1.0</td>\n      <td>1.0</td>\n      <td>House</td>\n      <td>1 AINSWORTH STREET, SUNSHINE WEST</td>\n      <td>Sunshine West</td>\n      <td>3020.0</td>\n      <td>https://www.oldlistings.com.au/real-estate/VIC...</td>\n      <td>Ainsworth Street, Sunshine West, Melbourne, Ci...</td>\n      <td>-37.788013</td>\n      <td>...</td>\n      <td>44582.0</td>\n      <td>49129.0</td>\n      <td>25.9</td>\n      <td>18779</td>\n      <td>3161</td>\n      <td>8047</td>\n      <td>3343</td>\n      <td>2254</td>\n      <td>1974</td>\n      <td>(-37.7880126, 144.8152311)</td>\n    </tr>\n    <tr>\n      <th>2</th>\n      <td>4.0</td>\n      <td>1.0</td>\n      <td>1.0</td>\n      <td>House</td>\n      <td>1 AINSWORTH STREET, SUNSHINE WEST</td>\n      <td>Sunshine West</td>\n      <td>3020.0</td>\n      <td>https://www.oldlistings.com.au/real-estate/VIC...</td>\n      <td>Ainsworth Street, Sunshine West, Melbourne, Ci...</td>\n      <td>-37.788013</td>\n      <td>...</td>\n      <td>44582.0</td>\n      <td>49129.0</td>\n      <td>25.9</td>\n      <td>18779</td>\n      <td>3161</td>\n      <td>8047</td>\n      <td>3343</td>\n      <td>2254</td>\n      <td>1974</td>\n      <td>(-37.7880126, 144.8152311)</td>\n    </tr>\n    <tr>\n      <th>3</th>\n      <td>4.0</td>\n      <td>2.0</td>\n      <td>3.0</td>\n      <td>House</td>\n      <td>1 BOTTLEBRUSH COURT, SUNSHINE WEST</td>\n      <td>Sunshine West</td>\n      <td>3020.0</td>\n      <td>https://www.oldlistings.com.au/real-estate/VIC...</td>\n      <td>Bottlebrush Court, Sunshine West, Melbourne, C...</td>\n      <td>-37.797516</td>\n      <td>...</td>\n      <td>44582.0</td>\n      <td>49129.0</td>\n      <td>25.9</td>\n      <td>18779</td>\n      <td>3161</td>\n      <td>8047</td>\n      <td>3343</td>\n      <td>2254</td>\n      <td>1974</td>\n      <td>(-37.7975155, 144.7906544)</td>\n    </tr>\n    <tr>\n      <th>4</th>\n      <td>4.0</td>\n      <td>2.0</td>\n      <td>3.0</td>\n      <td>House</td>\n      <td>1 BOTTLEBRUSH COURT, SUNSHINE WEST</td>\n      <td>Sunshine West</td>\n      <td>3020.0</td>\n      <td>https://www.oldlistings.com.au/real-estate/VIC...</td>\n      <td>Bottlebrush Court, Sunshine West, Melbourne, C...</td>\n      <td>-37.797516</td>\n      <td>...</td>\n      <td>44582.0</td>\n      <td>49129.0</td>\n      <td>25.9</td>\n      <td>18779</td>\n      <td>3161</td>\n      <td>8047</td>\n      <td>3343</td>\n      <td>2254</td>\n      <td>1974</td>\n      <td>(-37.7975155, 144.7906544)</td>\n    </tr>\n  </tbody>\n</table>\n<p>5 rows × 29 columns</p>\n</div>"
     },
     "execution_count": 30,
     "metadata": {},
     "output_type": "execute_result"
    }
   ],
   "source": [
    "df3['geo_coordinate'] = [(x, y) for x,y in zip(df3['lat'], df3['lon'])]\n",
    "df3.head()"
   ],
   "metadata": {
    "collapsed": false,
    "pycharm": {
     "name": "#%%\n"
    }
   }
  },
  {
   "cell_type": "code",
   "execution_count": 31,
   "outputs": [],
   "source": [
    "# this is adapted from stackoverflow\n",
    "# https://codereview.stackexchange.com/questions/28207/finding-the-closest-point-to-a-list-of-points\n",
    "def closest_point(point, points):\n",
    "    # Find closest point from a list of points.\n",
    "    return points[cdist([point], points).argmin()]\n",
    "def match_value(df, col1, x, col2):\n",
    "    # Match value x from col1 row to value in col2.\n",
    "    return df[df[col1] == x][col2].values[0]"
   ],
   "metadata": {
    "collapsed": false,
    "pycharm": {
     "name": "#%%\n"
    }
   }
  },
  {
   "cell_type": "code",
   "execution_count": 32,
   "outputs": [
    {
     "name": "stderr",
     "output_type": "stream",
     "text": [
      "100%|██████████| 98185/98185 [00:00<00:00, 5392401.97it/s]\n",
      "100%|██████████| 98185/98185 [00:00<00:00, 5436394.26it/s]\n"
     ]
    }
   ],
   "source": [
    "df3['closest_school_loc'] = tqdm([closest_point(x, list(school_df['geo_coordinate'])) for x in df3['geo_coordinate']])\n",
    "df3['school_name'] = tqdm([match_value(school_df, 'geo_coordinate', x, 'School_Name') for x in df3['closest_school_loc']])"
   ],
   "metadata": {
    "collapsed": false,
    "pycharm": {
     "name": "#%%\n"
    }
   }
  },
  {
   "cell_type": "code",
   "execution_count": 33,
   "outputs": [
    {
     "data": {
      "text/plain": "       bed  bath  car   type                                   address  \\\n0      3.0   1.0  1.0    NaN       3/85 RIDGEWAY PARADE, SUNSHINE WEST   \n1      4.0   1.0  1.0  House         1 AINSWORTH STREET, SUNSHINE WEST   \n2      4.0   1.0  1.0  House         1 AINSWORTH STREET, SUNSHINE WEST   \n3      4.0   2.0  3.0  House        1 BOTTLEBRUSH COURT, SUNSHINE WEST   \n4      4.0   2.0  3.0  House        1 BOTTLEBRUSH COURT, SUNSHINE WEST   \n...    ...   ...  ...    ...                                       ...   \n98180  4.0   2.0  2.0  House                6 RUSSELL STREET, TEESDALE   \n98181  4.0   2.0  2.0  House     70 TEESDALE-LETHBRIDGE ROAD, TEESDALE   \n98182  3.0   1.0  4.0  House  919 BANNOCKBURN -SHELFORD ROAD, TEESDALE   \n98183  4.0   1.0  4.0  House                 715 TAYLOR ROAD, MEREDITH   \n98184  4.0   2.0  2.0  House                  8 FLOOD LANE, REEDY LAKE   \n\n              suburb  postcode  \\\n0      Sunshine West    3020.0   \n1      Sunshine West    3020.0   \n2      Sunshine West    3020.0   \n3      Sunshine West    3020.0   \n4      Sunshine West    3020.0   \n...              ...       ...   \n98180       Teesdale    3328.0   \n98181       Teesdale    3328.0   \n98182       Teesdale    3328.0   \n98183       Meredith    3333.0   \n98184     Reedy Lake    3579.0   \n\n                                                     url  \\\n0      https://www.oldlistings.com.au/real-estate/VIC...   \n1      https://www.oldlistings.com.au/real-estate/VIC...   \n2      https://www.oldlistings.com.au/real-estate/VIC...   \n3      https://www.oldlistings.com.au/real-estate/VIC...   \n4      https://www.oldlistings.com.au/real-estate/VIC...   \n...                                                  ...   \n98180  https://www.oldlistings.com.au/real-estate/VIC...   \n98181  https://www.oldlistings.com.au/real-estate/VIC...   \n98182  https://www.oldlistings.com.au/real-estate/VIC...   \n98183  https://www.oldlistings.com.au/real-estate/VIC...   \n98184  https://www.oldlistings.com.au/real-estate/VIC...   \n\n                                             loc_address        lat  ...  \\\n0      Ridgeway Parade, Sunshine West, Melbourne, Cit... -37.783822  ...   \n1      Ainsworth Street, Sunshine West, Melbourne, Ci... -37.788013  ...   \n2      Ainsworth Street, Sunshine West, Melbourne, Ci... -37.788013  ...   \n3      Bottlebrush Court, Sunshine West, Melbourne, C... -37.797516  ...   \n4      Bottlebrush Court, Sunshine West, Melbourne, C... -37.797516  ...   \n...                                                  ...        ...  ...   \n98180  Russell Street, Teesdale, Golden Plains Shire,... -38.025992  ...   \n98181  Teesdale-Lethbridge Road, Teesdale, Golden Pla... -38.005393  ...   \n98182  Bannockburn-Shelford Road, Teesdale, Golden Pl... -38.021889  ...   \n98183  Taylor Road, Meredith, Golden Plains Shire, Vi... -37.870210  ...   \n98184  Flood Lane, Reedy Lake, Shire of Gannawarra, V... -35.645650  ...   \n\n       income_top_10_pct  population_total population_children  \\\n0                   25.9             18779                3161   \n1                   25.9             18779                3161   \n2                   25.9             18779                3161   \n3                   25.9             18779                3161   \n4                   25.9             18779                3161   \n...                  ...               ...                 ...   \n98180               29.4              8065                1784   \n98181               29.4              8065                1784   \n98182               29.4              8065                1784   \n98183               29.4              8065                1784   \n98184               32.6              6664                1034   \n\n      population_prime_working  population_elderly population_early_working  \\\n0                         8047                3343                     2254   \n1                         8047                3343                     2254   \n2                         8047                3343                     2254   \n3                         8047                3343                     2254   \n4                         8047                3343                     2254   \n...                        ...                 ...                      ...   \n98180                     3116                1144                      859   \n98181                     3116                1144                      859   \n98182                     3116                1144                      859   \n98183                     3116                1144                      859   \n98184                     2025                1938                      586   \n\n       population_mature_working              geo_coordinate  \\\n0                           1974  (-37.7838225, 144.8075373)   \n1                           1974  (-37.7880126, 144.8152311)   \n2                           1974  (-37.7880126, 144.8152311)   \n3                           1974  (-37.7975155, 144.7906544)   \n4                           1974  (-37.7975155, 144.7906544)   \n...                          ...                         ...   \n98180                       1162  (-38.0259922, 144.0595107)   \n98181                       1162   (-38.0053932, 144.072826)   \n98182                       1162   (-38.0218894, 144.027219)   \n98183                       1162  (-37.8702095, 144.0960054)   \n98184                       1081  (-35.6456504, 143.8607497)   \n\n                closest_school_loc                      school_name  \n0         (-37.787534, 144.807516)                 St Paul's School  \n1          (-37.79222, 144.818159)  Sunshine Heights Primary School  \n2          (-37.79222, 144.818159)  Sunshine Heights Primary School  \n3         (-37.788396, 144.798996)      Ardeer South Primary School  \n4         (-37.788396, 144.798996)      Ardeer South Primary School  \n...                            ...                              ...  \n98180  (-38.02923075, 144.0545907)          Teesdale Primary School  \n98181  (-38.02923075, 144.0545907)          Teesdale Primary School  \n98182  (-38.02923075, 144.0545907)          Teesdale Primary School  \n98183  (-37.84271017, 144.0778091)          Meredith Primary School  \n98184     (-35.606642, 143.800225)        Lake Charm Primary School  \n\n[98185 rows x 31 columns]",
      "text/html": "<div>\n<style scoped>\n    .dataframe tbody tr th:only-of-type {\n        vertical-align: middle;\n    }\n\n    .dataframe tbody tr th {\n        vertical-align: top;\n    }\n\n    .dataframe thead th {\n        text-align: right;\n    }\n</style>\n<table border=\"1\" class=\"dataframe\">\n  <thead>\n    <tr style=\"text-align: right;\">\n      <th></th>\n      <th>bed</th>\n      <th>bath</th>\n      <th>car</th>\n      <th>type</th>\n      <th>address</th>\n      <th>suburb</th>\n      <th>postcode</th>\n      <th>url</th>\n      <th>loc_address</th>\n      <th>lat</th>\n      <th>...</th>\n      <th>income_top_10_pct</th>\n      <th>population_total</th>\n      <th>population_children</th>\n      <th>population_prime_working</th>\n      <th>population_elderly</th>\n      <th>population_early_working</th>\n      <th>population_mature_working</th>\n      <th>geo_coordinate</th>\n      <th>closest_school_loc</th>\n      <th>school_name</th>\n    </tr>\n  </thead>\n  <tbody>\n    <tr>\n      <th>0</th>\n      <td>3.0</td>\n      <td>1.0</td>\n      <td>1.0</td>\n      <td>NaN</td>\n      <td>3/85 RIDGEWAY PARADE, SUNSHINE WEST</td>\n      <td>Sunshine West</td>\n      <td>3020.0</td>\n      <td>https://www.oldlistings.com.au/real-estate/VIC...</td>\n      <td>Ridgeway Parade, Sunshine West, Melbourne, Cit...</td>\n      <td>-37.783822</td>\n      <td>...</td>\n      <td>25.9</td>\n      <td>18779</td>\n      <td>3161</td>\n      <td>8047</td>\n      <td>3343</td>\n      <td>2254</td>\n      <td>1974</td>\n      <td>(-37.7838225, 144.8075373)</td>\n      <td>(-37.787534, 144.807516)</td>\n      <td>St Paul's School</td>\n    </tr>\n    <tr>\n      <th>1</th>\n      <td>4.0</td>\n      <td>1.0</td>\n      <td>1.0</td>\n      <td>House</td>\n      <td>1 AINSWORTH STREET, SUNSHINE WEST</td>\n      <td>Sunshine West</td>\n      <td>3020.0</td>\n      <td>https://www.oldlistings.com.au/real-estate/VIC...</td>\n      <td>Ainsworth Street, Sunshine West, Melbourne, Ci...</td>\n      <td>-37.788013</td>\n      <td>...</td>\n      <td>25.9</td>\n      <td>18779</td>\n      <td>3161</td>\n      <td>8047</td>\n      <td>3343</td>\n      <td>2254</td>\n      <td>1974</td>\n      <td>(-37.7880126, 144.8152311)</td>\n      <td>(-37.79222, 144.818159)</td>\n      <td>Sunshine Heights Primary School</td>\n    </tr>\n    <tr>\n      <th>2</th>\n      <td>4.0</td>\n      <td>1.0</td>\n      <td>1.0</td>\n      <td>House</td>\n      <td>1 AINSWORTH STREET, SUNSHINE WEST</td>\n      <td>Sunshine West</td>\n      <td>3020.0</td>\n      <td>https://www.oldlistings.com.au/real-estate/VIC...</td>\n      <td>Ainsworth Street, Sunshine West, Melbourne, Ci...</td>\n      <td>-37.788013</td>\n      <td>...</td>\n      <td>25.9</td>\n      <td>18779</td>\n      <td>3161</td>\n      <td>8047</td>\n      <td>3343</td>\n      <td>2254</td>\n      <td>1974</td>\n      <td>(-37.7880126, 144.8152311)</td>\n      <td>(-37.79222, 144.818159)</td>\n      <td>Sunshine Heights Primary School</td>\n    </tr>\n    <tr>\n      <th>3</th>\n      <td>4.0</td>\n      <td>2.0</td>\n      <td>3.0</td>\n      <td>House</td>\n      <td>1 BOTTLEBRUSH COURT, SUNSHINE WEST</td>\n      <td>Sunshine West</td>\n      <td>3020.0</td>\n      <td>https://www.oldlistings.com.au/real-estate/VIC...</td>\n      <td>Bottlebrush Court, Sunshine West, Melbourne, C...</td>\n      <td>-37.797516</td>\n      <td>...</td>\n      <td>25.9</td>\n      <td>18779</td>\n      <td>3161</td>\n      <td>8047</td>\n      <td>3343</td>\n      <td>2254</td>\n      <td>1974</td>\n      <td>(-37.7975155, 144.7906544)</td>\n      <td>(-37.788396, 144.798996)</td>\n      <td>Ardeer South Primary School</td>\n    </tr>\n    <tr>\n      <th>4</th>\n      <td>4.0</td>\n      <td>2.0</td>\n      <td>3.0</td>\n      <td>House</td>\n      <td>1 BOTTLEBRUSH COURT, SUNSHINE WEST</td>\n      <td>Sunshine West</td>\n      <td>3020.0</td>\n      <td>https://www.oldlistings.com.au/real-estate/VIC...</td>\n      <td>Bottlebrush Court, Sunshine West, Melbourne, C...</td>\n      <td>-37.797516</td>\n      <td>...</td>\n      <td>25.9</td>\n      <td>18779</td>\n      <td>3161</td>\n      <td>8047</td>\n      <td>3343</td>\n      <td>2254</td>\n      <td>1974</td>\n      <td>(-37.7975155, 144.7906544)</td>\n      <td>(-37.788396, 144.798996)</td>\n      <td>Ardeer South Primary School</td>\n    </tr>\n    <tr>\n      <th>...</th>\n      <td>...</td>\n      <td>...</td>\n      <td>...</td>\n      <td>...</td>\n      <td>...</td>\n      <td>...</td>\n      <td>...</td>\n      <td>...</td>\n      <td>...</td>\n      <td>...</td>\n      <td>...</td>\n      <td>...</td>\n      <td>...</td>\n      <td>...</td>\n      <td>...</td>\n      <td>...</td>\n      <td>...</td>\n      <td>...</td>\n      <td>...</td>\n      <td>...</td>\n      <td>...</td>\n    </tr>\n    <tr>\n      <th>98180</th>\n      <td>4.0</td>\n      <td>2.0</td>\n      <td>2.0</td>\n      <td>House</td>\n      <td>6 RUSSELL STREET, TEESDALE</td>\n      <td>Teesdale</td>\n      <td>3328.0</td>\n      <td>https://www.oldlistings.com.au/real-estate/VIC...</td>\n      <td>Russell Street, Teesdale, Golden Plains Shire,...</td>\n      <td>-38.025992</td>\n      <td>...</td>\n      <td>29.4</td>\n      <td>8065</td>\n      <td>1784</td>\n      <td>3116</td>\n      <td>1144</td>\n      <td>859</td>\n      <td>1162</td>\n      <td>(-38.0259922, 144.0595107)</td>\n      <td>(-38.02923075, 144.0545907)</td>\n      <td>Teesdale Primary School</td>\n    </tr>\n    <tr>\n      <th>98181</th>\n      <td>4.0</td>\n      <td>2.0</td>\n      <td>2.0</td>\n      <td>House</td>\n      <td>70 TEESDALE-LETHBRIDGE ROAD, TEESDALE</td>\n      <td>Teesdale</td>\n      <td>3328.0</td>\n      <td>https://www.oldlistings.com.au/real-estate/VIC...</td>\n      <td>Teesdale-Lethbridge Road, Teesdale, Golden Pla...</td>\n      <td>-38.005393</td>\n      <td>...</td>\n      <td>29.4</td>\n      <td>8065</td>\n      <td>1784</td>\n      <td>3116</td>\n      <td>1144</td>\n      <td>859</td>\n      <td>1162</td>\n      <td>(-38.0053932, 144.072826)</td>\n      <td>(-38.02923075, 144.0545907)</td>\n      <td>Teesdale Primary School</td>\n    </tr>\n    <tr>\n      <th>98182</th>\n      <td>3.0</td>\n      <td>1.0</td>\n      <td>4.0</td>\n      <td>House</td>\n      <td>919 BANNOCKBURN -SHELFORD ROAD, TEESDALE</td>\n      <td>Teesdale</td>\n      <td>3328.0</td>\n      <td>https://www.oldlistings.com.au/real-estate/VIC...</td>\n      <td>Bannockburn-Shelford Road, Teesdale, Golden Pl...</td>\n      <td>-38.021889</td>\n      <td>...</td>\n      <td>29.4</td>\n      <td>8065</td>\n      <td>1784</td>\n      <td>3116</td>\n      <td>1144</td>\n      <td>859</td>\n      <td>1162</td>\n      <td>(-38.0218894, 144.027219)</td>\n      <td>(-38.02923075, 144.0545907)</td>\n      <td>Teesdale Primary School</td>\n    </tr>\n    <tr>\n      <th>98183</th>\n      <td>4.0</td>\n      <td>1.0</td>\n      <td>4.0</td>\n      <td>House</td>\n      <td>715 TAYLOR ROAD, MEREDITH</td>\n      <td>Meredith</td>\n      <td>3333.0</td>\n      <td>https://www.oldlistings.com.au/real-estate/VIC...</td>\n      <td>Taylor Road, Meredith, Golden Plains Shire, Vi...</td>\n      <td>-37.870210</td>\n      <td>...</td>\n      <td>29.4</td>\n      <td>8065</td>\n      <td>1784</td>\n      <td>3116</td>\n      <td>1144</td>\n      <td>859</td>\n      <td>1162</td>\n      <td>(-37.8702095, 144.0960054)</td>\n      <td>(-37.84271017, 144.0778091)</td>\n      <td>Meredith Primary School</td>\n    </tr>\n    <tr>\n      <th>98184</th>\n      <td>4.0</td>\n      <td>2.0</td>\n      <td>2.0</td>\n      <td>House</td>\n      <td>8 FLOOD LANE, REEDY LAKE</td>\n      <td>Reedy Lake</td>\n      <td>3579.0</td>\n      <td>https://www.oldlistings.com.au/real-estate/VIC...</td>\n      <td>Flood Lane, Reedy Lake, Shire of Gannawarra, V...</td>\n      <td>-35.645650</td>\n      <td>...</td>\n      <td>32.6</td>\n      <td>6664</td>\n      <td>1034</td>\n      <td>2025</td>\n      <td>1938</td>\n      <td>586</td>\n      <td>1081</td>\n      <td>(-35.6456504, 143.8607497)</td>\n      <td>(-35.606642, 143.800225)</td>\n      <td>Lake Charm Primary School</td>\n    </tr>\n  </tbody>\n</table>\n<p>98185 rows × 31 columns</p>\n</div>"
     },
     "execution_count": 33,
     "metadata": {},
     "output_type": "execute_result"
    }
   ],
   "source": [
    "df3"
   ],
   "metadata": {
    "collapsed": false,
    "pycharm": {
     "name": "#%%\n"
    }
   }
  },
  {
   "cell_type": "markdown",
   "source": [
    "### embed population projection"
   ],
   "metadata": {
    "collapsed": false
   }
  },
  {
   "cell_type": "code",
   "execution_count": 34,
   "outputs": [
    {
     "data": {
      "text/plain": "             SA2  proj_population_total  proj_population_children  \\\n13862  201011001                  18611                      4389   \n13865  201011002                  12252                      1788   \n13868  201011003                  26630                      5094   \n13871  201011004                  28423                      4849   \n13874  201011005                   8900                      1919   \n\n       proj_population_early_working  proj_population_prime_working  \\\n13862                           2496                           7275   \n13865                           1796                           3940   \n13868                           2777                           9809   \n13871                           3734                          11347   \n13874                           1368                           2966   \n\n       proj_population_mature_working  proj_population_elderly  \n13862                            1807                     2644  \n13865                            1674                     3054  \n13868                            3270                     5680  \n13871                            3056                     5437  \n13874                            1067                     1580  ",
      "text/html": "<div>\n<style scoped>\n    .dataframe tbody tr th:only-of-type {\n        vertical-align: middle;\n    }\n\n    .dataframe tbody tr th {\n        vertical-align: top;\n    }\n\n    .dataframe thead th {\n        text-align: right;\n    }\n</style>\n<table border=\"1\" class=\"dataframe\">\n  <thead>\n    <tr style=\"text-align: right;\">\n      <th></th>\n      <th>SA2</th>\n      <th>proj_population_total</th>\n      <th>proj_population_children</th>\n      <th>proj_population_early_working</th>\n      <th>proj_population_prime_working</th>\n      <th>proj_population_mature_working</th>\n      <th>proj_population_elderly</th>\n    </tr>\n  </thead>\n  <tbody>\n    <tr>\n      <th>13862</th>\n      <td>201011001</td>\n      <td>18611</td>\n      <td>4389</td>\n      <td>2496</td>\n      <td>7275</td>\n      <td>1807</td>\n      <td>2644</td>\n    </tr>\n    <tr>\n      <th>13865</th>\n      <td>201011002</td>\n      <td>12252</td>\n      <td>1788</td>\n      <td>1796</td>\n      <td>3940</td>\n      <td>1674</td>\n      <td>3054</td>\n    </tr>\n    <tr>\n      <th>13868</th>\n      <td>201011003</td>\n      <td>26630</td>\n      <td>5094</td>\n      <td>2777</td>\n      <td>9809</td>\n      <td>3270</td>\n      <td>5680</td>\n    </tr>\n    <tr>\n      <th>13871</th>\n      <td>201011004</td>\n      <td>28423</td>\n      <td>4849</td>\n      <td>3734</td>\n      <td>11347</td>\n      <td>3056</td>\n      <td>5437</td>\n    </tr>\n    <tr>\n      <th>13874</th>\n      <td>201011005</td>\n      <td>8900</td>\n      <td>1919</td>\n      <td>1368</td>\n      <td>2966</td>\n      <td>1067</td>\n      <td>1580</td>\n    </tr>\n  </tbody>\n</table>\n</div>"
     },
     "execution_count": 34,
     "metadata": {},
     "output_type": "execute_result"
    }
   ],
   "source": [
    "population_projection_df = pd.read_csv('../data/raw/population_projection.csv')\n",
    "population_projection_df = population_projection_df.loc[population_projection_df['SEX'] == 'Persons']\n",
    "population_projection_df = population_projection_df.loc[population_projection_df['YEAR'] == 2027]\n",
    "population_projection_df = population_projection_df.drop(['YEAR', 'SA2_NAME', 'SEX'], axis=1)\n",
    "# they are categories as well with the previous population statistics\n",
    "# 0-14 years (children), 15-24 years (early working age), 25-54 years (prime working age), 55-64 years (mature working age), 65 years and over (elderly)\n",
    "population_projection_df['proj_population_children'] = population_projection_df[['Age0-4', 'Age5-9', 'Age10-14']].sum(axis = 1)\n",
    "population_projection_df = population_projection_df.drop(['Age0-4', 'Age5-9', 'Age10-14'], axis=1)\n",
    "population_projection_df['proj_population_early_working'] = population_projection_df[['Age15-19', 'Age20-24']].sum(axis = 1)\n",
    "population_projection_df = population_projection_df.drop(['Age15-19', 'Age20-24'], axis=1)\n",
    "population_projection_df['proj_population_prime_working'] = population_projection_df[['Age25-29', 'Age30-34', 'Age35-39', 'Age40-44', 'Age45-49', 'Age50-54']].sum(axis = 1)\n",
    "population_projection_df = population_projection_df.drop(['Age25-29', 'Age30-34', 'Age35-39', 'Age40-44', 'Age45-49', 'Age50-54'], axis=1)\n",
    "population_projection_df['proj_population_mature_working'] = population_projection_df[['Age55-59', 'Age60-64']].sum(axis = 1)\n",
    "population_projection_df = population_projection_df.drop(['Age55-59', 'Age60-64'], axis=1)\n",
    "population_projection_df['proj_population_elderly'] = population_projection_df[['Age65-69', 'Age70-74', 'Age75-79', 'Age80-84', 'Age85+']].sum(axis = 1)\n",
    "population_projection_df = population_projection_df.drop(['Age65-69', 'Age70-74', 'Age75-79', 'Age80-84', 'Age85+'], axis=1)\n",
    "population_projection_df = population_projection_df.rename(columns={'Total': 'proj_population_total', 'SA2_CODE': 'SA2'}, errors=\"raise\")\n",
    "population_projection_df.head()"
   ],
   "metadata": {
    "collapsed": false,
    "pycharm": {
     "name": "#%%\n"
    }
   }
  },
  {
   "cell_type": "code",
   "execution_count": 35,
   "outputs": [
    {
     "data": {
      "text/plain": "   bed  bath  car   type                              address         suburb  \\\n0  3.0   1.0  1.0    NaN  3/85 RIDGEWAY PARADE, SUNSHINE WEST  Sunshine West   \n1  4.0   1.0  1.0  House    1 AINSWORTH STREET, SUNSHINE WEST  Sunshine West   \n2  4.0   1.0  1.0  House    1 AINSWORTH STREET, SUNSHINE WEST  Sunshine West   \n3  4.0   2.0  3.0  House   1 BOTTLEBRUSH COURT, SUNSHINE WEST  Sunshine West   \n4  4.0   2.0  3.0  House   1 BOTTLEBRUSH COURT, SUNSHINE WEST  Sunshine West   \n\n   postcode                                                url  \\\n0    3020.0  https://www.oldlistings.com.au/real-estate/VIC...   \n1    3020.0  https://www.oldlistings.com.au/real-estate/VIC...   \n2    3020.0  https://www.oldlistings.com.au/real-estate/VIC...   \n3    3020.0  https://www.oldlistings.com.au/real-estate/VIC...   \n4    3020.0  https://www.oldlistings.com.au/real-estate/VIC...   \n\n                                         loc_address        lat  ...  \\\n0  Ridgeway Parade, Sunshine West, Melbourne, Cit... -37.783822  ...   \n1  Ainsworth Street, Sunshine West, Melbourne, Ci... -37.788013  ...   \n2  Ainsworth Street, Sunshine West, Melbourne, Ci... -37.788013  ...   \n3  Bottlebrush Court, Sunshine West, Melbourne, C... -37.797516  ...   \n4  Bottlebrush Court, Sunshine West, Melbourne, C... -37.797516  ...   \n\n   population_mature_working              geo_coordinate  \\\n0                       1974  (-37.7838225, 144.8075373)   \n1                       1974  (-37.7880126, 144.8152311)   \n2                       1974  (-37.7880126, 144.8152311)   \n3                       1974  (-37.7975155, 144.7906544)   \n4                       1974  (-37.7975155, 144.7906544)   \n\n         closest_school_loc                      school_name  \\\n0  (-37.787534, 144.807516)                 St Paul's School   \n1   (-37.79222, 144.818159)  Sunshine Heights Primary School   \n2   (-37.79222, 144.818159)  Sunshine Heights Primary School   \n3  (-37.788396, 144.798996)      Ardeer South Primary School   \n4  (-37.788396, 144.798996)      Ardeer South Primary School   \n\n   proj_population_total proj_population_children  \\\n0                  23815                     4585   \n1                  23815                     4585   \n2                  23815                     4585   \n3                  23815                     4585   \n4                  23815                     4585   \n\n   proj_population_early_working  proj_population_prime_working  \\\n0                           2889                          10209   \n1                           2889                          10209   \n2                           2889                          10209   \n3                           2889                          10209   \n4                           2889                          10209   \n\n   proj_population_mature_working  proj_population_elderly  \n0                            2205                     3927  \n1                            2205                     3927  \n2                            2205                     3927  \n3                            2205                     3927  \n4                            2205                     3927  \n\n[5 rows x 37 columns]",
      "text/html": "<div>\n<style scoped>\n    .dataframe tbody tr th:only-of-type {\n        vertical-align: middle;\n    }\n\n    .dataframe tbody tr th {\n        vertical-align: top;\n    }\n\n    .dataframe thead th {\n        text-align: right;\n    }\n</style>\n<table border=\"1\" class=\"dataframe\">\n  <thead>\n    <tr style=\"text-align: right;\">\n      <th></th>\n      <th>bed</th>\n      <th>bath</th>\n      <th>car</th>\n      <th>type</th>\n      <th>address</th>\n      <th>suburb</th>\n      <th>postcode</th>\n      <th>url</th>\n      <th>loc_address</th>\n      <th>lat</th>\n      <th>...</th>\n      <th>population_mature_working</th>\n      <th>geo_coordinate</th>\n      <th>closest_school_loc</th>\n      <th>school_name</th>\n      <th>proj_population_total</th>\n      <th>proj_population_children</th>\n      <th>proj_population_early_working</th>\n      <th>proj_population_prime_working</th>\n      <th>proj_population_mature_working</th>\n      <th>proj_population_elderly</th>\n    </tr>\n  </thead>\n  <tbody>\n    <tr>\n      <th>0</th>\n      <td>3.0</td>\n      <td>1.0</td>\n      <td>1.0</td>\n      <td>NaN</td>\n      <td>3/85 RIDGEWAY PARADE, SUNSHINE WEST</td>\n      <td>Sunshine West</td>\n      <td>3020.0</td>\n      <td>https://www.oldlistings.com.au/real-estate/VIC...</td>\n      <td>Ridgeway Parade, Sunshine West, Melbourne, Cit...</td>\n      <td>-37.783822</td>\n      <td>...</td>\n      <td>1974</td>\n      <td>(-37.7838225, 144.8075373)</td>\n      <td>(-37.787534, 144.807516)</td>\n      <td>St Paul's School</td>\n      <td>23815</td>\n      <td>4585</td>\n      <td>2889</td>\n      <td>10209</td>\n      <td>2205</td>\n      <td>3927</td>\n    </tr>\n    <tr>\n      <th>1</th>\n      <td>4.0</td>\n      <td>1.0</td>\n      <td>1.0</td>\n      <td>House</td>\n      <td>1 AINSWORTH STREET, SUNSHINE WEST</td>\n      <td>Sunshine West</td>\n      <td>3020.0</td>\n      <td>https://www.oldlistings.com.au/real-estate/VIC...</td>\n      <td>Ainsworth Street, Sunshine West, Melbourne, Ci...</td>\n      <td>-37.788013</td>\n      <td>...</td>\n      <td>1974</td>\n      <td>(-37.7880126, 144.8152311)</td>\n      <td>(-37.79222, 144.818159)</td>\n      <td>Sunshine Heights Primary School</td>\n      <td>23815</td>\n      <td>4585</td>\n      <td>2889</td>\n      <td>10209</td>\n      <td>2205</td>\n      <td>3927</td>\n    </tr>\n    <tr>\n      <th>2</th>\n      <td>4.0</td>\n      <td>1.0</td>\n      <td>1.0</td>\n      <td>House</td>\n      <td>1 AINSWORTH STREET, SUNSHINE WEST</td>\n      <td>Sunshine West</td>\n      <td>3020.0</td>\n      <td>https://www.oldlistings.com.au/real-estate/VIC...</td>\n      <td>Ainsworth Street, Sunshine West, Melbourne, Ci...</td>\n      <td>-37.788013</td>\n      <td>...</td>\n      <td>1974</td>\n      <td>(-37.7880126, 144.8152311)</td>\n      <td>(-37.79222, 144.818159)</td>\n      <td>Sunshine Heights Primary School</td>\n      <td>23815</td>\n      <td>4585</td>\n      <td>2889</td>\n      <td>10209</td>\n      <td>2205</td>\n      <td>3927</td>\n    </tr>\n    <tr>\n      <th>3</th>\n      <td>4.0</td>\n      <td>2.0</td>\n      <td>3.0</td>\n      <td>House</td>\n      <td>1 BOTTLEBRUSH COURT, SUNSHINE WEST</td>\n      <td>Sunshine West</td>\n      <td>3020.0</td>\n      <td>https://www.oldlistings.com.au/real-estate/VIC...</td>\n      <td>Bottlebrush Court, Sunshine West, Melbourne, C...</td>\n      <td>-37.797516</td>\n      <td>...</td>\n      <td>1974</td>\n      <td>(-37.7975155, 144.7906544)</td>\n      <td>(-37.788396, 144.798996)</td>\n      <td>Ardeer South Primary School</td>\n      <td>23815</td>\n      <td>4585</td>\n      <td>2889</td>\n      <td>10209</td>\n      <td>2205</td>\n      <td>3927</td>\n    </tr>\n    <tr>\n      <th>4</th>\n      <td>4.0</td>\n      <td>2.0</td>\n      <td>3.0</td>\n      <td>House</td>\n      <td>1 BOTTLEBRUSH COURT, SUNSHINE WEST</td>\n      <td>Sunshine West</td>\n      <td>3020.0</td>\n      <td>https://www.oldlistings.com.au/real-estate/VIC...</td>\n      <td>Bottlebrush Court, Sunshine West, Melbourne, C...</td>\n      <td>-37.797516</td>\n      <td>...</td>\n      <td>1974</td>\n      <td>(-37.7975155, 144.7906544)</td>\n      <td>(-37.788396, 144.798996)</td>\n      <td>Ardeer South Primary School</td>\n      <td>23815</td>\n      <td>4585</td>\n      <td>2889</td>\n      <td>10209</td>\n      <td>2205</td>\n      <td>3927</td>\n    </tr>\n  </tbody>\n</table>\n<p>5 rows × 37 columns</p>\n</div>"
     },
     "execution_count": 35,
     "metadata": {},
     "output_type": "execute_result"
    }
   ],
   "source": [
    "df3 = pd.merge(df3, population_projection_df, on='SA2')\n",
    "df3.head()"
   ],
   "metadata": {
    "collapsed": false,
    "pycharm": {
     "name": "#%%\n"
    }
   }
  },
  {
   "cell_type": "code",
   "execution_count": 36,
   "outputs": [],
   "source": [
    "df3.to_csv('../data/curated/listing_with_features.csv')"
   ],
   "metadata": {
    "collapsed": false,
    "pycharm": {
     "name": "#%%\n"
    }
   }
  }
 ],
 "metadata": {
  "kernelspec": {
   "display_name": "Python 3",
   "language": "python",
   "name": "python3"
  },
  "language_info": {
   "codemirror_mode": {
    "name": "ipython",
    "version": 2
   },
   "file_extension": ".py",
   "mimetype": "text/x-python",
   "name": "python",
   "nbconvert_exporter": "python",
   "pygments_lexer": "ipython2",
   "version": "2.7.6"
  }
 },
 "nbformat": 4,
 "nbformat_minor": 0
}