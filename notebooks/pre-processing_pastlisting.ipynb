{
 "cells": [
  {
   "cell_type": "code",
   "execution_count": 156,
   "outputs": [],
   "source": [
    "import re\n",
    "import pandas as pd\n",
    "import numpy as np"
   ],
   "metadata": {
    "collapsed": false,
    "pycharm": {
     "name": "#%%\n"
    }
   }
  },
  {
   "cell_type": "code",
   "execution_count": 157,
   "outputs": [],
   "source": [
    "files_dire = '../data/raw/'"
   ],
   "metadata": {
    "collapsed": false,
    "pycharm": {
     "name": "#%%\n"
    }
   }
  },
  {
   "cell_type": "code",
   "execution_count": 158,
   "outputs": [
    {
     "data": {
      "text/plain": "   year     month  bed  bath  car land_raw                type  \\\n0  2021   January  3.0   1.0  1.0      NaN  Rental_residential   \n1  2012  February  3.0   1.0  1.0      NaN  Rental_residential   \n2  2012   January  3.0   1.0  1.0      NaN  Rental_residential   \n3  2021   January  3.0   1.0  2.0      NaN               House   \n4  2021   January  3.0   1.0  2.0      NaN               House   \n\n                               address     suburb  code       rent_raw  \\\n0  1/31 DANDENONG ROAD EAST, FRANKSTON  Frankston  3199           $330   \n1  1/31 DANDENONG ROAD EAST, FRANKSTON  Frankston  3199  $320 per week   \n2  1/31 DANDENONG ROAD EAST, FRANKSTON  Frankston  3199  $340 per week   \n3        4 LUCERNE CRESCENT, FRANKSTON  Frankston  3199  $395 per week   \n4        4 LUCERNE CRESCENT, FRANKSTON  Frankston  3199           $395   \n\n                                                 url  \\\n0  https://www.oldlistings.com.au/real-estate/VIC...   \n1  https://www.oldlistings.com.au/real-estate/VIC...   \n2  https://www.oldlistings.com.au/real-estate/VIC...   \n3  https://www.oldlistings.com.au/real-estate/VIC...   \n4  https://www.oldlistings.com.au/real-estate/VIC...   \n\n                                         loc_address        lat         lon  \n0  Dandenong Road East, Frankston, Melbourne, Cit... -38.129890  145.132153  \n1  Dandenong Road East, Frankston, Melbourne, Cit... -38.129890  145.132153  \n2  Dandenong Road East, Frankston, Melbourne, Cit... -38.129890  145.132153  \n3  Lucerne Crescent, Frankston, Melbourne, City o... -38.146375  145.166494  \n4  Lucerne Crescent, Frankston, Melbourne, City o... -38.146375  145.166494  ",
      "text/html": "<div>\n<style scoped>\n    .dataframe tbody tr th:only-of-type {\n        vertical-align: middle;\n    }\n\n    .dataframe tbody tr th {\n        vertical-align: top;\n    }\n\n    .dataframe thead th {\n        text-align: right;\n    }\n</style>\n<table border=\"1\" class=\"dataframe\">\n  <thead>\n    <tr style=\"text-align: right;\">\n      <th></th>\n      <th>year</th>\n      <th>month</th>\n      <th>bed</th>\n      <th>bath</th>\n      <th>car</th>\n      <th>land_raw</th>\n      <th>type</th>\n      <th>address</th>\n      <th>suburb</th>\n      <th>code</th>\n      <th>rent_raw</th>\n      <th>url</th>\n      <th>loc_address</th>\n      <th>lat</th>\n      <th>lon</th>\n    </tr>\n  </thead>\n  <tbody>\n    <tr>\n      <th>0</th>\n      <td>2021</td>\n      <td>January</td>\n      <td>3.0</td>\n      <td>1.0</td>\n      <td>1.0</td>\n      <td>NaN</td>\n      <td>Rental_residential</td>\n      <td>1/31 DANDENONG ROAD EAST, FRANKSTON</td>\n      <td>Frankston</td>\n      <td>3199</td>\n      <td>$330</td>\n      <td>https://www.oldlistings.com.au/real-estate/VIC...</td>\n      <td>Dandenong Road East, Frankston, Melbourne, Cit...</td>\n      <td>-38.129890</td>\n      <td>145.132153</td>\n    </tr>\n    <tr>\n      <th>1</th>\n      <td>2012</td>\n      <td>February</td>\n      <td>3.0</td>\n      <td>1.0</td>\n      <td>1.0</td>\n      <td>NaN</td>\n      <td>Rental_residential</td>\n      <td>1/31 DANDENONG ROAD EAST, FRANKSTON</td>\n      <td>Frankston</td>\n      <td>3199</td>\n      <td>$320 per week</td>\n      <td>https://www.oldlistings.com.au/real-estate/VIC...</td>\n      <td>Dandenong Road East, Frankston, Melbourne, Cit...</td>\n      <td>-38.129890</td>\n      <td>145.132153</td>\n    </tr>\n    <tr>\n      <th>2</th>\n      <td>2012</td>\n      <td>January</td>\n      <td>3.0</td>\n      <td>1.0</td>\n      <td>1.0</td>\n      <td>NaN</td>\n      <td>Rental_residential</td>\n      <td>1/31 DANDENONG ROAD EAST, FRANKSTON</td>\n      <td>Frankston</td>\n      <td>3199</td>\n      <td>$340 per week</td>\n      <td>https://www.oldlistings.com.au/real-estate/VIC...</td>\n      <td>Dandenong Road East, Frankston, Melbourne, Cit...</td>\n      <td>-38.129890</td>\n      <td>145.132153</td>\n    </tr>\n    <tr>\n      <th>3</th>\n      <td>2021</td>\n      <td>January</td>\n      <td>3.0</td>\n      <td>1.0</td>\n      <td>2.0</td>\n      <td>NaN</td>\n      <td>House</td>\n      <td>4 LUCERNE CRESCENT, FRANKSTON</td>\n      <td>Frankston</td>\n      <td>3199</td>\n      <td>$395 per week</td>\n      <td>https://www.oldlistings.com.au/real-estate/VIC...</td>\n      <td>Lucerne Crescent, Frankston, Melbourne, City o...</td>\n      <td>-38.146375</td>\n      <td>145.166494</td>\n    </tr>\n    <tr>\n      <th>4</th>\n      <td>2021</td>\n      <td>January</td>\n      <td>3.0</td>\n      <td>1.0</td>\n      <td>2.0</td>\n      <td>NaN</td>\n      <td>House</td>\n      <td>4 LUCERNE CRESCENT, FRANKSTON</td>\n      <td>Frankston</td>\n      <td>3199</td>\n      <td>$395</td>\n      <td>https://www.oldlistings.com.au/real-estate/VIC...</td>\n      <td>Lucerne Crescent, Frankston, Melbourne, City o...</td>\n      <td>-38.146375</td>\n      <td>145.166494</td>\n    </tr>\n  </tbody>\n</table>\n</div>"
     },
     "execution_count": 158,
     "metadata": {},
     "output_type": "execute_result"
    }
   ],
   "source": [
    "df = pd.read_csv(f'{files_dire}/melbourne_past_listings.csv')\n",
    "# merge the past listing with the geocode\n",
    "# this should only left with properties that have been listed in 2021-2022\n",
    "geo_df = pd.read_csv(f'{files_dire}/geo.csv').iloc[: , 1:]\n",
    "df = df.merge(geo_df, on='address')\n",
    "df.head()"
   ],
   "metadata": {
    "collapsed": false,
    "pycharm": {
     "name": "#%%\n"
    }
   }
  },
  {
   "cell_type": "code",
   "execution_count": 159,
   "outputs": [
    {
     "data": {
      "text/plain": "year           1444798\nmonth          1444798\nbed            1444783\nbath           1444778\ncar            1334452\nland_raw         84021\ntype           1181668\naddress        1444798\nsuburb         1444798\ncode           1444798\nrent_raw       1444788\nurl            1444798\nloc_address    1444798\nlat            1444798\nlon            1444798\ndtype: int64"
     },
     "execution_count": 159,
     "metadata": {},
     "output_type": "execute_result"
    }
   ],
   "source": [
    "# now review how many NaN exist in each column\n",
    "df.count()"
   ],
   "metadata": {
    "collapsed": false,
    "pycharm": {
     "name": "#%%\n"
    }
   }
  },
  {
   "cell_type": "code",
   "execution_count": 160,
   "outputs": [],
   "source": [
    "# we also remove the column of the size of the land as only very small number of rows have records\n",
    "df = df.drop(['land_raw'], axis = 1)"
   ],
   "metadata": {
    "collapsed": false,
    "pycharm": {
     "name": "#%%\n"
    }
   }
  },
  {
   "cell_type": "code",
   "execution_count": 161,
   "outputs": [
    {
     "data": {
      "text/plain": "1334440"
     },
     "execution_count": 161,
     "metadata": {},
     "output_type": "execute_result"
    }
   ],
   "source": [
    "# as the research goal is mainly residential properties (for people to live in)\n",
    "# hence we filter out all properties that have zero bedroom or bathroom\n",
    "temp = ['bed', 'bath', 'car']\n",
    "df[temp] = df[temp].fillna(0)\n",
    "df[temp] = df[temp].astype('int64')\n",
    "df = df[~(df[temp] == 0).any(axis=1)]\n",
    "# print out the number of entries left\n",
    "len(df)"
   ],
   "metadata": {
    "collapsed": false,
    "pycharm": {
     "name": "#%%\n"
    }
   }
  },
  {
   "cell_type": "code",
   "execution_count": 162,
   "outputs": [
    {
     "data": {
      "text/plain": "House                 472388\nUnit/apmt             240217\nRental_residential    176164\nTownhouse             109990\nAvailableNow           59740\nUnit                   17719\nApartment               5689\nAvailable               3738\nVilla                   2032\nAvailableDate           1891\nStudio                  1737\nFlat                     835\nSales_residential         22\nRural                     10\nForSale                    5\nVilla,House                3\nTerrace                    3\nDuplex                     1\nAcreage/semi-rural         1\nName: type, dtype: int64"
     },
     "execution_count": 162,
     "metadata": {},
     "output_type": "execute_result"
    }
   ],
   "source": [
    "# from the previous output of NaN count, the types of property seems broken\n",
    "df['type'].value_counts()"
   ],
   "metadata": {
    "collapsed": false,
    "pycharm": {
     "name": "#%%\n"
    }
   }
  },
  {
   "cell_type": "code",
   "execution_count": 163,
   "outputs": [],
   "source": [
    "# some of the types has a really low count hence these are removed\n",
    "temp = ['Duplex', 'Acreage/semi-rural', 'Terrace', 'Villa,House', 'ForSale', 'Rural', 'Sales_residential', 'AvailableDate', 'Villa', 'AvailableNow', 'Rental_residential', 'Available']"
   ],
   "metadata": {
    "collapsed": false,
    "pycharm": {
     "name": "#%%\n"
    }
   }
  },
  {
   "cell_type": "code",
   "execution_count": 164,
   "outputs": [
    {
     "data": {
      "text/plain": "1090830"
     },
     "execution_count": 164,
     "metadata": {},
     "output_type": "execute_result"
    }
   ],
   "source": [
    "df = df[~df['type'].isin(temp)]\n",
    "len(df)"
   ],
   "metadata": {
    "collapsed": false,
    "pycharm": {
     "name": "#%%\n"
    }
   }
  },
  {
   "cell_type": "code",
   "execution_count": 165,
   "outputs": [
    {
     "data": {
      "text/plain": "House        472388\nUnit/apmt    240217\nTownhouse    109990\nUnit          17719\nApartment      5689\nStudio         1737\nFlat            835\nName: type, dtype: int64"
     },
     "execution_count": 165,
     "metadata": {},
     "output_type": "execute_result"
    }
   ],
   "source": [
    "# we want to combine categories in to three: house; Apartment / Unit / Flat; townhouse; studio\n",
    "df['type'].value_counts()"
   ],
   "metadata": {
    "collapsed": false,
    "pycharm": {
     "name": "#%%\n"
    }
   }
  },
  {
   "cell_type": "code",
   "execution_count": 166,
   "outputs": [
    {
     "data": {
      "text/plain": "House        472388\nAUF          264460\nTownhouse    109990\nStudio         1737\nName: type, dtype: int64"
     },
     "execution_count": 166,
     "metadata": {},
     "output_type": "execute_result"
    }
   ],
   "source": [
    "# 'AUF' stands for 'Apartment / Unit / Flat'\n",
    "df['type'] = df['type'].replace(['Unit/apmt', 'Apartment', 'Flat', 'Unit'], 'AUF')\n",
    "df['type'].value_counts()"
   ],
   "metadata": {
    "collapsed": false,
    "pycharm": {
     "name": "#%%\n"
    }
   }
  },
  {
   "cell_type": "code",
   "execution_count": 167,
   "outputs": [
    {
     "data": {
      "text/plain": "   year     month  bed  bath  car   type                        address  \\\n3  2021   January    3     1    2  House  4 LUCERNE CRESCENT, FRANKSTON   \n4  2021   January    3     1    2  House  4 LUCERNE CRESCENT, FRANKSTON   \n5  2020   January    3     1    2  House  4 LUCERNE CRESCENT, FRANKSTON   \n6  2020   January    3     1    2  House  4 LUCERNE CRESCENT, FRANKSTON   \n7  2017  December    3     1    2  House  4 LUCERNE CRESCENT, FRANKSTON   \n\n      suburb  code       rent_raw  \\\n3  Frankston  3199  $395 per week   \n4  Frankston  3199           $395   \n5  Frankston  3199  $395 per week   \n6  Frankston  3199           $395   \n7  Frankston  3199        $395 pw   \n\n                                                 url  \\\n3  https://www.oldlistings.com.au/real-estate/VIC...   \n4  https://www.oldlistings.com.au/real-estate/VIC...   \n5  https://www.oldlistings.com.au/real-estate/VIC...   \n6  https://www.oldlistings.com.au/real-estate/VIC...   \n7  https://www.oldlistings.com.au/real-estate/VIC...   \n\n                                         loc_address        lat         lon  \n3  Lucerne Crescent, Frankston, Melbourne, City o... -38.146375  145.166494  \n4  Lucerne Crescent, Frankston, Melbourne, City o... -38.146375  145.166494  \n5  Lucerne Crescent, Frankston, Melbourne, City o... -38.146375  145.166494  \n6  Lucerne Crescent, Frankston, Melbourne, City o... -38.146375  145.166494  \n7  Lucerne Crescent, Frankston, Melbourne, City o... -38.146375  145.166494  ",
      "text/html": "<div>\n<style scoped>\n    .dataframe tbody tr th:only-of-type {\n        vertical-align: middle;\n    }\n\n    .dataframe tbody tr th {\n        vertical-align: top;\n    }\n\n    .dataframe thead th {\n        text-align: right;\n    }\n</style>\n<table border=\"1\" class=\"dataframe\">\n  <thead>\n    <tr style=\"text-align: right;\">\n      <th></th>\n      <th>year</th>\n      <th>month</th>\n      <th>bed</th>\n      <th>bath</th>\n      <th>car</th>\n      <th>type</th>\n      <th>address</th>\n      <th>suburb</th>\n      <th>code</th>\n      <th>rent_raw</th>\n      <th>url</th>\n      <th>loc_address</th>\n      <th>lat</th>\n      <th>lon</th>\n    </tr>\n  </thead>\n  <tbody>\n    <tr>\n      <th>3</th>\n      <td>2021</td>\n      <td>January</td>\n      <td>3</td>\n      <td>1</td>\n      <td>2</td>\n      <td>House</td>\n      <td>4 LUCERNE CRESCENT, FRANKSTON</td>\n      <td>Frankston</td>\n      <td>3199</td>\n      <td>$395 per week</td>\n      <td>https://www.oldlistings.com.au/real-estate/VIC...</td>\n      <td>Lucerne Crescent, Frankston, Melbourne, City o...</td>\n      <td>-38.146375</td>\n      <td>145.166494</td>\n    </tr>\n    <tr>\n      <th>4</th>\n      <td>2021</td>\n      <td>January</td>\n      <td>3</td>\n      <td>1</td>\n      <td>2</td>\n      <td>House</td>\n      <td>4 LUCERNE CRESCENT, FRANKSTON</td>\n      <td>Frankston</td>\n      <td>3199</td>\n      <td>$395</td>\n      <td>https://www.oldlistings.com.au/real-estate/VIC...</td>\n      <td>Lucerne Crescent, Frankston, Melbourne, City o...</td>\n      <td>-38.146375</td>\n      <td>145.166494</td>\n    </tr>\n    <tr>\n      <th>5</th>\n      <td>2020</td>\n      <td>January</td>\n      <td>3</td>\n      <td>1</td>\n      <td>2</td>\n      <td>House</td>\n      <td>4 LUCERNE CRESCENT, FRANKSTON</td>\n      <td>Frankston</td>\n      <td>3199</td>\n      <td>$395 per week</td>\n      <td>https://www.oldlistings.com.au/real-estate/VIC...</td>\n      <td>Lucerne Crescent, Frankston, Melbourne, City o...</td>\n      <td>-38.146375</td>\n      <td>145.166494</td>\n    </tr>\n    <tr>\n      <th>6</th>\n      <td>2020</td>\n      <td>January</td>\n      <td>3</td>\n      <td>1</td>\n      <td>2</td>\n      <td>House</td>\n      <td>4 LUCERNE CRESCENT, FRANKSTON</td>\n      <td>Frankston</td>\n      <td>3199</td>\n      <td>$395</td>\n      <td>https://www.oldlistings.com.au/real-estate/VIC...</td>\n      <td>Lucerne Crescent, Frankston, Melbourne, City o...</td>\n      <td>-38.146375</td>\n      <td>145.166494</td>\n    </tr>\n    <tr>\n      <th>7</th>\n      <td>2017</td>\n      <td>December</td>\n      <td>3</td>\n      <td>1</td>\n      <td>2</td>\n      <td>House</td>\n      <td>4 LUCERNE CRESCENT, FRANKSTON</td>\n      <td>Frankston</td>\n      <td>3199</td>\n      <td>$395 pw</td>\n      <td>https://www.oldlistings.com.au/real-estate/VIC...</td>\n      <td>Lucerne Crescent, Frankston, Melbourne, City o...</td>\n      <td>-38.146375</td>\n      <td>145.166494</td>\n    </tr>\n  </tbody>\n</table>\n</div>"
     },
     "execution_count": 167,
     "metadata": {},
     "output_type": "execute_result"
    }
   ],
   "source": [
    "df.head()"
   ],
   "metadata": {
    "collapsed": false,
    "pycharm": {
     "name": "#%%\n"
    }
   }
  },
  {
   "cell_type": "code",
   "execution_count": 168,
   "outputs": [
    {
     "name": "stderr",
     "output_type": "stream",
     "text": [
      "/var/folders/y5/myhyydfd6h9dlwv1qmqtqhmr0000gn/T/ipykernel_12926/4226869503.py:2: FutureWarning: The default value of regex will change from True to False in a future version. In addition, single character regular expressions will *not* be treated as literal strings when regex=True.\n",
      "  df['rent_raw'] = df['rent_raw'].str.replace('$', '')\n"
     ]
    },
    {
     "data": {
      "text/plain": "   year     month  bed  bath  car   type                        address  \\\n3  2021   January    3     1    2  House  4 LUCERNE CRESCENT, FRANKSTON   \n4  2021   January    3     1    2  House  4 LUCERNE CRESCENT, FRANKSTON   \n5  2020   January    3     1    2  House  4 LUCERNE CRESCENT, FRANKSTON   \n6  2020   January    3     1    2  House  4 LUCERNE CRESCENT, FRANKSTON   \n7  2017  December    3     1    2  House  4 LUCERNE CRESCENT, FRANKSTON   \n\n      suburb  code      rent_raw  \\\n3  Frankston  3199  395 per week   \n4  Frankston  3199           395   \n5  Frankston  3199  395 per week   \n6  Frankston  3199           395   \n7  Frankston  3199        395 pw   \n\n                                                 url  \\\n3  https://www.oldlistings.com.au/real-estate/VIC...   \n4  https://www.oldlistings.com.au/real-estate/VIC...   \n5  https://www.oldlistings.com.au/real-estate/VIC...   \n6  https://www.oldlistings.com.au/real-estate/VIC...   \n7  https://www.oldlistings.com.au/real-estate/VIC...   \n\n                                         loc_address        lat         lon  \n3  Lucerne Crescent, Frankston, Melbourne, City o... -38.146375  145.166494  \n4  Lucerne Crescent, Frankston, Melbourne, City o... -38.146375  145.166494  \n5  Lucerne Crescent, Frankston, Melbourne, City o... -38.146375  145.166494  \n6  Lucerne Crescent, Frankston, Melbourne, City o... -38.146375  145.166494  \n7  Lucerne Crescent, Frankston, Melbourne, City o... -38.146375  145.166494  ",
      "text/html": "<div>\n<style scoped>\n    .dataframe tbody tr th:only-of-type {\n        vertical-align: middle;\n    }\n\n    .dataframe tbody tr th {\n        vertical-align: top;\n    }\n\n    .dataframe thead th {\n        text-align: right;\n    }\n</style>\n<table border=\"1\" class=\"dataframe\">\n  <thead>\n    <tr style=\"text-align: right;\">\n      <th></th>\n      <th>year</th>\n      <th>month</th>\n      <th>bed</th>\n      <th>bath</th>\n      <th>car</th>\n      <th>type</th>\n      <th>address</th>\n      <th>suburb</th>\n      <th>code</th>\n      <th>rent_raw</th>\n      <th>url</th>\n      <th>loc_address</th>\n      <th>lat</th>\n      <th>lon</th>\n    </tr>\n  </thead>\n  <tbody>\n    <tr>\n      <th>3</th>\n      <td>2021</td>\n      <td>January</td>\n      <td>3</td>\n      <td>1</td>\n      <td>2</td>\n      <td>House</td>\n      <td>4 LUCERNE CRESCENT, FRANKSTON</td>\n      <td>Frankston</td>\n      <td>3199</td>\n      <td>395 per week</td>\n      <td>https://www.oldlistings.com.au/real-estate/VIC...</td>\n      <td>Lucerne Crescent, Frankston, Melbourne, City o...</td>\n      <td>-38.146375</td>\n      <td>145.166494</td>\n    </tr>\n    <tr>\n      <th>4</th>\n      <td>2021</td>\n      <td>January</td>\n      <td>3</td>\n      <td>1</td>\n      <td>2</td>\n      <td>House</td>\n      <td>4 LUCERNE CRESCENT, FRANKSTON</td>\n      <td>Frankston</td>\n      <td>3199</td>\n      <td>395</td>\n      <td>https://www.oldlistings.com.au/real-estate/VIC...</td>\n      <td>Lucerne Crescent, Frankston, Melbourne, City o...</td>\n      <td>-38.146375</td>\n      <td>145.166494</td>\n    </tr>\n    <tr>\n      <th>5</th>\n      <td>2020</td>\n      <td>January</td>\n      <td>3</td>\n      <td>1</td>\n      <td>2</td>\n      <td>House</td>\n      <td>4 LUCERNE CRESCENT, FRANKSTON</td>\n      <td>Frankston</td>\n      <td>3199</td>\n      <td>395 per week</td>\n      <td>https://www.oldlistings.com.au/real-estate/VIC...</td>\n      <td>Lucerne Crescent, Frankston, Melbourne, City o...</td>\n      <td>-38.146375</td>\n      <td>145.166494</td>\n    </tr>\n    <tr>\n      <th>6</th>\n      <td>2020</td>\n      <td>January</td>\n      <td>3</td>\n      <td>1</td>\n      <td>2</td>\n      <td>House</td>\n      <td>4 LUCERNE CRESCENT, FRANKSTON</td>\n      <td>Frankston</td>\n      <td>3199</td>\n      <td>395</td>\n      <td>https://www.oldlistings.com.au/real-estate/VIC...</td>\n      <td>Lucerne Crescent, Frankston, Melbourne, City o...</td>\n      <td>-38.146375</td>\n      <td>145.166494</td>\n    </tr>\n    <tr>\n      <th>7</th>\n      <td>2017</td>\n      <td>December</td>\n      <td>3</td>\n      <td>1</td>\n      <td>2</td>\n      <td>House</td>\n      <td>4 LUCERNE CRESCENT, FRANKSTON</td>\n      <td>Frankston</td>\n      <td>3199</td>\n      <td>395 pw</td>\n      <td>https://www.oldlistings.com.au/real-estate/VIC...</td>\n      <td>Lucerne Crescent, Frankston, Melbourne, City o...</td>\n      <td>-38.146375</td>\n      <td>145.166494</td>\n    </tr>\n  </tbody>\n</table>\n</div>"
     },
     "execution_count": 168,
     "metadata": {},
     "output_type": "execute_result"
    }
   ],
   "source": [
    "df['rent_raw'] = df['rent_raw'].str.replace(',', '')\n",
    "df['rent_raw'] = df['rent_raw'].str.replace('$', '')\n",
    "df.head()"
   ],
   "metadata": {
    "collapsed": false,
    "pycharm": {
     "name": "#%%\n"
    }
   }
  },
  {
   "cell_type": "code",
   "execution_count": 169,
   "outputs": [],
   "source": [
    "df['rent_raw'] = df['rent_raw'].str.lower()\n",
    "df['rent_disc'] = df['rent_raw'].str.extract('(\\D+)')\n",
    "df['rent_raw'] = df['rent_raw'].str.extract('(\\d+)')"
   ],
   "metadata": {
    "collapsed": false,
    "pycharm": {
     "name": "#%%\n"
    }
   }
  },
  {
   "cell_type": "code",
   "execution_count": 170,
   "outputs": [
    {
     "data": {
      "text/plain": "   year     month  bed  bath  car   type                        address  \\\n3  2021   January    3     1    2  House  4 LUCERNE CRESCENT, FRANKSTON   \n4  2021   January    3     1    2  House  4 LUCERNE CRESCENT, FRANKSTON   \n5  2020   January    3     1    2  House  4 LUCERNE CRESCENT, FRANKSTON   \n6  2020   January    3     1    2  House  4 LUCERNE CRESCENT, FRANKSTON   \n7  2017  December    3     1    2  House  4 LUCERNE CRESCENT, FRANKSTON   \n\n      suburb  code rent_raw  \\\n3  Frankston  3199      395   \n4  Frankston  3199      395   \n5  Frankston  3199      395   \n6  Frankston  3199      395   \n7  Frankston  3199      395   \n\n                                                 url  \\\n3  https://www.oldlistings.com.au/real-estate/VIC...   \n4  https://www.oldlistings.com.au/real-estate/VIC...   \n5  https://www.oldlistings.com.au/real-estate/VIC...   \n6  https://www.oldlistings.com.au/real-estate/VIC...   \n7  https://www.oldlistings.com.au/real-estate/VIC...   \n\n                                         loc_address        lat         lon  \\\n3  Lucerne Crescent, Frankston, Melbourne, City o... -38.146375  145.166494   \n4  Lucerne Crescent, Frankston, Melbourne, City o... -38.146375  145.166494   \n5  Lucerne Crescent, Frankston, Melbourne, City o... -38.146375  145.166494   \n6  Lucerne Crescent, Frankston, Melbourne, City o... -38.146375  145.166494   \n7  Lucerne Crescent, Frankston, Melbourne, City o... -38.146375  145.166494   \n\n   rent_disc  \n3   per week  \n4        NaN  \n5   per week  \n6        NaN  \n7         pw  ",
      "text/html": "<div>\n<style scoped>\n    .dataframe tbody tr th:only-of-type {\n        vertical-align: middle;\n    }\n\n    .dataframe tbody tr th {\n        vertical-align: top;\n    }\n\n    .dataframe thead th {\n        text-align: right;\n    }\n</style>\n<table border=\"1\" class=\"dataframe\">\n  <thead>\n    <tr style=\"text-align: right;\">\n      <th></th>\n      <th>year</th>\n      <th>month</th>\n      <th>bed</th>\n      <th>bath</th>\n      <th>car</th>\n      <th>type</th>\n      <th>address</th>\n      <th>suburb</th>\n      <th>code</th>\n      <th>rent_raw</th>\n      <th>url</th>\n      <th>loc_address</th>\n      <th>lat</th>\n      <th>lon</th>\n      <th>rent_disc</th>\n    </tr>\n  </thead>\n  <tbody>\n    <tr>\n      <th>3</th>\n      <td>2021</td>\n      <td>January</td>\n      <td>3</td>\n      <td>1</td>\n      <td>2</td>\n      <td>House</td>\n      <td>4 LUCERNE CRESCENT, FRANKSTON</td>\n      <td>Frankston</td>\n      <td>3199</td>\n      <td>395</td>\n      <td>https://www.oldlistings.com.au/real-estate/VIC...</td>\n      <td>Lucerne Crescent, Frankston, Melbourne, City o...</td>\n      <td>-38.146375</td>\n      <td>145.166494</td>\n      <td>per week</td>\n    </tr>\n    <tr>\n      <th>4</th>\n      <td>2021</td>\n      <td>January</td>\n      <td>3</td>\n      <td>1</td>\n      <td>2</td>\n      <td>House</td>\n      <td>4 LUCERNE CRESCENT, FRANKSTON</td>\n      <td>Frankston</td>\n      <td>3199</td>\n      <td>395</td>\n      <td>https://www.oldlistings.com.au/real-estate/VIC...</td>\n      <td>Lucerne Crescent, Frankston, Melbourne, City o...</td>\n      <td>-38.146375</td>\n      <td>145.166494</td>\n      <td>NaN</td>\n    </tr>\n    <tr>\n      <th>5</th>\n      <td>2020</td>\n      <td>January</td>\n      <td>3</td>\n      <td>1</td>\n      <td>2</td>\n      <td>House</td>\n      <td>4 LUCERNE CRESCENT, FRANKSTON</td>\n      <td>Frankston</td>\n      <td>3199</td>\n      <td>395</td>\n      <td>https://www.oldlistings.com.au/real-estate/VIC...</td>\n      <td>Lucerne Crescent, Frankston, Melbourne, City o...</td>\n      <td>-38.146375</td>\n      <td>145.166494</td>\n      <td>per week</td>\n    </tr>\n    <tr>\n      <th>6</th>\n      <td>2020</td>\n      <td>January</td>\n      <td>3</td>\n      <td>1</td>\n      <td>2</td>\n      <td>House</td>\n      <td>4 LUCERNE CRESCENT, FRANKSTON</td>\n      <td>Frankston</td>\n      <td>3199</td>\n      <td>395</td>\n      <td>https://www.oldlistings.com.au/real-estate/VIC...</td>\n      <td>Lucerne Crescent, Frankston, Melbourne, City o...</td>\n      <td>-38.146375</td>\n      <td>145.166494</td>\n      <td>NaN</td>\n    </tr>\n    <tr>\n      <th>7</th>\n      <td>2017</td>\n      <td>December</td>\n      <td>3</td>\n      <td>1</td>\n      <td>2</td>\n      <td>House</td>\n      <td>4 LUCERNE CRESCENT, FRANKSTON</td>\n      <td>Frankston</td>\n      <td>3199</td>\n      <td>395</td>\n      <td>https://www.oldlistings.com.au/real-estate/VIC...</td>\n      <td>Lucerne Crescent, Frankston, Melbourne, City o...</td>\n      <td>-38.146375</td>\n      <td>145.166494</td>\n      <td>pw</td>\n    </tr>\n  </tbody>\n</table>\n</div>"
     },
     "execution_count": 170,
     "metadata": {},
     "output_type": "execute_result"
    }
   ],
   "source": [
    "df.head()"
   ],
   "metadata": {
    "collapsed": false,
    "pycharm": {
     "name": "#%%\n"
    }
   }
  },
  {
   "cell_type": "code",
   "execution_count": 171,
   "outputs": [],
   "source": [
    "deduplicate_subset = ['year', 'month', 'bed', 'bath', 'car', 'type', 'address', 'suburb', 'code', 'rent_raw']"
   ],
   "metadata": {
    "collapsed": false,
    "pycharm": {
     "name": "#%%\n"
    }
   }
  },
  {
   "cell_type": "code",
   "execution_count": 172,
   "outputs": [],
   "source": [
    "df = df.drop_duplicates(subset=deduplicate_subset, keep=False)\n",
    "df = df[df.groupby('address').address.transform('count') > 1]"
   ],
   "metadata": {
    "collapsed": false,
    "pycharm": {
     "name": "#%%\n"
    }
   }
  },
  {
   "cell_type": "code",
   "execution_count": 173,
   "outputs": [
    {
     "name": "stderr",
     "output_type": "stream",
     "text": [
      "/var/folders/y5/myhyydfd6h9dlwv1qmqtqhmr0000gn/T/ipykernel_12926/3915710495.py:1: FutureWarning: The default value of regex will change from True to False in a future version.\n",
      "  df['rent_disc'] = df['rent_disc'].str.replace(r'[^\\w\\s]+', '')\n"
     ]
    }
   ],
   "source": [
    "df['rent_disc'] = df['rent_disc'].str.replace(r'[^\\w\\s]+', '')\n",
    "df['rent_disc'] = df['rent_disc'].str.replace(' ', '')"
   ],
   "metadata": {
    "collapsed": false,
    "pycharm": {
     "name": "#%%\n"
    }
   }
  },
  {
   "cell_type": "code",
   "execution_count": 174,
   "outputs": [
    {
     "data": {
      "text/plain": "perweek           177155\npw                106454\nweekly             31928\n                   23731\nwk                  3354\n                   ...  \nforauction             1\npriceonenquiry         1\nmillionweekly          1\njustlisted             1\nopentooffers           1\nName: rent_disc, Length: 84, dtype: int64"
     },
     "execution_count": 174,
     "metadata": {},
     "output_type": "execute_result"
    }
   ],
   "source": [
    "df['rent_disc'].value_counts()"
   ],
   "metadata": {
    "collapsed": false,
    "pycharm": {
     "name": "#%%\n"
    }
   }
  },
  {
   "cell_type": "code",
   "execution_count": 175,
   "outputs": [],
   "source": [
    "week = ['perweek', 'pw', 'weekly', 'wk', 'week', 'perweekgst']\n",
    "month = ['permonth', 'monthly', 'pcm', 'pm', 'month']\n",
    "year = ['pa', 'perannum', 'annually']"
   ],
   "metadata": {
    "collapsed": false,
    "pycharm": {
     "name": "#%%\n"
    }
   }
  },
  {
   "cell_type": "code",
   "execution_count": 176,
   "outputs": [],
   "source": [
    "df['rent_disc'] = df['rent_disc'].replace(week, 7)\n",
    "df['rent_disc'] = df['rent_disc'].replace(month, 30)\n",
    "df['rent_disc'] = df['rent_disc'].replace(year, 365)"
   ],
   "metadata": {
    "collapsed": false,
    "pycharm": {
     "name": "#%%\n"
    }
   }
  },
  {
   "cell_type": "code",
   "execution_count": 177,
   "outputs": [
    {
     "data": {
      "text/plain": "    year     month  bed  bath  car   type                         address  \\\n9   2016  December    3     1    2  House   4 LUCERNE CRESCENT, FRANKSTON   \n10  2016  December    3     1    2  House   4 LUCERNE CRESCENT, FRANKSTON   \n11  2016   January    3     1    2  House   4 LUCERNE CRESCENT, FRANKSTON   \n12  2015  November    3     1    2  House   4 LUCERNE CRESCENT, FRANKSTON   \n13  2021   January    3     1    3  House  19 FRALLON CRESCENT, FRANKSTON   \n\n       suburb  code rent_raw  \\\n9   Frankston  3199      350   \n10  Frankston  3199      330   \n11  Frankston  3199      330   \n12  Frankston  3199      330   \n13  Frankston  3199      420   \n\n                                                  url  \\\n9   https://www.oldlistings.com.au/real-estate/VIC...   \n10  https://www.oldlistings.com.au/real-estate/VIC...   \n11  https://www.oldlistings.com.au/real-estate/VIC...   \n12  https://www.oldlistings.com.au/real-estate/VIC...   \n13  https://www.oldlistings.com.au/real-estate/VIC...   \n\n                                          loc_address        lat         lon  \\\n9   Lucerne Crescent, Frankston, Melbourne, City o... -38.146375  145.166494   \n10  Lucerne Crescent, Frankston, Melbourne, City o... -38.146375  145.166494   \n11  Lucerne Crescent, Frankston, Melbourne, City o... -38.146375  145.166494   \n12  Lucerne Crescent, Frankston, Melbourne, City o... -38.146375  145.166494   \n13  Frallon Crescent, Karingal, Frankston, Melbour... -38.136790  145.152331   \n\n   rent_disc  \n9          7  \n10         7  \n11         7  \n12         7  \n13         7  ",
      "text/html": "<div>\n<style scoped>\n    .dataframe tbody tr th:only-of-type {\n        vertical-align: middle;\n    }\n\n    .dataframe tbody tr th {\n        vertical-align: top;\n    }\n\n    .dataframe thead th {\n        text-align: right;\n    }\n</style>\n<table border=\"1\" class=\"dataframe\">\n  <thead>\n    <tr style=\"text-align: right;\">\n      <th></th>\n      <th>year</th>\n      <th>month</th>\n      <th>bed</th>\n      <th>bath</th>\n      <th>car</th>\n      <th>type</th>\n      <th>address</th>\n      <th>suburb</th>\n      <th>code</th>\n      <th>rent_raw</th>\n      <th>url</th>\n      <th>loc_address</th>\n      <th>lat</th>\n      <th>lon</th>\n      <th>rent_disc</th>\n    </tr>\n  </thead>\n  <tbody>\n    <tr>\n      <th>9</th>\n      <td>2016</td>\n      <td>December</td>\n      <td>3</td>\n      <td>1</td>\n      <td>2</td>\n      <td>House</td>\n      <td>4 LUCERNE CRESCENT, FRANKSTON</td>\n      <td>Frankston</td>\n      <td>3199</td>\n      <td>350</td>\n      <td>https://www.oldlistings.com.au/real-estate/VIC...</td>\n      <td>Lucerne Crescent, Frankston, Melbourne, City o...</td>\n      <td>-38.146375</td>\n      <td>145.166494</td>\n      <td>7</td>\n    </tr>\n    <tr>\n      <th>10</th>\n      <td>2016</td>\n      <td>December</td>\n      <td>3</td>\n      <td>1</td>\n      <td>2</td>\n      <td>House</td>\n      <td>4 LUCERNE CRESCENT, FRANKSTON</td>\n      <td>Frankston</td>\n      <td>3199</td>\n      <td>330</td>\n      <td>https://www.oldlistings.com.au/real-estate/VIC...</td>\n      <td>Lucerne Crescent, Frankston, Melbourne, City o...</td>\n      <td>-38.146375</td>\n      <td>145.166494</td>\n      <td>7</td>\n    </tr>\n    <tr>\n      <th>11</th>\n      <td>2016</td>\n      <td>January</td>\n      <td>3</td>\n      <td>1</td>\n      <td>2</td>\n      <td>House</td>\n      <td>4 LUCERNE CRESCENT, FRANKSTON</td>\n      <td>Frankston</td>\n      <td>3199</td>\n      <td>330</td>\n      <td>https://www.oldlistings.com.au/real-estate/VIC...</td>\n      <td>Lucerne Crescent, Frankston, Melbourne, City o...</td>\n      <td>-38.146375</td>\n      <td>145.166494</td>\n      <td>7</td>\n    </tr>\n    <tr>\n      <th>12</th>\n      <td>2015</td>\n      <td>November</td>\n      <td>3</td>\n      <td>1</td>\n      <td>2</td>\n      <td>House</td>\n      <td>4 LUCERNE CRESCENT, FRANKSTON</td>\n      <td>Frankston</td>\n      <td>3199</td>\n      <td>330</td>\n      <td>https://www.oldlistings.com.au/real-estate/VIC...</td>\n      <td>Lucerne Crescent, Frankston, Melbourne, City o...</td>\n      <td>-38.146375</td>\n      <td>145.166494</td>\n      <td>7</td>\n    </tr>\n    <tr>\n      <th>13</th>\n      <td>2021</td>\n      <td>January</td>\n      <td>3</td>\n      <td>1</td>\n      <td>3</td>\n      <td>House</td>\n      <td>19 FRALLON CRESCENT, FRANKSTON</td>\n      <td>Frankston</td>\n      <td>3199</td>\n      <td>420</td>\n      <td>https://www.oldlistings.com.au/real-estate/VIC...</td>\n      <td>Frallon Crescent, Karingal, Frankston, Melbour...</td>\n      <td>-38.136790</td>\n      <td>145.152331</td>\n      <td>7</td>\n    </tr>\n  </tbody>\n</table>\n</div>"
     },
     "execution_count": 177,
     "metadata": {},
     "output_type": "execute_result"
    }
   ],
   "source": [
    "df.head()"
   ],
   "metadata": {
    "collapsed": false,
    "pycharm": {
     "name": "#%%\n"
    }
   }
  },
  {
   "cell_type": "code",
   "execution_count": 197,
   "outputs": [],
   "source": [
    "allowed_vals = [7, 30, 365]\n",
    "df = df[df['rent_disc'].isin(allowed_vals)]\n",
    "df['rent_disc'] = df['rent_disc'].astype('int')\n",
    "df = df[~df['rent_raw'].isnull()]\n",
    "df = df[df['rent_raw'].str.isnumeric()]\n",
    "df['rent_raw'] = df['rent_raw'].astype('int')"
   ],
   "metadata": {
    "collapsed": false,
    "pycharm": {
     "name": "#%%\n"
    }
   }
  },
  {
   "cell_type": "code",
   "execution_count": 198,
   "outputs": [
    {
     "data": {
      "text/plain": "year             int64\nmonth           object\nbed              int64\nbath             int64\ncar              int64\ntype            object\naddress         object\nsuburb          object\ncode             int64\nrent_raw         int64\nurl             object\nloc_address     object\nlat            float64\nlon            float64\nrent_disc        int64\ndtype: object"
     },
     "execution_count": 198,
     "metadata": {},
     "output_type": "execute_result"
    }
   ],
   "source": [
    "df.dtypes"
   ],
   "metadata": {
    "collapsed": false,
    "pycharm": {
     "name": "#%%\n"
    }
   }
  },
  {
   "cell_type": "code",
   "execution_count": 203,
   "outputs": [],
   "source": [
    "df['weekly_rent'] =  df['rent_raw'] / df['rent_disc'] * 7\n",
    "df = df.drop(['rent_disc', 'rent_raw'], axis=1)"
   ],
   "metadata": {
    "collapsed": false,
    "pycharm": {
     "name": "#%%\n"
    }
   }
  },
  {
   "cell_type": "code",
   "execution_count": 204,
   "outputs": [
    {
     "data": {
      "text/plain": "    year     month  bed  bath  car   type                         address  \\\n9   2016  December    3     1    2  House   4 LUCERNE CRESCENT, FRANKSTON   \n10  2016  December    3     1    2  House   4 LUCERNE CRESCENT, FRANKSTON   \n11  2016   January    3     1    2  House   4 LUCERNE CRESCENT, FRANKSTON   \n12  2015  November    3     1    2  House   4 LUCERNE CRESCENT, FRANKSTON   \n13  2021   January    3     1    3  House  19 FRALLON CRESCENT, FRANKSTON   \n\n       suburb  code                                                url  \\\n9   Frankston  3199  https://www.oldlistings.com.au/real-estate/VIC...   \n10  Frankston  3199  https://www.oldlistings.com.au/real-estate/VIC...   \n11  Frankston  3199  https://www.oldlistings.com.au/real-estate/VIC...   \n12  Frankston  3199  https://www.oldlistings.com.au/real-estate/VIC...   \n13  Frankston  3199  https://www.oldlistings.com.au/real-estate/VIC...   \n\n                                          loc_address        lat         lon  \\\n9   Lucerne Crescent, Frankston, Melbourne, City o... -38.146375  145.166494   \n10  Lucerne Crescent, Frankston, Melbourne, City o... -38.146375  145.166494   \n11  Lucerne Crescent, Frankston, Melbourne, City o... -38.146375  145.166494   \n12  Lucerne Crescent, Frankston, Melbourne, City o... -38.146375  145.166494   \n13  Frallon Crescent, Karingal, Frankston, Melbour... -38.136790  145.152331   \n\n    weekly_rent  \n9         350.0  \n10        330.0  \n11        330.0  \n12        330.0  \n13        420.0  ",
      "text/html": "<div>\n<style scoped>\n    .dataframe tbody tr th:only-of-type {\n        vertical-align: middle;\n    }\n\n    .dataframe tbody tr th {\n        vertical-align: top;\n    }\n\n    .dataframe thead th {\n        text-align: right;\n    }\n</style>\n<table border=\"1\" class=\"dataframe\">\n  <thead>\n    <tr style=\"text-align: right;\">\n      <th></th>\n      <th>year</th>\n      <th>month</th>\n      <th>bed</th>\n      <th>bath</th>\n      <th>car</th>\n      <th>type</th>\n      <th>address</th>\n      <th>suburb</th>\n      <th>code</th>\n      <th>url</th>\n      <th>loc_address</th>\n      <th>lat</th>\n      <th>lon</th>\n      <th>weekly_rent</th>\n    </tr>\n  </thead>\n  <tbody>\n    <tr>\n      <th>9</th>\n      <td>2016</td>\n      <td>December</td>\n      <td>3</td>\n      <td>1</td>\n      <td>2</td>\n      <td>House</td>\n      <td>4 LUCERNE CRESCENT, FRANKSTON</td>\n      <td>Frankston</td>\n      <td>3199</td>\n      <td>https://www.oldlistings.com.au/real-estate/VIC...</td>\n      <td>Lucerne Crescent, Frankston, Melbourne, City o...</td>\n      <td>-38.146375</td>\n      <td>145.166494</td>\n      <td>350.0</td>\n    </tr>\n    <tr>\n      <th>10</th>\n      <td>2016</td>\n      <td>December</td>\n      <td>3</td>\n      <td>1</td>\n      <td>2</td>\n      <td>House</td>\n      <td>4 LUCERNE CRESCENT, FRANKSTON</td>\n      <td>Frankston</td>\n      <td>3199</td>\n      <td>https://www.oldlistings.com.au/real-estate/VIC...</td>\n      <td>Lucerne Crescent, Frankston, Melbourne, City o...</td>\n      <td>-38.146375</td>\n      <td>145.166494</td>\n      <td>330.0</td>\n    </tr>\n    <tr>\n      <th>11</th>\n      <td>2016</td>\n      <td>January</td>\n      <td>3</td>\n      <td>1</td>\n      <td>2</td>\n      <td>House</td>\n      <td>4 LUCERNE CRESCENT, FRANKSTON</td>\n      <td>Frankston</td>\n      <td>3199</td>\n      <td>https://www.oldlistings.com.au/real-estate/VIC...</td>\n      <td>Lucerne Crescent, Frankston, Melbourne, City o...</td>\n      <td>-38.146375</td>\n      <td>145.166494</td>\n      <td>330.0</td>\n    </tr>\n    <tr>\n      <th>12</th>\n      <td>2015</td>\n      <td>November</td>\n      <td>3</td>\n      <td>1</td>\n      <td>2</td>\n      <td>House</td>\n      <td>4 LUCERNE CRESCENT, FRANKSTON</td>\n      <td>Frankston</td>\n      <td>3199</td>\n      <td>https://www.oldlistings.com.au/real-estate/VIC...</td>\n      <td>Lucerne Crescent, Frankston, Melbourne, City o...</td>\n      <td>-38.146375</td>\n      <td>145.166494</td>\n      <td>330.0</td>\n    </tr>\n    <tr>\n      <th>13</th>\n      <td>2021</td>\n      <td>January</td>\n      <td>3</td>\n      <td>1</td>\n      <td>3</td>\n      <td>House</td>\n      <td>19 FRALLON CRESCENT, FRANKSTON</td>\n      <td>Frankston</td>\n      <td>3199</td>\n      <td>https://www.oldlistings.com.au/real-estate/VIC...</td>\n      <td>Frallon Crescent, Karingal, Frankston, Melbour...</td>\n      <td>-38.136790</td>\n      <td>145.152331</td>\n      <td>420.0</td>\n    </tr>\n  </tbody>\n</table>\n</div>"
     },
     "execution_count": 204,
     "metadata": {},
     "output_type": "execute_result"
    }
   ],
   "source": [
    "df.head()"
   ],
   "metadata": {
    "collapsed": false,
    "pycharm": {
     "name": "#%%\n"
    }
   }
  },
  {
   "cell_type": "code",
   "execution_count": null,
   "outputs": [],
   "source": [],
   "metadata": {
    "collapsed": false,
    "pycharm": {
     "name": "#%%\n"
    }
   }
  }
 ],
 "metadata": {
  "kernelspec": {
   "display_name": "Python 3",
   "language": "python",
   "name": "python3"
  },
  "language_info": {
   "codemirror_mode": {
    "name": "ipython",
    "version": 2
   },
   "file_extension": ".py",
   "mimetype": "text/x-python",
   "name": "python",
   "nbconvert_exporter": "python",
   "pygments_lexer": "ipython2",
   "version": "2.7.6"
  }
 },
 "nbformat": 4,
 "nbformat_minor": 0
}