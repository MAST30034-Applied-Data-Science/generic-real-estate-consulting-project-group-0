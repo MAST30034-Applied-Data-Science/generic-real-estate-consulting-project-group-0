{
 "cells": [
  {
   "cell_type": "code",
   "execution_count": null,
   "metadata": {},
   "outputs": [],
   "source": [
    "# this notebook pre-process the scraped data from oldlistings.com.au"
   ]
  },
  {
   "cell_type": "code",
   "execution_count": null,
   "metadata": {
    "collapsed": false,
    "pycharm": {
     "name": "#%%\n"
    }
   },
   "outputs": [],
   "source": [
    "import pandas as pd"
   ]
  },
  {
   "cell_type": "code",
   "execution_count": null,
   "metadata": {
    "collapsed": false,
    "pycharm": {
     "name": "#%%\n"
    }
   },
   "outputs": [],
   "source": [
    "# set a file directory\n",
    "files_dire = '../data/raw/'"
   ]
  },
  {
   "cell_type": "code",
   "execution_count": null,
   "metadata": {
    "collapsed": false,
    "pycharm": {
     "name": "#%%\n"
    }
   },
   "outputs": [],
   "source": [
    "df = pd.read_csv(f'{files_dire}/melbourne_past_listings.csv')\n",
    "# df = pd.read_csv('../data/curated/past_listing.csv')\n",
    "# merge the past listing with the geocode\n",
    "# this should only left with properties tshat have been listed in 2021-2022\n",
    "geo_df = pd.read_csv(f'{files_dire}/geo.csv').iloc[: , 1:]\n",
    "df = df.merge(geo_df, on='address')\n",
    "df.head()"
   ]
  },
  {
   "cell_type": "code",
   "execution_count": null,
   "metadata": {
    "collapsed": false,
    "pycharm": {
     "name": "#%%\n"
    }
   },
   "outputs": [],
   "source": [
    "# now review how many NaN exist in each column\n",
    "df.count()"
   ]
  },
  {
   "cell_type": "code",
   "execution_count": null,
   "metadata": {
    "collapsed": false,
    "pycharm": {
     "name": "#%%\n"
    }
   },
   "outputs": [],
   "source": [
    "# remove the column of the size of the land as only very small number of rows have records\n",
    "df = df.drop(['land_raw'], axis = 1)"
   ]
  },
  {
   "cell_type": "code",
   "execution_count": null,
   "metadata": {
    "collapsed": false,
    "pycharm": {
     "name": "#%%\n"
    }
   },
   "outputs": [],
   "source": [
    "# as the research goal is mainly residential properties (for people to live in)\n",
    "# hence we filter out all properties that have zero bedroom or bathroom\n",
    "temp = ['bed', 'bath', 'car']\n",
    "df[temp] = df[temp].fillna(0)\n",
    "df[temp] = df[temp].astype('int64')\n",
    "df = df[~(df[temp] == 0).any(axis=1)]\n",
    "# print out the number of entries left\n",
    "len(df)"
   ]
  },
  {
   "cell_type": "code",
   "execution_count": null,
   "metadata": {
    "collapsed": false,
    "pycharm": {
     "name": "#%%\n"
    }
   },
   "outputs": [],
   "source": [
    "# from the previous output of NaN count, the types of property seems broken\n",
    "df['type'].value_counts()"
   ]
  },
  {
   "cell_type": "code",
   "execution_count": null,
   "metadata": {
    "collapsed": false,
    "pycharm": {
     "name": "#%%\n"
    }
   },
   "outputs": [],
   "source": [
    "df['type'].value_counts().index"
   ]
  },
  {
   "cell_type": "code",
   "execution_count": null,
   "metadata": {
    "collapsed": false,
    "pycharm": {
     "name": "#%%\n"
    }
   },
   "outputs": [],
   "source": [
    "# some of the types has a really low count hence these are removed\n",
    "unknown_type = [ 'Rental_residential', 'AvailableNow', 'Available', 'AvailableDate', 'Other']\n",
    "remove_type = ['Villa', 'Rural', 'ForSale', 'Villa,House', 'Terrace', 'Duplex', 'Acreage/semi-rural', 'Sales_residential']"
   ]
  },
  {
   "cell_type": "code",
   "execution_count": null,
   "metadata": {
    "collapsed": false,
    "pycharm": {
     "name": "#%%\n"
    }
   },
   "outputs": [],
   "source": [
    "df = df[~df['type'].isin(remove_type)]"
   ]
  },
  {
   "cell_type": "code",
   "execution_count": null,
   "metadata": {
    "collapsed": false,
    "pycharm": {
     "name": "#%%\n"
    }
   },
   "outputs": [],
   "source": [
    "# we want to combine categories in to three: house; Apartment / Unit / Flat; townhouse; studio\n",
    "df['type'].value_counts()"
   ]
  },
  {
   "cell_type": "code",
   "execution_count": null,
   "metadata": {
    "collapsed": false,
    "pycharm": {
     "name": "#%%\n"
    }
   },
   "outputs": [],
   "source": [
    "# 'AUF' stands for 'Apartment / Unit / Flat'\n",
    "df['type'] = df['type'].replace(['Unit/apmt', 'Apartment', 'Flat', 'Unit'], 'AUF')\n",
    "df['type'] = df['type'].replace(unknown_type, 'unknown')\n",
    "df['type'].value_counts()"
   ]
  },
  {
   "cell_type": "code",
   "execution_count": null,
   "metadata": {
    "collapsed": false,
    "pycharm": {
     "name": "#%%\n"
    }
   },
   "outputs": [],
   "source": [
    "df.isna().sum()"
   ]
  },
  {
   "cell_type": "code",
   "execution_count": null,
   "metadata": {
    "collapsed": false,
    "pycharm": {
     "name": "#%%\n"
    }
   },
   "outputs": [],
   "source": [
    "# preliminary processing on rent\n",
    "# remove the dollar sign as well as comma\n",
    "df['rent_raw'] = df['rent_raw'].str.replace(',', '')\n",
    "df['rent_raw'] = df['rent_raw'].str.replace('$', '')\n",
    "df.head()"
   ]
  },
  {
   "cell_type": "code",
   "execution_count": null,
   "metadata": {
    "collapsed": false,
    "pycharm": {
     "name": "#%%\n"
    }
   },
   "outputs": [],
   "source": [
    "# split the rent to a column of number and another for description\n",
    "df['rent_raw'] = df['rent_raw'].str.lower()\n",
    "df['rent_disc'] = df['rent_raw'].str.extract('(\\D+)')\n",
    "df['rent_raw'] = df['rent_raw'].str.extract('(\\d+)')"
   ]
  },
  {
   "cell_type": "code",
   "execution_count": null,
   "metadata": {
    "collapsed": false,
    "pycharm": {
     "name": "#%%\n"
    }
   },
   "outputs": [],
   "source": [
    "# deduplicate entries again as some entries have slight difference such as 'per week' and 'pw'\n",
    "deduplicate_subset = ['year', 'month', 'bed', 'bath', 'car', 'type', 'address', 'suburb', 'code', 'rent_raw']"
   ]
  },
  {
   "cell_type": "code",
   "execution_count": null,
   "metadata": {
    "collapsed": false,
    "pycharm": {
     "name": "#%%\n"
    }
   },
   "outputs": [],
   "source": [
    "df = df.drop_duplicates(subset=deduplicate_subset, keep=False)\n",
    "# after deduplication, only properties listed more than once are retained\n",
    "df = df[df.groupby('address').address.transform('count') > 1]"
   ]
  },
  {
   "cell_type": "code",
   "execution_count": null,
   "metadata": {
    "collapsed": false,
    "pycharm": {
     "name": "#%%\n"
    }
   },
   "outputs": [],
   "source": [
    "# remove all punctuation and space for further convinience\n",
    "df['rent_disc'] = df['rent_disc'].str.replace(r'[^\\w\\s]+', '')\n",
    "df['rent_disc'] = df['rent_disc'].str.replace(' ', '')"
   ]
  },
  {
   "cell_type": "code",
   "execution_count": null,
   "metadata": {
    "collapsed": false,
    "pycharm": {
     "name": "#%%\n"
    }
   },
   "outputs": [],
   "source": [
    "df['rent_disc'].value_counts()"
   ]
  },
  {
   "cell_type": "code",
   "execution_count": null,
   "metadata": {
    "collapsed": false,
    "pycharm": {
     "name": "#%%\n"
    }
   },
   "outputs": [],
   "source": [
    "# sort rent into three types\n",
    "week = ['perweek', 'pw', 'weekly', 'wk', 'week', 'perweekgst']\n",
    "month = ['permonth', 'monthly', 'pcm', 'pm', 'month']\n",
    "year = ['pa', 'perannum', 'annually']"
   ]
  },
  {
   "cell_type": "code",
   "execution_count": null,
   "metadata": {
    "collapsed": false,
    "pycharm": {
     "name": "#%%\n"
    }
   },
   "outputs": [],
   "source": [
    "df['rent_disc'] = df['rent_disc'].replace(week, 7)\n",
    "df['rent_disc'] = df['rent_disc'].replace(month, 30)\n",
    "df['rent_disc'] = df['rent_disc'].replace(year, 365)"
   ]
  },
  {
   "cell_type": "code",
   "execution_count": null,
   "metadata": {
    "collapsed": false,
    "pycharm": {
     "name": "#%%\n"
    }
   },
   "outputs": [],
   "source": [
    "# remove entries without proper rent descriptions\n",
    "allowed_vals = [7, 30, 365]\n",
    "df = df[df['rent_disc'].isin(allowed_vals)]\n",
    "df['rent_disc'] = df['rent_disc'].astype('int')\n",
    "df = df[~df['rent_raw'].isnull()]\n",
    "df = df[df['rent_raw'].str.isnumeric()]\n",
    "df['rent_raw'] = df['rent_raw'].astype('int')"
   ]
  },
  {
   "cell_type": "code",
   "execution_count": null,
   "metadata": {
    "collapsed": false,
    "pycharm": {
     "name": "#%%\n"
    }
   },
   "outputs": [],
   "source": [
    "# convert all rent into rent per week for consistency\n",
    "df['weekly_rent'] =  df['rent_raw'] / df['rent_disc'] * 7\n",
    "df = df.drop(['rent_disc', 'rent_raw'], axis=1)"
   ]
  },
  {
   "cell_type": "code",
   "execution_count": null,
   "metadata": {
    "collapsed": false,
    "pycharm": {
     "name": "#%%\n"
    }
   },
   "outputs": [],
   "source": [
    "# as all listing does not have a specific date\n",
    "# all dates are assumed to be the first date of each month\n",
    "# df['day'] = 1\n",
    "df['month'] = pd.to_datetime(df.month, format='%B').dt.month\n",
    "df['list_date'] = pd.to_datetime(df[['year', 'month']].assign(DAY=1))\n",
    "df = df.drop(['year', 'month'], axis=1)"
   ]
  },
  {
   "cell_type": "code",
   "execution_count": null,
   "metadata": {
    "collapsed": false,
    "pycharm": {
     "name": "#%%\n"
    }
   },
   "outputs": [],
   "source": [
    "df.head()"
   ]
  },
  {
   "cell_type": "code",
   "execution_count": null,
   "metadata": {
    "collapsed": false,
    "pycharm": {
     "name": "#%%\n"
    }
   },
   "outputs": [],
   "source": [
    "# check once again to make sure there is no duplicate and less than 2 record\n",
    "df = df[df.groupby('address').address.transform('count') > 1]\n",
    "len(df)"
   ]
  },
  {
   "cell_type": "code",
   "execution_count": null,
   "metadata": {
    "collapsed": false,
    "pycharm": {
     "name": "#%%\n"
    }
   },
   "outputs": [],
   "source": [
    "# check the number of unique properties in future investigation\n",
    "len(list(set(df['address'].tolist())))"
   ]
  },
  {
   "cell_type": "code",
   "execution_count": null,
   "metadata": {
    "collapsed": false,
    "pycharm": {
     "name": "#%%\n"
    }
   },
   "outputs": [],
   "source": [
    "# save to csv \n",
    "df.to_csv('../data/curated/processed_listing.csv')"
   ]
  },
  {
   "cell_type": "code",
   "execution_count": null,
   "metadata": {
    "collapsed": false,
    "pycharm": {
     "name": "#%%\n"
    }
   },
   "outputs": [],
   "source": [
    "# sample of the file as one of the group member is overseas\n",
    "# this may need to be used by him\n",
    "df.iloc[:1000, :].to_csv('../data/curated/SAMPLE_processed_listing.csv')"
   ]
  }
 ],
 "metadata": {
  "kernelspec": {
   "display_name": "Python 3.10.0 64-bit",
   "language": "python",
   "name": "python3"
  },
  "language_info": {
   "codemirror_mode": {
    "name": "ipython",
    "version": 2
   },
   "file_extension": ".py",
   "mimetype": "text/x-python",
   "name": "python",
   "nbconvert_exporter": "python",
   "pygments_lexer": "ipython2",
   "version": "3.10.0"
  },
  "vscode": {
   "interpreter": {
    "hash": "aee8b7b246df8f9039afb4144a1f6fd8d2ca17a180786b69acc140d282b71a49"
   }
  }
 },
 "nbformat": 4,
 "nbformat_minor": 0
}
