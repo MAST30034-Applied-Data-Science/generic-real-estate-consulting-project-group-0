{
 "cells": [
  {
   "cell_type": "code",
   "execution_count": 1,
   "metadata": {
    "collapsed": false,
    "jupyter": {
     "outputs_hidden": false
    },
    "pycharm": {
     "name": "#%%\n"
    }
   },
   "outputs": [],
   "source": [
    "import pandas as pd"
   ]
  },
  {
   "cell_type": "code",
   "execution_count": 2,
   "metadata": {
    "collapsed": false,
    "jupyter": {
     "outputs_hidden": false
    },
    "pycharm": {
     "name": "#%%\n"
    }
   },
   "outputs": [],
   "source": [
    "files_dire = '../data/raw/'"
   ]
  },
  {
   "cell_type": "code",
   "execution_count": 3,
   "metadata": {
    "collapsed": false,
    "jupyter": {
     "outputs_hidden": false
    },
    "pycharm": {
     "name": "#%%\n"
    }
   },
   "outputs": [
    {
     "data": {
      "text/html": [
       "<div>\n",
       "<style scoped>\n",
       "    .dataframe tbody tr th:only-of-type {\n",
       "        vertical-align: middle;\n",
       "    }\n",
       "\n",
       "    .dataframe tbody tr th {\n",
       "        vertical-align: top;\n",
       "    }\n",
       "\n",
       "    .dataframe thead th {\n",
       "        text-align: right;\n",
       "    }\n",
       "</style>\n",
       "<table border=\"1\" class=\"dataframe\">\n",
       "  <thead>\n",
       "    <tr style=\"text-align: right;\">\n",
       "      <th></th>\n",
       "      <th>year</th>\n",
       "      <th>month</th>\n",
       "      <th>bed</th>\n",
       "      <th>bath</th>\n",
       "      <th>car</th>\n",
       "      <th>land_raw</th>\n",
       "      <th>type</th>\n",
       "      <th>address</th>\n",
       "      <th>suburb</th>\n",
       "      <th>code</th>\n",
       "      <th>rent_raw</th>\n",
       "      <th>url</th>\n",
       "      <th>loc_address</th>\n",
       "      <th>lat</th>\n",
       "      <th>lon</th>\n",
       "    </tr>\n",
       "  </thead>\n",
       "  <tbody>\n",
       "    <tr>\n",
       "      <th>0</th>\n",
       "      <td>2021</td>\n",
       "      <td>January</td>\n",
       "      <td>3.0</td>\n",
       "      <td>1.0</td>\n",
       "      <td>1.0</td>\n",
       "      <td>NaN</td>\n",
       "      <td>Rental_residential</td>\n",
       "      <td>1/31 DANDENONG ROAD EAST, FRANKSTON</td>\n",
       "      <td>Frankston</td>\n",
       "      <td>3199</td>\n",
       "      <td>$330</td>\n",
       "      <td>https://www.oldlistings.com.au/real-estate/VIC...</td>\n",
       "      <td>Dandenong Road East, Frankston, Melbourne, Cit...</td>\n",
       "      <td>-38.129890</td>\n",
       "      <td>145.132153</td>\n",
       "    </tr>\n",
       "    <tr>\n",
       "      <th>1</th>\n",
       "      <td>2012</td>\n",
       "      <td>February</td>\n",
       "      <td>3.0</td>\n",
       "      <td>1.0</td>\n",
       "      <td>1.0</td>\n",
       "      <td>NaN</td>\n",
       "      <td>Rental_residential</td>\n",
       "      <td>1/31 DANDENONG ROAD EAST, FRANKSTON</td>\n",
       "      <td>Frankston</td>\n",
       "      <td>3199</td>\n",
       "      <td>$320 per week</td>\n",
       "      <td>https://www.oldlistings.com.au/real-estate/VIC...</td>\n",
       "      <td>Dandenong Road East, Frankston, Melbourne, Cit...</td>\n",
       "      <td>-38.129890</td>\n",
       "      <td>145.132153</td>\n",
       "    </tr>\n",
       "    <tr>\n",
       "      <th>2</th>\n",
       "      <td>2012</td>\n",
       "      <td>January</td>\n",
       "      <td>3.0</td>\n",
       "      <td>1.0</td>\n",
       "      <td>1.0</td>\n",
       "      <td>NaN</td>\n",
       "      <td>Rental_residential</td>\n",
       "      <td>1/31 DANDENONG ROAD EAST, FRANKSTON</td>\n",
       "      <td>Frankston</td>\n",
       "      <td>3199</td>\n",
       "      <td>$340 per week</td>\n",
       "      <td>https://www.oldlistings.com.au/real-estate/VIC...</td>\n",
       "      <td>Dandenong Road East, Frankston, Melbourne, Cit...</td>\n",
       "      <td>-38.129890</td>\n",
       "      <td>145.132153</td>\n",
       "    </tr>\n",
       "    <tr>\n",
       "      <th>3</th>\n",
       "      <td>2021</td>\n",
       "      <td>January</td>\n",
       "      <td>3.0</td>\n",
       "      <td>1.0</td>\n",
       "      <td>2.0</td>\n",
       "      <td>NaN</td>\n",
       "      <td>House</td>\n",
       "      <td>4 LUCERNE CRESCENT, FRANKSTON</td>\n",
       "      <td>Frankston</td>\n",
       "      <td>3199</td>\n",
       "      <td>$395 per week</td>\n",
       "      <td>https://www.oldlistings.com.au/real-estate/VIC...</td>\n",
       "      <td>Lucerne Crescent, Frankston, Melbourne, City o...</td>\n",
       "      <td>-38.146375</td>\n",
       "      <td>145.166494</td>\n",
       "    </tr>\n",
       "    <tr>\n",
       "      <th>4</th>\n",
       "      <td>2021</td>\n",
       "      <td>January</td>\n",
       "      <td>3.0</td>\n",
       "      <td>1.0</td>\n",
       "      <td>2.0</td>\n",
       "      <td>NaN</td>\n",
       "      <td>House</td>\n",
       "      <td>4 LUCERNE CRESCENT, FRANKSTON</td>\n",
       "      <td>Frankston</td>\n",
       "      <td>3199</td>\n",
       "      <td>$395</td>\n",
       "      <td>https://www.oldlistings.com.au/real-estate/VIC...</td>\n",
       "      <td>Lucerne Crescent, Frankston, Melbourne, City o...</td>\n",
       "      <td>-38.146375</td>\n",
       "      <td>145.166494</td>\n",
       "    </tr>\n",
       "  </tbody>\n",
       "</table>\n",
       "</div>"
      ],
      "text/plain": [
       "   year     month  bed  bath  car land_raw                type  \\\n",
       "0  2021   January  3.0   1.0  1.0      NaN  Rental_residential   \n",
       "1  2012  February  3.0   1.0  1.0      NaN  Rental_residential   \n",
       "2  2012   January  3.0   1.0  1.0      NaN  Rental_residential   \n",
       "3  2021   January  3.0   1.0  2.0      NaN               House   \n",
       "4  2021   January  3.0   1.0  2.0      NaN               House   \n",
       "\n",
       "                               address     suburb  code       rent_raw  \\\n",
       "0  1/31 DANDENONG ROAD EAST, FRANKSTON  Frankston  3199           $330   \n",
       "1  1/31 DANDENONG ROAD EAST, FRANKSTON  Frankston  3199  $320 per week   \n",
       "2  1/31 DANDENONG ROAD EAST, FRANKSTON  Frankston  3199  $340 per week   \n",
       "3        4 LUCERNE CRESCENT, FRANKSTON  Frankston  3199  $395 per week   \n",
       "4        4 LUCERNE CRESCENT, FRANKSTON  Frankston  3199           $395   \n",
       "\n",
       "                                                 url  \\\n",
       "0  https://www.oldlistings.com.au/real-estate/VIC...   \n",
       "1  https://www.oldlistings.com.au/real-estate/VIC...   \n",
       "2  https://www.oldlistings.com.au/real-estate/VIC...   \n",
       "3  https://www.oldlistings.com.au/real-estate/VIC...   \n",
       "4  https://www.oldlistings.com.au/real-estate/VIC...   \n",
       "\n",
       "                                         loc_address        lat         lon  \n",
       "0  Dandenong Road East, Frankston, Melbourne, Cit... -38.129890  145.132153  \n",
       "1  Dandenong Road East, Frankston, Melbourne, Cit... -38.129890  145.132153  \n",
       "2  Dandenong Road East, Frankston, Melbourne, Cit... -38.129890  145.132153  \n",
       "3  Lucerne Crescent, Frankston, Melbourne, City o... -38.146375  145.166494  \n",
       "4  Lucerne Crescent, Frankston, Melbourne, City o... -38.146375  145.166494  "
      ]
     },
     "execution_count": 3,
     "metadata": {},
     "output_type": "execute_result"
    }
   ],
   "source": [
    "df = pd.read_csv(f'{files_dire}/melbourne_past_listings.csv')\n",
    "# merge the past listing with the geocode\n",
    "# this should only left with properties that have been listed in 2021-2022\n",
    "geo_df = pd.read_csv(f'{files_dire}/geo.csv').iloc[: , 1:]\n",
    "df = df.merge(geo_df, on='address')\n",
    "df.head()"
   ]
  },
  {
   "cell_type": "code",
   "execution_count": 4,
   "metadata": {
    "collapsed": false,
    "jupyter": {
     "outputs_hidden": false
    },
    "pycharm": {
     "name": "#%%\n"
    }
   },
   "outputs": [
    {
     "data": {
      "text/plain": [
       "year           1444798\n",
       "month          1444798\n",
       "bed            1444783\n",
       "bath           1444778\n",
       "car            1334452\n",
       "land_raw         84021\n",
       "type           1181668\n",
       "address        1444798\n",
       "suburb         1444798\n",
       "code           1444798\n",
       "rent_raw       1444788\n",
       "url            1444798\n",
       "loc_address    1444798\n",
       "lat            1444798\n",
       "lon            1444798\n",
       "dtype: int64"
      ]
     },
     "execution_count": 4,
     "metadata": {},
     "output_type": "execute_result"
    }
   ],
   "source": [
    "# now review how many NaN exist in each column\n",
    "df.count()"
   ]
  },
  {
   "cell_type": "code",
   "execution_count": 5,
   "metadata": {
    "collapsed": false,
    "jupyter": {
     "outputs_hidden": false
    },
    "pycharm": {
     "name": "#%%\n"
    }
   },
   "outputs": [],
   "source": [
    "# we also remove the column of the size of the land as only very small number of rows have records\n",
    "df = df.drop(['land_raw'], axis = 1)"
   ]
  },
  {
   "cell_type": "code",
   "execution_count": 6,
   "metadata": {
    "collapsed": false,
    "jupyter": {
     "outputs_hidden": false
    },
    "pycharm": {
     "name": "#%%\n"
    }
   },
   "outputs": [
    {
     "data": {
      "text/plain": [
       "1334440"
      ]
     },
     "execution_count": 6,
     "metadata": {},
     "output_type": "execute_result"
    }
   ],
   "source": [
    "# as the research goal is mainly residential properties (for people to live in)\n",
    "# hence we filter out all properties that have zero bedroom or bathroom\n",
    "temp = ['bed', 'bath', 'car']\n",
    "df[temp] = df[temp].fillna(0)\n",
    "df[temp] = df[temp].astype('int64')\n",
    "df = df[~(df[temp] == 0).any(axis=1)]\n",
    "# print out the number of entries left\n",
    "len(df)"
   ]
  },
  {
   "cell_type": "code",
   "execution_count": 7,
   "metadata": {
    "collapsed": false,
    "jupyter": {
     "outputs_hidden": false
    },
    "pycharm": {
     "name": "#%%\n"
    }
   },
   "outputs": [
    {
     "data": {
      "text/plain": [
       "House                 472388\n",
       "Unit/apmt             240217\n",
       "Rental_residential    176164\n",
       "Townhouse             109990\n",
       "AvailableNow           59740\n",
       "Unit                   17719\n",
       "Apartment               5689\n",
       "Available               3738\n",
       "Villa                   2032\n",
       "AvailableDate           1891\n",
       "Studio                  1737\n",
       "Flat                     835\n",
       "Sales_residential         22\n",
       "Rural                     10\n",
       "ForSale                    5\n",
       "Villa,House                3\n",
       "Terrace                    3\n",
       "Duplex                     1\n",
       "Acreage/semi-rural         1\n",
       "Name: type, dtype: int64"
      ]
     },
     "execution_count": 7,
     "metadata": {},
     "output_type": "execute_result"
    }
   ],
   "source": [
    "# from the previous output of NaN count, the types of property seems broken\n",
    "df['type'].value_counts()"
   ]
  },
  {
   "cell_type": "code",
   "execution_count": 8,
   "metadata": {
    "collapsed": false,
    "jupyter": {
     "outputs_hidden": false
    },
    "pycharm": {
     "name": "#%%\n"
    }
   },
   "outputs": [],
   "source": [
    "# some of the types has a really low count hence these are removed\n",
    "temp = ['Duplex', 'Acreage/semi-rural', 'Terrace', 'Villa,House', 'ForSale', 'Rural', 'Sales_residential', 'AvailableDate', 'Villa', 'AvailableNow', 'Rental_residential', 'Available']"
   ]
  },
  {
   "cell_type": "code",
   "execution_count": 9,
   "metadata": {
    "collapsed": false,
    "jupyter": {
     "outputs_hidden": false
    },
    "pycharm": {
     "name": "#%%\n"
    }
   },
   "outputs": [],
   "source": [
    "df = df[~df['type'].isin(temp)]"
   ]
  },
  {
   "cell_type": "code",
   "execution_count": 10,
   "metadata": {
    "collapsed": false,
    "jupyter": {
     "outputs_hidden": false
    },
    "pycharm": {
     "name": "#%%\n"
    }
   },
   "outputs": [
    {
     "data": {
      "text/plain": [
       "House        472388\n",
       "Unit/apmt    240217\n",
       "Townhouse    109990\n",
       "Unit          17719\n",
       "Apartment      5689\n",
       "Studio         1737\n",
       "Flat            835\n",
       "Name: type, dtype: int64"
      ]
     },
     "execution_count": 10,
     "metadata": {},
     "output_type": "execute_result"
    }
   ],
   "source": [
    "# we want to combine categories in to three: house; Apartment / Unit / Flat; townhouse; studio\n",
    "df['type'].value_counts()"
   ]
  },
  {
   "cell_type": "code",
   "execution_count": 11,
   "metadata": {
    "collapsed": false,
    "jupyter": {
     "outputs_hidden": false
    },
    "pycharm": {
     "name": "#%%\n"
    }
   },
   "outputs": [
    {
     "data": {
      "text/plain": [
       "House        472388\n",
       "AUF          264460\n",
       "Townhouse    109990\n",
       "Studio         1737\n",
       "Name: type, dtype: int64"
      ]
     },
     "execution_count": 11,
     "metadata": {},
     "output_type": "execute_result"
    }
   ],
   "source": [
    "# 'AUF' stands for 'Apartment / Unit / Flat'\n",
    "df['type'] = df['type'].replace(['Unit/apmt', 'Apartment', 'Flat', 'Unit'], 'AUF')\n",
    "df['type'].value_counts()"
   ]
  },
  {
   "cell_type": "code",
   "execution_count": 12,
   "metadata": {
    "collapsed": false,
    "jupyter": {
     "outputs_hidden": false
    },
    "pycharm": {
     "name": "#%%\n"
    }
   },
   "outputs": [
    {
     "name": "stderr",
     "output_type": "stream",
     "text": [
      "/var/folders/y5/myhyydfd6h9dlwv1qmqtqhmr0000gn/T/ipykernel_21517/3517771870.py:4: FutureWarning: The default value of regex will change from True to False in a future version. In addition, single character regular expressions will *not* be treated as literal strings when regex=True.\n",
      "  df['rent_raw'] = df['rent_raw'].str.replace('$', '')\n"
     ]
    },
    {
     "data": {
      "text/html": [
       "<div>\n",
       "<style scoped>\n",
       "    .dataframe tbody tr th:only-of-type {\n",
       "        vertical-align: middle;\n",
       "    }\n",
       "\n",
       "    .dataframe tbody tr th {\n",
       "        vertical-align: top;\n",
       "    }\n",
       "\n",
       "    .dataframe thead th {\n",
       "        text-align: right;\n",
       "    }\n",
       "</style>\n",
       "<table border=\"1\" class=\"dataframe\">\n",
       "  <thead>\n",
       "    <tr style=\"text-align: right;\">\n",
       "      <th></th>\n",
       "      <th>year</th>\n",
       "      <th>month</th>\n",
       "      <th>bed</th>\n",
       "      <th>bath</th>\n",
       "      <th>car</th>\n",
       "      <th>type</th>\n",
       "      <th>address</th>\n",
       "      <th>suburb</th>\n",
       "      <th>code</th>\n",
       "      <th>rent_raw</th>\n",
       "      <th>url</th>\n",
       "      <th>loc_address</th>\n",
       "      <th>lat</th>\n",
       "      <th>lon</th>\n",
       "    </tr>\n",
       "  </thead>\n",
       "  <tbody>\n",
       "    <tr>\n",
       "      <th>3</th>\n",
       "      <td>2021</td>\n",
       "      <td>January</td>\n",
       "      <td>3</td>\n",
       "      <td>1</td>\n",
       "      <td>2</td>\n",
       "      <td>House</td>\n",
       "      <td>4 LUCERNE CRESCENT, FRANKSTON</td>\n",
       "      <td>Frankston</td>\n",
       "      <td>3199</td>\n",
       "      <td>395 per week</td>\n",
       "      <td>https://www.oldlistings.com.au/real-estate/VIC...</td>\n",
       "      <td>Lucerne Crescent, Frankston, Melbourne, City o...</td>\n",
       "      <td>-38.146375</td>\n",
       "      <td>145.166494</td>\n",
       "    </tr>\n",
       "    <tr>\n",
       "      <th>4</th>\n",
       "      <td>2021</td>\n",
       "      <td>January</td>\n",
       "      <td>3</td>\n",
       "      <td>1</td>\n",
       "      <td>2</td>\n",
       "      <td>House</td>\n",
       "      <td>4 LUCERNE CRESCENT, FRANKSTON</td>\n",
       "      <td>Frankston</td>\n",
       "      <td>3199</td>\n",
       "      <td>395</td>\n",
       "      <td>https://www.oldlistings.com.au/real-estate/VIC...</td>\n",
       "      <td>Lucerne Crescent, Frankston, Melbourne, City o...</td>\n",
       "      <td>-38.146375</td>\n",
       "      <td>145.166494</td>\n",
       "    </tr>\n",
       "    <tr>\n",
       "      <th>5</th>\n",
       "      <td>2020</td>\n",
       "      <td>January</td>\n",
       "      <td>3</td>\n",
       "      <td>1</td>\n",
       "      <td>2</td>\n",
       "      <td>House</td>\n",
       "      <td>4 LUCERNE CRESCENT, FRANKSTON</td>\n",
       "      <td>Frankston</td>\n",
       "      <td>3199</td>\n",
       "      <td>395 per week</td>\n",
       "      <td>https://www.oldlistings.com.au/real-estate/VIC...</td>\n",
       "      <td>Lucerne Crescent, Frankston, Melbourne, City o...</td>\n",
       "      <td>-38.146375</td>\n",
       "      <td>145.166494</td>\n",
       "    </tr>\n",
       "    <tr>\n",
       "      <th>6</th>\n",
       "      <td>2020</td>\n",
       "      <td>January</td>\n",
       "      <td>3</td>\n",
       "      <td>1</td>\n",
       "      <td>2</td>\n",
       "      <td>House</td>\n",
       "      <td>4 LUCERNE CRESCENT, FRANKSTON</td>\n",
       "      <td>Frankston</td>\n",
       "      <td>3199</td>\n",
       "      <td>395</td>\n",
       "      <td>https://www.oldlistings.com.au/real-estate/VIC...</td>\n",
       "      <td>Lucerne Crescent, Frankston, Melbourne, City o...</td>\n",
       "      <td>-38.146375</td>\n",
       "      <td>145.166494</td>\n",
       "    </tr>\n",
       "    <tr>\n",
       "      <th>7</th>\n",
       "      <td>2017</td>\n",
       "      <td>December</td>\n",
       "      <td>3</td>\n",
       "      <td>1</td>\n",
       "      <td>2</td>\n",
       "      <td>House</td>\n",
       "      <td>4 LUCERNE CRESCENT, FRANKSTON</td>\n",
       "      <td>Frankston</td>\n",
       "      <td>3199</td>\n",
       "      <td>395 pw</td>\n",
       "      <td>https://www.oldlistings.com.au/real-estate/VIC...</td>\n",
       "      <td>Lucerne Crescent, Frankston, Melbourne, City o...</td>\n",
       "      <td>-38.146375</td>\n",
       "      <td>145.166494</td>\n",
       "    </tr>\n",
       "  </tbody>\n",
       "</table>\n",
       "</div>"
      ],
      "text/plain": [
       "   year     month  bed  bath  car   type                        address  \\\n",
       "3  2021   January    3     1    2  House  4 LUCERNE CRESCENT, FRANKSTON   \n",
       "4  2021   January    3     1    2  House  4 LUCERNE CRESCENT, FRANKSTON   \n",
       "5  2020   January    3     1    2  House  4 LUCERNE CRESCENT, FRANKSTON   \n",
       "6  2020   January    3     1    2  House  4 LUCERNE CRESCENT, FRANKSTON   \n",
       "7  2017  December    3     1    2  House  4 LUCERNE CRESCENT, FRANKSTON   \n",
       "\n",
       "      suburb  code      rent_raw  \\\n",
       "3  Frankston  3199  395 per week   \n",
       "4  Frankston  3199           395   \n",
       "5  Frankston  3199  395 per week   \n",
       "6  Frankston  3199           395   \n",
       "7  Frankston  3199        395 pw   \n",
       "\n",
       "                                                 url  \\\n",
       "3  https://www.oldlistings.com.au/real-estate/VIC...   \n",
       "4  https://www.oldlistings.com.au/real-estate/VIC...   \n",
       "5  https://www.oldlistings.com.au/real-estate/VIC...   \n",
       "6  https://www.oldlistings.com.au/real-estate/VIC...   \n",
       "7  https://www.oldlistings.com.au/real-estate/VIC...   \n",
       "\n",
       "                                         loc_address        lat         lon  \n",
       "3  Lucerne Crescent, Frankston, Melbourne, City o... -38.146375  145.166494  \n",
       "4  Lucerne Crescent, Frankston, Melbourne, City o... -38.146375  145.166494  \n",
       "5  Lucerne Crescent, Frankston, Melbourne, City o... -38.146375  145.166494  \n",
       "6  Lucerne Crescent, Frankston, Melbourne, City o... -38.146375  145.166494  \n",
       "7  Lucerne Crescent, Frankston, Melbourne, City o... -38.146375  145.166494  "
      ]
     },
     "execution_count": 12,
     "metadata": {},
     "output_type": "execute_result"
    }
   ],
   "source": [
    "# preliminary processing on rent\n",
    "# remove the dollar sign as well as comma\n",
    "df['rent_raw'] = df['rent_raw'].str.replace(',', '')\n",
    "df['rent_raw'] = df['rent_raw'].str.replace('$', '')\n",
    "df.head()"
   ]
  },
  {
   "cell_type": "code",
   "execution_count": 13,
   "metadata": {
    "collapsed": false,
    "jupyter": {
     "outputs_hidden": false
    },
    "pycharm": {
     "name": "#%%\n"
    }
   },
   "outputs": [],
   "source": [
    "# split the rent to a column of number and another for description\n",
    "df['rent_raw'] = df['rent_raw'].str.lower()\n",
    "df['rent_disc'] = df['rent_raw'].str.extract('(\\D+)')\n",
    "df['rent_raw'] = df['rent_raw'].str.extract('(\\d+)')"
   ]
  },
  {
   "cell_type": "code",
   "execution_count": 14,
   "metadata": {
    "collapsed": false,
    "jupyter": {
     "outputs_hidden": false
    },
    "pycharm": {
     "name": "#%%\n"
    }
   },
   "outputs": [],
   "source": [
    "# deduplicate entries again as some entries have slight difference such as 'per week' and 'pw'\n",
    "deduplicate_subset = ['year', 'month', 'bed', 'bath', 'car', 'type', 'address', 'suburb', 'code', 'rent_raw']"
   ]
  },
  {
   "cell_type": "code",
   "execution_count": 15,
   "metadata": {
    "collapsed": false,
    "jupyter": {
     "outputs_hidden": false
    },
    "pycharm": {
     "name": "#%%\n"
    }
   },
   "outputs": [],
   "source": [
    "df = df.drop_duplicates(subset=deduplicate_subset, keep=False)\n",
    "# after deduplication, only properties listed more than once are retained\n",
    "df = df[df.groupby('address').address.transform('count') > 1]"
   ]
  },
  {
   "cell_type": "code",
   "execution_count": 16,
   "metadata": {
    "collapsed": false,
    "jupyter": {
     "outputs_hidden": false
    },
    "pycharm": {
     "name": "#%%\n"
    }
   },
   "outputs": [
    {
     "name": "stderr",
     "output_type": "stream",
     "text": [
      "/var/folders/y5/myhyydfd6h9dlwv1qmqtqhmr0000gn/T/ipykernel_21517/3543244544.py:2: FutureWarning: The default value of regex will change from True to False in a future version.\n",
      "  df['rent_disc'] = df['rent_disc'].str.replace(r'[^\\w\\s]+', '')\n"
     ]
    }
   ],
   "source": [
    "# remove all punctuation and space for further convinience\n",
    "df['rent_disc'] = df['rent_disc'].str.replace(r'[^\\w\\s]+', '')\n",
    "df['rent_disc'] = df['rent_disc'].str.replace(' ', '')"
   ]
  },
  {
   "cell_type": "code",
   "execution_count": 17,
   "metadata": {
    "collapsed": false,
    "jupyter": {
     "outputs_hidden": false
    },
    "pycharm": {
     "name": "#%%\n"
    }
   },
   "outputs": [
    {
     "data": {
      "text/plain": [
       "perweek           177155\n",
       "pw                106454\n",
       "weekly             31928\n",
       "                   23731\n",
       "wk                  3354\n",
       "                   ...  \n",
       "forauction             1\n",
       "priceonenquiry         1\n",
       "millionweekly          1\n",
       "justlisted             1\n",
       "opentooffers           1\n",
       "Name: rent_disc, Length: 84, dtype: int64"
      ]
     },
     "execution_count": 17,
     "metadata": {},
     "output_type": "execute_result"
    }
   ],
   "source": [
    "df['rent_disc'].value_counts()"
   ]
  },
  {
   "cell_type": "code",
   "execution_count": 18,
   "metadata": {
    "collapsed": false,
    "jupyter": {
     "outputs_hidden": false
    },
    "pycharm": {
     "name": "#%%\n"
    }
   },
   "outputs": [],
   "source": [
    "# sort rent into three types\n",
    "week = ['perweek', 'pw', 'weekly', 'wk', 'week', 'perweekgst']\n",
    "month = ['permonth', 'monthly', 'pcm', 'pm', 'month']\n",
    "year = ['pa', 'perannum', 'annually']"
   ]
  },
  {
   "cell_type": "code",
   "execution_count": 19,
   "metadata": {
    "collapsed": false,
    "jupyter": {
     "outputs_hidden": false
    },
    "pycharm": {
     "name": "#%%\n"
    }
   },
   "outputs": [],
   "source": [
    "df['rent_disc'] = df['rent_disc'].replace(week, 7)\n",
    "df['rent_disc'] = df['rent_disc'].replace(month, 30)\n",
    "df['rent_disc'] = df['rent_disc'].replace(year, 365)"
   ]
  },
  {
   "cell_type": "code",
   "execution_count": 20,
   "metadata": {
    "collapsed": false,
    "jupyter": {
     "outputs_hidden": false
    },
    "pycharm": {
     "name": "#%%\n"
    }
   },
   "outputs": [],
   "source": [
    "# remove entries without proper rent descriptions\n",
    "allowed_vals = [7, 30, 365]\n",
    "df = df[df['rent_disc'].isin(allowed_vals)]\n",
    "df['rent_disc'] = df['rent_disc'].astype('int')\n",
    "df = df[~df['rent_raw'].isnull()]\n",
    "df = df[df['rent_raw'].str.isnumeric()]\n",
    "df['rent_raw'] = df['rent_raw'].astype('int')"
   ]
  },
  {
   "cell_type": "code",
   "execution_count": 21,
   "metadata": {
    "collapsed": false,
    "jupyter": {
     "outputs_hidden": false
    },
    "pycharm": {
     "name": "#%%\n"
    }
   },
   "outputs": [],
   "source": [
    "# convert all rent into rent per week for consistency\n",
    "df['weekly_rent'] =  df['rent_raw'] / df['rent_disc'] * 7\n",
    "df = df.drop(['rent_disc', 'rent_raw'], axis=1)"
   ]
  },
  {
   "cell_type": "code",
   "execution_count": 22,
   "metadata": {
    "collapsed": false,
    "jupyter": {
     "outputs_hidden": false
    },
    "pycharm": {
     "name": "#%%\n"
    }
   },
   "outputs": [],
   "source": [
    "# as all listing does not have a specific date\n",
    "# all dates are assumed to be the first date of each month\n",
    "# df['day'] = 1\n",
    "df['month'] = pd.to_datetime(df.month, format='%B').dt.month\n",
    "df['list_date'] = pd.to_datetime(df[['year', 'month']].assign(DAY=1))\n",
    "df = df.drop(['year', 'month'], axis=1)"
   ]
  },
  {
   "cell_type": "code",
   "execution_count": 23,
   "metadata": {
    "collapsed": false,
    "jupyter": {
     "outputs_hidden": false
    },
    "pycharm": {
     "name": "#%%\n"
    }
   },
   "outputs": [
    {
     "data": {
      "text/html": [
       "<div>\n",
       "<style scoped>\n",
       "    .dataframe tbody tr th:only-of-type {\n",
       "        vertical-align: middle;\n",
       "    }\n",
       "\n",
       "    .dataframe tbody tr th {\n",
       "        vertical-align: top;\n",
       "    }\n",
       "\n",
       "    .dataframe thead th {\n",
       "        text-align: right;\n",
       "    }\n",
       "</style>\n",
       "<table border=\"1\" class=\"dataframe\">\n",
       "  <thead>\n",
       "    <tr style=\"text-align: right;\">\n",
       "      <th></th>\n",
       "      <th>bed</th>\n",
       "      <th>bath</th>\n",
       "      <th>car</th>\n",
       "      <th>type</th>\n",
       "      <th>address</th>\n",
       "      <th>suburb</th>\n",
       "      <th>code</th>\n",
       "      <th>url</th>\n",
       "      <th>loc_address</th>\n",
       "      <th>lat</th>\n",
       "      <th>lon</th>\n",
       "      <th>weekly_rent</th>\n",
       "      <th>list_date</th>\n",
       "    </tr>\n",
       "  </thead>\n",
       "  <tbody>\n",
       "    <tr>\n",
       "      <th>9</th>\n",
       "      <td>3</td>\n",
       "      <td>1</td>\n",
       "      <td>2</td>\n",
       "      <td>House</td>\n",
       "      <td>4 LUCERNE CRESCENT, FRANKSTON</td>\n",
       "      <td>Frankston</td>\n",
       "      <td>3199</td>\n",
       "      <td>https://www.oldlistings.com.au/real-estate/VIC...</td>\n",
       "      <td>Lucerne Crescent, Frankston, Melbourne, City o...</td>\n",
       "      <td>-38.146375</td>\n",
       "      <td>145.166494</td>\n",
       "      <td>350.0</td>\n",
       "      <td>2016-12-01</td>\n",
       "    </tr>\n",
       "    <tr>\n",
       "      <th>10</th>\n",
       "      <td>3</td>\n",
       "      <td>1</td>\n",
       "      <td>2</td>\n",
       "      <td>House</td>\n",
       "      <td>4 LUCERNE CRESCENT, FRANKSTON</td>\n",
       "      <td>Frankston</td>\n",
       "      <td>3199</td>\n",
       "      <td>https://www.oldlistings.com.au/real-estate/VIC...</td>\n",
       "      <td>Lucerne Crescent, Frankston, Melbourne, City o...</td>\n",
       "      <td>-38.146375</td>\n",
       "      <td>145.166494</td>\n",
       "      <td>330.0</td>\n",
       "      <td>2016-12-01</td>\n",
       "    </tr>\n",
       "    <tr>\n",
       "      <th>11</th>\n",
       "      <td>3</td>\n",
       "      <td>1</td>\n",
       "      <td>2</td>\n",
       "      <td>House</td>\n",
       "      <td>4 LUCERNE CRESCENT, FRANKSTON</td>\n",
       "      <td>Frankston</td>\n",
       "      <td>3199</td>\n",
       "      <td>https://www.oldlistings.com.au/real-estate/VIC...</td>\n",
       "      <td>Lucerne Crescent, Frankston, Melbourne, City o...</td>\n",
       "      <td>-38.146375</td>\n",
       "      <td>145.166494</td>\n",
       "      <td>330.0</td>\n",
       "      <td>2016-01-01</td>\n",
       "    </tr>\n",
       "    <tr>\n",
       "      <th>12</th>\n",
       "      <td>3</td>\n",
       "      <td>1</td>\n",
       "      <td>2</td>\n",
       "      <td>House</td>\n",
       "      <td>4 LUCERNE CRESCENT, FRANKSTON</td>\n",
       "      <td>Frankston</td>\n",
       "      <td>3199</td>\n",
       "      <td>https://www.oldlistings.com.au/real-estate/VIC...</td>\n",
       "      <td>Lucerne Crescent, Frankston, Melbourne, City o...</td>\n",
       "      <td>-38.146375</td>\n",
       "      <td>145.166494</td>\n",
       "      <td>330.0</td>\n",
       "      <td>2015-11-01</td>\n",
       "    </tr>\n",
       "    <tr>\n",
       "      <th>13</th>\n",
       "      <td>3</td>\n",
       "      <td>1</td>\n",
       "      <td>3</td>\n",
       "      <td>House</td>\n",
       "      <td>19 FRALLON CRESCENT, FRANKSTON</td>\n",
       "      <td>Frankston</td>\n",
       "      <td>3199</td>\n",
       "      <td>https://www.oldlistings.com.au/real-estate/VIC...</td>\n",
       "      <td>Frallon Crescent, Karingal, Frankston, Melbour...</td>\n",
       "      <td>-38.136790</td>\n",
       "      <td>145.152331</td>\n",
       "      <td>420.0</td>\n",
       "      <td>2021-01-01</td>\n",
       "    </tr>\n",
       "  </tbody>\n",
       "</table>\n",
       "</div>"
      ],
      "text/plain": [
       "    bed  bath  car   type                         address     suburb  code  \\\n",
       "9     3     1    2  House   4 LUCERNE CRESCENT, FRANKSTON  Frankston  3199   \n",
       "10    3     1    2  House   4 LUCERNE CRESCENT, FRANKSTON  Frankston  3199   \n",
       "11    3     1    2  House   4 LUCERNE CRESCENT, FRANKSTON  Frankston  3199   \n",
       "12    3     1    2  House   4 LUCERNE CRESCENT, FRANKSTON  Frankston  3199   \n",
       "13    3     1    3  House  19 FRALLON CRESCENT, FRANKSTON  Frankston  3199   \n",
       "\n",
       "                                                  url  \\\n",
       "9   https://www.oldlistings.com.au/real-estate/VIC...   \n",
       "10  https://www.oldlistings.com.au/real-estate/VIC...   \n",
       "11  https://www.oldlistings.com.au/real-estate/VIC...   \n",
       "12  https://www.oldlistings.com.au/real-estate/VIC...   \n",
       "13  https://www.oldlistings.com.au/real-estate/VIC...   \n",
       "\n",
       "                                          loc_address        lat         lon  \\\n",
       "9   Lucerne Crescent, Frankston, Melbourne, City o... -38.146375  145.166494   \n",
       "10  Lucerne Crescent, Frankston, Melbourne, City o... -38.146375  145.166494   \n",
       "11  Lucerne Crescent, Frankston, Melbourne, City o... -38.146375  145.166494   \n",
       "12  Lucerne Crescent, Frankston, Melbourne, City o... -38.146375  145.166494   \n",
       "13  Frallon Crescent, Karingal, Frankston, Melbour... -38.136790  145.152331   \n",
       "\n",
       "    weekly_rent  list_date  \n",
       "9         350.0 2016-12-01  \n",
       "10        330.0 2016-12-01  \n",
       "11        330.0 2016-01-01  \n",
       "12        330.0 2015-11-01  \n",
       "13        420.0 2021-01-01  "
      ]
     },
     "execution_count": 23,
     "metadata": {},
     "output_type": "execute_result"
    }
   ],
   "source": [
    "df.head()"
   ]
  },
  {
   "cell_type": "code",
   "execution_count": 24,
   "metadata": {
    "collapsed": false,
    "jupyter": {
     "outputs_hidden": false
    },
    "pycharm": {
     "name": "#%%\n"
    }
   },
   "outputs": [
    {
     "data": {
      "text/plain": [
       "303640"
      ]
     },
     "execution_count": 24,
     "metadata": {},
     "output_type": "execute_result"
    }
   ],
   "source": [
    "# check once again to make sure there is no duplicate and less than 2 record\n",
    "df = df[df.groupby('address').address.transform('count') > 1]\n",
    "len(df)"
   ]
  },
  {
   "cell_type": "code",
   "execution_count": 25,
   "metadata": {
    "collapsed": false,
    "jupyter": {
     "outputs_hidden": false
    },
    "pycharm": {
     "name": "#%%\n"
    }
   },
   "outputs": [
    {
     "data": {
      "text/plain": [
       "82556"
      ]
     },
     "execution_count": 25,
     "metadata": {},
     "output_type": "execute_result"
    }
   ],
   "source": [
    "# check the number of unique properties in future investigation\n",
    "len(list(set(df['address'].tolist())))"
   ]
  },
  {
   "cell_type": "code",
   "execution_count": 27,
   "metadata": {
    "collapsed": false,
    "jupyter": {
     "outputs_hidden": false
    },
    "pycharm": {
     "name": "#%%\n"
    }
   },
   "outputs": [],
   "source": [
    "df.to_csv('../data/curated/processed_listing.csv')"
   ]
  },
  {
   "cell_type": "code",
   "execution_count": 28,
   "metadata": {
    "collapsed": false,
    "jupyter": {
     "outputs_hidden": false
    },
    "pycharm": {
     "name": "#%%\n"
    }
   },
   "outputs": [],
   "source": [
    "df.iloc[:1000, :].to_csv('../data/curated/SAMPLE_processed_listing.csv')"
   ]
  },
  {
   "cell_type": "code",
   "execution_count": null,
   "metadata": {
    "collapsed": false,
    "jupyter": {
     "outputs_hidden": false
    },
    "pycharm": {
     "name": "#%%\n"
    }
   },
   "outputs": [],
   "source": []
  }
 ],
 "metadata": {
  "kernelspec": {
   "display_name": "Python 3",
   "language": "python",
   "name": "python3"
  },
  "language_info": {
   "codemirror_mode": {
    "name": "ipython",
    "version": 3
   },
   "file_extension": ".py",
   "mimetype": "text/x-python",
   "name": "python",
   "nbconvert_exporter": "python",
   "pygments_lexer": "ipython3",
   "version": "3.8.5"
  }
 },
 "nbformat": 4,
 "nbformat_minor": 4
}
