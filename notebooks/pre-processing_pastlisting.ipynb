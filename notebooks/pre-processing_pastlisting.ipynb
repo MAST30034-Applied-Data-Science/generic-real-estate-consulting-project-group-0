{
 "cells": [
  {
   "cell_type": "code",
   "execution_count": 29,
   "outputs": [],
   "source": [
    "import pandas as pd"
   ],
   "metadata": {
    "collapsed": false,
    "pycharm": {
     "name": "#%%\n"
    }
   }
  },
  {
   "cell_type": "code",
   "execution_count": 30,
   "outputs": [],
   "source": [
    "files_dire = '../data/raw/'"
   ],
   "metadata": {
    "collapsed": false,
    "pycharm": {
     "name": "#%%\n"
    }
   }
  },
  {
   "cell_type": "code",
   "execution_count": 31,
   "outputs": [
    {
     "data": {
      "text/plain": "   year     month  bed  bath  car land_raw                type  \\\n0  2021   January  3.0   1.0  1.0      NaN  Rental_residential   \n1  2012  February  3.0   1.0  1.0      NaN  Rental_residential   \n2  2012   January  3.0   1.0  1.0      NaN  Rental_residential   \n3  2021   January  3.0   1.0  2.0      NaN               House   \n4  2021   January  3.0   1.0  2.0      NaN               House   \n\n                               address     suburb  code       rent_raw  \\\n0  1/31 DANDENONG ROAD EAST, FRANKSTON  Frankston  3199           $330   \n1  1/31 DANDENONG ROAD EAST, FRANKSTON  Frankston  3199  $320 per week   \n2  1/31 DANDENONG ROAD EAST, FRANKSTON  Frankston  3199  $340 per week   \n3        4 LUCERNE CRESCENT, FRANKSTON  Frankston  3199  $395 per week   \n4        4 LUCERNE CRESCENT, FRANKSTON  Frankston  3199           $395   \n\n                                                 url  \\\n0  https://www.oldlistings.com.au/real-estate/VIC...   \n1  https://www.oldlistings.com.au/real-estate/VIC...   \n2  https://www.oldlistings.com.au/real-estate/VIC...   \n3  https://www.oldlistings.com.au/real-estate/VIC...   \n4  https://www.oldlistings.com.au/real-estate/VIC...   \n\n                                         loc_address        lat         lon  \n0  Dandenong Road East, Frankston, Melbourne, Cit... -38.129890  145.132153  \n1  Dandenong Road East, Frankston, Melbourne, Cit... -38.129890  145.132153  \n2  Dandenong Road East, Frankston, Melbourne, Cit... -38.129890  145.132153  \n3  Lucerne Crescent, Frankston, Melbourne, City o... -38.146375  145.166494  \n4  Lucerne Crescent, Frankston, Melbourne, City o... -38.146375  145.166494  ",
      "text/html": "<div>\n<style scoped>\n    .dataframe tbody tr th:only-of-type {\n        vertical-align: middle;\n    }\n\n    .dataframe tbody tr th {\n        vertical-align: top;\n    }\n\n    .dataframe thead th {\n        text-align: right;\n    }\n</style>\n<table border=\"1\" class=\"dataframe\">\n  <thead>\n    <tr style=\"text-align: right;\">\n      <th></th>\n      <th>year</th>\n      <th>month</th>\n      <th>bed</th>\n      <th>bath</th>\n      <th>car</th>\n      <th>land_raw</th>\n      <th>type</th>\n      <th>address</th>\n      <th>suburb</th>\n      <th>code</th>\n      <th>rent_raw</th>\n      <th>url</th>\n      <th>loc_address</th>\n      <th>lat</th>\n      <th>lon</th>\n    </tr>\n  </thead>\n  <tbody>\n    <tr>\n      <th>0</th>\n      <td>2021</td>\n      <td>January</td>\n      <td>3.0</td>\n      <td>1.0</td>\n      <td>1.0</td>\n      <td>NaN</td>\n      <td>Rental_residential</td>\n      <td>1/31 DANDENONG ROAD EAST, FRANKSTON</td>\n      <td>Frankston</td>\n      <td>3199</td>\n      <td>$330</td>\n      <td>https://www.oldlistings.com.au/real-estate/VIC...</td>\n      <td>Dandenong Road East, Frankston, Melbourne, Cit...</td>\n      <td>-38.129890</td>\n      <td>145.132153</td>\n    </tr>\n    <tr>\n      <th>1</th>\n      <td>2012</td>\n      <td>February</td>\n      <td>3.0</td>\n      <td>1.0</td>\n      <td>1.0</td>\n      <td>NaN</td>\n      <td>Rental_residential</td>\n      <td>1/31 DANDENONG ROAD EAST, FRANKSTON</td>\n      <td>Frankston</td>\n      <td>3199</td>\n      <td>$320 per week</td>\n      <td>https://www.oldlistings.com.au/real-estate/VIC...</td>\n      <td>Dandenong Road East, Frankston, Melbourne, Cit...</td>\n      <td>-38.129890</td>\n      <td>145.132153</td>\n    </tr>\n    <tr>\n      <th>2</th>\n      <td>2012</td>\n      <td>January</td>\n      <td>3.0</td>\n      <td>1.0</td>\n      <td>1.0</td>\n      <td>NaN</td>\n      <td>Rental_residential</td>\n      <td>1/31 DANDENONG ROAD EAST, FRANKSTON</td>\n      <td>Frankston</td>\n      <td>3199</td>\n      <td>$340 per week</td>\n      <td>https://www.oldlistings.com.au/real-estate/VIC...</td>\n      <td>Dandenong Road East, Frankston, Melbourne, Cit...</td>\n      <td>-38.129890</td>\n      <td>145.132153</td>\n    </tr>\n    <tr>\n      <th>3</th>\n      <td>2021</td>\n      <td>January</td>\n      <td>3.0</td>\n      <td>1.0</td>\n      <td>2.0</td>\n      <td>NaN</td>\n      <td>House</td>\n      <td>4 LUCERNE CRESCENT, FRANKSTON</td>\n      <td>Frankston</td>\n      <td>3199</td>\n      <td>$395 per week</td>\n      <td>https://www.oldlistings.com.au/real-estate/VIC...</td>\n      <td>Lucerne Crescent, Frankston, Melbourne, City o...</td>\n      <td>-38.146375</td>\n      <td>145.166494</td>\n    </tr>\n    <tr>\n      <th>4</th>\n      <td>2021</td>\n      <td>January</td>\n      <td>3.0</td>\n      <td>1.0</td>\n      <td>2.0</td>\n      <td>NaN</td>\n      <td>House</td>\n      <td>4 LUCERNE CRESCENT, FRANKSTON</td>\n      <td>Frankston</td>\n      <td>3199</td>\n      <td>$395</td>\n      <td>https://www.oldlistings.com.au/real-estate/VIC...</td>\n      <td>Lucerne Crescent, Frankston, Melbourne, City o...</td>\n      <td>-38.146375</td>\n      <td>145.166494</td>\n    </tr>\n  </tbody>\n</table>\n</div>"
     },
     "execution_count": 31,
     "metadata": {},
     "output_type": "execute_result"
    }
   ],
   "source": [
    "df = pd.read_csv(f'{files_dire}/melbourne_past_listings.csv')\n",
    "# merge the past listing with the geocode\n",
    "# this should only left with properties tshat have been listed in 2021-2022\n",
    "geo_df = pd.read_csv(f'{files_dire}/geo.csv').iloc[: , 1:]\n",
    "df = df.merge(geo_df, on='address')\n",
    "df.head()"
   ],
   "metadata": {
    "collapsed": false,
    "pycharm": {
     "name": "#%%\n"
    }
   }
  },
  {
   "cell_type": "code",
   "execution_count": 32,
   "outputs": [
    {
     "data": {
      "text/plain": "228119"
     },
     "execution_count": 32,
     "metadata": {},
     "output_type": "execute_result"
    }
   ],
   "source": [
    "len(geo_df)"
   ],
   "metadata": {
    "collapsed": false,
    "pycharm": {
     "name": "#%%\n"
    }
   }
  },
  {
   "cell_type": "code",
   "execution_count": 33,
   "outputs": [
    {
     "data": {
      "text/plain": "year           1670322\nmonth          1670322\nbed            1670293\nbath           1670284\ncar            1500422\nland_raw         87532\ntype           1355579\naddress        1670322\nsuburb         1670322\ncode           1670322\nrent_raw       1670311\nurl            1670322\nloc_address    1670322\nlat            1670322\nlon            1670322\ndtype: int64"
     },
     "execution_count": 33,
     "metadata": {},
     "output_type": "execute_result"
    }
   ],
   "source": [
    "# now review how many NaN exist in each column\n",
    "df.count()"
   ],
   "metadata": {
    "collapsed": false,
    "pycharm": {
     "name": "#%%\n"
    }
   }
  },
  {
   "cell_type": "code",
   "execution_count": 34,
   "outputs": [],
   "source": [
    "# we also remove the column of the size of the land as only very small number of rows have records\n",
    "df = df.drop(['land_raw'], axis = 1)"
   ],
   "metadata": {
    "collapsed": false,
    "pycharm": {
     "name": "#%%\n"
    }
   }
  },
  {
   "cell_type": "code",
   "execution_count": 35,
   "outputs": [
    {
     "data": {
      "text/plain": "1500409"
     },
     "execution_count": 35,
     "metadata": {},
     "output_type": "execute_result"
    }
   ],
   "source": [
    "# as the research goal is mainly residential properties (for people to live in)\n",
    "# hence we filter out all properties that have zero bedroom or bathroom\n",
    "temp = ['bed', 'bath', 'car']\n",
    "df[temp] = df[temp].fillna(0)\n",
    "df[temp] = df[temp].astype('int64')\n",
    "df = df[~(df[temp] == 0).any(axis=1)]\n",
    "# print out the number of entries left\n",
    "len(df)"
   ],
   "metadata": {
    "collapsed": false,
    "pycharm": {
     "name": "#%%\n"
    }
   }
  },
  {
   "cell_type": "code",
   "execution_count": 36,
   "outputs": [
    {
     "data": {
      "text/plain": "House                 482146\nUnit/apmt             307874\nRental_residential    193945\nTownhouse             117726\nAvailableNow           70421\nUnit                   23672\nApartment              10032\nAvailable               5170\nAvailableDate           2635\nVilla                   2206\nStudio                  2136\nFlat                     945\nSales_residential         22\nRural                     10\nOther                      9\nForSale                    5\nVilla,House                3\nTerrace                    3\nDuplex                     1\nAcreage/semi-rural         1\nName: type, dtype: int64"
     },
     "execution_count": 36,
     "metadata": {},
     "output_type": "execute_result"
    }
   ],
   "source": [
    "# from the previous output of NaN count, the types of property seems broken\n",
    "df['type'].value_counts()"
   ],
   "metadata": {
    "collapsed": false,
    "pycharm": {
     "name": "#%%\n"
    }
   }
  },
  {
   "cell_type": "code",
   "execution_count": 37,
   "outputs": [
    {
     "data": {
      "text/plain": "Index(['House', 'Unit/apmt', 'Rental_residential', 'Townhouse', 'AvailableNow',\n       'Unit', 'Apartment', 'Available', 'AvailableDate', 'Villa', 'Studio',\n       'Flat', 'Sales_residential', 'Rural', 'Other', 'ForSale', 'Villa,House',\n       'Terrace', 'Duplex', 'Acreage/semi-rural'],\n      dtype='object')"
     },
     "execution_count": 37,
     "metadata": {},
     "output_type": "execute_result"
    }
   ],
   "source": [
    "df['type'].value_counts().index"
   ],
   "metadata": {
    "collapsed": false,
    "pycharm": {
     "name": "#%%\n"
    }
   }
  },
  {
   "cell_type": "code",
   "execution_count": 42,
   "outputs": [],
   "source": [
    "# some of the types has a really low count hence these are removed\n",
    "unknown_type = [ 'Rental_residential', 'AvailableNow', 'Available', 'AvailableDate', 'Other']\n",
    "remove_type = ['Villa', 'Rural', 'ForSale', 'Villa,House', 'Terrace', 'Duplex', 'Acreage/semi-rural', 'Sales_residential']"
   ],
   "metadata": {
    "collapsed": false,
    "pycharm": {
     "name": "#%%\n"
    }
   }
  },
  {
   "cell_type": "code",
   "execution_count": 43,
   "outputs": [],
   "source": [
    "df = df[~df['type'].isin(remove_type)]"
   ],
   "metadata": {
    "collapsed": false,
    "pycharm": {
     "name": "#%%\n"
    }
   }
  },
  {
   "cell_type": "code",
   "execution_count": 44,
   "outputs": [
    {
     "data": {
      "text/plain": "House        482146\nAUF          342523\nunknown      272180\nTownhouse    117726\nStudio         2136\nName: type, dtype: int64"
     },
     "execution_count": 44,
     "metadata": {},
     "output_type": "execute_result"
    }
   ],
   "source": [
    "# we want to combine categories in to three: house; Apartment / Unit / Flat; townhouse; studio\n",
    "df['type'].value_counts()"
   ],
   "metadata": {
    "collapsed": false,
    "pycharm": {
     "name": "#%%\n"
    }
   }
  },
  {
   "cell_type": "code",
   "execution_count": 45,
   "outputs": [
    {
     "data": {
      "text/plain": "House        482146\nAUF          342523\nunknown      272180\nTownhouse    117726\nStudio         2136\nName: type, dtype: int64"
     },
     "execution_count": 45,
     "metadata": {},
     "output_type": "execute_result"
    }
   ],
   "source": [
    "# 'AUF' stands for 'Apartment / Unit / Flat'\n",
    "df['type'] = df['type'].replace(['Unit/apmt', 'Apartment', 'Flat', 'Unit'], 'AUF')\n",
    "df['type'] = df['type'].replace(unknown_type, 'unknown')\n",
    "df['type'].value_counts()"
   ],
   "metadata": {
    "collapsed": false,
    "pycharm": {
     "name": "#%%\n"
    }
   }
  },
  {
   "cell_type": "code",
   "execution_count": 63,
   "outputs": [
    {
     "data": {
      "text/plain": "bed                0\nbath               0\ncar                0\ntype           84864\naddress            0\nsuburb             0\ncode               0\nurl                0\nloc_address        0\nlat                0\nlon                0\nweekly_rent        0\nlist_date          0\ndtype: int64"
     },
     "execution_count": 63,
     "metadata": {},
     "output_type": "execute_result"
    }
   ],
   "source": [
    "df.isna().sum()"
   ],
   "metadata": {
    "collapsed": false,
    "pycharm": {
     "name": "#%%\n"
    }
   }
  },
  {
   "cell_type": "code",
   "execution_count": 46,
   "outputs": [
    {
     "name": "stderr",
     "output_type": "stream",
     "text": [
      "/var/folders/y5/myhyydfd6h9dlwv1qmqtqhmr0000gn/T/ipykernel_79898/3517771870.py:4: FutureWarning: The default value of regex will change from True to False in a future version. In addition, single character regular expressions will *not* be treated as literal strings when regex=True.\n",
      "  df['rent_raw'] = df['rent_raw'].str.replace('$', '')\n"
     ]
    },
    {
     "data": {
      "text/plain": "   year     month  bed  bath  car     type  \\\n0  2021   January    3     1    1  unknown   \n1  2012  February    3     1    1  unknown   \n2  2012   January    3     1    1  unknown   \n3  2021   January    3     1    2    House   \n4  2021   January    3     1    2    House   \n\n                               address     suburb  code      rent_raw  \\\n0  1/31 DANDENONG ROAD EAST, FRANKSTON  Frankston  3199           330   \n1  1/31 DANDENONG ROAD EAST, FRANKSTON  Frankston  3199  320 per week   \n2  1/31 DANDENONG ROAD EAST, FRANKSTON  Frankston  3199  340 per week   \n3        4 LUCERNE CRESCENT, FRANKSTON  Frankston  3199  395 per week   \n4        4 LUCERNE CRESCENT, FRANKSTON  Frankston  3199           395   \n\n                                                 url  \\\n0  https://www.oldlistings.com.au/real-estate/VIC...   \n1  https://www.oldlistings.com.au/real-estate/VIC...   \n2  https://www.oldlistings.com.au/real-estate/VIC...   \n3  https://www.oldlistings.com.au/real-estate/VIC...   \n4  https://www.oldlistings.com.au/real-estate/VIC...   \n\n                                         loc_address        lat         lon  \n0  Dandenong Road East, Frankston, Melbourne, Cit... -38.129890  145.132153  \n1  Dandenong Road East, Frankston, Melbourne, Cit... -38.129890  145.132153  \n2  Dandenong Road East, Frankston, Melbourne, Cit... -38.129890  145.132153  \n3  Lucerne Crescent, Frankston, Melbourne, City o... -38.146375  145.166494  \n4  Lucerne Crescent, Frankston, Melbourne, City o... -38.146375  145.166494  ",
      "text/html": "<div>\n<style scoped>\n    .dataframe tbody tr th:only-of-type {\n        vertical-align: middle;\n    }\n\n    .dataframe tbody tr th {\n        vertical-align: top;\n    }\n\n    .dataframe thead th {\n        text-align: right;\n    }\n</style>\n<table border=\"1\" class=\"dataframe\">\n  <thead>\n    <tr style=\"text-align: right;\">\n      <th></th>\n      <th>year</th>\n      <th>month</th>\n      <th>bed</th>\n      <th>bath</th>\n      <th>car</th>\n      <th>type</th>\n      <th>address</th>\n      <th>suburb</th>\n      <th>code</th>\n      <th>rent_raw</th>\n      <th>url</th>\n      <th>loc_address</th>\n      <th>lat</th>\n      <th>lon</th>\n    </tr>\n  </thead>\n  <tbody>\n    <tr>\n      <th>0</th>\n      <td>2021</td>\n      <td>January</td>\n      <td>3</td>\n      <td>1</td>\n      <td>1</td>\n      <td>unknown</td>\n      <td>1/31 DANDENONG ROAD EAST, FRANKSTON</td>\n      <td>Frankston</td>\n      <td>3199</td>\n      <td>330</td>\n      <td>https://www.oldlistings.com.au/real-estate/VIC...</td>\n      <td>Dandenong Road East, Frankston, Melbourne, Cit...</td>\n      <td>-38.129890</td>\n      <td>145.132153</td>\n    </tr>\n    <tr>\n      <th>1</th>\n      <td>2012</td>\n      <td>February</td>\n      <td>3</td>\n      <td>1</td>\n      <td>1</td>\n      <td>unknown</td>\n      <td>1/31 DANDENONG ROAD EAST, FRANKSTON</td>\n      <td>Frankston</td>\n      <td>3199</td>\n      <td>320 per week</td>\n      <td>https://www.oldlistings.com.au/real-estate/VIC...</td>\n      <td>Dandenong Road East, Frankston, Melbourne, Cit...</td>\n      <td>-38.129890</td>\n      <td>145.132153</td>\n    </tr>\n    <tr>\n      <th>2</th>\n      <td>2012</td>\n      <td>January</td>\n      <td>3</td>\n      <td>1</td>\n      <td>1</td>\n      <td>unknown</td>\n      <td>1/31 DANDENONG ROAD EAST, FRANKSTON</td>\n      <td>Frankston</td>\n      <td>3199</td>\n      <td>340 per week</td>\n      <td>https://www.oldlistings.com.au/real-estate/VIC...</td>\n      <td>Dandenong Road East, Frankston, Melbourne, Cit...</td>\n      <td>-38.129890</td>\n      <td>145.132153</td>\n    </tr>\n    <tr>\n      <th>3</th>\n      <td>2021</td>\n      <td>January</td>\n      <td>3</td>\n      <td>1</td>\n      <td>2</td>\n      <td>House</td>\n      <td>4 LUCERNE CRESCENT, FRANKSTON</td>\n      <td>Frankston</td>\n      <td>3199</td>\n      <td>395 per week</td>\n      <td>https://www.oldlistings.com.au/real-estate/VIC...</td>\n      <td>Lucerne Crescent, Frankston, Melbourne, City o...</td>\n      <td>-38.146375</td>\n      <td>145.166494</td>\n    </tr>\n    <tr>\n      <th>4</th>\n      <td>2021</td>\n      <td>January</td>\n      <td>3</td>\n      <td>1</td>\n      <td>2</td>\n      <td>House</td>\n      <td>4 LUCERNE CRESCENT, FRANKSTON</td>\n      <td>Frankston</td>\n      <td>3199</td>\n      <td>395</td>\n      <td>https://www.oldlistings.com.au/real-estate/VIC...</td>\n      <td>Lucerne Crescent, Frankston, Melbourne, City o...</td>\n      <td>-38.146375</td>\n      <td>145.166494</td>\n    </tr>\n  </tbody>\n</table>\n</div>"
     },
     "execution_count": 46,
     "metadata": {},
     "output_type": "execute_result"
    }
   ],
   "source": [
    "# preliminary processing on rent\n",
    "# remove the dollar sign as well as comma\n",
    "df['rent_raw'] = df['rent_raw'].str.replace(',', '')\n",
    "df['rent_raw'] = df['rent_raw'].str.replace('$', '')\n",
    "df.head()"
   ],
   "metadata": {
    "collapsed": false,
    "pycharm": {
     "name": "#%%\n"
    }
   }
  },
  {
   "cell_type": "code",
   "execution_count": 47,
   "outputs": [],
   "source": [
    "# split the rent to a column of number and another for description\n",
    "df['rent_raw'] = df['rent_raw'].str.lower()\n",
    "df['rent_disc'] = df['rent_raw'].str.extract('(\\D+)')\n",
    "df['rent_raw'] = df['rent_raw'].str.extract('(\\d+)')"
   ],
   "metadata": {
    "collapsed": false,
    "pycharm": {
     "name": "#%%\n"
    }
   }
  },
  {
   "cell_type": "code",
   "execution_count": 48,
   "outputs": [],
   "source": [
    "# deduplicate entries again as some entries have slight difference such as 'per week' and 'pw'\n",
    "deduplicate_subset = ['year', 'month', 'bed', 'bath', 'car', 'type', 'address', 'suburb', 'code', 'rent_raw']"
   ],
   "metadata": {
    "collapsed": false,
    "pycharm": {
     "name": "#%%\n"
    }
   }
  },
  {
   "cell_type": "code",
   "execution_count": 49,
   "outputs": [],
   "source": [
    "df = df.drop_duplicates(subset=deduplicate_subset, keep=False)\n",
    "# after deduplication, only properties listed more than once are retained\n",
    "df = df[df.groupby('address').address.transform('count') > 1]"
   ],
   "metadata": {
    "collapsed": false,
    "pycharm": {
     "name": "#%%\n"
    }
   }
  },
  {
   "cell_type": "code",
   "execution_count": 50,
   "outputs": [
    {
     "name": "stderr",
     "output_type": "stream",
     "text": [
      "/var/folders/y5/myhyydfd6h9dlwv1qmqtqhmr0000gn/T/ipykernel_79898/3543244544.py:2: FutureWarning: The default value of regex will change from True to False in a future version.\n",
      "  df['rent_disc'] = df['rent_disc'].str.replace(r'[^\\w\\s]+', '')\n"
     ]
    }
   ],
   "source": [
    "# remove all punctuation and space for further convinience\n",
    "df['rent_disc'] = df['rent_disc'].str.replace(r'[^\\w\\s]+', '')\n",
    "df['rent_disc'] = df['rent_disc'].str.replace(' ', '')"
   ],
   "metadata": {
    "collapsed": false,
    "pycharm": {
     "name": "#%%\n"
    }
   }
  },
  {
   "cell_type": "code",
   "execution_count": 51,
   "outputs": [
    {
     "data": {
      "text/plain": "perweek          244992\npw               152125\nweekly            38806\n                  32396\nwk                 4530\n                  ...  \nmillionweekly         1\nono                   1\njustlisted            1\nfixed                 1\nopentooffers          1\nName: rent_disc, Length: 88, dtype: int64"
     },
     "execution_count": 51,
     "metadata": {},
     "output_type": "execute_result"
    }
   ],
   "source": [
    "df['rent_disc'].value_counts()"
   ],
   "metadata": {
    "collapsed": false,
    "pycharm": {
     "name": "#%%\n"
    }
   }
  },
  {
   "cell_type": "code",
   "execution_count": 52,
   "outputs": [],
   "source": [
    "# sort rent into three types\n",
    "week = ['perweek', 'pw', 'weekly', 'wk', 'week', 'perweekgst']\n",
    "month = ['permonth', 'monthly', 'pcm', 'pm', 'month']\n",
    "year = ['pa', 'perannum', 'annually']"
   ],
   "metadata": {
    "collapsed": false,
    "pycharm": {
     "name": "#%%\n"
    }
   }
  },
  {
   "cell_type": "code",
   "execution_count": 53,
   "outputs": [],
   "source": [
    "df['rent_disc'] = df['rent_disc'].replace(week, 7)\n",
    "df['rent_disc'] = df['rent_disc'].replace(month, 30)\n",
    "df['rent_disc'] = df['rent_disc'].replace(year, 365)"
   ],
   "metadata": {
    "collapsed": false,
    "pycharm": {
     "name": "#%%\n"
    }
   }
  },
  {
   "cell_type": "code",
   "execution_count": 54,
   "outputs": [],
   "source": [
    "# remove entries without proper rent descriptions\n",
    "allowed_vals = [7, 30, 365]\n",
    "df = df[df['rent_disc'].isin(allowed_vals)]\n",
    "df['rent_disc'] = df['rent_disc'].astype('int')\n",
    "df = df[~df['rent_raw'].isnull()]\n",
    "df = df[df['rent_raw'].str.isnumeric()]\n",
    "df['rent_raw'] = df['rent_raw'].astype('int')"
   ],
   "metadata": {
    "collapsed": false,
    "pycharm": {
     "name": "#%%\n"
    }
   }
  },
  {
   "cell_type": "code",
   "execution_count": 55,
   "outputs": [],
   "source": [
    "# convert all rent into rent per week for consistency\n",
    "df['weekly_rent'] =  df['rent_raw'] / df['rent_disc'] * 7\n",
    "df = df.drop(['rent_disc', 'rent_raw'], axis=1)"
   ],
   "metadata": {
    "collapsed": false,
    "pycharm": {
     "name": "#%%\n"
    }
   }
  },
  {
   "cell_type": "code",
   "execution_count": 56,
   "outputs": [],
   "source": [
    "# as all listing does not have a specific date\n",
    "# all dates are assumed to be the first date of each month\n",
    "# df['day'] = 1\n",
    "df['month'] = pd.to_datetime(df.month, format='%B').dt.month\n",
    "df['list_date'] = pd.to_datetime(df[['year', 'month']].assign(DAY=1))\n",
    "df = df.drop(['year', 'month'], axis=1)"
   ],
   "metadata": {
    "collapsed": false,
    "pycharm": {
     "name": "#%%\n"
    }
   }
  },
  {
   "cell_type": "code",
   "execution_count": 62,
   "outputs": [
    {
     "data": {
      "text/plain": "    bed  bath  car     type                              address     suburb  \\\n1     3     1    1  unknown  1/31 DANDENONG ROAD EAST, FRANKSTON  Frankston   \n2     3     1    1  unknown  1/31 DANDENONG ROAD EAST, FRANKSTON  Frankston   \n9     3     1    2    House        4 LUCERNE CRESCENT, FRANKSTON  Frankston   \n10    3     1    2    House        4 LUCERNE CRESCENT, FRANKSTON  Frankston   \n11    3     1    2    House        4 LUCERNE CRESCENT, FRANKSTON  Frankston   \n\n    code                                                url  \\\n1   3199  https://www.oldlistings.com.au/real-estate/VIC...   \n2   3199  https://www.oldlistings.com.au/real-estate/VIC...   \n9   3199  https://www.oldlistings.com.au/real-estate/VIC...   \n10  3199  https://www.oldlistings.com.au/real-estate/VIC...   \n11  3199  https://www.oldlistings.com.au/real-estate/VIC...   \n\n                                          loc_address        lat         lon  \\\n1   Dandenong Road East, Frankston, Melbourne, Cit... -38.129890  145.132153   \n2   Dandenong Road East, Frankston, Melbourne, Cit... -38.129890  145.132153   \n9   Lucerne Crescent, Frankston, Melbourne, City o... -38.146375  145.166494   \n10  Lucerne Crescent, Frankston, Melbourne, City o... -38.146375  145.166494   \n11  Lucerne Crescent, Frankston, Melbourne, City o... -38.146375  145.166494   \n\n    weekly_rent  list_date  \n1         320.0 2012-02-01  \n2         340.0 2012-01-01  \n9         350.0 2016-12-01  \n10        330.0 2016-12-01  \n11        330.0 2016-01-01  ",
      "text/html": "<div>\n<style scoped>\n    .dataframe tbody tr th:only-of-type {\n        vertical-align: middle;\n    }\n\n    .dataframe tbody tr th {\n        vertical-align: top;\n    }\n\n    .dataframe thead th {\n        text-align: right;\n    }\n</style>\n<table border=\"1\" class=\"dataframe\">\n  <thead>\n    <tr style=\"text-align: right;\">\n      <th></th>\n      <th>bed</th>\n      <th>bath</th>\n      <th>car</th>\n      <th>type</th>\n      <th>address</th>\n      <th>suburb</th>\n      <th>code</th>\n      <th>url</th>\n      <th>loc_address</th>\n      <th>lat</th>\n      <th>lon</th>\n      <th>weekly_rent</th>\n      <th>list_date</th>\n    </tr>\n  </thead>\n  <tbody>\n    <tr>\n      <th>1</th>\n      <td>3</td>\n      <td>1</td>\n      <td>1</td>\n      <td>unknown</td>\n      <td>1/31 DANDENONG ROAD EAST, FRANKSTON</td>\n      <td>Frankston</td>\n      <td>3199</td>\n      <td>https://www.oldlistings.com.au/real-estate/VIC...</td>\n      <td>Dandenong Road East, Frankston, Melbourne, Cit...</td>\n      <td>-38.129890</td>\n      <td>145.132153</td>\n      <td>320.0</td>\n      <td>2012-02-01</td>\n    </tr>\n    <tr>\n      <th>2</th>\n      <td>3</td>\n      <td>1</td>\n      <td>1</td>\n      <td>unknown</td>\n      <td>1/31 DANDENONG ROAD EAST, FRANKSTON</td>\n      <td>Frankston</td>\n      <td>3199</td>\n      <td>https://www.oldlistings.com.au/real-estate/VIC...</td>\n      <td>Dandenong Road East, Frankston, Melbourne, Cit...</td>\n      <td>-38.129890</td>\n      <td>145.132153</td>\n      <td>340.0</td>\n      <td>2012-01-01</td>\n    </tr>\n    <tr>\n      <th>9</th>\n      <td>3</td>\n      <td>1</td>\n      <td>2</td>\n      <td>House</td>\n      <td>4 LUCERNE CRESCENT, FRANKSTON</td>\n      <td>Frankston</td>\n      <td>3199</td>\n      <td>https://www.oldlistings.com.au/real-estate/VIC...</td>\n      <td>Lucerne Crescent, Frankston, Melbourne, City o...</td>\n      <td>-38.146375</td>\n      <td>145.166494</td>\n      <td>350.0</td>\n      <td>2016-12-01</td>\n    </tr>\n    <tr>\n      <th>10</th>\n      <td>3</td>\n      <td>1</td>\n      <td>2</td>\n      <td>House</td>\n      <td>4 LUCERNE CRESCENT, FRANKSTON</td>\n      <td>Frankston</td>\n      <td>3199</td>\n      <td>https://www.oldlistings.com.au/real-estate/VIC...</td>\n      <td>Lucerne Crescent, Frankston, Melbourne, City o...</td>\n      <td>-38.146375</td>\n      <td>145.166494</td>\n      <td>330.0</td>\n      <td>2016-12-01</td>\n    </tr>\n    <tr>\n      <th>11</th>\n      <td>3</td>\n      <td>1</td>\n      <td>2</td>\n      <td>House</td>\n      <td>4 LUCERNE CRESCENT, FRANKSTON</td>\n      <td>Frankston</td>\n      <td>3199</td>\n      <td>https://www.oldlistings.com.au/real-estate/VIC...</td>\n      <td>Lucerne Crescent, Frankston, Melbourne, City o...</td>\n      <td>-38.146375</td>\n      <td>145.166494</td>\n      <td>330.0</td>\n      <td>2016-01-01</td>\n    </tr>\n  </tbody>\n</table>\n</div>"
     },
     "execution_count": 62,
     "metadata": {},
     "output_type": "execute_result"
    }
   ],
   "source": [
    "df.head()"
   ],
   "metadata": {
    "collapsed": false,
    "pycharm": {
     "name": "#%%\n"
    }
   }
  },
  {
   "cell_type": "code",
   "execution_count": 58,
   "outputs": [
    {
     "data": {
      "text/plain": "417344"
     },
     "execution_count": 58,
     "metadata": {},
     "output_type": "execute_result"
    }
   ],
   "source": [
    "# check once again to make sure there is no duplicate and less than 2 record\n",
    "df = df[df.groupby('address').address.transform('count') > 1]\n",
    "len(df)"
   ],
   "metadata": {
    "collapsed": false,
    "pycharm": {
     "name": "#%%\n"
    }
   }
  },
  {
   "cell_type": "code",
   "execution_count": 59,
   "outputs": [
    {
     "data": {
      "text/plain": "113309"
     },
     "execution_count": 59,
     "metadata": {},
     "output_type": "execute_result"
    }
   ],
   "source": [
    "# check the number of unique properties in future investigation\n",
    "len(list(set(df['address'].tolist())))"
   ],
   "metadata": {
    "collapsed": false,
    "pycharm": {
     "name": "#%%\n"
    }
   }
  },
  {
   "cell_type": "code",
   "execution_count": 60,
   "outputs": [],
   "source": [
    "df.to_csv('../data/curated/processed_listing.csv')"
   ],
   "metadata": {
    "collapsed": false,
    "pycharm": {
     "name": "#%%\n"
    }
   }
  },
  {
   "cell_type": "code",
   "execution_count": 61,
   "outputs": [],
   "source": [
    "df.iloc[:1000, :].to_csv('../data/curated/SAMPLE_processed_listing.csv')"
   ],
   "metadata": {
    "collapsed": false,
    "pycharm": {
     "name": "#%%\n"
    }
   }
  },
  {
   "cell_type": "code",
   "execution_count": 28,
   "outputs": [],
   "source": [],
   "metadata": {
    "collapsed": false,
    "pycharm": {
     "name": "#%%\n"
    }
   }
  }
 ],
 "metadata": {
  "kernelspec": {
   "display_name": "Python 3",
   "language": "python",
   "name": "python3"
  },
  "language_info": {
   "codemirror_mode": {
    "name": "ipython",
    "version": 2
   },
   "file_extension": ".py",
   "mimetype": "text/x-python",
   "name": "python",
   "nbconvert_exporter": "python",
   "pygments_lexer": "ipython2",
   "version": "2.7.6"
  }
 },
 "nbformat": 4,
 "nbformat_minor": 0
}