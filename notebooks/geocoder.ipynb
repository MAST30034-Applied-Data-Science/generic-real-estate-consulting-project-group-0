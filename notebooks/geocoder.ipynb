{
 "cells": [
  {
   "cell_type": "code",
   "execution_count": 34,
   "outputs": [
    {
     "name": "stdout",
     "output_type": "stream",
     "text": [
      "Requirement already satisfied: geopy in /Users/nhe/opt/anaconda3/lib/python3.9/site-packages (2.2.0)\r\n",
      "Requirement already satisfied: geographiclib<2,>=1.49 in /Users/nhe/opt/anaconda3/lib/python3.9/site-packages (from geopy) (1.52)\r\n"
     ]
    }
   ],
   "source": [
    "import pandas as pd\n",
    "!pip install geopy\n",
    "import geopy\n",
    "from tqdm import tqdm"
   ],
   "metadata": {
    "collapsed": false,
    "pycharm": {
     "name": "#%%\n"
    }
   }
  },
  {
   "cell_type": "code",
   "execution_count": 35,
   "outputs": [],
   "source": [
    "property_files = '../data/'"
   ],
   "metadata": {
    "collapsed": false,
    "pycharm": {
     "name": "#%%\n"
    }
   }
  },
  {
   "cell_type": "code",
   "execution_count": 36,
   "outputs": [],
   "source": [
    "df = pd.read_csv(f'{property_files}curated/past_listing.csv')\n",
    "df = df[df.groupby('address').address.transform('count') > 1]"
   ],
   "metadata": {
    "collapsed": false,
    "pycharm": {
     "name": "#%%\n"
    }
   }
  },
  {
   "cell_type": "code",
   "execution_count": 37,
   "outputs": [
    {
     "data": {
      "text/plain": "230701"
     },
     "execution_count": 37,
     "metadata": {},
     "output_type": "execute_result"
    }
   ],
   "source": [
    "addresses = df.loc[df['year'] == 2022]['address'].tolist()\n",
    "addresses = df.loc[df['year'] == 2021]['address'].tolist() + addresses\n",
    "addresses = list(set(addresses))\n",
    "len(addresses)"
   ],
   "metadata": {
    "collapsed": false,
    "pycharm": {
     "name": "#%%\n"
    }
   }
  },
  {
   "cell_type": "code",
   "execution_count": 38,
   "metadata": {},
   "outputs": [],
   "source": [
    "# geocode_df = pd.read_csv('geocode.csv');"
   ]
  },
  {
   "cell_type": "code",
   "execution_count": 39,
   "metadata": {},
   "outputs": [
    {
     "data": {
      "text/plain": "'4004/189 WESTON STREET, BRUNSWICK EAST'"
     },
     "execution_count": 39,
     "metadata": {},
     "output_type": "execute_result"
    }
   ],
   "source": [
    "addresses[0]"
   ]
  },
  {
   "cell_type": "code",
   "execution_count": 40,
   "metadata": {},
   "outputs": [],
   "source": [
    "# geocode_df\n",
    "geocode_df = []\n",
    "coded_l = []\n",
    "# coded_l = geocode_df.address.to_list()"
   ]
  },
  {
   "cell_type": "code",
   "execution_count": 41,
   "outputs": [
    {
     "data": {
      "text/plain": "                           address  \\\n0      5 MECKLENBURG CLOSE, EPPING   \n1  29/202 WATTLETREE ROAD, MALVERN   \n2   6/51 DAVIS AVENUE, SOUTH YARRA   \n3       22 STEWART STREET, SEYMOUR   \n4     1/10 ORCHARD ROAD, BAYSWATER   \n\n                                         loc_address        lat         lon  \n0  Mecklenburg Close, Lyndarum Estate, Epping, Me... -37.636569  145.019908  \n1  Wattletree Road, Malvern, Melbourne, City of S... -37.863492  145.037014  \n2  Davis Avenue, South Yarra, Melbourne, City of ... -37.840817  144.990352  \n3  Stewart Street, Seymour, Shire of Mitchell, Vi... -37.030939  145.140848  \n4  Orchard Road, Bayswater, Melbourne, City of Kn... -37.839234  145.259483  ",
      "text/html": "<div>\n<style scoped>\n    .dataframe tbody tr th:only-of-type {\n        vertical-align: middle;\n    }\n\n    .dataframe tbody tr th {\n        vertical-align: top;\n    }\n\n    .dataframe thead th {\n        text-align: right;\n    }\n</style>\n<table border=\"1\" class=\"dataframe\">\n  <thead>\n    <tr style=\"text-align: right;\">\n      <th></th>\n      <th>address</th>\n      <th>loc_address</th>\n      <th>lat</th>\n      <th>lon</th>\n    </tr>\n  </thead>\n  <tbody>\n    <tr>\n      <th>0</th>\n      <td>5 MECKLENBURG CLOSE, EPPING</td>\n      <td>Mecklenburg Close, Lyndarum Estate, Epping, Me...</td>\n      <td>-37.636569</td>\n      <td>145.019908</td>\n    </tr>\n    <tr>\n      <th>1</th>\n      <td>29/202 WATTLETREE ROAD, MALVERN</td>\n      <td>Wattletree Road, Malvern, Melbourne, City of S...</td>\n      <td>-37.863492</td>\n      <td>145.037014</td>\n    </tr>\n    <tr>\n      <th>2</th>\n      <td>6/51 DAVIS AVENUE, SOUTH YARRA</td>\n      <td>Davis Avenue, South Yarra, Melbourne, City of ...</td>\n      <td>-37.840817</td>\n      <td>144.990352</td>\n    </tr>\n    <tr>\n      <th>3</th>\n      <td>22 STEWART STREET, SEYMOUR</td>\n      <td>Stewart Street, Seymour, Shire of Mitchell, Vi...</td>\n      <td>-37.030939</td>\n      <td>145.140848</td>\n    </tr>\n    <tr>\n      <th>4</th>\n      <td>1/10 ORCHARD ROAD, BAYSWATER</td>\n      <td>Orchard Road, Bayswater, Melbourne, City of Kn...</td>\n      <td>-37.839234</td>\n      <td>145.259483</td>\n    </tr>\n  </tbody>\n</table>\n</div>"
     },
     "execution_count": 41,
     "metadata": {},
     "output_type": "execute_result"
    }
   ],
   "source": [
    "df2 = pd.read_csv(f'{property_files}raw/geo.csv').iloc[: , 1:]\n",
    "df2.head()"
   ],
   "metadata": {
    "collapsed": false,
    "pycharm": {
     "name": "#%%\n"
    }
   }
  },
  {
   "cell_type": "code",
   "execution_count": 23,
   "outputs": [
    {
     "name": "stderr",
     "output_type": "stream",
     "text": [
      "100%|██████████| 197044/197044 [04:29<00:00, 731.65it/s]\n"
     ]
    }
   ],
   "source": [
    "temp = []\n",
    "addresses_saved = df2['address'].tolist()\n",
    "for i in tqdm(addresses):\n",
    "    if i not in addresses_saved:\n",
    "        temp.append(i)"
   ],
   "metadata": {
    "collapsed": false,
    "pycharm": {
     "name": "#%%\n"
    }
   }
  },
  {
   "cell_type": "code",
   "execution_count": 24,
   "outputs": [
    {
     "data": {
      "text/plain": "32778"
     },
     "execution_count": 24,
     "metadata": {},
     "output_type": "execute_result"
    }
   ],
   "source": [
    "addresses = temp\n",
    "len(addresses)"
   ],
   "metadata": {
    "collapsed": false,
    "pycharm": {
     "name": "#%%\n"
    }
   }
  },
  {
   "cell_type": "code",
   "execution_count": 12,
   "outputs": [
    {
     "name": "stderr",
     "output_type": "stream",
     "text": [
      "100%|██████████| 62353/62353 [15:59:26<00:00,  1.08it/s]   \n"
     ]
    }
   ],
   "source": [
    "count = 0;\n",
    "geo_data = []\n",
    "for address in tqdm(addresses):\n",
    "    locator = geopy.Nominatim(user_agent=\"myGeocoder\");\n",
    "    location = locator.geocode(address+\", VICTORIA\",timeout=None);\n",
    "    if location != None:\n",
    "        info = [address, location.address, location.latitude, location.longitude]\n",
    "        geo_data.append(info)\n",
    "        df2.loc[len(df2)] = info"
   ],
   "metadata": {
    "collapsed": false,
    "pycharm": {
     "name": "#%%\n"
    }
   }
  },
  {
   "cell_type": "code",
   "execution_count": 13,
   "outputs": [],
   "source": [
    "df2.head()\n",
    "df2.to_csv(f'{property_files}/raw/geo.csv')"
   ],
   "metadata": {
    "collapsed": false,
    "pycharm": {
     "name": "#%%\n"
    }
   }
  }
 ],
 "metadata": {
  "kernelspec": {
   "display_name": "Python 3",
   "language": "python",
   "name": "python3"
  },
  "language_info": {
   "codemirror_mode": {
    "name": "ipython",
    "version": 3
   },
   "file_extension": ".py",
   "mimetype": "text/x-python",
   "name": "python",
   "nbconvert_exporter": "python",
   "pygments_lexer": "ipython3",
   "version": "3.8.5"
  }
 },
 "nbformat": 4,
 "nbformat_minor": 4
}