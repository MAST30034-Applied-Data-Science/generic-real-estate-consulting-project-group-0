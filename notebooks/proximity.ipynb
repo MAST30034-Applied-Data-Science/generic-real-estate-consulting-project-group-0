{
 "cells": [
  {
   "cell_type": "code",
   "execution_count": null,
   "outputs": [],
   "source": [
    "from tqdm import tqdm\n",
    "import requests\n",
    "import pandas as pd\n",
    "import os"
   ],
   "metadata": {
    "collapsed": false,
    "pycharm": {
     "name": "#%%\n"
    }
   }
  },
  {
   "cell_type": "code",
   "execution_count": null,
   "outputs": [],
   "source": [
    "files_dire = '../data/curated/'\n",
    "df = pd.read_csv(f'{files_dire}/listing_with_features.csv').iloc[: , 1:]\n",
    "df.head()"
   ],
   "metadata": {
    "collapsed": false,
    "pycharm": {
     "name": "#%%\n"
    }
   }
  },
  {
   "cell_type": "markdown",
   "source": [
    "## Magic Numbers"
   ],
   "metadata": {
    "collapsed": false
   }
  },
  {
   "cell_type": "code",
   "execution_count": null,
   "outputs": [],
   "source": [
    "# the location of melbourne central\n",
    "mel_lat = -37.810246\n",
    "mel_lon = 144.962768"
   ],
   "metadata": {
    "collapsed": false,
    "pycharm": {
     "name": "#%%\n"
    }
   }
  },
  {
   "cell_type": "code",
   "execution_count": null,
   "outputs": [],
   "source": [
    "# use Google Map API\n",
    "API_KEY = 'YOUR_API_KEY'\n",
    "payload = {}\n",
    "headers = {}\n",
    "values = ['distance', 'duration']"
   ],
   "metadata": {
    "collapsed": false,
    "pycharm": {
     "name": "#%%\n"
    }
   }
  },
  {
   "cell_type": "code",
   "execution_count": null,
   "outputs": [],
   "source": [
    "# the features that are going to be used by the API\n",
    "features = ['address', 'pri_lat', 'pri_lon', 'sec_lat', 'sec_lon', 'ed_lat', 'ed_lon', 'train_lat', 'train_lon']\n",
    "df = df[features]\n",
    "n_rows = len(df)\n",
    "print(n_rows)"
   ],
   "metadata": {
    "collapsed": false,
    "pycharm": {
     "name": "#%%\n"
    }
   }
  },
  {
   "cell_type": "code",
   "execution_count": 84,
   "outputs": [],
   "source": [
    "# as the dataset is huge and requires hours of runtime\n",
    "# each run session is cashed locally so they are not requested multiple times\n",
    "if os.path.exists('../data/raw/api.csv'):\n",
    "    df_done = pd.read_csv('../data/raw/api.csv').iloc[:,1:]\n",
    "    requested_addresses = df_done['address'].tolist()\n",
    "    # only retain the addresses that have not been requested through Google API\n",
    "    df = df[~df['address'].isin(requested_addresses)]"
   ],
   "metadata": {
    "collapsed": false,
    "pycharm": {
     "name": "#%%\n"
    }
   }
  },
  {
   "cell_type": "code",
   "execution_count": null,
   "outputs": [],
   "source": [
    "results = []"
   ],
   "metadata": {
    "collapsed": false,
    "pycharm": {
     "name": "#%%\n"
    }
   }
  },
  {
   "cell_type": "code",
   "execution_count": null,
   "outputs": [],
   "source": [
    "for row_no in tqdm(range(n_rows)):\n",
    "    try:\n",
    "        i = df.iloc[row_no]\n",
    "        # make the address acceptable by the API\n",
    "        req_add = i['address'].replace(\" \", \"+\").replace(\",\", \"%2C\") +'%2C+Victoria'\n",
    "        url = f'https://maps.googleapis.com/maps/api/distancematrix/json?origins={req_add}&destinations={i[1]}%2C{i[2]}%7C{i[3]}%2C{i[4]}%7C{i[5]}%2C{i[6]}%7C{i[7]}%2C{i[8]}%7C{mel_lat}%2C{mel_lon}&key={API_KEY}'\n",
    "        response = requests.request(\"GET\", url, headers=headers, data=payload)\n",
    "        x = response.json()\n",
    "        result = [i['address']]\n",
    "        for i in range(5):\n",
    "            for value in values:\n",
    "                result.append(x['rows'][0]['elements'][i][value]['value'])\n",
    "        # store the result to a list\n",
    "        results.append(result)\n",
    "    except:\n",
    "        pass"
   ],
   "metadata": {
    "collapsed": false,
    "pycharm": {
     "name": "#%%\n"
    }
   }
  },
  {
   "cell_type": "code",
   "execution_count": 83,
   "outputs": [
    {
     "name": "stderr",
     "output_type": "stream",
     "text": [
      "/var/folders/y5/myhyydfd6h9dlwv1qmqtqhmr0000gn/T/ipykernel_90090/1521983238.py:3: FutureWarning: The frame.append method is deprecated and will be removed from pandas in a future version. Use pandas.concat instead.\n",
      "  df_done = df_done.append(pd.DataFrame(results, columns=column_names))\n"
     ]
    }
   ],
   "source": [
    "# save the result to a CSV for local caches and feature combinations\n",
    "column_names = ['address', 'primary_distance', 'primary_duration', 'secondary_distance', 'secondary_duration', 'ed_distance', 'ed_duration', 'train_distance','train_duration', 'melb_distance', 'melb_duration']\n",
    "if os.path.exists('../data/raw/api.csv'):\n",
    "    df_done = df_done.append(pd.DataFrame(results, columns=column_names))\n",
    "else:\n",
    "    df_done = pd.DataFrame(results, columns=column_names)"
   ],
   "metadata": {
    "collapsed": false,
    "pycharm": {
     "name": "#%%\n"
    }
   }
  },
  {
   "cell_type": "code",
   "execution_count": null,
   "outputs": [],
   "source": [
    "df_done.to_csv('../data/raw/api.csv')"
   ],
   "metadata": {
    "collapsed": false,
    "pycharm": {
     "name": "#%%\n"
    }
   }
  },
  {
   "cell_type": "markdown",
   "source": [
    "### Merge with the listing information with features engineered"
   ],
   "metadata": {
    "collapsed": false
   }
  },
  {
   "cell_type": "code",
   "execution_count": 85,
   "outputs": [],
   "source": [
    "df3 = pd.read_csv('../data/curated/listing_with_features.csv').iloc[:,1:]"
   ],
   "metadata": {
    "collapsed": false,
    "pycharm": {
     "name": "#%%\n"
    }
   }
  },
  {
   "cell_type": "code",
   "execution_count": 86,
   "outputs": [
    {
     "data": {
      "text/plain": "   bed  bath  car   type                            address      suburb  \\\n0    3     1    2    AUF         . GLYNDON ROAD, CAMBERWELL  Camberwell   \n1    4     2    3    AUF         1 NEVIS STREET, CAMBERWELL  Camberwell   \n2    2     1    1    AUF  1/10 GLENCAIRN AVENUE, CAMBERWELL  Camberwell   \n3    3     2    2  House     1/1017 TOORAK ROAD, CAMBERWELL  Camberwell   \n4    2     1    1  House       1/11 EDDY STREET, CAMBERWELL  Camberwell   \n\n   postcode                                                url  \\\n0      3124  https://www.oldlistings.com.au/real-estate/VIC...   \n1      3124  https://www.oldlistings.com.au/real-estate/VIC...   \n2      3124  https://www.oldlistings.com.au/real-estate/VIC...   \n3      3124  https://www.oldlistings.com.au/real-estate/VIC...   \n4      3124  https://www.oldlistings.com.au/real-estate/VIC...   \n\n                                         loc_address        lat  ...  \\\n0  Glyndon Road, Camberwell, Melbourne, City of B... -37.836230  ...   \n1  Nevis Street, Camberwell, Melbourne, City of B... -37.843101  ...   \n2  Glencairn Avenue, Camberwell, Melbourne, City ... -37.848191  ...   \n3  Toorak Road, Camberwell, Melbourne, City of Bo... -37.850405  ...   \n4  Eddy Street, Camberwell, Melbourne, City of Bo... -37.846792  ...   \n\n   proj_population_prime_working  proj_population_mature_working  \\\n0                           9588                            2937   \n1                           9588                            2937   \n2                           9588                            2937   \n3                           9588                            2937   \n4                           9588                            2937   \n\n  proj_population_elderly    closest_ed_name     ed_lat      ed_lon  \\\n0                    4884  Box Hill Hospital -37.815458  145.119672   \n1                    4884  Box Hill Hospital -37.815458  145.119672   \n2                    4884  Box Hill Hospital -37.815458  145.119672   \n3                    4884  Box Hill Hospital -37.815458  145.119672   \n4                    4884  Box Hill Hospital -37.815458  145.119672   \n\n                              train_stop train_n_lines  train_lat   train_lon  \n0  Hartwell Railway Station (Camberwell)             1 -37.843985  145.075560  \n1  Hartwell Railway Station (Camberwell)             1 -37.843985  145.075560  \n2    Burwood Railway Station (Glen Iris)             1 -37.851563  145.080511  \n3    Burwood Railway Station (Glen Iris)             1 -37.851563  145.080511  \n4  Hartwell Railway Station (Camberwell)             1 -37.843985  145.075560  \n\n[5 rows x 50 columns]",
      "text/html": "<div>\n<style scoped>\n    .dataframe tbody tr th:only-of-type {\n        vertical-align: middle;\n    }\n\n    .dataframe tbody tr th {\n        vertical-align: top;\n    }\n\n    .dataframe thead th {\n        text-align: right;\n    }\n</style>\n<table border=\"1\" class=\"dataframe\">\n  <thead>\n    <tr style=\"text-align: right;\">\n      <th></th>\n      <th>bed</th>\n      <th>bath</th>\n      <th>car</th>\n      <th>type</th>\n      <th>address</th>\n      <th>suburb</th>\n      <th>postcode</th>\n      <th>url</th>\n      <th>loc_address</th>\n      <th>lat</th>\n      <th>...</th>\n      <th>proj_population_prime_working</th>\n      <th>proj_population_mature_working</th>\n      <th>proj_population_elderly</th>\n      <th>closest_ed_name</th>\n      <th>ed_lat</th>\n      <th>ed_lon</th>\n      <th>train_stop</th>\n      <th>train_n_lines</th>\n      <th>train_lat</th>\n      <th>train_lon</th>\n    </tr>\n  </thead>\n  <tbody>\n    <tr>\n      <th>0</th>\n      <td>3</td>\n      <td>1</td>\n      <td>2</td>\n      <td>AUF</td>\n      <td>. GLYNDON ROAD, CAMBERWELL</td>\n      <td>Camberwell</td>\n      <td>3124</td>\n      <td>https://www.oldlistings.com.au/real-estate/VIC...</td>\n      <td>Glyndon Road, Camberwell, Melbourne, City of B...</td>\n      <td>-37.836230</td>\n      <td>...</td>\n      <td>9588</td>\n      <td>2937</td>\n      <td>4884</td>\n      <td>Box Hill Hospital</td>\n      <td>-37.815458</td>\n      <td>145.119672</td>\n      <td>Hartwell Railway Station (Camberwell)</td>\n      <td>1</td>\n      <td>-37.843985</td>\n      <td>145.075560</td>\n    </tr>\n    <tr>\n      <th>1</th>\n      <td>4</td>\n      <td>2</td>\n      <td>3</td>\n      <td>AUF</td>\n      <td>1 NEVIS STREET, CAMBERWELL</td>\n      <td>Camberwell</td>\n      <td>3124</td>\n      <td>https://www.oldlistings.com.au/real-estate/VIC...</td>\n      <td>Nevis Street, Camberwell, Melbourne, City of B...</td>\n      <td>-37.843101</td>\n      <td>...</td>\n      <td>9588</td>\n      <td>2937</td>\n      <td>4884</td>\n      <td>Box Hill Hospital</td>\n      <td>-37.815458</td>\n      <td>145.119672</td>\n      <td>Hartwell Railway Station (Camberwell)</td>\n      <td>1</td>\n      <td>-37.843985</td>\n      <td>145.075560</td>\n    </tr>\n    <tr>\n      <th>2</th>\n      <td>2</td>\n      <td>1</td>\n      <td>1</td>\n      <td>AUF</td>\n      <td>1/10 GLENCAIRN AVENUE, CAMBERWELL</td>\n      <td>Camberwell</td>\n      <td>3124</td>\n      <td>https://www.oldlistings.com.au/real-estate/VIC...</td>\n      <td>Glencairn Avenue, Camberwell, Melbourne, City ...</td>\n      <td>-37.848191</td>\n      <td>...</td>\n      <td>9588</td>\n      <td>2937</td>\n      <td>4884</td>\n      <td>Box Hill Hospital</td>\n      <td>-37.815458</td>\n      <td>145.119672</td>\n      <td>Burwood Railway Station (Glen Iris)</td>\n      <td>1</td>\n      <td>-37.851563</td>\n      <td>145.080511</td>\n    </tr>\n    <tr>\n      <th>3</th>\n      <td>3</td>\n      <td>2</td>\n      <td>2</td>\n      <td>House</td>\n      <td>1/1017 TOORAK ROAD, CAMBERWELL</td>\n      <td>Camberwell</td>\n      <td>3124</td>\n      <td>https://www.oldlistings.com.au/real-estate/VIC...</td>\n      <td>Toorak Road, Camberwell, Melbourne, City of Bo...</td>\n      <td>-37.850405</td>\n      <td>...</td>\n      <td>9588</td>\n      <td>2937</td>\n      <td>4884</td>\n      <td>Box Hill Hospital</td>\n      <td>-37.815458</td>\n      <td>145.119672</td>\n      <td>Burwood Railway Station (Glen Iris)</td>\n      <td>1</td>\n      <td>-37.851563</td>\n      <td>145.080511</td>\n    </tr>\n    <tr>\n      <th>4</th>\n      <td>2</td>\n      <td>1</td>\n      <td>1</td>\n      <td>House</td>\n      <td>1/11 EDDY STREET, CAMBERWELL</td>\n      <td>Camberwell</td>\n      <td>3124</td>\n      <td>https://www.oldlistings.com.au/real-estate/VIC...</td>\n      <td>Eddy Street, Camberwell, Melbourne, City of Bo...</td>\n      <td>-37.846792</td>\n      <td>...</td>\n      <td>9588</td>\n      <td>2937</td>\n      <td>4884</td>\n      <td>Box Hill Hospital</td>\n      <td>-37.815458</td>\n      <td>145.119672</td>\n      <td>Hartwell Railway Station (Camberwell)</td>\n      <td>1</td>\n      <td>-37.843985</td>\n      <td>145.075560</td>\n    </tr>\n  </tbody>\n</table>\n<p>5 rows × 50 columns</p>\n</div>"
     },
     "execution_count": 86,
     "metadata": {},
     "output_type": "execute_result"
    }
   ],
   "source": [
    "df3.head()"
   ],
   "metadata": {
    "collapsed": false,
    "pycharm": {
     "name": "#%%\n"
    }
   }
  },
  {
   "cell_type": "code",
   "execution_count": 87,
   "outputs": [],
   "source": [
    "df3 = pd.merge(df3, df_done, on='address')"
   ],
   "metadata": {
    "collapsed": false,
    "pycharm": {
     "name": "#%%\n"
    }
   }
  },
  {
   "cell_type": "code",
   "execution_count": 89,
   "outputs": [],
   "source": [
    "df3.to_csv('../data/curated/full_listing.csv')"
   ],
   "metadata": {
    "collapsed": false,
    "pycharm": {
     "name": "#%%\n"
    }
   }
  },
  {
   "cell_type": "code",
   "execution_count": null,
   "outputs": [],
   "source": [],
   "metadata": {
    "collapsed": false,
    "pycharm": {
     "name": "#%%\n"
    }
   }
  }
 ],
 "metadata": {
  "kernelspec": {
   "display_name": "Python 3",
   "language": "python",
   "name": "python3"
  },
  "language_info": {
   "codemirror_mode": {
    "name": "ipython",
    "version": 3
   },
   "file_extension": ".py",
   "mimetype": "text/x-python",
   "name": "python",
   "nbconvert_exporter": "python",
   "pygments_lexer": "ipython3",
   "version": "3.8.5"
  }
 },
 "nbformat": 4,
 "nbformat_minor": 4
}