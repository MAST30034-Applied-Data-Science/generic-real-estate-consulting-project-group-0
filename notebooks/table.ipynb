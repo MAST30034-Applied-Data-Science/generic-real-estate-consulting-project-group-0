{
 "cells": [
  {
   "cell_type": "code",
   "execution_count": 25,
   "outputs": [],
   "source": [
    "import pandas as pd\n",
    "import geopandas as gpd"
   ],
   "metadata": {
    "collapsed": false,
    "pycharm": {
     "name": "#%%\n"
    }
   }
  },
  {
   "cell_type": "code",
   "execution_count": 25,
   "outputs": [],
   "source": [
    "train_df = gpd.read_file('../data/raw/PTV/PTV_METRO_TRAIN_STATION.shp')\n",
    "train_df = train_df[['STOP_NAME', 'LATITUDE', 'LONGITUDE', 'ROUTEUSSP']]\n",
    "train_df['geo_coordinate'] = [(x, y) for x, y in zip(train_df['LATITUDE'], train_df['LONGITUDE'])]\n",
    "train_df['n_routes'] = train_df['ROUTEUSSP'].str.count(',') + 1\n",
    "train_df = train_df.drop(['LONGITUDE', 'LATITUDE', 'ROUTEUSSP'], axis=1)\n"
   ],
   "metadata": {
    "collapsed": false,
    "pycharm": {
     "name": "#%%\n"
    }
   }
  },
  {
   "cell_type": "code",
   "execution_count": 26,
   "outputs": [],
   "source": [
    "train_df = gpd.read_file('../data/raw/PTV/PTV_METRO_TRAIN_STATION.shp')"
   ],
   "metadata": {
    "collapsed": false,
    "pycharm": {
     "name": "#%%\n"
    }
   }
  },
  {
   "cell_type": "code",
   "execution_count": 27,
   "outputs": [],
   "source": [
    "train_df = train_df[['STOP_NAME', 'LATITUDE', 'LONGITUDE', 'ROUTEUSSP']]"
   ],
   "metadata": {
    "collapsed": false,
    "pycharm": {
     "name": "#%%\n"
    }
   }
  },
  {
   "cell_type": "code",
   "execution_count": 28,
   "outputs": [],
   "source": [
    "train_df['geo_coordinate'] = [(x, y) for x,y in zip(train_df['LATITUDE'], train_df['LONGITUDE'])]"
   ],
   "metadata": {
    "collapsed": false,
    "pycharm": {
     "name": "#%%\n"
    }
   }
  },
  {
   "cell_type": "code",
   "execution_count": 31,
   "outputs": [],
   "source": [
    "train_df['n_routes'] = train_df['ROUTEUSSP'].str.count(',') + 1"
   ],
   "metadata": {
    "collapsed": false,
    "pycharm": {
     "name": "#%%\n"
    }
   }
  },
  {
   "cell_type": "code",
   "execution_count": null,
   "outputs": [],
   "source": [
    "train_df = train_df.drop(['LONGITUDE', 'LATITUDE', 'ROUTEUSSP'], axis = 1)"
   ],
   "metadata": {
    "collapsed": false,
    "pycharm": {
     "name": "#%%\n"
    }
   }
  },
  {
   "cell_type": "code",
   "execution_count": 32,
   "outputs": [
    {
     "data": {
      "text/plain": "                                             STOP_NAME  \\\n0               Royal Park Railway Station (Parkville)   \n1    Flemington Bridge Railway Station (North Melbo...   \n2           Macaulay Railway Station (North Melbourne)   \n3     North Melbourne Railway Station (West Melbourne)   \n4          Clifton Hill Railway Station (Clifton Hill)   \n..                                                 ...   \n215                    Coburg Railway Station (Coburg)   \n216                  Moreland Railway Station (Coburg)   \n217                 Anstey Railway Station (Brunswick)   \n218              Brunswick Railway Station (Brunswick)   \n219                 Jewell Railway Station (Brunswick)   \n\n                                             ROUTEUSSP  \\\n0                                              Upfield   \n1                                              Upfield   \n2                                              Upfield   \n3    Flemington,Sunbury,Upfield,Werribee,Williamsto...   \n4                                   Mernda,Hurstbridge   \n..                                                 ...   \n215                                            Upfield   \n216                                            Upfield   \n217                                            Upfield   \n218                                            Upfield   \n219                                            Upfield   \n\n               geo_coordinate  n_routes  \n0    (-37.781193, 144.952301)         1  \n1     (-37.78814, 144.939323)         1  \n2    (-37.794267, 144.936166)         1  \n3     (-37.807419, 144.94257)         6  \n4    (-37.788657, 144.995417)         2  \n..                        ...       ...  \n215  (-37.742345, 144.963336)         1  \n216  (-37.754485, 144.961823)         1  \n217  (-37.761242, 144.960684)         1  \n218  (-37.767721, 144.959587)         1  \n219  (-37.774987, 144.958717)         1  \n\n[220 rows x 4 columns]",
      "text/html": "<div>\n<style scoped>\n    .dataframe tbody tr th:only-of-type {\n        vertical-align: middle;\n    }\n\n    .dataframe tbody tr th {\n        vertical-align: top;\n    }\n\n    .dataframe thead th {\n        text-align: right;\n    }\n</style>\n<table border=\"1\" class=\"dataframe\">\n  <thead>\n    <tr style=\"text-align: right;\">\n      <th></th>\n      <th>STOP_NAME</th>\n      <th>ROUTEUSSP</th>\n      <th>geo_coordinate</th>\n      <th>n_routes</th>\n    </tr>\n  </thead>\n  <tbody>\n    <tr>\n      <th>0</th>\n      <td>Royal Park Railway Station (Parkville)</td>\n      <td>Upfield</td>\n      <td>(-37.781193, 144.952301)</td>\n      <td>1</td>\n    </tr>\n    <tr>\n      <th>1</th>\n      <td>Flemington Bridge Railway Station (North Melbo...</td>\n      <td>Upfield</td>\n      <td>(-37.78814, 144.939323)</td>\n      <td>1</td>\n    </tr>\n    <tr>\n      <th>2</th>\n      <td>Macaulay Railway Station (North Melbourne)</td>\n      <td>Upfield</td>\n      <td>(-37.794267, 144.936166)</td>\n      <td>1</td>\n    </tr>\n    <tr>\n      <th>3</th>\n      <td>North Melbourne Railway Station (West Melbourne)</td>\n      <td>Flemington,Sunbury,Upfield,Werribee,Williamsto...</td>\n      <td>(-37.807419, 144.94257)</td>\n      <td>6</td>\n    </tr>\n    <tr>\n      <th>4</th>\n      <td>Clifton Hill Railway Station (Clifton Hill)</td>\n      <td>Mernda,Hurstbridge</td>\n      <td>(-37.788657, 144.995417)</td>\n      <td>2</td>\n    </tr>\n    <tr>\n      <th>...</th>\n      <td>...</td>\n      <td>...</td>\n      <td>...</td>\n      <td>...</td>\n    </tr>\n    <tr>\n      <th>215</th>\n      <td>Coburg Railway Station (Coburg)</td>\n      <td>Upfield</td>\n      <td>(-37.742345, 144.963336)</td>\n      <td>1</td>\n    </tr>\n    <tr>\n      <th>216</th>\n      <td>Moreland Railway Station (Coburg)</td>\n      <td>Upfield</td>\n      <td>(-37.754485, 144.961823)</td>\n      <td>1</td>\n    </tr>\n    <tr>\n      <th>217</th>\n      <td>Anstey Railway Station (Brunswick)</td>\n      <td>Upfield</td>\n      <td>(-37.761242, 144.960684)</td>\n      <td>1</td>\n    </tr>\n    <tr>\n      <th>218</th>\n      <td>Brunswick Railway Station (Brunswick)</td>\n      <td>Upfield</td>\n      <td>(-37.767721, 144.959587)</td>\n      <td>1</td>\n    </tr>\n    <tr>\n      <th>219</th>\n      <td>Jewell Railway Station (Brunswick)</td>\n      <td>Upfield</td>\n      <td>(-37.774987, 144.958717)</td>\n      <td>1</td>\n    </tr>\n  </tbody>\n</table>\n<p>220 rows × 4 columns</p>\n</div>"
     },
     "execution_count": 32,
     "metadata": {},
     "output_type": "execute_result"
    }
   ],
   "source": [
    "train_df"
   ],
   "metadata": {
    "collapsed": false,
    "pycharm": {
     "name": "#%%\n"
    }
   }
  },
  {
   "cell_type": "code",
   "execution_count": 30,
   "outputs": [],
   "source": [],
   "metadata": {
    "collapsed": false,
    "pycharm": {
     "name": "#%%\n"
    }
   }
  }
 ],
 "metadata": {
  "kernelspec": {
   "display_name": "Python 3",
   "language": "python",
   "name": "python3"
  },
  "language_info": {
   "codemirror_mode": {
    "name": "ipython",
    "version": 2
   },
   "file_extension": ".py",
   "mimetype": "text/x-python",
   "name": "python",
   "nbconvert_exporter": "python",
   "pygments_lexer": "ipython2",
   "version": "2.7.6"
  }
 },
 "nbformat": 4,
 "nbformat_minor": 0
}