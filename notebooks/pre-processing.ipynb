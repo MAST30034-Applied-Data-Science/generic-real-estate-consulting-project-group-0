{
 "cells": [
  {
   "cell_type": "code",
   "execution_count": 30,
   "metadata": {
    "collapsed": false,
    "jupyter": {
     "outputs_hidden": false
    },
    "pycharm": {
     "name": "#%%\n"
    }
   },
   "outputs": [],
   "source": [
    "import re\n",
    "import pandas as pd"
   ]
  },
  {
   "cell_type": "code",
   "execution_count": 31,
   "metadata": {
    "collapsed": false,
    "jupyter": {
     "outputs_hidden": false
    },
    "pycharm": {
     "name": "#%%\n"
    }
   },
   "outputs": [],
   "source": [
    "property_files = '../data/raw/property_meta'"
   ]
  },
  {
   "cell_type": "code",
   "execution_count": 32,
   "metadata": {
    "collapsed": false,
    "jupyter": {
     "outputs_hidden": false
    },
    "pycharm": {
     "name": "#%%\n"
    }
   },
   "outputs": [
    {
     "data": {
      "text/plain": [
       "7399"
      ]
     },
     "execution_count": 32,
     "metadata": {},
     "output_type": "execute_result"
    }
   ],
   "source": [
    "df = pd.read_csv(f'{property_files}/property_metadata.csv')\n",
    "# the number of properties that is going to be processed\n",
    "len(df)"
   ]
  },
  {
   "cell_type": "code",
   "execution_count": 34,
   "metadata": {
    "collapsed": false,
    "jupyter": {
     "outputs_hidden": false
    },
    "pycharm": {
     "name": "#%%\n"
    }
   },
   "outputs": [],
   "source": [
    "df['postcode'] = df['name'].str[-4:]\n",
    "df['name'] = df['name'].str[:-5]"
   ]
  },
  {
   "cell_type": "code",
   "execution_count": 35,
   "metadata": {
    "collapsed": false,
    "jupyter": {
     "outputs_hidden": false
    },
    "pycharm": {
     "name": "#%%\n"
    }
   },
   "outputs": [],
   "source": [
    "rooms = df['rooms'].str.split(',', expand=True)\n",
    "rooms = rooms.iloc[:, :-1]\n",
    "rooms.columns = ['bed', 'bath', 'car']\n",
    "rooms.fillna(0)\n",
    "rooms['bed'] = rooms.bed.str.extract('(\\d+)').fillna(0).astype('int64')\n",
    "rooms['bath'] = rooms.bath.str.extract('(\\d+)').fillna(0).astype('int64')\n",
    "rooms['car'] = rooms.car.str.extract('(\\d+)').fillna(0).astype('int64')"
   ]
  },
  {
   "cell_type": "code",
   "execution_count": 36,
   "metadata": {
    "collapsed": false,
    "jupyter": {
     "outputs_hidden": false
    },
    "pycharm": {
     "name": "#%%\n"
    }
   },
   "outputs": [],
   "source": [
    "df = pd.concat([df, rooms], axis=1)\n",
    "df = df.drop(columns=['rooms'])"
   ]
  },
  {
   "cell_type": "code",
   "execution_count": 37,
   "metadata": {
    "collapsed": false,
    "jupyter": {
     "outputs_hidden": false
    },
    "pycharm": {
     "name": "#%%\n"
    }
   },
   "outputs": [
    {
     "data": {
      "text/html": [
       "<div>\n",
       "<style scoped>\n",
       "    .dataframe tbody tr th:only-of-type {\n",
       "        vertical-align: middle;\n",
       "    }\n",
       "\n",
       "    .dataframe tbody tr th {\n",
       "        vertical-align: top;\n",
       "    }\n",
       "\n",
       "    .dataframe thead th {\n",
       "        text-align: right;\n",
       "    }\n",
       "</style>\n",
       "<table border=\"1\" class=\"dataframe\">\n",
       "  <thead>\n",
       "    <tr style=\"text-align: right;\">\n",
       "      <th></th>\n",
       "      <th>url</th>\n",
       "      <th>name</th>\n",
       "      <th>type</th>\n",
       "      <th>cost_text</th>\n",
       "      <th>coordinates</th>\n",
       "      <th>desc</th>\n",
       "      <th>postcode</th>\n",
       "      <th>bed</th>\n",
       "      <th>bath</th>\n",
       "      <th>car</th>\n",
       "    </tr>\n",
       "  </thead>\n",
       "  <tbody>\n",
       "    <tr>\n",
       "      <th>0</th>\n",
       "      <td>https://www.domain.com.au/5-1-3-rex-avenue-alp...</td>\n",
       "      <td>5/1-3 Rex Avenue Alphington VIC</td>\n",
       "      <td>Apartment / Unit / Flat</td>\n",
       "      <td>$440.00</td>\n",
       "      <td>[-37.7856068, 145.0249141]</td>\n",
       "      <td>class=\"css-dxogle\"&gt;* Unverified feature&lt;svg a...</td>\n",
       "      <td>3078</td>\n",
       "      <td>2</td>\n",
       "      <td>1</td>\n",
       "      <td>1</td>\n",
       "    </tr>\n",
       "    <tr>\n",
       "      <th>1</th>\n",
       "      <td>https://www.domain.com.au/805-81-queens-road-m...</td>\n",
       "      <td>805/81 Queens Road Melbourne VIC</td>\n",
       "      <td>Studio</td>\n",
       "      <td>$380 weekly</td>\n",
       "      <td>[-37.853804, 144.9798785]</td>\n",
       "      <td>Leasing Concierge</td>\n",
       "      <td>3004</td>\n",
       "      <td>0</td>\n",
       "      <td>1</td>\n",
       "      <td>1</td>\n",
       "    </tr>\n",
       "    <tr>\n",
       "      <th>2</th>\n",
       "      <td>https://www.domain.com.au/12-1-rex-avenue-alph...</td>\n",
       "      <td>12/1 Rex Avenue Alphington VIC</td>\n",
       "      <td>Apartment / Unit / Flat</td>\n",
       "      <td>$460.00</td>\n",
       "      <td>[-37.7856092, 145.0249185]</td>\n",
       "      <td>Pyper Byrne</td>\n",
       "      <td>3078</td>\n",
       "      <td>2</td>\n",
       "      <td>1</td>\n",
       "      <td>1</td>\n",
       "    </tr>\n",
       "    <tr>\n",
       "      <th>3</th>\n",
       "      <td>https://www.domain.com.au/3-lime-ct-bellfield-...</td>\n",
       "      <td>3 Lime Ct Bellfield VIC</td>\n",
       "      <td>House</td>\n",
       "      <td>$425 PW | Weston Real Estate</td>\n",
       "      <td>[-37.7548292, 145.041952]</td>\n",
       "      <td>class=\"css-dxogle\"&gt;* Unverified feature&lt;svg a...</td>\n",
       "      <td>3081</td>\n",
       "      <td>3</td>\n",
       "      <td>1</td>\n",
       "      <td>3</td>\n",
       "    </tr>\n",
       "    <tr>\n",
       "      <th>4</th>\n",
       "      <td>https://www.domain.com.au/24-36-ridley-street-...</td>\n",
       "      <td>24/36 Ridley Street Albion VIC</td>\n",
       "      <td>Apartment / Unit / Flat</td>\n",
       "      <td>$250</td>\n",
       "      <td>[-37.7834829, 144.8233623]</td>\n",
       "      <td>class=\"css-dxogle\"&gt;* Unverified feature&lt;svg a...</td>\n",
       "      <td>3020</td>\n",
       "      <td>1</td>\n",
       "      <td>1</td>\n",
       "      <td>1</td>\n",
       "    </tr>\n",
       "  </tbody>\n",
       "</table>\n",
       "</div>"
      ],
      "text/plain": [
       "                                                 url  \\\n",
       "0  https://www.domain.com.au/5-1-3-rex-avenue-alp...   \n",
       "1  https://www.domain.com.au/805-81-queens-road-m...   \n",
       "2  https://www.domain.com.au/12-1-rex-avenue-alph...   \n",
       "3  https://www.domain.com.au/3-lime-ct-bellfield-...   \n",
       "4  https://www.domain.com.au/24-36-ridley-street-...   \n",
       "\n",
       "                               name                     type  \\\n",
       "0   5/1-3 Rex Avenue Alphington VIC  Apartment / Unit / Flat   \n",
       "1  805/81 Queens Road Melbourne VIC                   Studio   \n",
       "2    12/1 Rex Avenue Alphington VIC  Apartment / Unit / Flat   \n",
       "3           3 Lime Ct Bellfield VIC                    House   \n",
       "4    24/36 Ridley Street Albion VIC  Apartment / Unit / Flat   \n",
       "\n",
       "                      cost_text                 coordinates  \\\n",
       "0                       $440.00  [-37.7856068, 145.0249141]   \n",
       "1                   $380 weekly   [-37.853804, 144.9798785]   \n",
       "2                       $460.00  [-37.7856092, 145.0249185]   \n",
       "3  $425 PW | Weston Real Estate   [-37.7548292, 145.041952]   \n",
       "4                          $250  [-37.7834829, 144.8233623]   \n",
       "\n",
       "                                                desc postcode  bed  bath  car  \n",
       "0   class=\"css-dxogle\">* Unverified feature<svg a...     3078    2     1    1  \n",
       "1                                  Leasing Concierge     3004    0     1    1  \n",
       "2                                        Pyper Byrne     3078    2     1    1  \n",
       "3   class=\"css-dxogle\">* Unverified feature<svg a...     3081    3     1    3  \n",
       "4   class=\"css-dxogle\">* Unverified feature<svg a...     3020    1     1    1  "
      ]
     },
     "execution_count": 37,
     "metadata": {},
     "output_type": "execute_result"
    }
   ],
   "source": [
    "df.head()"
   ]
  },
  {
   "cell_type": "code",
   "execution_count": 20,
   "metadata": {
    "collapsed": false,
    "jupyter": {
     "outputs_hidden": false
    },
    "pycharm": {
     "name": "#%%\n"
    }
   },
   "outputs": [],
   "source": [
    "from collections import Counter"
   ]
  },
  {
   "cell_type": "code",
   "execution_count": 21,
   "metadata": {
    "collapsed": false,
    "jupyter": {
     "outputs_hidden": false
    },
    "pycharm": {
     "name": "#%%\n"
    }
   },
   "outputs": [],
   "source": [
    "# Counter(\" \".join(df[\"desc\"].str.lower()).split()).most_common(100)"
   ]
  },
  {
   "cell_type": "code",
   "execution_count": 22,
   "metadata": {
    "collapsed": false,
    "jupyter": {
     "outputs_hidden": false
    },
    "pycharm": {
     "name": "#%%\n"
    }
   },
   "outputs": [],
   "source": [
    "# Counter(\" \".join(df[\"desc\"]).split()).most_common(100)"
   ]
  },
  {
   "cell_type": "code",
   "execution_count": 38,
   "metadata": {
    "collapsed": false,
    "jupyter": {
     "outputs_hidden": false
    },
    "pycharm": {
     "name": "#%%\n"
    }
   },
   "outputs": [
    {
     "data": {
      "text/plain": [
       "url            object\n",
       "name           object\n",
       "type           object\n",
       "cost_text      object\n",
       "coordinates    object\n",
       "desc           object\n",
       "postcode       object\n",
       "bed             int64\n",
       "bath            int64\n",
       "car             int64\n",
       "dtype: object"
      ]
     },
     "execution_count": 38,
     "metadata": {},
     "output_type": "execute_result"
    }
   ],
   "source": [
    "df.dtypes"
   ]
  },
  {
   "cell_type": "code",
   "execution_count": 39,
   "metadata": {
    "collapsed": false,
    "jupyter": {
     "outputs_hidden": false
    },
    "pycharm": {
     "name": "#%%\n"
    }
   },
   "outputs": [
    {
     "data": {
      "text/plain": [
       "3000    299\n",
       "3141    185\n",
       "3121    159\n",
       "3182    153\n",
       "3006    147\n",
       "       ... \n",
       "3980      1\n",
       "3759      1\n",
       "3713      1\n",
       "3763      1\n",
       "3089      1\n",
       "Name: postcode, Length: 192, dtype: int64"
      ]
     },
     "execution_count": 39,
     "metadata": {},
     "output_type": "execute_result"
    }
   ],
   "source": [
    "df['postcode'].value_counts()"
   ]
  },
  {
   "cell_type": "code",
   "execution_count": 25,
   "metadata": {
    "collapsed": false,
    "jupyter": {
     "outputs_hidden": false
    },
    "pycharm": {
     "name": "#%%\n"
    }
   },
   "outputs": [
    {
     "data": {
      "text/plain": [
       "Apartment / Unit / Flat          3408\n",
       "House                            2972\n",
       "Townhouse                         777\n",
       "Studio                            184\n",
       "Villa                              23\n",
       "Carspace                            9\n",
       "Acreage / Semi-Rural                6\n",
       "Semi-Detached                       5\n",
       "Terrace                             5\n",
       "Duplex                              2\n",
       "Rural                               1\n",
       "Penthouse                           1\n",
       "New Apartments / Off the Plan       1\n",
       "Name: type, dtype: int64"
      ]
     },
     "execution_count": 25,
     "metadata": {},
     "output_type": "execute_result"
    }
   ],
   "source": [
    "df['type'].value_counts()"
   ]
  },
  {
   "cell_type": "code",
   "execution_count": 28,
   "metadata": {
    "collapsed": false,
    "jupyter": {
     "outputs_hidden": false
    },
    "pycharm": {
     "name": "#%%\n"
    }
   },
   "outputs": [
    {
     "data": {
      "text/html": [
       "<div>\n",
       "<style scoped>\n",
       "    .dataframe tbody tr th:only-of-type {\n",
       "        vertical-align: middle;\n",
       "    }\n",
       "\n",
       "    .dataframe tbody tr th {\n",
       "        vertical-align: top;\n",
       "    }\n",
       "\n",
       "    .dataframe thead th {\n",
       "        text-align: right;\n",
       "    }\n",
       "</style>\n",
       "<table border=\"1\" class=\"dataframe\">\n",
       "  <thead>\n",
       "    <tr style=\"text-align: right;\">\n",
       "      <th></th>\n",
       "      <th>postcode</th>\n",
       "      <th>locality</th>\n",
       "      <th>long</th>\n",
       "      <th>lat</th>\n",
       "      <th>region</th>\n",
       "      <th>Lat_precise</th>\n",
       "      <th>Long_precise</th>\n",
       "      <th>SA2_MAINCODE_2016</th>\n",
       "      <th>SA2_NAME_2016</th>\n",
       "      <th>RA_2016</th>\n",
       "      <th>MMM_2019</th>\n",
       "      <th>altitude</th>\n",
       "      <th>phn_name</th>\n",
       "      <th>lgaregion</th>\n",
       "    </tr>\n",
       "  </thead>\n",
       "  <tbody>\n",
       "    <tr>\n",
       "      <th>6151</th>\n",
       "      <td>3000</td>\n",
       "      <td>MELBOURNE</td>\n",
       "      <td>144.956776</td>\n",
       "      <td>-37.817403</td>\n",
       "      <td>R1</td>\n",
       "      <td>-37.815207</td>\n",
       "      <td>144.963937</td>\n",
       "      <td>206041122.0</td>\n",
       "      <td>Melbourne</td>\n",
       "      <td>1.0</td>\n",
       "      <td>1.0</td>\n",
       "      <td>15.244751</td>\n",
       "      <td>North Western Melbourne</td>\n",
       "      <td>Melbourne</td>\n",
       "    </tr>\n",
       "    <tr>\n",
       "      <th>6152</th>\n",
       "      <td>3001</td>\n",
       "      <td>MELBOURNE</td>\n",
       "      <td>144.956776</td>\n",
       "      <td>-37.817403</td>\n",
       "      <td>R1</td>\n",
       "      <td>-37.813628</td>\n",
       "      <td>144.963058</td>\n",
       "      <td>206041122.0</td>\n",
       "      <td>Melbourne</td>\n",
       "      <td>1.0</td>\n",
       "      <td>1.0</td>\n",
       "      <td>15.244751</td>\n",
       "      <td>NaN</td>\n",
       "      <td>Moonee Valley</td>\n",
       "    </tr>\n",
       "    <tr>\n",
       "      <th>6153</th>\n",
       "      <td>3002</td>\n",
       "      <td>EAST MELBOURNE</td>\n",
       "      <td>144.982207</td>\n",
       "      <td>-37.818517</td>\n",
       "      <td>R1</td>\n",
       "      <td>-37.816144</td>\n",
       "      <td>144.980459</td>\n",
       "      <td>206041119.0</td>\n",
       "      <td>East Melbourne</td>\n",
       "      <td>1.0</td>\n",
       "      <td>1.0</td>\n",
       "      <td>14.315022</td>\n",
       "      <td>North Western Melbourne</td>\n",
       "      <td>Yarra</td>\n",
       "    </tr>\n",
       "    <tr>\n",
       "      <th>6154</th>\n",
       "      <td>3003</td>\n",
       "      <td>WEST MELBOURNE</td>\n",
       "      <td>144.949592</td>\n",
       "      <td>-37.810871</td>\n",
       "      <td>R1</td>\n",
       "      <td>-37.811450</td>\n",
       "      <td>144.925397</td>\n",
       "      <td>206041127.0</td>\n",
       "      <td>West Melbourne</td>\n",
       "      <td>1.0</td>\n",
       "      <td>1.0</td>\n",
       "      <td>15.316063</td>\n",
       "      <td>North Western Melbourne</td>\n",
       "      <td>Melbourne</td>\n",
       "    </tr>\n",
       "    <tr>\n",
       "      <th>6155</th>\n",
       "      <td>3004</td>\n",
       "      <td>MELBOURNE</td>\n",
       "      <td>144.970161</td>\n",
       "      <td>-37.844246</td>\n",
       "      <td>R1</td>\n",
       "      <td>-37.830158</td>\n",
       "      <td>144.980459</td>\n",
       "      <td>206041126.0</td>\n",
       "      <td>Southbank</td>\n",
       "      <td>1.0</td>\n",
       "      <td>1.0</td>\n",
       "      <td>-3492.000000</td>\n",
       "      <td>South Eastern Melbourne</td>\n",
       "      <td>Yarra</td>\n",
       "    </tr>\n",
       "  </tbody>\n",
       "</table>\n",
       "</div>"
      ],
      "text/plain": [
       "      postcode        locality        long        lat region  Lat_precise  \\\n",
       "6151      3000       MELBOURNE  144.956776 -37.817403     R1   -37.815207   \n",
       "6152      3001       MELBOURNE  144.956776 -37.817403     R1   -37.813628   \n",
       "6153      3002  EAST MELBOURNE  144.982207 -37.818517     R1   -37.816144   \n",
       "6154      3003  WEST MELBOURNE  144.949592 -37.810871     R1   -37.811450   \n",
       "6155      3004       MELBOURNE  144.970161 -37.844246     R1   -37.830158   \n",
       "\n",
       "      Long_precise  SA2_MAINCODE_2016   SA2_NAME_2016  RA_2016  MMM_2019  \\\n",
       "6151    144.963937        206041122.0       Melbourne      1.0       1.0   \n",
       "6152    144.963058        206041122.0       Melbourne      1.0       1.0   \n",
       "6153    144.980459        206041119.0  East Melbourne      1.0       1.0   \n",
       "6154    144.925397        206041127.0  West Melbourne      1.0       1.0   \n",
       "6155    144.980459        206041126.0       Southbank      1.0       1.0   \n",
       "\n",
       "         altitude                 phn_name      lgaregion  \n",
       "6151    15.244751  North Western Melbourne      Melbourne  \n",
       "6152    15.244751                      NaN  Moonee Valley  \n",
       "6153    14.315022  North Western Melbourne          Yarra  \n",
       "6154    15.316063  North Western Melbourne      Melbourne  \n",
       "6155 -3492.000000  South Eastern Melbourne          Yarra  "
      ]
     },
     "execution_count": 28,
     "metadata": {},
     "output_type": "execute_result"
    }
   ],
   "source": [
    "postcode_df = pd.read_csv('../data/raw/abs/australian_postcodes.csv')\n",
    "postcode_df = postcode_df[postcode_df['state'] == 'VIC']\n",
    "columns = ['postcode', 'locality', 'long', 'lat', 'region', 'Lat_precise', 'Long_precise', 'SA2_MAINCODE_2016', 'SA2_NAME_2016', 'RA_2016', 'MMM_2019', 'altitude', 'phn_name', 'lgaregion']\n",
    "postcode_df = postcode_df[columns]\n",
    "postcode_df.head()"
   ]
  },
  {
   "cell_type": "code",
   "execution_count": 29,
   "metadata": {
    "collapsed": false,
    "jupyter": {
     "outputs_hidden": false
    },
    "pycharm": {
     "name": "#%%\n"
    }
   },
   "outputs": [
    {
     "data": {
      "text/plain": [
       "3352    62\n",
       "3401    48\n",
       "3551    41\n",
       "3691    37\n",
       "3678    35\n",
       "Name: postcode, dtype: int64"
      ]
     },
     "execution_count": 29,
     "metadata": {},
     "output_type": "execute_result"
    }
   ],
   "source": [
    "postcode_df['postcode'].value_counts().head()"
   ]
  },
  {
   "cell_type": "code",
   "execution_count": 29,
   "metadata": {
    "collapsed": false,
    "jupyter": {
     "outputs_hidden": false
    },
    "pycharm": {
     "name": "#%%\n"
    }
   },
   "outputs": [],
   "source": []
  }
 ],
 "metadata": {
  "kernelspec": {
   "display_name": "Python 3",
   "language": "python",
   "name": "python3"
  },
  "language_info": {
   "codemirror_mode": {
    "name": "ipython",
    "version": 3
   },
   "file_extension": ".py",
   "mimetype": "text/x-python",
   "name": "python",
   "nbconvert_exporter": "python",
   "pygments_lexer": "ipython3",
   "version": "3.8.5"
  }
 },
 "nbformat": 4,
 "nbformat_minor": 4
}
