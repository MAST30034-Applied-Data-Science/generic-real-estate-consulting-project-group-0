{
 "cells": [
  {
   "cell_type": "code",
   "execution_count": 2,
   "outputs": [],
   "source": [
    "import pandas as pd"
   ],
   "metadata": {
    "collapsed": false,
    "pycharm": {
     "name": "#%%\n"
    }
   }
  },
  {
   "cell_type": "code",
   "execution_count": 4,
   "outputs": [],
   "source": [
    "property_files = '../data/raw/property_meta'"
   ],
   "metadata": {
    "collapsed": false,
    "pycharm": {
     "name": "#%%\n"
    }
   }
  },
  {
   "cell_type": "code",
   "execution_count": 5,
   "outputs": [],
   "source": [
    "df = pd.read_csv(f'{property_files}/property_metadata.csv')"
   ],
   "metadata": {
    "collapsed": false,
    "pycharm": {
     "name": "#%%\n"
    }
   }
  },
  {
   "cell_type": "code",
   "execution_count": 6,
   "outputs": [
    {
     "data": {
      "text/plain": "                                                 url  \\\n0  https://www.domain.com.au/5-1-3-rex-avenue-alp...   \n1  https://www.domain.com.au/805-81-queens-road-m...   \n2  https://www.domain.com.au/12-1-rex-avenue-alph...   \n3  https://www.domain.com.au/3-lime-ct-bellfield-...   \n4  https://www.domain.com.au/24-36-ridley-street-...   \n\n                                    name                     type  \\\n0   5/1-3 Rex Avenue Alphington VIC 3078  Apartment / Unit / Flat   \n1  805/81 Queens Road Melbourne VIC 3004                   Studio   \n2    12/1 Rex Avenue Alphington VIC 3078  Apartment / Unit / Flat   \n3           3 Lime Ct Bellfield VIC 3081                    House   \n4    24/36 Ridley Street Albion VIC 3020  Apartment / Unit / Flat   \n\n                      cost_text                 coordinates  \\\n0                       $440.00  [-37.7856068, 145.0249141]   \n1                   $380 weekly   [-37.853804, 144.9798785]   \n2                       $460.00  [-37.7856092, 145.0249185]   \n3  $425 PW | Weston Real Estate   [-37.7548292, 145.041952]   \n4                          $250  [-37.7834829, 144.8233623]   \n\n                                     rooms  \\\n0  [['2 Beds'], ['1 Bath'], ['1 Parking']]   \n1  [['0 Beds'], ['1 Bath'], ['1 Parking']]   \n2  [['2 Beds'], ['1 Bath'], ['1 Parking']]   \n3  [['3 Beds'], ['1 Bath'], ['3 Parking']]   \n4   [['1 Bed'], ['1 Bath'], ['1 Parking']]   \n\n                                                desc  \n0   class=\"css-dxogle\">* Unverified feature<svg a...  \n1                                  Leasing Concierge  \n2                                        Pyper Byrne  \n3   class=\"css-dxogle\">* Unverified feature<svg a...  \n4   class=\"css-dxogle\">* Unverified feature<svg a...  ",
      "text/html": "<div>\n<style scoped>\n    .dataframe tbody tr th:only-of-type {\n        vertical-align: middle;\n    }\n\n    .dataframe tbody tr th {\n        vertical-align: top;\n    }\n\n    .dataframe thead th {\n        text-align: right;\n    }\n</style>\n<table border=\"1\" class=\"dataframe\">\n  <thead>\n    <tr style=\"text-align: right;\">\n      <th></th>\n      <th>url</th>\n      <th>name</th>\n      <th>type</th>\n      <th>cost_text</th>\n      <th>coordinates</th>\n      <th>rooms</th>\n      <th>desc</th>\n    </tr>\n  </thead>\n  <tbody>\n    <tr>\n      <th>0</th>\n      <td>https://www.domain.com.au/5-1-3-rex-avenue-alp...</td>\n      <td>5/1-3 Rex Avenue Alphington VIC 3078</td>\n      <td>Apartment / Unit / Flat</td>\n      <td>$440.00</td>\n      <td>[-37.7856068, 145.0249141]</td>\n      <td>[['2 Beds'], ['1 Bath'], ['1 Parking']]</td>\n      <td>class=\"css-dxogle\"&gt;* Unverified feature&lt;svg a...</td>\n    </tr>\n    <tr>\n      <th>1</th>\n      <td>https://www.domain.com.au/805-81-queens-road-m...</td>\n      <td>805/81 Queens Road Melbourne VIC 3004</td>\n      <td>Studio</td>\n      <td>$380 weekly</td>\n      <td>[-37.853804, 144.9798785]</td>\n      <td>[['0 Beds'], ['1 Bath'], ['1 Parking']]</td>\n      <td>Leasing Concierge</td>\n    </tr>\n    <tr>\n      <th>2</th>\n      <td>https://www.domain.com.au/12-1-rex-avenue-alph...</td>\n      <td>12/1 Rex Avenue Alphington VIC 3078</td>\n      <td>Apartment / Unit / Flat</td>\n      <td>$460.00</td>\n      <td>[-37.7856092, 145.0249185]</td>\n      <td>[['2 Beds'], ['1 Bath'], ['1 Parking']]</td>\n      <td>Pyper Byrne</td>\n    </tr>\n    <tr>\n      <th>3</th>\n      <td>https://www.domain.com.au/3-lime-ct-bellfield-...</td>\n      <td>3 Lime Ct Bellfield VIC 3081</td>\n      <td>House</td>\n      <td>$425 PW | Weston Real Estate</td>\n      <td>[-37.7548292, 145.041952]</td>\n      <td>[['3 Beds'], ['1 Bath'], ['3 Parking']]</td>\n      <td>class=\"css-dxogle\"&gt;* Unverified feature&lt;svg a...</td>\n    </tr>\n    <tr>\n      <th>4</th>\n      <td>https://www.domain.com.au/24-36-ridley-street-...</td>\n      <td>24/36 Ridley Street Albion VIC 3020</td>\n      <td>Apartment / Unit / Flat</td>\n      <td>$250</td>\n      <td>[-37.7834829, 144.8233623]</td>\n      <td>[['1 Bed'], ['1 Bath'], ['1 Parking']]</td>\n      <td>class=\"css-dxogle\"&gt;* Unverified feature&lt;svg a...</td>\n    </tr>\n  </tbody>\n</table>\n</div>"
     },
     "execution_count": 6,
     "metadata": {},
     "output_type": "execute_result"
    }
   ],
   "source": [
    "df.head()"
   ],
   "metadata": {
    "collapsed": false,
    "pycharm": {
     "name": "#%%\n"
    }
   }
  },
  {
   "cell_type": "code",
   "execution_count": 12,
   "outputs": [],
   "source": [
    "df['postcode'] = df['name'].str[-4:]\n",
    "df['name'] = df['name'].str[:-5]"
   ],
   "metadata": {
    "collapsed": false,
    "pycharm": {
     "name": "#%%\n"
    }
   }
  },
  {
   "cell_type": "code",
   "execution_count": 14,
   "outputs": [
    {
     "data": {
      "text/plain": "                                                  url  \\\n0   https://www.domain.com.au/5-1-3-rex-avenue-alp...   \n1   https://www.domain.com.au/805-81-queens-road-m...   \n2   https://www.domain.com.au/12-1-rex-avenue-alph...   \n3   https://www.domain.com.au/3-lime-ct-bellfield-...   \n4   https://www.domain.com.au/24-36-ridley-street-...   \n5   https://www.domain.com.au/586-upper-heidelberg...   \n6   https://www.domain.com.au/21-313-beaconsfield-...   \n7   https://www.domain.com.au/1-22-maivary-lane-no...   \n8   https://www.domain.com.au/5-24-passfield-st-br...   \n9   https://www.domain.com.au/12-45-marine-parade-...   \n10  https://www.domain.com.au/41-chadstone-road-ma...   \n11  https://www.domain.com.au/9-earl-street-carlto...   \n12  https://www.domain.com.au/9-133-park-street-mo...   \n13  https://www.domain.com.au/1-1-william-avenue-d...   \n14  https://www.domain.com.au/5-anthony-close-lowe...   \n15  https://www.domain.com.au/2a-granter-street-br...   \n16  https://www.domain.com.au/1211-260-spencer-str...   \n17  https://www.domain.com.au/64-eulinga-avenue-as...   \n18  https://www.domain.com.au/10-mercer-way-armada...   \n19  https://www.domain.com.au/3-20-epsom-road-asco...   \n\n                                        name                     type  \\\n0                5/1-3 Rex Avenue Alphington  Apartment / Unit / Flat   \n1               805/81 Queens Road Melbourne                   Studio   \n2                 12/1 Rex Avenue Alphington  Apartment / Unit / Flat   \n3                        3 Lime Ct Bellfield                    House   \n4                 24/36 Ridley Street Albion  Apartment / Unit / Flat   \n5       586 Upper Heidelberg Road Heidelberg                    House   \n6   21/313 Beaconsfield Parade St Kilda West  Apartment / Unit / Flat   \n7                1/22 Maivary Lane Northcote                Townhouse   \n8               5/24 Passfield St. Brunswick  Apartment / Unit / Flat   \n9               12/45 Marine Parade St Kilda  Apartment / Unit / Flat   \n10            41 Chadstone Road Malvern East                    House   \n11                     9 Earl Street Carlton                   Studio   \n12            9/133 Park Street Moonee Ponds  Apartment / Unit / Flat   \n13        1/1 William Avenue Dandenong South  Apartment / Unit / Flat   \n14              5 Anthony Close Lower Plenty                    House   \n15           2A Granter Street Brighton East                    House   \n16         1211/260 Spencer Street Melbourne  Apartment / Unit / Flat   \n17               64 Eulinga Avenue Aspendale                Townhouse   \n18                    10 Mercer Way Armadale  Apartment / Unit / Flat   \n19                3/20 Epsom Road Ascot Vale                Townhouse   \n\n                       cost_text                 coordinates  \\\n0                        $440.00  [-37.7856068, 145.0249141]   \n1                    $380 weekly   [-37.853804, 144.9798785]   \n2                        $460.00  [-37.7856092, 145.0249185]   \n3   $425 PW | Weston Real Estate   [-37.7548292, 145.041952]   \n4                           $250  [-37.7834829, 144.8233623]   \n5                  $595 per week  [-37.7483221, 145.0578798]   \n6                    $450 weekly  [-37.8563872, 144.9669702]   \n7                           $550  [-37.7740872, 145.0104428]   \n8                           $300  [-37.7678541, 144.9407823]   \n9                        $790.00    [-37.874449, 144.977025]   \n10              $950pw/$4.128pcm    [-37.8835895, 145.07852]   \n11            From $220 per week   [-37.8061615, 144.965462]   \n12                 $310 per week  [-37.7610548, 144.9082409]   \n13                 $ 285PER WEEK  [-37.9936651, 145.2135359]   \n14                          $500    [-37.723789, 145.119906]   \n15                       $525.00  [-37.9092707, 145.0171891]   \n16                          $700   [-37.814564, 144.9522856]   \n17               $1,000 per week  [-38.0141624, 145.1004835]   \n18                       $670.00  [-37.8555469, 145.0253117]   \n19                       $495.00  [-37.7832302, 144.9168832]   \n\n                                       rooms  \\\n0    [['2 Beds'], ['1 Bath'], ['1 Parking']]   \n1    [['0 Beds'], ['1 Bath'], ['1 Parking']]   \n2    [['2 Beds'], ['1 Bath'], ['1 Parking']]   \n3    [['3 Beds'], ['1 Bath'], ['3 Parking']]   \n4     [['1 Bed'], ['1 Bath'], ['1 Parking']]   \n5          [['4 Beds'], ['2 Baths'], [], []]   \n6     [['1 Bed'], ['1 Bath'], ['1 Parking']]   \n7    [['2 Beds'], ['1 Bath'], ['1 Parking']]   \n8    [['2 Beds'], ['1 Bath'], ['1 Parking']]   \n9   [['2 Beds'], ['2 Baths'], ['2 Parking']]   \n10  [['5 Beds'], ['2 Baths'], ['3 Parking']]   \n11               [['1 Bed'], ['1 Bath'], []]   \n12    [['1 Bed'], ['1 Bath'], ['1 Parking']]   \n13               [['1 Bed'], ['1 Bath'], []]   \n14  [['3 Beds'], ['2 Baths'], ['2 Parking']]   \n15   [['2 Beds'], ['1 Bath'], ['1 Parking']]   \n16             [['2 Beds'], ['2 Baths'], []]   \n17  [['3 Beds'], ['2 Baths'], ['1 Parking']]   \n18   [['2 Beds'], ['1 Bath'], ['2 Parking']]   \n19   [['2 Beds'], ['1 Bath'], ['1 Parking']]   \n\n                                                 desc postcode  \n0    class=\"css-dxogle\">* Unverified feature<svg a...     VIC   \n1                                   Leasing Concierge     VIC   \n2                                         Pyper Byrne     VIC   \n3    class=\"css-dxogle\">* Unverified feature<svg a...     VIC   \n4    class=\"css-dxogle\">* Unverified feature<svg a...     VIC   \n5   The Phone Code for this property is: 33937. Pl...     VIC   \n6                                       Jemma Dorkins     VIC   \n7   Quietly tucked away this two-bedroom townhouse...     VIC   \n8   2 bedroom 1st floor apartment FULLY RENOVATED\\...     VIC   \n9                                        Louisa Corke     VIC   \n10                                          Jason Lee     VIC   \n11  APPLICATION FOR MID YEAR HAS NOW COMPLETED.\\nB...     VIC   \n12   class=\"css-dxogle\">* Unverified feature<svg a...     VIC   \n13   class=\"css-dxogle\">* Unverified feature<svg a...     VIC   \n14   class=\"css-dxogle\">* Unverified feature<svg a...     VIC   \n15                                       Louisa Corke     VIC   \n16                                  Christian Hidayat     VIC   \n17  Proudly built by Map Developments, this bespok...     VIC   \n18                                       Grace Morley     VIC   \n19  Boasting a serene position at the rear of an e...     VIC   ",
      "text/html": "<div>\n<style scoped>\n    .dataframe tbody tr th:only-of-type {\n        vertical-align: middle;\n    }\n\n    .dataframe tbody tr th {\n        vertical-align: top;\n    }\n\n    .dataframe thead th {\n        text-align: right;\n    }\n</style>\n<table border=\"1\" class=\"dataframe\">\n  <thead>\n    <tr style=\"text-align: right;\">\n      <th></th>\n      <th>url</th>\n      <th>name</th>\n      <th>type</th>\n      <th>cost_text</th>\n      <th>coordinates</th>\n      <th>rooms</th>\n      <th>desc</th>\n      <th>postcode</th>\n    </tr>\n  </thead>\n  <tbody>\n    <tr>\n      <th>0</th>\n      <td>https://www.domain.com.au/5-1-3-rex-avenue-alp...</td>\n      <td>5/1-3 Rex Avenue Alphington</td>\n      <td>Apartment / Unit / Flat</td>\n      <td>$440.00</td>\n      <td>[-37.7856068, 145.0249141]</td>\n      <td>[['2 Beds'], ['1 Bath'], ['1 Parking']]</td>\n      <td>class=\"css-dxogle\"&gt;* Unverified feature&lt;svg a...</td>\n      <td>VIC</td>\n    </tr>\n    <tr>\n      <th>1</th>\n      <td>https://www.domain.com.au/805-81-queens-road-m...</td>\n      <td>805/81 Queens Road Melbourne</td>\n      <td>Studio</td>\n      <td>$380 weekly</td>\n      <td>[-37.853804, 144.9798785]</td>\n      <td>[['0 Beds'], ['1 Bath'], ['1 Parking']]</td>\n      <td>Leasing Concierge</td>\n      <td>VIC</td>\n    </tr>\n    <tr>\n      <th>2</th>\n      <td>https://www.domain.com.au/12-1-rex-avenue-alph...</td>\n      <td>12/1 Rex Avenue Alphington</td>\n      <td>Apartment / Unit / Flat</td>\n      <td>$460.00</td>\n      <td>[-37.7856092, 145.0249185]</td>\n      <td>[['2 Beds'], ['1 Bath'], ['1 Parking']]</td>\n      <td>Pyper Byrne</td>\n      <td>VIC</td>\n    </tr>\n    <tr>\n      <th>3</th>\n      <td>https://www.domain.com.au/3-lime-ct-bellfield-...</td>\n      <td>3 Lime Ct Bellfield</td>\n      <td>House</td>\n      <td>$425 PW | Weston Real Estate</td>\n      <td>[-37.7548292, 145.041952]</td>\n      <td>[['3 Beds'], ['1 Bath'], ['3 Parking']]</td>\n      <td>class=\"css-dxogle\"&gt;* Unverified feature&lt;svg a...</td>\n      <td>VIC</td>\n    </tr>\n    <tr>\n      <th>4</th>\n      <td>https://www.domain.com.au/24-36-ridley-street-...</td>\n      <td>24/36 Ridley Street Albion</td>\n      <td>Apartment / Unit / Flat</td>\n      <td>$250</td>\n      <td>[-37.7834829, 144.8233623]</td>\n      <td>[['1 Bed'], ['1 Bath'], ['1 Parking']]</td>\n      <td>class=\"css-dxogle\"&gt;* Unverified feature&lt;svg a...</td>\n      <td>VIC</td>\n    </tr>\n    <tr>\n      <th>5</th>\n      <td>https://www.domain.com.au/586-upper-heidelberg...</td>\n      <td>586 Upper Heidelberg Road Heidelberg</td>\n      <td>House</td>\n      <td>$595 per week</td>\n      <td>[-37.7483221, 145.0578798]</td>\n      <td>[['4 Beds'], ['2 Baths'], [], []]</td>\n      <td>The Phone Code for this property is: 33937. Pl...</td>\n      <td>VIC</td>\n    </tr>\n    <tr>\n      <th>6</th>\n      <td>https://www.domain.com.au/21-313-beaconsfield-...</td>\n      <td>21/313 Beaconsfield Parade St Kilda West</td>\n      <td>Apartment / Unit / Flat</td>\n      <td>$450 weekly</td>\n      <td>[-37.8563872, 144.9669702]</td>\n      <td>[['1 Bed'], ['1 Bath'], ['1 Parking']]</td>\n      <td>Jemma Dorkins</td>\n      <td>VIC</td>\n    </tr>\n    <tr>\n      <th>7</th>\n      <td>https://www.domain.com.au/1-22-maivary-lane-no...</td>\n      <td>1/22 Maivary Lane Northcote</td>\n      <td>Townhouse</td>\n      <td>$550</td>\n      <td>[-37.7740872, 145.0104428]</td>\n      <td>[['2 Beds'], ['1 Bath'], ['1 Parking']]</td>\n      <td>Quietly tucked away this two-bedroom townhouse...</td>\n      <td>VIC</td>\n    </tr>\n    <tr>\n      <th>8</th>\n      <td>https://www.domain.com.au/5-24-passfield-st-br...</td>\n      <td>5/24 Passfield St. Brunswick</td>\n      <td>Apartment / Unit / Flat</td>\n      <td>$300</td>\n      <td>[-37.7678541, 144.9407823]</td>\n      <td>[['2 Beds'], ['1 Bath'], ['1 Parking']]</td>\n      <td>2 bedroom 1st floor apartment FULLY RENOVATED\\...</td>\n      <td>VIC</td>\n    </tr>\n    <tr>\n      <th>9</th>\n      <td>https://www.domain.com.au/12-45-marine-parade-...</td>\n      <td>12/45 Marine Parade St Kilda</td>\n      <td>Apartment / Unit / Flat</td>\n      <td>$790.00</td>\n      <td>[-37.874449, 144.977025]</td>\n      <td>[['2 Beds'], ['2 Baths'], ['2 Parking']]</td>\n      <td>Louisa Corke</td>\n      <td>VIC</td>\n    </tr>\n    <tr>\n      <th>10</th>\n      <td>https://www.domain.com.au/41-chadstone-road-ma...</td>\n      <td>41 Chadstone Road Malvern East</td>\n      <td>House</td>\n      <td>$950pw/$4.128pcm</td>\n      <td>[-37.8835895, 145.07852]</td>\n      <td>[['5 Beds'], ['2 Baths'], ['3 Parking']]</td>\n      <td>Jason Lee</td>\n      <td>VIC</td>\n    </tr>\n    <tr>\n      <th>11</th>\n      <td>https://www.domain.com.au/9-earl-street-carlto...</td>\n      <td>9 Earl Street Carlton</td>\n      <td>Studio</td>\n      <td>From $220 per week</td>\n      <td>[-37.8061615, 144.965462]</td>\n      <td>[['1 Bed'], ['1 Bath'], []]</td>\n      <td>APPLICATION FOR MID YEAR HAS NOW COMPLETED.\\nB...</td>\n      <td>VIC</td>\n    </tr>\n    <tr>\n      <th>12</th>\n      <td>https://www.domain.com.au/9-133-park-street-mo...</td>\n      <td>9/133 Park Street Moonee Ponds</td>\n      <td>Apartment / Unit / Flat</td>\n      <td>$310 per week</td>\n      <td>[-37.7610548, 144.9082409]</td>\n      <td>[['1 Bed'], ['1 Bath'], ['1 Parking']]</td>\n      <td>class=\"css-dxogle\"&gt;* Unverified feature&lt;svg a...</td>\n      <td>VIC</td>\n    </tr>\n    <tr>\n      <th>13</th>\n      <td>https://www.domain.com.au/1-1-william-avenue-d...</td>\n      <td>1/1 William Avenue Dandenong South</td>\n      <td>Apartment / Unit / Flat</td>\n      <td>$ 285PER WEEK</td>\n      <td>[-37.9936651, 145.2135359]</td>\n      <td>[['1 Bed'], ['1 Bath'], []]</td>\n      <td>class=\"css-dxogle\"&gt;* Unverified feature&lt;svg a...</td>\n      <td>VIC</td>\n    </tr>\n    <tr>\n      <th>14</th>\n      <td>https://www.domain.com.au/5-anthony-close-lowe...</td>\n      <td>5 Anthony Close Lower Plenty</td>\n      <td>House</td>\n      <td>$500</td>\n      <td>[-37.723789, 145.119906]</td>\n      <td>[['3 Beds'], ['2 Baths'], ['2 Parking']]</td>\n      <td>class=\"css-dxogle\"&gt;* Unverified feature&lt;svg a...</td>\n      <td>VIC</td>\n    </tr>\n    <tr>\n      <th>15</th>\n      <td>https://www.domain.com.au/2a-granter-street-br...</td>\n      <td>2A Granter Street Brighton East</td>\n      <td>House</td>\n      <td>$525.00</td>\n      <td>[-37.9092707, 145.0171891]</td>\n      <td>[['2 Beds'], ['1 Bath'], ['1 Parking']]</td>\n      <td>Louisa Corke</td>\n      <td>VIC</td>\n    </tr>\n    <tr>\n      <th>16</th>\n      <td>https://www.domain.com.au/1211-260-spencer-str...</td>\n      <td>1211/260 Spencer Street Melbourne</td>\n      <td>Apartment / Unit / Flat</td>\n      <td>$700</td>\n      <td>[-37.814564, 144.9522856]</td>\n      <td>[['2 Beds'], ['2 Baths'], []]</td>\n      <td>Christian Hidayat</td>\n      <td>VIC</td>\n    </tr>\n    <tr>\n      <th>17</th>\n      <td>https://www.domain.com.au/64-eulinga-avenue-as...</td>\n      <td>64 Eulinga Avenue Aspendale</td>\n      <td>Townhouse</td>\n      <td>$1,000 per week</td>\n      <td>[-38.0141624, 145.1004835]</td>\n      <td>[['3 Beds'], ['2 Baths'], ['1 Parking']]</td>\n      <td>Proudly built by Map Developments, this bespok...</td>\n      <td>VIC</td>\n    </tr>\n    <tr>\n      <th>18</th>\n      <td>https://www.domain.com.au/10-mercer-way-armada...</td>\n      <td>10 Mercer Way Armadale</td>\n      <td>Apartment / Unit / Flat</td>\n      <td>$670.00</td>\n      <td>[-37.8555469, 145.0253117]</td>\n      <td>[['2 Beds'], ['1 Bath'], ['2 Parking']]</td>\n      <td>Grace Morley</td>\n      <td>VIC</td>\n    </tr>\n    <tr>\n      <th>19</th>\n      <td>https://www.domain.com.au/3-20-epsom-road-asco...</td>\n      <td>3/20 Epsom Road Ascot Vale</td>\n      <td>Townhouse</td>\n      <td>$495.00</td>\n      <td>[-37.7832302, 144.9168832]</td>\n      <td>[['2 Beds'], ['1 Bath'], ['1 Parking']]</td>\n      <td>Boasting a serene position at the rear of an e...</td>\n      <td>VIC</td>\n    </tr>\n  </tbody>\n</table>\n</div>"
     },
     "execution_count": 14,
     "metadata": {},
     "output_type": "execute_result"
    }
   ],
   "source": [
    "df.head(20)"
   ],
   "metadata": {
    "collapsed": false,
    "pycharm": {
     "name": "#%%\n"
    }
   }
  },
  {
   "cell_type": "code",
   "execution_count": 16,
   "outputs": [
    {
     "data": {
      "text/plain": "Apartment / Unit / Flat          2560\nHouse                            2194\nTownhouse                         581\nStudio                            154\nVilla                              16\nCarspace                            8\nSemi-Detached                       5\nAcreage / Semi-Rural                5\nTerrace                             4\nRural                               1\nPenthouse                           1\nNew Apartments / Off the Plan       1\nDuplex                              1\nName: type, dtype: int64"
     },
     "execution_count": 16,
     "metadata": {},
     "output_type": "execute_result"
    }
   ],
   "source": [
    "df['type'].value_counts()"
   ],
   "metadata": {
    "collapsed": false,
    "pycharm": {
     "name": "#%%\n"
    }
   }
  },
  {
   "cell_type": "code",
   "execution_count": null,
   "outputs": [],
   "source": [],
   "metadata": {
    "collapsed": false,
    "pycharm": {
     "name": "#%%\n"
    }
   }
  }
 ],
 "metadata": {
  "kernelspec": {
   "display_name": "Python 3",
   "language": "python",
   "name": "python3"
  },
  "language_info": {
   "codemirror_mode": {
    "name": "ipython",
    "version": 2
   },
   "file_extension": ".py",
   "mimetype": "text/x-python",
   "name": "python",
   "nbconvert_exporter": "python",
   "pygments_lexer": "ipython2",
   "version": "2.7.6"
  }
 },
 "nbformat": 4,
 "nbformat_minor": 0
}