{
 "cells": [
  {
   "cell_type": "code",
   "execution_count": 2,
   "outputs": [],
   "source": [
    "import re\n",
    "import pandas as pd"
   ],
   "metadata": {
    "collapsed": false,
    "pycharm": {
     "name": "#%%\n"
    }
   }
  },
  {
   "cell_type": "code",
   "execution_count": 3,
   "outputs": [],
   "source": [
    "property_files = '../data/raw/property_meta'"
   ],
   "metadata": {
    "collapsed": false,
    "pycharm": {
     "name": "#%%\n"
    }
   }
  },
  {
   "cell_type": "code",
   "execution_count": 4,
   "outputs": [],
   "source": [
    "df = pd.read_csv(f'{property_files}/property_metadata.csv')"
   ],
   "metadata": {
    "collapsed": false,
    "pycharm": {
     "name": "#%%\n"
    }
   }
  },
  {
   "cell_type": "code",
   "execution_count": 5,
   "outputs": [
    {
     "data": {
      "text/plain": "                                                 url  \\\n0  https://www.domain.com.au/5-1-3-rex-avenue-alp...   \n1  https://www.domain.com.au/805-81-queens-road-m...   \n2  https://www.domain.com.au/12-1-rex-avenue-alph...   \n3  https://www.domain.com.au/3-lime-ct-bellfield-...   \n4  https://www.domain.com.au/24-36-ridley-street-...   \n\n                                    name                     type  \\\n0   5/1-3 Rex Avenue Alphington VIC 3078  Apartment / Unit / Flat   \n1  805/81 Queens Road Melbourne VIC 3004                   Studio   \n2    12/1 Rex Avenue Alphington VIC 3078  Apartment / Unit / Flat   \n3           3 Lime Ct Bellfield VIC 3081                    House   \n4    24/36 Ridley Street Albion VIC 3020  Apartment / Unit / Flat   \n\n                      cost_text                 coordinates  \\\n0                       $440.00  [-37.7856068, 145.0249141]   \n1                   $380 weekly   [-37.853804, 144.9798785]   \n2                       $460.00  [-37.7856092, 145.0249185]   \n3  $425 PW | Weston Real Estate   [-37.7548292, 145.041952]   \n4                          $250  [-37.7834829, 144.8233623]   \n\n                                     rooms  \\\n0  [['2 Beds'], ['1 Bath'], ['1 Parking']]   \n1  [['0 Beds'], ['1 Bath'], ['1 Parking']]   \n2  [['2 Beds'], ['1 Bath'], ['1 Parking']]   \n3  [['3 Beds'], ['1 Bath'], ['3 Parking']]   \n4   [['1 Bed'], ['1 Bath'], ['1 Parking']]   \n\n                                                desc  \n0   class=\"css-dxogle\">* Unverified feature<svg a...  \n1                                  Leasing Concierge  \n2                                        Pyper Byrne  \n3   class=\"css-dxogle\">* Unverified feature<svg a...  \n4   class=\"css-dxogle\">* Unverified feature<svg a...  ",
      "text/html": "<div>\n<style scoped>\n    .dataframe tbody tr th:only-of-type {\n        vertical-align: middle;\n    }\n\n    .dataframe tbody tr th {\n        vertical-align: top;\n    }\n\n    .dataframe thead th {\n        text-align: right;\n    }\n</style>\n<table border=\"1\" class=\"dataframe\">\n  <thead>\n    <tr style=\"text-align: right;\">\n      <th></th>\n      <th>url</th>\n      <th>name</th>\n      <th>type</th>\n      <th>cost_text</th>\n      <th>coordinates</th>\n      <th>rooms</th>\n      <th>desc</th>\n    </tr>\n  </thead>\n  <tbody>\n    <tr>\n      <th>0</th>\n      <td>https://www.domain.com.au/5-1-3-rex-avenue-alp...</td>\n      <td>5/1-3 Rex Avenue Alphington VIC 3078</td>\n      <td>Apartment / Unit / Flat</td>\n      <td>$440.00</td>\n      <td>[-37.7856068, 145.0249141]</td>\n      <td>[['2 Beds'], ['1 Bath'], ['1 Parking']]</td>\n      <td>class=\"css-dxogle\"&gt;* Unverified feature&lt;svg a...</td>\n    </tr>\n    <tr>\n      <th>1</th>\n      <td>https://www.domain.com.au/805-81-queens-road-m...</td>\n      <td>805/81 Queens Road Melbourne VIC 3004</td>\n      <td>Studio</td>\n      <td>$380 weekly</td>\n      <td>[-37.853804, 144.9798785]</td>\n      <td>[['0 Beds'], ['1 Bath'], ['1 Parking']]</td>\n      <td>Leasing Concierge</td>\n    </tr>\n    <tr>\n      <th>2</th>\n      <td>https://www.domain.com.au/12-1-rex-avenue-alph...</td>\n      <td>12/1 Rex Avenue Alphington VIC 3078</td>\n      <td>Apartment / Unit / Flat</td>\n      <td>$460.00</td>\n      <td>[-37.7856092, 145.0249185]</td>\n      <td>[['2 Beds'], ['1 Bath'], ['1 Parking']]</td>\n      <td>Pyper Byrne</td>\n    </tr>\n    <tr>\n      <th>3</th>\n      <td>https://www.domain.com.au/3-lime-ct-bellfield-...</td>\n      <td>3 Lime Ct Bellfield VIC 3081</td>\n      <td>House</td>\n      <td>$425 PW | Weston Real Estate</td>\n      <td>[-37.7548292, 145.041952]</td>\n      <td>[['3 Beds'], ['1 Bath'], ['3 Parking']]</td>\n      <td>class=\"css-dxogle\"&gt;* Unverified feature&lt;svg a...</td>\n    </tr>\n    <tr>\n      <th>4</th>\n      <td>https://www.domain.com.au/24-36-ridley-street-...</td>\n      <td>24/36 Ridley Street Albion VIC 3020</td>\n      <td>Apartment / Unit / Flat</td>\n      <td>$250</td>\n      <td>[-37.7834829, 144.8233623]</td>\n      <td>[['1 Bed'], ['1 Bath'], ['1 Parking']]</td>\n      <td>class=\"css-dxogle\"&gt;* Unverified feature&lt;svg a...</td>\n    </tr>\n  </tbody>\n</table>\n</div>"
     },
     "execution_count": 5,
     "metadata": {},
     "output_type": "execute_result"
    }
   ],
   "source": [
    "df.head()"
   ],
   "metadata": {
    "collapsed": false,
    "pycharm": {
     "name": "#%%\n"
    }
   }
  },
  {
   "cell_type": "code",
   "execution_count": 6,
   "outputs": [],
   "source": [
    "df['postcode'] = df['name'].str[-4:]\n",
    "df['name'] = df['name'].str[:-5]"
   ],
   "metadata": {
    "collapsed": false,
    "pycharm": {
     "name": "#%%\n"
    }
   }
  },
  {
   "cell_type": "code",
   "execution_count": 7,
   "outputs": [],
   "source": [
    "rooms = df['rooms'].str.split(',', expand=True)\n",
    "rooms = rooms.iloc[:, :-1]\n",
    "rooms.columns = ['bed', 'bath', 'car']\n",
    "rooms.fillna(0)\n",
    "rooms['bed'] = rooms.bed.str.extract('(\\d+)').fillna(0).astype('int64')\n",
    "rooms['bath'] = rooms.bath.str.extract('(\\d+)').fillna(0).astype('int64')\n",
    "rooms['car'] = rooms.car.str.extract('(\\d+)').fillna(0).astype('int64')"
   ],
   "metadata": {
    "collapsed": false,
    "pycharm": {
     "name": "#%%\n"
    }
   }
  },
  {
   "cell_type": "code",
   "execution_count": 8,
   "outputs": [
    {
     "data": {
      "text/plain": "   bed  bath  car\n0    2     1    1\n1    0     1    1\n2    2     1    1\n3    3     1    3\n4    1     1    1",
      "text/html": "<div>\n<style scoped>\n    .dataframe tbody tr th:only-of-type {\n        vertical-align: middle;\n    }\n\n    .dataframe tbody tr th {\n        vertical-align: top;\n    }\n\n    .dataframe thead th {\n        text-align: right;\n    }\n</style>\n<table border=\"1\" class=\"dataframe\">\n  <thead>\n    <tr style=\"text-align: right;\">\n      <th></th>\n      <th>bed</th>\n      <th>bath</th>\n      <th>car</th>\n    </tr>\n  </thead>\n  <tbody>\n    <tr>\n      <th>0</th>\n      <td>2</td>\n      <td>1</td>\n      <td>1</td>\n    </tr>\n    <tr>\n      <th>1</th>\n      <td>0</td>\n      <td>1</td>\n      <td>1</td>\n    </tr>\n    <tr>\n      <th>2</th>\n      <td>2</td>\n      <td>1</td>\n      <td>1</td>\n    </tr>\n    <tr>\n      <th>3</th>\n      <td>3</td>\n      <td>1</td>\n      <td>3</td>\n    </tr>\n    <tr>\n      <th>4</th>\n      <td>1</td>\n      <td>1</td>\n      <td>1</td>\n    </tr>\n  </tbody>\n</table>\n</div>"
     },
     "execution_count": 8,
     "metadata": {},
     "output_type": "execute_result"
    }
   ],
   "source": [
    "rooms.head()"
   ],
   "metadata": {
    "collapsed": false,
    "pycharm": {
     "name": "#%%\n"
    }
   }
  },
  {
   "cell_type": "code",
   "execution_count": 9,
   "outputs": [],
   "source": [
    "df = pd.concat([df, rooms], axis=1)\n",
    "df = df.drop(columns=['rooms'])"
   ],
   "metadata": {
    "collapsed": false,
    "pycharm": {
     "name": "#%%\n"
    }
   }
  },
  {
   "cell_type": "code",
   "execution_count": 10,
   "outputs": [
    {
     "data": {
      "text/plain": "                                                 url  \\\n0  https://www.domain.com.au/5-1-3-rex-avenue-alp...   \n1  https://www.domain.com.au/805-81-queens-road-m...   \n2  https://www.domain.com.au/12-1-rex-avenue-alph...   \n3  https://www.domain.com.au/3-lime-ct-bellfield-...   \n4  https://www.domain.com.au/24-36-ridley-street-...   \n\n                               name                     type  \\\n0   5/1-3 Rex Avenue Alphington VIC  Apartment / Unit / Flat   \n1  805/81 Queens Road Melbourne VIC                   Studio   \n2    12/1 Rex Avenue Alphington VIC  Apartment / Unit / Flat   \n3           3 Lime Ct Bellfield VIC                    House   \n4    24/36 Ridley Street Albion VIC  Apartment / Unit / Flat   \n\n                      cost_text                 coordinates  \\\n0                       $440.00  [-37.7856068, 145.0249141]   \n1                   $380 weekly   [-37.853804, 144.9798785]   \n2                       $460.00  [-37.7856092, 145.0249185]   \n3  $425 PW | Weston Real Estate   [-37.7548292, 145.041952]   \n4                          $250  [-37.7834829, 144.8233623]   \n\n                                                desc postcode  bed  bath  car  \n0   class=\"css-dxogle\">* Unverified feature<svg a...     3078    2     1    1  \n1                                  Leasing Concierge     3004    0     1    1  \n2                                        Pyper Byrne     3078    2     1    1  \n3   class=\"css-dxogle\">* Unverified feature<svg a...     3081    3     1    3  \n4   class=\"css-dxogle\">* Unverified feature<svg a...     3020    1     1    1  ",
      "text/html": "<div>\n<style scoped>\n    .dataframe tbody tr th:only-of-type {\n        vertical-align: middle;\n    }\n\n    .dataframe tbody tr th {\n        vertical-align: top;\n    }\n\n    .dataframe thead th {\n        text-align: right;\n    }\n</style>\n<table border=\"1\" class=\"dataframe\">\n  <thead>\n    <tr style=\"text-align: right;\">\n      <th></th>\n      <th>url</th>\n      <th>name</th>\n      <th>type</th>\n      <th>cost_text</th>\n      <th>coordinates</th>\n      <th>desc</th>\n      <th>postcode</th>\n      <th>bed</th>\n      <th>bath</th>\n      <th>car</th>\n    </tr>\n  </thead>\n  <tbody>\n    <tr>\n      <th>0</th>\n      <td>https://www.domain.com.au/5-1-3-rex-avenue-alp...</td>\n      <td>5/1-3 Rex Avenue Alphington VIC</td>\n      <td>Apartment / Unit / Flat</td>\n      <td>$440.00</td>\n      <td>[-37.7856068, 145.0249141]</td>\n      <td>class=\"css-dxogle\"&gt;* Unverified feature&lt;svg a...</td>\n      <td>3078</td>\n      <td>2</td>\n      <td>1</td>\n      <td>1</td>\n    </tr>\n    <tr>\n      <th>1</th>\n      <td>https://www.domain.com.au/805-81-queens-road-m...</td>\n      <td>805/81 Queens Road Melbourne VIC</td>\n      <td>Studio</td>\n      <td>$380 weekly</td>\n      <td>[-37.853804, 144.9798785]</td>\n      <td>Leasing Concierge</td>\n      <td>3004</td>\n      <td>0</td>\n      <td>1</td>\n      <td>1</td>\n    </tr>\n    <tr>\n      <th>2</th>\n      <td>https://www.domain.com.au/12-1-rex-avenue-alph...</td>\n      <td>12/1 Rex Avenue Alphington VIC</td>\n      <td>Apartment / Unit / Flat</td>\n      <td>$460.00</td>\n      <td>[-37.7856092, 145.0249185]</td>\n      <td>Pyper Byrne</td>\n      <td>3078</td>\n      <td>2</td>\n      <td>1</td>\n      <td>1</td>\n    </tr>\n    <tr>\n      <th>3</th>\n      <td>https://www.domain.com.au/3-lime-ct-bellfield-...</td>\n      <td>3 Lime Ct Bellfield VIC</td>\n      <td>House</td>\n      <td>$425 PW | Weston Real Estate</td>\n      <td>[-37.7548292, 145.041952]</td>\n      <td>class=\"css-dxogle\"&gt;* Unverified feature&lt;svg a...</td>\n      <td>3081</td>\n      <td>3</td>\n      <td>1</td>\n      <td>3</td>\n    </tr>\n    <tr>\n      <th>4</th>\n      <td>https://www.domain.com.au/24-36-ridley-street-...</td>\n      <td>24/36 Ridley Street Albion VIC</td>\n      <td>Apartment / Unit / Flat</td>\n      <td>$250</td>\n      <td>[-37.7834829, 144.8233623]</td>\n      <td>class=\"css-dxogle\"&gt;* Unverified feature&lt;svg a...</td>\n      <td>3020</td>\n      <td>1</td>\n      <td>1</td>\n      <td>1</td>\n    </tr>\n  </tbody>\n</table>\n</div>"
     },
     "execution_count": 10,
     "metadata": {},
     "output_type": "execute_result"
    }
   ],
   "source": [
    "df.head()"
   ],
   "metadata": {
    "collapsed": false,
    "pycharm": {
     "name": "#%%\n"
    }
   }
  },
  {
   "cell_type": "code",
   "execution_count": 11,
   "outputs": [],
   "source": [
    "from collections import Counter"
   ],
   "metadata": {
    "collapsed": false,
    "pycharm": {
     "name": "#%%\n"
    }
   }
  },
  {
   "cell_type": "code",
   "execution_count": 12,
   "outputs": [
    {
     "ename": "TypeError",
     "evalue": "sequence item 4207: expected str instance, float found",
     "output_type": "error",
     "traceback": [
      "\u001B[0;31m---------------------------------------------------------------------------\u001B[0m",
      "\u001B[0;31mTypeError\u001B[0m                                 Traceback (most recent call last)",
      "\u001B[0;32m/var/folders/y5/myhyydfd6h9dlwv1qmqtqhmr0000gn/T/ipykernel_60989/3848567637.py\u001B[0m in \u001B[0;36m<module>\u001B[0;34m\u001B[0m\n\u001B[0;32m----> 1\u001B[0;31m \u001B[0mCounter\u001B[0m\u001B[0;34m(\u001B[0m\u001B[0;34m\" \"\u001B[0m\u001B[0;34m.\u001B[0m\u001B[0mjoin\u001B[0m\u001B[0;34m(\u001B[0m\u001B[0mdf\u001B[0m\u001B[0;34m[\u001B[0m\u001B[0;34m\"desc\"\u001B[0m\u001B[0;34m]\u001B[0m\u001B[0;34m.\u001B[0m\u001B[0mstr\u001B[0m\u001B[0;34m.\u001B[0m\u001B[0mlower\u001B[0m\u001B[0;34m(\u001B[0m\u001B[0;34m)\u001B[0m\u001B[0;34m)\u001B[0m\u001B[0;34m.\u001B[0m\u001B[0msplit\u001B[0m\u001B[0;34m(\u001B[0m\u001B[0;34m)\u001B[0m\u001B[0;34m)\u001B[0m\u001B[0;34m.\u001B[0m\u001B[0mmost_common\u001B[0m\u001B[0;34m(\u001B[0m\u001B[0;36m100\u001B[0m\u001B[0;34m)\u001B[0m\u001B[0;34m\u001B[0m\u001B[0;34m\u001B[0m\u001B[0m\n\u001B[0m",
      "\u001B[0;31mTypeError\u001B[0m: sequence item 4207: expected str instance, float found"
     ]
    }
   ],
   "source": [
    "# Counter(\" \".join(df[\"desc\"].str.lower()).split()).most_common(100)"
   ],
   "metadata": {
    "collapsed": false,
    "pycharm": {
     "name": "#%%\n"
    }
   }
  },
  {
   "cell_type": "code",
   "execution_count": null,
   "outputs": [],
   "source": [
    "# Counter(\" \".join(df[\"desc\"]).split()).most_common(100)"
   ],
   "metadata": {
    "collapsed": false,
    "pycharm": {
     "name": "#%%\n"
    }
   }
  },
  {
   "cell_type": "code",
   "execution_count": 14,
   "outputs": [
    {
     "data": {
      "text/plain": "url            object\nname           object\ntype           object\ncost_text      object\ncoordinates    object\ndesc           object\npostcode       object\nbed             int64\nbath            int64\ncar             int64\ndtype: object"
     },
     "execution_count": 14,
     "metadata": {},
     "output_type": "execute_result"
    }
   ],
   "source": [
    "df.dtypes"
   ],
   "metadata": {
    "collapsed": false,
    "pycharm": {
     "name": "#%%\n"
    }
   }
  },
  {
   "cell_type": "code",
   "execution_count": 15,
   "outputs": [
    {
     "data": {
      "text/plain": "3000    223\n3141    138\n3182    123\n3121    115\n3181    110\n       ... \n3913      1\n3713      1\n3090      1\n3804      1\n3036      1\nName: postcode, Length: 189, dtype: int64"
     },
     "execution_count": 15,
     "metadata": {},
     "output_type": "execute_result"
    }
   ],
   "source": [
    "df['postcode'].value_counts()"
   ],
   "metadata": {
    "collapsed": false,
    "pycharm": {
     "name": "#%%\n"
    }
   }
  },
  {
   "cell_type": "code",
   "execution_count": 16,
   "outputs": [
    {
     "data": {
      "text/plain": "Apartment / Unit / Flat          2560\nHouse                            2194\nTownhouse                         581\nStudio                            154\nVilla                              16\nCarspace                            8\nSemi-Detached                       5\nAcreage / Semi-Rural                5\nTerrace                             4\nRural                               1\nPenthouse                           1\nNew Apartments / Off the Plan       1\nDuplex                              1\nName: type, dtype: int64"
     },
     "execution_count": 16,
     "metadata": {},
     "output_type": "execute_result"
    }
   ],
   "source": [
    "df['type'].value_counts()"
   ],
   "metadata": {
    "collapsed": false,
    "pycharm": {
     "name": "#%%\n"
    }
   }
  },
  {
   "cell_type": "code",
   "execution_count": 17,
   "outputs": [],
   "source": [
    "postcode_df = pd.read_csv('../data/raw/abs/australian_postcodes.csv')"
   ],
   "metadata": {
    "collapsed": false,
    "pycharm": {
     "name": "#%%\n"
    }
   }
  },
  {
   "cell_type": "code",
   "execution_count": 18,
   "outputs": [
    {
     "data": {
      "text/plain": "      id  postcode                        locality state       long  \\\n0    230       200                             ANU   ACT  149.11900   \n1  21820       200  Australian National University   ACT  149.11890   \n2    232       800                          DARWIN    NT  130.83668   \n3  24049       800                     DARWIN CITY    NT  130.83668   \n4    233       801                          DARWIN    NT  130.83668   \n\n         lat   dc type                   status      sa3  ... MMM_2015  \\\n0 -35.277700  NaN  NaN                      NaN      NaN  ...      1.0   \n1 -35.277700  NaN  NaN        Added 19-Jan-2020      NaN  ...      1.0   \n2 -12.458684  NaN  NaN       Updated 6-Feb-2020  70101.0  ...      2.0   \n3 -12.458684  NaN  NaN       Updated 6-Feb-2020  70101.0  ...      2.0   \n4 -12.458684  NaN  NaN  Updated 25-Mar-2020 SA3  70101.0  ...      2.0   \n\n   MMM_2019  ced altitude  chargezone  phn_code            phn_name  \\\n0       1.0  NaN      NaN          N2       NaN                 NaN   \n1       1.0  NaN      NaN          N2       NaN                 NaN   \n2       2.0  NaN      NaN         NT1    PHN701  Northern Territory   \n3       2.0  NaN      NaN         NT1    PHN701  Northern Territory   \n4       2.0  NaN      NaN         NT1    PHN701                 NaN   \n\n   lgaregion  electorate    electoraterating  \n0        NaN      Durack                 NaN  \n1        NaN      Durack                 NaN  \n2     Darwin     Solomon  Inner Metropolitan  \n3     Darwin     Solomon  Inner Metropolitan  \n4        NaN    Lingiari               Rural  \n\n[5 rows x 36 columns]",
      "text/html": "<div>\n<style scoped>\n    .dataframe tbody tr th:only-of-type {\n        vertical-align: middle;\n    }\n\n    .dataframe tbody tr th {\n        vertical-align: top;\n    }\n\n    .dataframe thead th {\n        text-align: right;\n    }\n</style>\n<table border=\"1\" class=\"dataframe\">\n  <thead>\n    <tr style=\"text-align: right;\">\n      <th></th>\n      <th>id</th>\n      <th>postcode</th>\n      <th>locality</th>\n      <th>state</th>\n      <th>long</th>\n      <th>lat</th>\n      <th>dc</th>\n      <th>type</th>\n      <th>status</th>\n      <th>sa3</th>\n      <th>...</th>\n      <th>MMM_2015</th>\n      <th>MMM_2019</th>\n      <th>ced</th>\n      <th>altitude</th>\n      <th>chargezone</th>\n      <th>phn_code</th>\n      <th>phn_name</th>\n      <th>lgaregion</th>\n      <th>electorate</th>\n      <th>electoraterating</th>\n    </tr>\n  </thead>\n  <tbody>\n    <tr>\n      <th>0</th>\n      <td>230</td>\n      <td>200</td>\n      <td>ANU</td>\n      <td>ACT</td>\n      <td>149.11900</td>\n      <td>-35.277700</td>\n      <td>NaN</td>\n      <td>NaN</td>\n      <td>NaN</td>\n      <td>NaN</td>\n      <td>...</td>\n      <td>1.0</td>\n      <td>1.0</td>\n      <td>NaN</td>\n      <td>NaN</td>\n      <td>N2</td>\n      <td>NaN</td>\n      <td>NaN</td>\n      <td>NaN</td>\n      <td>Durack</td>\n      <td>NaN</td>\n    </tr>\n    <tr>\n      <th>1</th>\n      <td>21820</td>\n      <td>200</td>\n      <td>Australian National University</td>\n      <td>ACT</td>\n      <td>149.11890</td>\n      <td>-35.277700</td>\n      <td>NaN</td>\n      <td>NaN</td>\n      <td>Added 19-Jan-2020</td>\n      <td>NaN</td>\n      <td>...</td>\n      <td>1.0</td>\n      <td>1.0</td>\n      <td>NaN</td>\n      <td>NaN</td>\n      <td>N2</td>\n      <td>NaN</td>\n      <td>NaN</td>\n      <td>NaN</td>\n      <td>Durack</td>\n      <td>NaN</td>\n    </tr>\n    <tr>\n      <th>2</th>\n      <td>232</td>\n      <td>800</td>\n      <td>DARWIN</td>\n      <td>NT</td>\n      <td>130.83668</td>\n      <td>-12.458684</td>\n      <td>NaN</td>\n      <td>NaN</td>\n      <td>Updated 6-Feb-2020</td>\n      <td>70101.0</td>\n      <td>...</td>\n      <td>2.0</td>\n      <td>2.0</td>\n      <td>NaN</td>\n      <td>NaN</td>\n      <td>NT1</td>\n      <td>PHN701</td>\n      <td>Northern Territory</td>\n      <td>Darwin</td>\n      <td>Solomon</td>\n      <td>Inner Metropolitan</td>\n    </tr>\n    <tr>\n      <th>3</th>\n      <td>24049</td>\n      <td>800</td>\n      <td>DARWIN CITY</td>\n      <td>NT</td>\n      <td>130.83668</td>\n      <td>-12.458684</td>\n      <td>NaN</td>\n      <td>NaN</td>\n      <td>Updated 6-Feb-2020</td>\n      <td>70101.0</td>\n      <td>...</td>\n      <td>2.0</td>\n      <td>2.0</td>\n      <td>NaN</td>\n      <td>NaN</td>\n      <td>NT1</td>\n      <td>PHN701</td>\n      <td>Northern Territory</td>\n      <td>Darwin</td>\n      <td>Solomon</td>\n      <td>Inner Metropolitan</td>\n    </tr>\n    <tr>\n      <th>4</th>\n      <td>233</td>\n      <td>801</td>\n      <td>DARWIN</td>\n      <td>NT</td>\n      <td>130.83668</td>\n      <td>-12.458684</td>\n      <td>NaN</td>\n      <td>NaN</td>\n      <td>Updated 25-Mar-2020 SA3</td>\n      <td>70101.0</td>\n      <td>...</td>\n      <td>2.0</td>\n      <td>2.0</td>\n      <td>NaN</td>\n      <td>NaN</td>\n      <td>NT1</td>\n      <td>PHN701</td>\n      <td>NaN</td>\n      <td>NaN</td>\n      <td>Lingiari</td>\n      <td>Rural</td>\n    </tr>\n  </tbody>\n</table>\n<p>5 rows × 36 columns</p>\n</div>"
     },
     "execution_count": 18,
     "metadata": {},
     "output_type": "execute_result"
    }
   ],
   "source": [
    "postcode_df.head()"
   ],
   "metadata": {
    "collapsed": false,
    "pycharm": {
     "name": "#%%\n"
    }
   }
  },
  {
   "cell_type": "code",
   "execution_count": 24,
   "outputs": [
    {
     "data": {
      "text/plain": "      postcode        locality        long        lat region  Lat_precise  \\\n6151      3000       MELBOURNE  144.956776 -37.817403     R1   -37.815207   \n6152      3001       MELBOURNE  144.956776 -37.817403     R1   -37.813628   \n6153      3002  EAST MELBOURNE  144.982207 -37.818517     R1   -37.816144   \n6154      3003  WEST MELBOURNE  144.949592 -37.810871     R1   -37.811450   \n6155      3004       MELBOURNE  144.970161 -37.844246     R1   -37.830158   \n\n      Long_precise  SA2_MAINCODE_2016   SA2_NAME_2016  RA_2016  MMM_2019  \\\n6151    144.963937        206041122.0       Melbourne      1.0       1.0   \n6152    144.963058        206041122.0       Melbourne      1.0       1.0   \n6153    144.980459        206041119.0  East Melbourne      1.0       1.0   \n6154    144.925397        206041127.0  West Melbourne      1.0       1.0   \n6155    144.980459        206041126.0       Southbank      1.0       1.0   \n\n         altitude                 phn_name      lgaregion  \n6151    15.244751  North Western Melbourne      Melbourne  \n6152    15.244751                      NaN  Moonee Valley  \n6153    14.315022  North Western Melbourne          Yarra  \n6154    15.316063  North Western Melbourne      Melbourne  \n6155 -3492.000000  South Eastern Melbourne          Yarra  ",
      "text/html": "<div>\n<style scoped>\n    .dataframe tbody tr th:only-of-type {\n        vertical-align: middle;\n    }\n\n    .dataframe tbody tr th {\n        vertical-align: top;\n    }\n\n    .dataframe thead th {\n        text-align: right;\n    }\n</style>\n<table border=\"1\" class=\"dataframe\">\n  <thead>\n    <tr style=\"text-align: right;\">\n      <th></th>\n      <th>postcode</th>\n      <th>locality</th>\n      <th>long</th>\n      <th>lat</th>\n      <th>region</th>\n      <th>Lat_precise</th>\n      <th>Long_precise</th>\n      <th>SA2_MAINCODE_2016</th>\n      <th>SA2_NAME_2016</th>\n      <th>RA_2016</th>\n      <th>MMM_2019</th>\n      <th>altitude</th>\n      <th>phn_name</th>\n      <th>lgaregion</th>\n    </tr>\n  </thead>\n  <tbody>\n    <tr>\n      <th>6151</th>\n      <td>3000</td>\n      <td>MELBOURNE</td>\n      <td>144.956776</td>\n      <td>-37.817403</td>\n      <td>R1</td>\n      <td>-37.815207</td>\n      <td>144.963937</td>\n      <td>206041122.0</td>\n      <td>Melbourne</td>\n      <td>1.0</td>\n      <td>1.0</td>\n      <td>15.244751</td>\n      <td>North Western Melbourne</td>\n      <td>Melbourne</td>\n    </tr>\n    <tr>\n      <th>6152</th>\n      <td>3001</td>\n      <td>MELBOURNE</td>\n      <td>144.956776</td>\n      <td>-37.817403</td>\n      <td>R1</td>\n      <td>-37.813628</td>\n      <td>144.963058</td>\n      <td>206041122.0</td>\n      <td>Melbourne</td>\n      <td>1.0</td>\n      <td>1.0</td>\n      <td>15.244751</td>\n      <td>NaN</td>\n      <td>Moonee Valley</td>\n    </tr>\n    <tr>\n      <th>6153</th>\n      <td>3002</td>\n      <td>EAST MELBOURNE</td>\n      <td>144.982207</td>\n      <td>-37.818517</td>\n      <td>R1</td>\n      <td>-37.816144</td>\n      <td>144.980459</td>\n      <td>206041119.0</td>\n      <td>East Melbourne</td>\n      <td>1.0</td>\n      <td>1.0</td>\n      <td>14.315022</td>\n      <td>North Western Melbourne</td>\n      <td>Yarra</td>\n    </tr>\n    <tr>\n      <th>6154</th>\n      <td>3003</td>\n      <td>WEST MELBOURNE</td>\n      <td>144.949592</td>\n      <td>-37.810871</td>\n      <td>R1</td>\n      <td>-37.811450</td>\n      <td>144.925397</td>\n      <td>206041127.0</td>\n      <td>West Melbourne</td>\n      <td>1.0</td>\n      <td>1.0</td>\n      <td>15.316063</td>\n      <td>North Western Melbourne</td>\n      <td>Melbourne</td>\n    </tr>\n    <tr>\n      <th>6155</th>\n      <td>3004</td>\n      <td>MELBOURNE</td>\n      <td>144.970161</td>\n      <td>-37.844246</td>\n      <td>R1</td>\n      <td>-37.830158</td>\n      <td>144.980459</td>\n      <td>206041126.0</td>\n      <td>Southbank</td>\n      <td>1.0</td>\n      <td>1.0</td>\n      <td>-3492.000000</td>\n      <td>South Eastern Melbourne</td>\n      <td>Yarra</td>\n    </tr>\n  </tbody>\n</table>\n</div>"
     },
     "execution_count": 24,
     "metadata": {},
     "output_type": "execute_result"
    }
   ],
   "source": [
    "postcode_df = postcode_df[postcode_df['state'] == 'VIC']\n",
    "columns = ['postcode', 'locality', 'long', 'lat', 'region', 'Lat_precise', 'Long_precise', 'SA2_MAINCODE_2016', 'SA2_NAME_2016', 'RA_2016', 'MMM_2019', 'altitude', 'phn_name', 'lgaregion']\n",
    "postcode_df = postcode_df[columns]\n",
    "postcode_df.head()"
   ],
   "metadata": {
    "collapsed": false,
    "pycharm": {
     "name": "#%%\n"
    }
   }
  },
  {
   "cell_type": "code",
   "execution_count": 26,
   "outputs": [
    {
     "data": {
      "text/plain": "3352    62\n3401    48\n3551    41\n3691    37\n3678    35\nName: postcode, dtype: int64"
     },
     "execution_count": 26,
     "metadata": {},
     "output_type": "execute_result"
    }
   ],
   "source": [
    "postcode_df['postcode'].value_counts().head()"
   ],
   "metadata": {
    "collapsed": false,
    "pycharm": {
     "name": "#%%\n"
    }
   }
  },
  {
   "cell_type": "code",
   "execution_count": null,
   "outputs": [],
   "source": [],
   "metadata": {
    "collapsed": false,
    "pycharm": {
     "name": "#%%\n"
    }
   }
  }
 ],
 "metadata": {
  "kernelspec": {
   "display_name": "Python 3",
   "language": "python",
   "name": "python3"
  },
  "language_info": {
   "codemirror_mode": {
    "name": "ipython",
    "version": 2
   },
   "file_extension": ".py",
   "mimetype": "text/x-python",
   "name": "python",
   "nbconvert_exporter": "python",
   "pygments_lexer": "ipython2",
   "version": "2.7.6"
  }
 },
 "nbformat": 4,
 "nbformat_minor": 0
}