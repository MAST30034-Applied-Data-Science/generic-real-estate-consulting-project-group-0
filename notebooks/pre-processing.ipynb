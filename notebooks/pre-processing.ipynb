{
 "cells": [
  {
   "cell_type": "code",
   "execution_count": 213,
   "outputs": [],
   "source": [
    "import re\n",
    "import pandas as pd"
   ],
   "metadata": {
    "collapsed": false,
    "pycharm": {
     "name": "#%%\n"
    }
   }
  },
  {
   "cell_type": "code",
   "execution_count": 214,
   "outputs": [],
   "source": [
    "property_files = '../data/raw/property_meta'"
   ],
   "metadata": {
    "collapsed": false,
    "pycharm": {
     "name": "#%%\n"
    }
   }
  },
  {
   "cell_type": "code",
   "execution_count": 215,
   "outputs": [],
   "source": [
    "df = pd.read_csv(f'{property_files}/property_metadata.csv')"
   ],
   "metadata": {
    "collapsed": false,
    "pycharm": {
     "name": "#%%\n"
    }
   }
  },
  {
   "cell_type": "code",
   "execution_count": 216,
   "outputs": [
    {
     "data": {
      "text/plain": "                                                 url  \\\n0  https://www.domain.com.au/5-1-3-rex-avenue-alp...   \n1  https://www.domain.com.au/805-81-queens-road-m...   \n2  https://www.domain.com.au/12-1-rex-avenue-alph...   \n3  https://www.domain.com.au/3-lime-ct-bellfield-...   \n4  https://www.domain.com.au/24-36-ridley-street-...   \n\n                                    name                     type  \\\n0   5/1-3 Rex Avenue Alphington VIC 3078  Apartment / Unit / Flat   \n1  805/81 Queens Road Melbourne VIC 3004                   Studio   \n2    12/1 Rex Avenue Alphington VIC 3078  Apartment / Unit / Flat   \n3           3 Lime Ct Bellfield VIC 3081                    House   \n4    24/36 Ridley Street Albion VIC 3020  Apartment / Unit / Flat   \n\n                      cost_text                 coordinates  \\\n0                       $440.00  [-37.7856068, 145.0249141]   \n1                   $380 weekly   [-37.853804, 144.9798785]   \n2                       $460.00  [-37.7856092, 145.0249185]   \n3  $425 PW | Weston Real Estate   [-37.7548292, 145.041952]   \n4                          $250  [-37.7834829, 144.8233623]   \n\n                                     rooms  \\\n0  [['2 Beds'], ['1 Bath'], ['1 Parking']]   \n1  [['0 Beds'], ['1 Bath'], ['1 Parking']]   \n2  [['2 Beds'], ['1 Bath'], ['1 Parking']]   \n3  [['3 Beds'], ['1 Bath'], ['3 Parking']]   \n4   [['1 Bed'], ['1 Bath'], ['1 Parking']]   \n\n                                                desc  \n0   class=\"css-dxogle\">* Unverified feature<svg a...  \n1                                  Leasing Concierge  \n2                                        Pyper Byrne  \n3   class=\"css-dxogle\">* Unverified feature<svg a...  \n4   class=\"css-dxogle\">* Unverified feature<svg a...  ",
      "text/html": "<div>\n<style scoped>\n    .dataframe tbody tr th:only-of-type {\n        vertical-align: middle;\n    }\n\n    .dataframe tbody tr th {\n        vertical-align: top;\n    }\n\n    .dataframe thead th {\n        text-align: right;\n    }\n</style>\n<table border=\"1\" class=\"dataframe\">\n  <thead>\n    <tr style=\"text-align: right;\">\n      <th></th>\n      <th>url</th>\n      <th>name</th>\n      <th>type</th>\n      <th>cost_text</th>\n      <th>coordinates</th>\n      <th>rooms</th>\n      <th>desc</th>\n    </tr>\n  </thead>\n  <tbody>\n    <tr>\n      <th>0</th>\n      <td>https://www.domain.com.au/5-1-3-rex-avenue-alp...</td>\n      <td>5/1-3 Rex Avenue Alphington VIC 3078</td>\n      <td>Apartment / Unit / Flat</td>\n      <td>$440.00</td>\n      <td>[-37.7856068, 145.0249141]</td>\n      <td>[['2 Beds'], ['1 Bath'], ['1 Parking']]</td>\n      <td>class=\"css-dxogle\"&gt;* Unverified feature&lt;svg a...</td>\n    </tr>\n    <tr>\n      <th>1</th>\n      <td>https://www.domain.com.au/805-81-queens-road-m...</td>\n      <td>805/81 Queens Road Melbourne VIC 3004</td>\n      <td>Studio</td>\n      <td>$380 weekly</td>\n      <td>[-37.853804, 144.9798785]</td>\n      <td>[['0 Beds'], ['1 Bath'], ['1 Parking']]</td>\n      <td>Leasing Concierge</td>\n    </tr>\n    <tr>\n      <th>2</th>\n      <td>https://www.domain.com.au/12-1-rex-avenue-alph...</td>\n      <td>12/1 Rex Avenue Alphington VIC 3078</td>\n      <td>Apartment / Unit / Flat</td>\n      <td>$460.00</td>\n      <td>[-37.7856092, 145.0249185]</td>\n      <td>[['2 Beds'], ['1 Bath'], ['1 Parking']]</td>\n      <td>Pyper Byrne</td>\n    </tr>\n    <tr>\n      <th>3</th>\n      <td>https://www.domain.com.au/3-lime-ct-bellfield-...</td>\n      <td>3 Lime Ct Bellfield VIC 3081</td>\n      <td>House</td>\n      <td>$425 PW | Weston Real Estate</td>\n      <td>[-37.7548292, 145.041952]</td>\n      <td>[['3 Beds'], ['1 Bath'], ['3 Parking']]</td>\n      <td>class=\"css-dxogle\"&gt;* Unverified feature&lt;svg a...</td>\n    </tr>\n    <tr>\n      <th>4</th>\n      <td>https://www.domain.com.au/24-36-ridley-street-...</td>\n      <td>24/36 Ridley Street Albion VIC 3020</td>\n      <td>Apartment / Unit / Flat</td>\n      <td>$250</td>\n      <td>[-37.7834829, 144.8233623]</td>\n      <td>[['1 Bed'], ['1 Bath'], ['1 Parking']]</td>\n      <td>class=\"css-dxogle\"&gt;* Unverified feature&lt;svg a...</td>\n    </tr>\n  </tbody>\n</table>\n</div>"
     },
     "execution_count": 216,
     "metadata": {},
     "output_type": "execute_result"
    }
   ],
   "source": [
    "df.head()"
   ],
   "metadata": {
    "collapsed": false,
    "pycharm": {
     "name": "#%%\n"
    }
   }
  },
  {
   "cell_type": "code",
   "execution_count": 217,
   "outputs": [],
   "source": [
    "df['postcode'] = df['name'].str[-4:]\n",
    "df['name'] = df['name'].str[:-5]"
   ],
   "metadata": {
    "collapsed": false,
    "pycharm": {
     "name": "#%%\n"
    }
   }
  },
  {
   "cell_type": "code",
   "execution_count": 226,
   "outputs": [],
   "source": [
    "rooms = df['rooms'].str.split(',', expand=True)\n",
    "rooms = rooms.iloc[:, :-1]\n",
    "rooms.columns = ['bed', 'bath', 'car']\n",
    "rooms.fillna(0)\n",
    "rooms['bed'] = rooms.bed.str.extract('(\\d+)').fillna(0).astype('int64')\n",
    "rooms['bath'] = rooms.bath.str.extract('(\\d+)').fillna(0).astype('int64')\n",
    "rooms['car'] = rooms.car.str.extract('(\\d+)').fillna(0).astype('int64')"
   ],
   "metadata": {
    "collapsed": false,
    "pycharm": {
     "name": "#%%\n"
    }
   }
  },
  {
   "cell_type": "code",
   "execution_count": 227,
   "outputs": [
    {
     "data": {
      "text/plain": "   bed  bath  car\n0    2     1    1\n1    0     1    1\n2    2     1    1\n3    3     1    3\n4    1     1    1",
      "text/html": "<div>\n<style scoped>\n    .dataframe tbody tr th:only-of-type {\n        vertical-align: middle;\n    }\n\n    .dataframe tbody tr th {\n        vertical-align: top;\n    }\n\n    .dataframe thead th {\n        text-align: right;\n    }\n</style>\n<table border=\"1\" class=\"dataframe\">\n  <thead>\n    <tr style=\"text-align: right;\">\n      <th></th>\n      <th>bed</th>\n      <th>bath</th>\n      <th>car</th>\n    </tr>\n  </thead>\n  <tbody>\n    <tr>\n      <th>0</th>\n      <td>2</td>\n      <td>1</td>\n      <td>1</td>\n    </tr>\n    <tr>\n      <th>1</th>\n      <td>0</td>\n      <td>1</td>\n      <td>1</td>\n    </tr>\n    <tr>\n      <th>2</th>\n      <td>2</td>\n      <td>1</td>\n      <td>1</td>\n    </tr>\n    <tr>\n      <th>3</th>\n      <td>3</td>\n      <td>1</td>\n      <td>3</td>\n    </tr>\n    <tr>\n      <th>4</th>\n      <td>1</td>\n      <td>1</td>\n      <td>1</td>\n    </tr>\n  </tbody>\n</table>\n</div>"
     },
     "execution_count": 227,
     "metadata": {},
     "output_type": "execute_result"
    }
   ],
   "source": [
    "rooms.head()"
   ],
   "metadata": {
    "collapsed": false,
    "pycharm": {
     "name": "#%%\n"
    }
   }
  },
  {
   "cell_type": "code",
   "execution_count": 229,
   "outputs": [],
   "source": [
    "df = pd.concat([df, rooms], axis=1)\n",
    "df = df.drop(columns=['rooms'])"
   ],
   "metadata": {
    "collapsed": false,
    "pycharm": {
     "name": "#%%\n"
    }
   }
  },
  {
   "cell_type": "code",
   "execution_count": 230,
   "outputs": [
    {
     "data": {
      "text/plain": "                                                 url  \\\n0  https://www.domain.com.au/5-1-3-rex-avenue-alp...   \n1  https://www.domain.com.au/805-81-queens-road-m...   \n2  https://www.domain.com.au/12-1-rex-avenue-alph...   \n3  https://www.domain.com.au/3-lime-ct-bellfield-...   \n4  https://www.domain.com.au/24-36-ridley-street-...   \n\n                               name                     type  \\\n0   5/1-3 Rex Avenue Alphington VIC  Apartment / Unit / Flat   \n1  805/81 Queens Road Melbourne VIC                   Studio   \n2    12/1 Rex Avenue Alphington VIC  Apartment / Unit / Flat   \n3           3 Lime Ct Bellfield VIC                    House   \n4    24/36 Ridley Street Albion VIC  Apartment / Unit / Flat   \n\n                      cost_text                 coordinates  \\\n0                       $440.00  [-37.7856068, 145.0249141]   \n1                   $380 weekly   [-37.853804, 144.9798785]   \n2                       $460.00  [-37.7856092, 145.0249185]   \n3  $425 PW | Weston Real Estate   [-37.7548292, 145.041952]   \n4                          $250  [-37.7834829, 144.8233623]   \n\n                                                desc postcode  bed  bath  car  \n0   class=\"css-dxogle\">* Unverified feature<svg a...     3078    2     1    1  \n1                                  Leasing Concierge     3004    0     1    1  \n2                                        Pyper Byrne     3078    2     1    1  \n3   class=\"css-dxogle\">* Unverified feature<svg a...     3081    3     1    3  \n4   class=\"css-dxogle\">* Unverified feature<svg a...     3020    1     1    1  ",
      "text/html": "<div>\n<style scoped>\n    .dataframe tbody tr th:only-of-type {\n        vertical-align: middle;\n    }\n\n    .dataframe tbody tr th {\n        vertical-align: top;\n    }\n\n    .dataframe thead th {\n        text-align: right;\n    }\n</style>\n<table border=\"1\" class=\"dataframe\">\n  <thead>\n    <tr style=\"text-align: right;\">\n      <th></th>\n      <th>url</th>\n      <th>name</th>\n      <th>type</th>\n      <th>cost_text</th>\n      <th>coordinates</th>\n      <th>desc</th>\n      <th>postcode</th>\n      <th>bed</th>\n      <th>bath</th>\n      <th>car</th>\n    </tr>\n  </thead>\n  <tbody>\n    <tr>\n      <th>0</th>\n      <td>https://www.domain.com.au/5-1-3-rex-avenue-alp...</td>\n      <td>5/1-3 Rex Avenue Alphington VIC</td>\n      <td>Apartment / Unit / Flat</td>\n      <td>$440.00</td>\n      <td>[-37.7856068, 145.0249141]</td>\n      <td>class=\"css-dxogle\"&gt;* Unverified feature&lt;svg a...</td>\n      <td>3078</td>\n      <td>2</td>\n      <td>1</td>\n      <td>1</td>\n    </tr>\n    <tr>\n      <th>1</th>\n      <td>https://www.domain.com.au/805-81-queens-road-m...</td>\n      <td>805/81 Queens Road Melbourne VIC</td>\n      <td>Studio</td>\n      <td>$380 weekly</td>\n      <td>[-37.853804, 144.9798785]</td>\n      <td>Leasing Concierge</td>\n      <td>3004</td>\n      <td>0</td>\n      <td>1</td>\n      <td>1</td>\n    </tr>\n    <tr>\n      <th>2</th>\n      <td>https://www.domain.com.au/12-1-rex-avenue-alph...</td>\n      <td>12/1 Rex Avenue Alphington VIC</td>\n      <td>Apartment / Unit / Flat</td>\n      <td>$460.00</td>\n      <td>[-37.7856092, 145.0249185]</td>\n      <td>Pyper Byrne</td>\n      <td>3078</td>\n      <td>2</td>\n      <td>1</td>\n      <td>1</td>\n    </tr>\n    <tr>\n      <th>3</th>\n      <td>https://www.domain.com.au/3-lime-ct-bellfield-...</td>\n      <td>3 Lime Ct Bellfield VIC</td>\n      <td>House</td>\n      <td>$425 PW | Weston Real Estate</td>\n      <td>[-37.7548292, 145.041952]</td>\n      <td>class=\"css-dxogle\"&gt;* Unverified feature&lt;svg a...</td>\n      <td>3081</td>\n      <td>3</td>\n      <td>1</td>\n      <td>3</td>\n    </tr>\n    <tr>\n      <th>4</th>\n      <td>https://www.domain.com.au/24-36-ridley-street-...</td>\n      <td>24/36 Ridley Street Albion VIC</td>\n      <td>Apartment / Unit / Flat</td>\n      <td>$250</td>\n      <td>[-37.7834829, 144.8233623]</td>\n      <td>class=\"css-dxogle\"&gt;* Unverified feature&lt;svg a...</td>\n      <td>3020</td>\n      <td>1</td>\n      <td>1</td>\n      <td>1</td>\n    </tr>\n  </tbody>\n</table>\n</div>"
     },
     "execution_count": 230,
     "metadata": {},
     "output_type": "execute_result"
    }
   ],
   "source": [
    "df.head()"
   ],
   "metadata": {
    "collapsed": false,
    "pycharm": {
     "name": "#%%\n"
    }
   }
  },
  {
   "cell_type": "code",
   "execution_count": 243,
   "outputs": [],
   "source": [
    "from collections import Counter"
   ],
   "metadata": {
    "collapsed": false,
    "pycharm": {
     "name": "#%%\n"
    }
   }
  },
  {
   "cell_type": "code",
   "execution_count": 244,
   "outputs": [
    {
     "ename": "TypeError",
     "evalue": "sequence item 4207: expected str instance, float found",
     "output_type": "error",
     "traceback": [
      "\u001B[0;31m---------------------------------------------------------------------------\u001B[0m",
      "\u001B[0;31mTypeError\u001B[0m                                 Traceback (most recent call last)",
      "\u001B[0;32m/var/folders/y5/myhyydfd6h9dlwv1qmqtqhmr0000gn/T/ipykernel_29829/3848567637.py\u001B[0m in \u001B[0;36m<module>\u001B[0;34m\u001B[0m\n\u001B[0;32m----> 1\u001B[0;31m \u001B[0mCounter\u001B[0m\u001B[0;34m(\u001B[0m\u001B[0;34m\" \"\u001B[0m\u001B[0;34m.\u001B[0m\u001B[0mjoin\u001B[0m\u001B[0;34m(\u001B[0m\u001B[0mdf\u001B[0m\u001B[0;34m[\u001B[0m\u001B[0;34m\"desc\"\u001B[0m\u001B[0;34m]\u001B[0m\u001B[0;34m.\u001B[0m\u001B[0mstr\u001B[0m\u001B[0;34m.\u001B[0m\u001B[0mlower\u001B[0m\u001B[0;34m(\u001B[0m\u001B[0;34m)\u001B[0m\u001B[0;34m)\u001B[0m\u001B[0;34m.\u001B[0m\u001B[0msplit\u001B[0m\u001B[0;34m(\u001B[0m\u001B[0;34m)\u001B[0m\u001B[0;34m)\u001B[0m\u001B[0;34m.\u001B[0m\u001B[0mmost_common\u001B[0m\u001B[0;34m(\u001B[0m\u001B[0;36m100\u001B[0m\u001B[0;34m)\u001B[0m\u001B[0;34m\u001B[0m\u001B[0;34m\u001B[0m\u001B[0m\n\u001B[0m",
      "\u001B[0;31mTypeError\u001B[0m: sequence item 4207: expected str instance, float found"
     ]
    }
   ],
   "source": [
    "Counter(\" \".join(df[\"desc\"].str.lower()).split()).most_common(100)"
   ],
   "metadata": {
    "collapsed": false,
    "pycharm": {
     "name": "#%%\n"
    }
   }
  },
  {
   "cell_type": "code",
   "execution_count": null,
   "outputs": [],
   "source": [
    "Counter(\" \".join(df[\"desc\"]).split()).most_common(100)"
   ],
   "metadata": {
    "collapsed": false,
    "pycharm": {
     "name": "#%%\n"
    }
   }
  },
  {
   "cell_type": "code",
   "execution_count": 231,
   "outputs": [
    {
     "data": {
      "text/plain": "url            object\nname           object\ntype           object\ncost_text      object\ncoordinates    object\ndesc           object\npostcode       object\nbed             int64\nbath            int64\ncar             int64\ndtype: object"
     },
     "execution_count": 231,
     "metadata": {},
     "output_type": "execute_result"
    }
   ],
   "source": [
    "df.dtypes"
   ],
   "metadata": {
    "collapsed": false,
    "pycharm": {
     "name": "#%%\n"
    }
   }
  },
  {
   "cell_type": "code",
   "execution_count": 234,
   "outputs": [
    {
     "data": {
      "text/plain": "3000    223\n3141    138\n3182    123\n3121    115\n3181    110\n       ... \n3913      1\n3713      1\n3090      1\n3804      1\n3036      1\nName: postcode, Length: 189, dtype: int64"
     },
     "execution_count": 234,
     "metadata": {},
     "output_type": "execute_result"
    }
   ],
   "source": [
    "df['postcode'].value_counts()"
   ],
   "metadata": {
    "collapsed": false,
    "pycharm": {
     "name": "#%%\n"
    }
   }
  },
  {
   "cell_type": "code",
   "execution_count": 233,
   "outputs": [
    {
     "data": {
      "text/plain": "Apartment / Unit / Flat          2560\nHouse                            2194\nTownhouse                         581\nStudio                            154\nVilla                              16\nCarspace                            8\nSemi-Detached                       5\nAcreage / Semi-Rural                5\nTerrace                             4\nRural                               1\nPenthouse                           1\nNew Apartments / Off the Plan       1\nDuplex                              1\nName: type, dtype: int64"
     },
     "execution_count": 233,
     "metadata": {},
     "output_type": "execute_result"
    }
   ],
   "source": [
    "df['type'].value_counts()"
   ],
   "metadata": {
    "collapsed": false,
    "pycharm": {
     "name": "#%%\n"
    }
   }
  },
  {
   "cell_type": "code",
   "execution_count": 211,
   "outputs": [],
   "source": [],
   "metadata": {
    "collapsed": false,
    "pycharm": {
     "name": "#%%\n"
    }
   }
  }
 ],
 "metadata": {
  "kernelspec": {
   "display_name": "Python 3",
   "language": "python",
   "name": "python3"
  },
  "language_info": {
   "codemirror_mode": {
    "name": "ipython",
    "version": 2
   },
   "file_extension": ".py",
   "mimetype": "text/x-python",
   "name": "python",
   "nbconvert_exporter": "python",
   "pygments_lexer": "ipython2",
   "version": "2.7.6"
  }
 },
 "nbformat": 4,
 "nbformat_minor": 0
}