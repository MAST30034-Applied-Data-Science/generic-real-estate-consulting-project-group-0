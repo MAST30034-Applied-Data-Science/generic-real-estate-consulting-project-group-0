{
 "cells": [
  {
   "cell_type": "code",
   "execution_count": 74,
   "id": "e020e2fd-0551-46a7-9c70-b2240dab6808",
   "metadata": {},
   "outputs": [],
   "source": [
    "#written by Stefan Solagratio Simanjuntak\n",
    "#1039092\n",
    "\n",
    "\n",
    "import requests\n",
    "from bs4 import BeautifulSoup\n",
    "\n",
    "page = requests.\\\n",
    "get('https://www.oldlistings.com.au/real-estate/VIC/Melbourne/3000/rent/');\n",
    "soup = BeautifulSoup(page.content, 'html.parser');\n",
    "prop_div= soup.find_all(\"div\", {\"class\":\\\n",
    "                                [\"property odd clearfix\",\"property even clearfix\"]})\n",
    "\n",
    "\n"
   ]
  },
  {
   "cell_type": "code",
   "execution_count": null,
   "id": "38e86da5-6959-440f-bce2-57bb644b3c98",
   "metadata": {},
   "outputs": [],
   "source": [
    "\n",
    "bed_list = [];\n",
    "bath_list = [];\n",
    "land_list = [];\n",
    "type_list = [];\n",
    "\n",
    "\n"
   ]
  },
  {
   "cell_type": "code",
   "execution_count": 1,
   "id": "6bf74d8d-41c5-4f1e-a81d-c268f09cabf9",
   "metadata": {},
   "outputs": [
    {
     "ename": "NameError",
     "evalue": "name 'prop_div' is not defined",
     "output_type": "error",
     "traceback": [
      "\u001B[0;31m---------------------------------------------------------------------------\u001B[0m",
      "\u001B[0;31mNameError\u001B[0m                                 Traceback (most recent call last)",
      "\u001B[0;32m/var/folders/y5/myhyydfd6h9dlwv1qmqtqhmr0000gn/T/ipykernel_97045/3158489911.py\u001B[0m in \u001B[0;36m<module>\u001B[0;34m\u001B[0m\n\u001B[0;32m----> 1\u001B[0;31m \u001B[0mprop_html\u001B[0m \u001B[0;34m=\u001B[0m \u001B[0mlist\u001B[0m\u001B[0;34m(\u001B[0m\u001B[0mprop_div\u001B[0m\u001B[0;34m[\u001B[0m\u001B[0;36m36\u001B[0m\u001B[0;34m]\u001B[0m\u001B[0;34m.\u001B[0m\u001B[0mchildren\u001B[0m\u001B[0;34m)\u001B[0m\u001B[0;34m[\u001B[0m\u001B[0;36m1\u001B[0m\u001B[0;34m]\u001B[0m\u001B[0;34m;\u001B[0m\u001B[0;34m\u001B[0m\u001B[0;34m\u001B[0m\u001B[0m\n\u001B[0m\u001B[1;32m      2\u001B[0m \u001B[0mprop_list\u001B[0m \u001B[0;34m=\u001B[0m \u001B[0mlist\u001B[0m\u001B[0;34m(\u001B[0m\u001B[0mprop_html\u001B[0m\u001B[0;34m.\u001B[0m\u001B[0mchildren\u001B[0m\u001B[0;34m)\u001B[0m\u001B[0;34m;\u001B[0m\u001B[0;34m\u001B[0m\u001B[0;34m\u001B[0m\u001B[0m\n\u001B[1;32m      3\u001B[0m \u001B[0mprop_attribute_html\u001B[0m \u001B[0;34m=\u001B[0m \u001B[0mprop_list\u001B[0m\u001B[0;34m[\u001B[0m\u001B[0;36m1\u001B[0m\u001B[0;34m]\u001B[0m\u001B[0;34m;\u001B[0m\u001B[0;34m\u001B[0m\u001B[0;34m\u001B[0m\u001B[0m\n\u001B[1;32m      4\u001B[0m \u001B[0mprop_attribute_list\u001B[0m \u001B[0;34m=\u001B[0m \u001B[0mlist\u001B[0m\u001B[0;34m(\u001B[0m\u001B[0mprop_attribute_html\u001B[0m\u001B[0;34m)\u001B[0m\u001B[0;34m;\u001B[0m\u001B[0;34m\u001B[0m\u001B[0;34m\u001B[0m\u001B[0m\n",
      "\u001B[0;31mNameError\u001B[0m: name 'prop_div' is not defined"
     ]
    }
   ],
   "source": [
    "prop_html = list(prop_div[36].children)[1];\n",
    "prop_list = list(prop_html.children);\n",
    "prop_attribute_html = prop_list[1];\n",
    "prop_attribute_list = list(prop_attribute_html);"
   ]
  },
  {
   "cell_type": "code",
   "execution_count": 78,
   "id": "abd8c093-e1f9-44ff-8345-e77ec77bd167",
   "metadata": {},
   "outputs": [
    {
     "data": {
      "text/plain": [
       "[' ',\n",
       " <h2 class=\"address\">2411/350 WILLIAM STREET, MELBOURNE</h2>,\n",
       " ' ',\n",
       " <p class=\"property-meta bed\"><span>Bed :</span> 1</p>,\n",
       " ' ',\n",
       " <p class=\"property-meta bath\"><span>Bath :</span> 1</p>,\n",
       " ' ',\n",
       " <p class=\"property-meta land\"><span>Land Size :</span> 50 sqm</p>,\n",
       " ' ',\n",
       " <p class=\"property-meta type\"><span>Category :</span> Available Date</p>,\n",
       " ' ']"
      ]
     },
     "execution_count": 78,
     "metadata": {},
     "output_type": "execute_result"
    }
   ],
   "source": [
    "prop_attribute_list"
   ]
  },
  {
   "cell_type": "code",
   "execution_count": 79,
   "id": "1b617a6b-c96a-4662-ad75-e3d170340406",
   "metadata": {},
   "outputs": [],
   "source": [
    "prop_hstp_html = prop_list[5];\n",
    "prop_hstp_list = list(list(prop_hstp_html)[3]);"
   ]
  },
  {
   "cell_type": "code",
   "execution_count": 80,
   "id": "b2864fd5-012a-41b1-a125-ea8be5b547bd",
   "metadata": {},
   "outputs": [
    {
     "data": {
      "text/plain": [
       "[' ',\n",
       " <li><span>August 2022</span>Contact</li>,\n",
       " ' ',\n",
       " <li><span>August 2021</span>$325 per week</li>,\n",
       " ' ',\n",
       " <li><span>April 2015</span>$400 pw</li>,\n",
       " ' ']"
      ]
     },
     "execution_count": 80,
     "metadata": {},
     "output_type": "execute_result"
    }
   ],
   "source": [
    "prop_hstp_list"
   ]
  },
  {
   "cell_type": "code",
   "execution_count": null,
   "id": "61bf6874-d2c3-440f-a11e-0a889bfdce4f",
   "metadata": {},
   "outputs": [],
   "source": [
    "price_list_list = [];\n",
    "year_list_list = [];\n"
   ]
  },
  {
   "cell_type": "code",
   "execution_count": 53,
   "id": "afd67d58-5d0a-4d2e-afdc-bea8eb44a20e",
   "metadata": {},
   "outputs": [],
   "source": [
    "prop_advp_html = prop_list[3];\n",
    "prop_advp_list = list(prop_advp_html);"
   ]
  },
  {
   "cell_type": "code",
   "execution_count": 54,
   "id": "bf39d20d-418a-41ac-8d33-6fca12347d02",
   "metadata": {},
   "outputs": [
    {
     "data": {
      "text/plain": [
       "[' ',\n",
       " <span>Last Advertised Price : September 2022</span>,\n",
       " ' ',\n",
       " <h3>$1,500</h3>,\n",
       " ' ']"
      ]
     },
     "execution_count": 54,
     "metadata": {},
     "output_type": "execute_result"
    }
   ],
   "source": [
    "prop_advp_list"
   ]
  }
 ],
 "metadata": {
  "kernelspec": {
   "display_name": "Python 3 (ipykernel)",
   "language": "python",
   "name": "python3"
  },
  "language_info": {
   "codemirror_mode": {
    "name": "ipython",
    "version": 3
   },
   "file_extension": ".py",
   "mimetype": "text/x-python",
   "name": "python",
   "nbconvert_exporter": "python",
   "pygments_lexer": "ipython3",
   "version": "3.9.12"
  }
 },
 "nbformat": 4,
 "nbformat_minor": 5
}